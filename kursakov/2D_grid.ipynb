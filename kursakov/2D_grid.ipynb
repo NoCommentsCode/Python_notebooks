{
 "cells": [
  {
   "cell_type": "code",
   "execution_count": 2,
   "id": "d669be00",
   "metadata": {},
   "outputs": [],
   "source": [
    "#%matplotlib inline\n",
    "#import matplotlib\n",
    "from matplotlib import pyplot as plt\n",
    "import numpy as np\n",
    "from IPython.display import clear_output, display\n",
    "from matplotlib import rcParams\n",
    "rcParams['font.family'] = 'serif'\n",
    "rcParams['font.size'] = 16"
   ]
  },
  {
   "cell_type": "code",
   "execution_count": 3,
   "id": "471c0030",
   "metadata": {},
   "outputs": [
    {
     "data": {
      "image/png": "[encoded data removed]",
      "text/plain": [
       "<Figure size 1080x360 with 1 Axes>"
      ]
     },
     "metadata": {
      "needs_background": "light"
     },
     "output_type": "display_data"
    }
   ],
   "source": [
    "x1 = 0\n",
    "x2 = 10\n",
    "alpha = np.radians(10)\n",
    "x3 = x2+np.cos(alpha)*10\n",
    "x4 = x3+10\n",
    "y1 = 0\n",
    "y2 = np.sin(alpha)*10\n",
    "y3 = 10\n",
    "x_in = np.linspace(x1,x2,11)\n",
    "x_mid = np.linspace(x2,x3,11)\n",
    "x_out = np.linspace(x3,x4,11)\n",
    "y_in = np.linspace(y1,y3,11)\n",
    "y_out = np.linspace(y2,y3,11)\n",
    "xmesh_in,ymesh_in = np.meshgrid(x_in,y_in)\n",
    "xmesh_out,ymesh_out = np.meshgrid(x_out,y_out)\n",
    "xmesh_mid,ymesh_mid = np.meshgrid(x_mid,y_in)\n",
    "for i in range(11):\n",
    "    a = i/10\n",
    "    ymesh_mid[:,i] = y_in*(1-a) + y_out*a\n",
    "x_mesh = np.hstack([xmesh_in,xmesh_mid[:,1:],xmesh_out[:,1:]])\n",
    "y_mesh = np.hstack([ymesh_in,ymesh_mid[:,1:],ymesh_out[:,1:]])\n",
    "\n",
    "def plotgrid(X,Y):\n",
    "    plt.figure(figsize=(15,5))\n",
    "    plt.plot(X,Y,c='b')\n",
    "    plt.plot(X.T,Y.T,c='b')\n",
    "    \n",
    "plotgrid(x_mesh,y_mesh)"
   ]
  },
  {
   "cell_type": "code",
   "execution_count": 4,
   "id": "d94340e2",
   "metadata": {},
   "outputs": [],
   "source": [
    "down_x_mesh = x_mesh[:-1, 1:] - x_mesh[:-1, :-1]\n",
    "down_y_mesh = y_mesh[:-1, 1:] - y_mesh[:-1, :-1]\n",
    "right_x_mesh = x_mesh[1:, 1:] - x_mesh[:-1, 1:]\n",
    "right_y_mesh = y_mesh[1:, 1:] - y_mesh[:-1, 1:]\n",
    "up_x_mesh = x_mesh[1:, :-1] - x_mesh[1:, 1:]\n",
    "up_y_mesh = y_mesh[1:, :-1] - y_mesh[1:, 1:]\n",
    "left_x_mesh = x_mesh[:-1, :-1] - x_mesh[1:, :-1]\n",
    "left_y_mesh = y_mesh[:-1, :-1] - y_mesh[1:, :-1]\n",
    "\n",
    "def normal(dx, dy):\n",
    "    ds = np.sqrt(dx * dx + dy * dy)\n",
    "    return np.array([dy / ds, -dx / ds])\n",
    "def area(dx, dy):\n",
    "    return np.array([dy, -dx])\n",
    "def vol(diag1, diag2):\n",
    "    vec = 0.5 * np.cross(diag1, diag2)\n",
    "    return np.sqrt(np.dot(vec, vec))\n",
    "\n",
    "down_normal = normal(down_x_mesh, down_y_mesh)\n",
    "right_normal = normal(right_x_mesh, right_y_mesh)\n",
    "up_normal = normal(up_x_mesh, up_y_mesh)\n",
    "left_normal = normal(left_x_mesh, left_y_mesh)\n",
    "\n",
    "down_area = area(down_x_mesh, down_y_mesh)\n",
    "right_area = area(right_x_mesh, right_y_mesh)\n",
    "up_area = area(up_x_mesh, up_y_mesh)\n",
    "left_area = area(left_x_mesh, left_y_mesh)\n",
    "\n",
    "diag_1_x = x_mesh[1:, 1:] - x_mesh[:-1, :-1]\n",
    "diag_1_y = y_mesh[1:, 1:] - y_mesh[:-1, :-1]\n",
    "diag_2_x = x_mesh[1:, :-1] - x_mesh[:-1, 1:]\n",
    "diag_2_y = y_mesh[1:, :-1] - y_mesh[:-1, 1:]\n",
    "diag_1 = np.array([diag_1_x, diag_1_y])\n",
    "diag_2 = np.array([diag_2_x, diag_2_y])\n",
    "\n",
    "volume = np.array([vol(e1, e2) for e1, e2 in zip(diag_1.reshape((2, 300)).T, diag_2.reshape((2, 300)).T)]).reshape((10, 30))"
   ]
  },
  {
   "cell_type": "code",
   "execution_count": 5,
   "id": "2940a386",
   "metadata": {},
   "outputs": [
    {
     "data": {
      "text/plain": [
       "array([[1.        , 1.        , 1.        , 1.        , 1.        ,\n",
       "        1.        , 1.        , 1.        , 1.        , 1.        ,\n",
       "        0.97625725, 0.95915624, 0.94205524, 0.92495423, 0.90785322,\n",
       "        0.89075221, 0.87365121, 0.8565502 , 0.83944919, 0.82234818,\n",
       "        0.82635182, 0.82635182, 0.82635182, 0.82635182, 0.82635182,\n",
       "        0.82635182, 0.82635182, 0.82635182, 0.82635182, 0.82635182],\n",
       "       [1.        , 1.        , 1.        , 1.        , 1.        ,\n",
       "        1.        , 1.        , 1.        , 1.        , 1.        ,\n",
       "        0.97625725, 0.95915624, 0.94205524, 0.92495423, 0.90785322,\n",
       "        0.89075221, 0.87365121, 0.8565502 , 0.83944919, 0.82234818,\n",
       "        0.82635182, 0.82635182, 0.82635182, 0.82635182, 0.82635182,\n",
       "        0.82635182, 0.82635182, 0.82635182, 0.82635182, 0.82635182],\n",
       "       [1.        , 1.        , 1.        , 1.        , 1.        ,\n",
       "        1.        , 1.        , 1.        , 1.        , 1.        ,\n",
       "        0.97625725, 0.95915624, 0.94205524, 0.92495423, 0.90785322,\n",
       "        0.89075221, 0.87365121, 0.8565502 , 0.83944919, 0.82234818,\n",
       "        0.82635182, 0.82635182, 0.82635182, 0.82635182, 0.82635182,\n",
       "        0.82635182, 0.82635182, 0.82635182, 0.82635182, 0.82635182],\n",
       "       [1.        , 1.        , 1.        , 1.        , 1.        ,\n",
       "        1.        , 1.        , 1.        , 1.        , 1.        ,\n",
       "        0.97625725, 0.95915624, 0.94205524, 0.92495423, 0.90785322,\n",
       "        0.89075221, 0.87365121, 0.8565502 , 0.83944919, 0.82234818,\n",
       "        0.82635182, 0.82635182, 0.82635182, 0.82635182, 0.82635182,\n",
       "        0.82635182, 0.82635182, 0.82635182, 0.82635182, 0.82635182],\n",
       "       [1.        , 1.        , 1.        , 1.        , 1.        ,\n",
       "        1.        , 1.        , 1.        , 1.        , 1.        ,\n",
       "        0.97625725, 0.95915624, 0.94205524, 0.92495423, 0.90785322,\n",
       "        0.89075221, 0.87365121, 0.8565502 , 0.83944919, 0.82234818,\n",
       "        0.82635182, 0.82635182, 0.82635182, 0.82635182, 0.82635182,\n",
       "        0.82635182, 0.82635182, 0.82635182, 0.82635182, 0.82635182],\n",
       "       [1.        , 1.        , 1.        , 1.        , 1.        ,\n",
       "        1.        , 1.        , 1.        , 1.        , 1.        ,\n",
       "        0.97625725, 0.95915624, 0.94205524, 0.92495423, 0.90785322,\n",
       "        0.89075221, 0.87365121, 0.8565502 , 0.83944919, 0.82234818,\n",
       "        0.82635182, 0.82635182, 0.82635182, 0.82635182, 0.82635182,\n",
       "        0.82635182, 0.82635182, 0.82635182, 0.82635182, 0.82635182],\n",
       "       [1.        , 1.        , 1.        , 1.        , 1.        ,\n",
       "        1.        , 1.        , 1.        , 1.        , 1.        ,\n",
       "        0.97625725, 0.95915624, 0.94205524, 0.92495423, 0.90785322,\n",
       "        0.89075221, 0.87365121, 0.8565502 , 0.83944919, 0.82234818,\n",
       "        0.82635182, 0.82635182, 0.82635182, 0.82635182, 0.82635182,\n",
       "        0.82635182, 0.82635182, 0.82635182, 0.82635182, 0.82635182],\n",
       "       [1.        , 1.        , 1.        , 1.        , 1.        ,\n",
       "        1.        , 1.        , 1.        , 1.        , 1.        ,\n",
       "        0.97625725, 0.95915624, 0.94205524, 0.92495423, 0.90785322,\n",
       "        0.89075221, 0.87365121, 0.8565502 , 0.83944919, 0.82234818,\n",
       "        0.82635182, 0.82635182, 0.82635182, 0.82635182, 0.82635182,\n",
       "        0.82635182, 0.82635182, 0.82635182, 0.82635182, 0.82635182],\n",
       "       [1.        , 1.        , 1.        , 1.        , 1.        ,\n",
       "        1.        , 1.        , 1.        , 1.        , 1.        ,\n",
       "        0.97625725, 0.95915624, 0.94205524, 0.92495423, 0.90785322,\n",
       "        0.89075221, 0.87365121, 0.8565502 , 0.83944919, 0.82234818,\n",
       "        0.82635182, 0.82635182, 0.82635182, 0.82635182, 0.82635182,\n",
       "        0.82635182, 0.82635182, 0.82635182, 0.82635182, 0.82635182],\n",
       "       [1.        , 1.        , 1.        , 1.        , 1.        ,\n",
       "        1.        , 1.        , 1.        , 1.        , 1.        ,\n",
       "        0.97625725, 0.95915624, 0.94205524, 0.92495423, 0.90785322,\n",
       "        0.89075221, 0.87365121, 0.8565502 , 0.83944919, 0.82234818,\n",
       "        0.82635182, 0.82635182, 0.82635182, 0.82635182, 0.82635182,\n",
       "        0.82635182, 0.82635182, 0.82635182, 0.82635182, 0.82635182]])"
      ]
     },
     "execution_count": 5,
     "metadata": {},
     "output_type": "execute_result"
    }
   ],
   "source": [
    "volume"
   ]
  },
  {
   "cell_type": "code",
   "execution_count": 6,
   "id": "42a5f57d",
   "metadata": {},
   "outputs": [],
   "source": [
    "gamma = 1.4     #Гамма, она же каппа\n",
    "#Различные формулы из гаммы\n",
    "g_m_1_over_2g = (gamma-1)/2/gamma      #g1\n",
    "g_p_1_over_2g = (gamma+1)/2/gamma      #g2\n",
    "g_m_1_over_2g_inv = 1/g_m_1_over_2g    #g3\n",
    "g_m_1_over_2_inv = 2/(gamma-1)         #g4\n",
    "g_p_1_over_2_inv = 2/(gamma+1)         #g5\n",
    "g_m_1_over_g_p_1 = (gamma-1)/(gamma+1) #g6\n",
    "g_m_1_over_2 = (gamma-1)/2             #g7\n",
    "g_m_1 = gamma-1  \n",
    "\n",
    "tol = 1e-8"
   ]
  },
  {
   "cell_type": "code",
   "execution_count": 7,
   "id": "f584d141",
   "metadata": {},
   "outputs": [],
   "source": [
    "def U_to_W(U):\n",
    "    W = np.zeros_like(U)\n",
    "    W[0] = U[0]\n",
    "    W[1] = U[1] / U[0]\n",
    "    W[2] = U[2] / U[0]\n",
    "    W[3] = g_m_1 * (U[3] - 0.5*(U[1]**2 + U[2]**2) / U[0])\n",
    "    return W"
   ]
  },
  {
   "cell_type": "code",
   "execution_count": 8,
   "id": "40bd3fde",
   "metadata": {},
   "outputs": [],
   "source": [
    "def W_to_U(W):\n",
    "    U = np.zeros_like(W)\n",
    "    U[0] = W[0]\n",
    "    U[1] = W[1] * W[0]\n",
    "    U[2] = W[2] * W[0]\n",
    "    U[3] = 0.5 * (W[1]**2 + W[2]**2) * W[0] + W[3] / g_m_1\n",
    "    return U"
   ]
  },
  {
   "cell_type": "code",
   "execution_count": 9,
   "id": "ab8ba015",
   "metadata": {},
   "outputs": [],
   "source": [
    "def sound_speed(d, p):\n",
    "    return np.sqrt(gamma * p / d)"
   ]
  },
  {
   "cell_type": "code",
   "execution_count": 10,
   "id": "9bc1adc3",
   "metadata": {},
   "outputs": [],
   "source": [
    "def sound_speed_w(W):\n",
    "    d = W[0]\n",
    "    p = W[-1]\n",
    "    return sound_speed(d,p)"
   ]
  },
  {
   "cell_type": "code",
   "execution_count": 12,
   "id": "a6318d67",
   "metadata": {},
   "outputs": [],
   "source": [
    "def enthalpy(W):\n",
    "    return 0.5 * (W[1]**2 + W[2]**2) + gamma / g_m_1 * (W[-1]/W[0])"
   ]
  },
  {
   "cell_type": "code",
   "execution_count": 13,
   "id": "f2ece09b",
   "metadata": {},
   "outputs": [],
   "source": [
    "def q(p, p_star):\n",
    "    if p_star > p:\n",
    "        return (1 + g_p_1_over_2g * (p_star / p - 1))**0.5\n",
    "    else :\n",
    "        return 1"
   ]
  },
  {
   "cell_type": "code",
   "execution_count": 14,
   "id": "d3738a4c",
   "metadata": {},
   "outputs": [],
   "source": [
    "def flux(W, axis):\n",
    "    F = np.zeros_like(W)\n",
    "    E = 0.5*(W[1]**2 + W[2]**2)*W[0] + W[3]/g_m_1\n",
    "    if axis == 'x':\n",
    "        F[0] = W[1]*W[0]\n",
    "        F[1] = W[1]**2*W[0] + W[3]\n",
    "        F[2] = W[1]*W[2]*W[0]\n",
    "        F[3] = W[1]*(E + W[3])\n",
    "    elif axis == 'y':\n",
    "        F[0] = W[2]*W[0]\n",
    "        F[1] = W[1]*W[2]*W[0]\n",
    "        F[2] = W[2]**2*W[0] + W[3]\n",
    "        F[3] = W[2]*(E + W[3])       \n",
    "    else:\n",
    "        print('wrong axis_fluxes')\n",
    "        return -1\n",
    "    return F"
   ]
  },
  {
   "cell_type": "code",
   "execution_count": 22,
   "id": "1b144ae8",
   "metadata": {},
   "outputs": [],
   "source": [
    "def symmetry(W, normals):\n",
    "    W_ = np.zeros_like(W)\n",
    "    #W_[0] = W[0]\n",
    "    #W_[-1] = W[-1]\n",
    "    W_[:, :, 0] = W[:, :, 0]\n",
    "    W_[:, :, -1] = W[:, :, -1]\n",
    "    W_[:, 0, 1] = W[]\n",
    "    #W_[1:-1] = normals * W[1:-1]\n",
    "    return W_"
   ]
  },
  {
   "cell_type": "code",
   "execution_count": 16,
   "id": "450ce8cd",
   "metadata": {},
   "outputs": [],
   "source": [
    "N_points, M_points = x_mesh.shape\n",
    "def init():\n",
    "    W_u_l = np.array([0.5323, 1.206, 0, 0.3])\n",
    "    W_u_r = np.array([1.5, 0, 0, 1.5])\n",
    "    W_d_l = np.array([0.138, 1.206, 1.206, 0.029])\n",
    "    W_d_r = np.array([0.5323, 0, 1.206, 0.3])\n",
    "    t = 0.3\n",
    "    return W_u_l, W_u_r, W_d_l, W_d_r, t"
   ]
  },
  {
   "cell_type": "code",
   "execution_count": 24,
   "id": "3bce864a",
   "metadata": {},
   "outputs": [
    {
     "ename": "IndexError",
     "evalue": "too many indices for array: array is 1-dimensional, but 3 were indexed",
     "output_type": "error",
     "traceback": [
      "\u001b[1;31m---------------------------------------------------------------------------\u001b[0m",
      "\u001b[1;31mIndexError\u001b[0m                                Traceback (most recent call last)",
      "\u001b[1;32m~\\AppData\\Local\\Temp/ipykernel_3460/2247999602.py\u001b[0m in \u001b[0;36m<module>\u001b[1;34m\u001b[0m\n\u001b[0;32m      1\u001b[0m \u001b[0mW_correct\u001b[0m \u001b[1;33m=\u001b[0m \u001b[0mnp\u001b[0m\u001b[1;33m.\u001b[0m\u001b[0mzeros\u001b[0m\u001b[1;33m(\u001b[0m\u001b[1;33m(\u001b[0m\u001b[0mN_points\u001b[0m\u001b[1;33m,\u001b[0m \u001b[0mM_points\u001b[0m\u001b[1;33m,\u001b[0m \u001b[1;36m4\u001b[0m\u001b[1;33m)\u001b[0m\u001b[1;33m)\u001b[0m\u001b[1;33m\u001b[0m\u001b[1;33m\u001b[0m\u001b[0m\n\u001b[1;32m----> 2\u001b[1;33m \u001b[0msymmetry\u001b[0m\u001b[1;33m(\u001b[0m\u001b[0mnp\u001b[0m\u001b[1;33m.\u001b[0m\u001b[0marray\u001b[0m\u001b[1;33m(\u001b[0m\u001b[1;33m[\u001b[0m\u001b[1;36m0.5323\u001b[0m\u001b[1;33m,\u001b[0m \u001b[1;36m1.206\u001b[0m\u001b[1;33m,\u001b[0m \u001b[1;36m0\u001b[0m\u001b[1;33m,\u001b[0m \u001b[1;36m0.3\u001b[0m\u001b[1;33m]\u001b[0m\u001b[1;33m)\u001b[0m\u001b[1;33m,\u001b[0m \u001b[0mup_normal\u001b[0m\u001b[1;33m)\u001b[0m\u001b[1;33m\u001b[0m\u001b[1;33m\u001b[0m\u001b[0m\n\u001b[0m",
      "\u001b[1;32m~\\AppData\\Local\\Temp/ipykernel_3460/1369132254.py\u001b[0m in \u001b[0;36msymmetry\u001b[1;34m(W, normals)\u001b[0m\n\u001b[0;32m      3\u001b[0m     \u001b[1;31m#W_[0] = W[0]\u001b[0m\u001b[1;33m\u001b[0m\u001b[1;33m\u001b[0m\u001b[0m\n\u001b[0;32m      4\u001b[0m     \u001b[1;31m#W_[-1] = W[-1]\u001b[0m\u001b[1;33m\u001b[0m\u001b[1;33m\u001b[0m\u001b[0m\n\u001b[1;32m----> 5\u001b[1;33m     \u001b[0mW_\u001b[0m\u001b[1;33m[\u001b[0m\u001b[1;33m:\u001b[0m\u001b[1;33m,\u001b[0m \u001b[1;33m:\u001b[0m\u001b[1;33m,\u001b[0m \u001b[1;36m0\u001b[0m\u001b[1;33m]\u001b[0m \u001b[1;33m=\u001b[0m \u001b[0mW\u001b[0m\u001b[1;33m[\u001b[0m\u001b[1;33m:\u001b[0m\u001b[1;33m,\u001b[0m \u001b[1;33m:\u001b[0m\u001b[1;33m,\u001b[0m \u001b[1;36m0\u001b[0m\u001b[1;33m]\u001b[0m\u001b[1;33m\u001b[0m\u001b[1;33m\u001b[0m\u001b[0m\n\u001b[0m\u001b[0;32m      6\u001b[0m     \u001b[0mW_\u001b[0m\u001b[1;33m[\u001b[0m\u001b[1;33m:\u001b[0m\u001b[1;33m,\u001b[0m \u001b[1;33m:\u001b[0m\u001b[1;33m,\u001b[0m \u001b[1;33m-\u001b[0m\u001b[1;36m1\u001b[0m\u001b[1;33m]\u001b[0m \u001b[1;33m=\u001b[0m \u001b[0mW\u001b[0m\u001b[1;33m[\u001b[0m\u001b[1;33m:\u001b[0m\u001b[1;33m,\u001b[0m \u001b[1;33m:\u001b[0m\u001b[1;33m,\u001b[0m \u001b[1;33m-\u001b[0m\u001b[1;36m1\u001b[0m\u001b[1;33m]\u001b[0m\u001b[1;33m\u001b[0m\u001b[1;33m\u001b[0m\u001b[0m\n\u001b[0;32m      7\u001b[0m     \u001b[0mW_\u001b[0m\u001b[1;33m[\u001b[0m\u001b[1;33m:\u001b[0m\u001b[1;33m,\u001b[0m \u001b[1;33m:\u001b[0m\u001b[1;33m,\u001b[0m \u001b[1;36m1\u001b[0m\u001b[1;33m:\u001b[0m\u001b[1;33m-\u001b[0m\u001b[1;36m1\u001b[0m\u001b[1;33m]\u001b[0m \u001b[1;33m=\u001b[0m \u001b[0mnp\u001b[0m\u001b[1;33m.\u001b[0m\u001b[0mdot\u001b[0m\u001b[1;33m(\u001b[0m\u001b[0mnormals\u001b[0m\u001b[1;33m,\u001b[0m \u001b[0mW\u001b[0m\u001b[1;33m[\u001b[0m\u001b[1;33m:\u001b[0m\u001b[1;33m,\u001b[0m \u001b[1;33m:\u001b[0m\u001b[1;33m,\u001b[0m \u001b[1;36m1\u001b[0m\u001b[1;33m:\u001b[0m\u001b[1;33m-\u001b[0m\u001b[1;36m1\u001b[0m\u001b[1;33m]\u001b[0m\u001b[1;33m)\u001b[0m\u001b[1;33m\u001b[0m\u001b[1;33m\u001b[0m\u001b[0m\n",
      "\u001b[1;31mIndexError\u001b[0m: too many indices for array: array is 1-dimensional, but 3 were indexed"
     ]
    }
   ],
   "source": [
    "W_correct = np.zeros((N_points, M_points, 4))\n",
    "symmetry(np.array([0.5323, 1.206, 0, 0.3]), up_normal)"
   ]
  },
  {
   "cell_type": "code",
   "execution_count": null,
   "id": "cb2431f5",
   "metadata": {},
   "outputs": [],
   "source": []
  }
 ],
 "metadata": {
  "kernelspec": {
   "display_name": "Python 3",
   "language": "python",
   "name": "python3"
  },
  "language_info": {
   "codemirror_mode": {
    "name": "ipython",
    "version": 3
   },
   "file_extension": ".py",
   "mimetype": "text/x-python",
   "name": "python",
   "nbconvert_exporter": "python",
   "pygments_lexer": "ipython3",
   "version": "3.10.1"
  }
 },
 "nbformat": 4,
 "nbformat_minor": 5
}
