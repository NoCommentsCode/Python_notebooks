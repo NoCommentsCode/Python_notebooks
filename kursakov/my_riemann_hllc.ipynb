{
 "cells": [
  {
   "cell_type": "markdown",
   "metadata": {},
   "source": [
    "# Солверы HLL и HLLC"
   ]
  },
  {
   "cell_type": "code",
   "execution_count": 1,
   "metadata": {},
   "outputs": [],
   "source": [
    "%matplotlib inline\n",
    "import matplotlib\n",
    "from matplotlib import pyplot \n",
    "import numpy as np\n",
    "from matplotlib import rcParams\n",
    "rcParams['font.family'] = 'serif'\n",
    "rcParams['font.size'] = 16"
   ]
  },
  {
   "cell_type": "markdown",
   "metadata": {},
   "source": [
    "Метод приближенного решения задачи Римана, предложенный Хартеном, Лаксом и ван Лиром (HLL) в 1983 году, состоит в следующем:\n",
    "- рассматривается двухволновое приближение (без контактного разрыва), волна разрежения представлена скачком;\n",
    "- выражение для потока выписывается на основании интегральных соотношений для конечного объема (то есть получившаяся *приближенная задача* затем решается *точно*);\n",
    "- для оценки скорости распространения ударных волн могут использоваться различные подходы, основанные на свойствах точного решения задачи Римана\n",
    "\n",
    "В схеме HLLC (C – Contact), предложенной Торо с коллегами, рассмативается трехволновое приближение с учетом контактного разрыва."
   ]
  },
  {
   "cell_type": "markdown",
   "metadata": {},
   "source": [
    "## Интегральные соотношения для контрольного объема"
   ]
  },
  {
   "cell_type": "markdown",
   "metadata": {},
   "source": [
    "На рисунке ниже представлена структура волн для точного решения задачи Римана в контрольном объеме $[x_L, x_R] \\times [0,T]$, таком что \n",
    "\n",
    "$$\n",
    "x_L \\le TS_L, x_R \\ge TS_R,\n",
    "$$\n",
    "\n",
    "где $S_L$ и $S_R$ максимальные сконорсти распространения возмущений из точки разрыва начальных условий, $T$ – отрезок времени. Для рассмартиваемого контрольного объема можно записать закон сохраненя \n",
    "\n",
    "$$\n",
    "\\int_{x_L}^{x_R} \\mathbf{U}(x,T)dx = \\int_{x_L}^{x_R} \\mathbf{U}(x,0)dx + \\int_{0}^{T}\\mathbf{F}( \\mathbf{U}(x_L,t))dt -\\int_{0}^{T}\\mathbf{F}( \\mathbf{U}(x_R,t))dt\n",
    "$$\n",
    "\n",
    "![Контрольный объем](./figures/star_reg_control_volume.png)"
   ]
  },
  {
   "cell_type": "markdown",
   "metadata": {},
   "source": [
    "Учитывая, что \n",
    "\n",
    "$$\n",
    "\\mathbf{U}(x,0) = \\mathbf{U}^{(0)}(x) = \n",
    "\\left \\{ \n",
    "\\begin{array}{c}\n",
    "\\mathbf{U}_L ~\\textrm{если} ~x<0, \\\\\n",
    "\\mathbf{U}_R ~\\textrm{если} ~x>0.\n",
    "\\end{array}\n",
    "\\right .,\n",
    "$$\n",
    "\n",
    "правую часть интегрального соотношения можно переписать в виде\n",
    "\n",
    "$$\n",
    "\\int_{x_L}^{x_R} \\mathbf{U}(x,T)dx  = x_R \\mathbf{U}_R -x_L \\mathbf{U}_L + T(\\mathbf{F}_L - \\mathbf{F}_R), \n",
    "$$\n",
    "\n",
    "где $\\mathbf{F}_L = \\mathbf{F}(\\mathbf{U}_L) $ и $\\mathbf{F}_R = \\mathbf{F}(\\mathbf{U}_R) $. Полученное соотношение будем называть *уравнением согласования*. \n",
    "\n",
    "Разделим левую часть интегрального соотношения на три слащаемых \n",
    "\n",
    "$$\n",
    "\\int_{x_L}^{x_R} \\mathbf{U}(x,T)dx = \\int_{x_L}^{TS_L} \\mathbf{U}(x,T)dx +  \\int_{TS_L}^{TS_R} \\mathbf{U}(x,T)dx + \\int_{TS_R}^{x_R} \\mathbf{U}(x,T)dx \\\n",
    "= \\int_{TS_L}^{TS_R} \\mathbf{U}(x,T)dx + (TS_L - x_L)\\mathbf{U}_L + (x_R - TS_R)\\mathbf{U}_R\n",
    "$$\n",
    "\n",
    "Объединим полученное соотношение с предыдущим, получим\n",
    "\n",
    "$$\n",
    "\\int_{TS_L}^{TS_R}\\mathbf{U}(x,T)dx = T(S_R\\mathbf{U}_R - S_L\\mathbf{U}_L + \\mathbf{F}_L - \\mathbf{F}_R).\n",
    "$$\n",
    "\n",
    "Из полученного выражения можно выписать *точное* решение для интегрального среднего между самой медленной и самой быстрой волнами в момент времени $T$:\n",
    "\n",
    "$$\n",
    "\\frac{1}{T(S_R-S_L)}\\int_{TS_L}^{TS_R}\\mathbf{U}(x,T)dx  = \\frac{S_R\\mathbf{U}_R - S_L\\mathbf{U}_L + \\mathbf{F}_L - \\mathbf{F}_R}{S_R-S_L}\n",
    "$$\n",
    "\n",
    "\n",
    "Теперь, запишем интегральный закон сохранения для отрезка $[x_L, 0] \\times [0,T]$:\n",
    "\n",
    "$$\n",
    "\\mathbf{F}_{0L} = \\mathbf{F}_{L} - S_L\\mathbf{U}_L - \\frac{1}{T}\\int_{TS_L}^0\\mathbf{U}(x,T)dx.\n",
    "$$\n",
    "\n",
    "Аналогично для $[ 0, x_R] \\times [0,T]$ можно записать\n",
    "\n",
    "$$\n",
    "\\mathbf{F}_{0R} = \\mathbf{F}_{R} - S_R\\mathbf{U}_R + \\frac{1}{T}\\int_0^{TS_R}\\mathbf{U}(x,T)dx.\n",
    "$$\n",
    "\n",
    "Если подставить выражения для потоков и интегральное среднее, выведенное выше, в уравнение согласования, то получим\n",
    "\n",
    "$$\n",
    "\\mathbf{F}_{0L} = \\mathbf{F}_{0R},\n",
    "$$\n",
    "\n",
    "что само по себе хорошо."
   ]
  },
  {
   "cell_type": "markdown",
   "metadata": {},
   "source": [
    "## Вывод потока на грани для HLL\n",
    "\n",
    "В методе HLL стуктура волн упрощается, их остается всего две, распространяющиеся с максимальными скоростями — то есть от веера волн разрежения остается только \"голова\", контактный разрыв не учитывается. Получается такая картинка:\n",
    "\n",
    "![Шаблон HLL](./figures/hll.png)\n",
    "\n",
    "\"Звездная\" область ограничена двумя волнами $S_L$ и $S_R$, а решение между ними определяется по формуле для интегрального среднего, выведенной выше, то есть\n",
    "\n",
    "$$\n",
    "\\mathbf{U}^{HLL}= \\frac{S_R\\mathbf{U}_R - S_L\\mathbf{U}_L + \\mathbf{F}_L - \\mathbf{F}_R}{S_R-S_L}\n",
    "$$\n",
    "\n",
    "а поток $\\mathbf{F}^{HLL}$ определяется по соотношениям также выведенным выше, с учетом того что подынтегральное выражение $\\mathbf{U}(x,T) = \\mathbf{U}^{HLL}$:\n",
    "\n",
    "$$\n",
    "\\mathbf{F}^{HLL} = \\mathbf{F}_{L} + S_L (\\mathbf{U}^{HLL} - \\mathbf{U}_L),\n",
    "$$\n",
    "или \n",
    "$$\n",
    "\\mathbf{F}^{HLL} = \\mathbf{F}_{R} + S_R (\\mathbf{U}^{HLL} - \\mathbf{U}_R).\n",
    "$$\n",
    "\n",
    "Нужно отметить, что такие же соотношения получаются, если применить условие Рэнкина-Гюгонио к левой и правой волнам. Подставляя сюда $\\mathbf{U}^{HLL}$, получим окончательно \n",
    "\n",
    "$$\n",
    "\\mathbf{F}^{HLL} = \\frac{S_R\\mathbf{F}_L-S_L\\mathbf{F}_R + S_R S_L(\\mathbf{U}_R-\\mathbf{U}_R)}{S_R-S_L}\n",
    "$$"
   ]
  },
  {
   "cell_type": "markdown",
   "metadata": {},
   "source": [
    "### Схема HLLC для уравнений Эйлера"
   ]
  },
  {
   "cell_type": "code",
   "execution_count": 2,
   "metadata": {},
   "outputs": [],
   "source": [
    "gamma = 1.4     #Гамма, она же каппа\n",
    "#Различные формулы из гаммы\n",
    "g_m_1_over_2g = (gamma-1)/2/gamma      #g1\n",
    "g_p_1_over_2g = (gamma+1)/2/gamma      #g2\n",
    "g_m_1_over_2g_inv = 1/g_m_1_over_2g    #g3\n",
    "g_m_1_over_2_inv = 2/(gamma-1)         #g4\n",
    "g_p_1_over_2_inv = 2/(gamma+1)         #g5\n",
    "g_m_1_over_g_p_1 = (gamma-1)/(gamma+1) #g6\n",
    "g_m_1_over_2 = (gamma-1)/2             #g7\n",
    "g_m_1 = gamma-1  \n",
    "\n",
    "tol = 1e-8"
   ]
  },
  {
   "cell_type": "code",
   "execution_count": 3,
   "metadata": {},
   "outputs": [],
   "source": [
    "def sound_speed(d,p):\n",
    "    return (gamma*(p/d))**0.5"
   ]
  },
  {
   "cell_type": "code",
   "execution_count": 4,
   "metadata": {},
   "outputs": [],
   "source": [
    "def sound_speed_w(W):\n",
    "    d = W[0]\n",
    "    p = W[2]\n",
    "    return sound_speed(d,p) "
   ]
  },
  {
   "cell_type": "code",
   "execution_count": 5,
   "metadata": {},
   "outputs": [],
   "source": [
    "def guess_p(W_l,W_r,label):\n",
    "    c_l = sound_speed(W_l[0],W_l[2])\n",
    "    c_r = sound_speed(W_r[0],W_r[2])\n",
    "\n",
    "    \n",
    "    W_aver = 0.5*(W_l+W_r)\n",
    "    p_pv = W_aver[2] - 0.5*(W_r[1]-W_l[1])*W_aver[0]*0.5*(c_l+c_r)\n",
    "    p_0 = max(tol,p_pv)\n",
    "    \n",
    "    if label == 'TR':\n",
    "        return ((c_l + c_r - 0.5*g_m_1*(W_r[1] - W_l[1]))/\n",
    "                ((c_l/W_l[2]**g_m_1_over_2g) + (c_r/W_r[2]**g_m_1_over_2g) ))**g_m_1_over_2g_inv\n",
    "    \n",
    "    elif label == 'PV':\n",
    "\n",
    "        return p_0\n",
    "    \n",
    "    elif label == 'TS':\n",
    "        A_k = lambda x : g_p_1_over_2_inv/x\n",
    "        B_k = lambda x : g_m_1_over_g_p_1*x\n",
    "        p_ts = ((A_k(W_l[0])/(p_pv + B_k(W_l[2])))**0.5*W_l[2] + (A_k(W_r[0])/(p_pv + B_k(W_r[2])))**0.5*W_r[2] \\\n",
    "                - (W_r[1]-W_l[1])) /\\\n",
    "        ((A_k(W_l[0])/(p_pv + B_k(W_l[2])))**0.5 + (A_k(W_r[0])/(p_pv + B_k(W_r[2])))**0.5)  \n",
    "        return max(tol,p_ts)\n",
    "    else:\n",
    "        return W_aver[2]\n",
    "        \n",
    "        "
   ]
  },
  {
   "cell_type": "code",
   "execution_count": 6,
   "metadata": {
    "jupyter": {
     "outputs_hidden": false
    }
   },
   "outputs": [],
   "source": [
    "def init(case):\n",
    "    if case == 'sod':\n",
    "        W_l = np.array([1, 0.75, 1])\n",
    "        W_r = np.array([0.125, 0, 0.1])\n",
    "        t = 0.25\n",
    "    elif case == '123':\n",
    "        W_l = np.array([1, -2, 0.4])\n",
    "        W_r = np.array([1, 2, 0.4])\n",
    "        t = 0.15\n",
    "    elif case == 'left-woodward':\n",
    "        W_l = np.array([1, 0, 1000])\n",
    "        W_r = np.array([1, 0, 0.1])\n",
    "        \n",
    "        t = 0.012\n",
    "    else : print('Unknown case!')\n",
    "    return W_l, W_r, t"
   ]
  },
  {
   "cell_type": "code",
   "execution_count": 7,
   "metadata": {
    "jupyter": {
     "outputs_hidden": false
    }
   },
   "outputs": [],
   "source": [
    "W_l,W_r,_ = init('sod')"
   ]
  },
  {
   "cell_type": "code",
   "execution_count": 8,
   "metadata": {
    "jupyter": {
     "outputs_hidden": true
    }
   },
   "outputs": [],
   "source": [
    "def U_to_W(U):\n",
    "    W = np.zeros_like(U)\n",
    "    W[0] = U[0]\n",
    "    W[1] = U[1]/U[0]\n",
    "    W[2] = g_m_1*(U[2] - 0.5*U[1]**2/U[0])\n",
    "    return W"
   ]
  },
  {
   "cell_type": "code",
   "execution_count": 9,
   "metadata": {
    "jupyter": {
     "outputs_hidden": false
    }
   },
   "outputs": [],
   "source": [
    "def W_to_U(W):\n",
    "    U = np.zeros_like(W)\n",
    "    U[0] = W[0]\n",
    "    U[1] = W[1]*W[0]\n",
    "    U[2] = 0.5*W[1]**2*W[0]+W[2]/ g_m_1\n",
    "    return U\n"
   ]
  },
  {
   "cell_type": "code",
   "execution_count": 10,
   "metadata": {
    "jupyter": {
     "outputs_hidden": true
    }
   },
   "outputs": [],
   "source": [
    "def flux(W):\n",
    "    F = np.zeros_like(W)\n",
    "    F[0] = W[1]*W[0]\n",
    "    F[1] = W[1]**2*W[0] + W[2]\n",
    "    F[2] = W[1]*(0.5*W[1]**2*W[0]+W[2]/ g_m_1 + W[2])\n",
    "    return F"
   ]
  },
  {
   "cell_type": "code",
   "execution_count": 11,
   "metadata": {
    "jupyter": {
     "outputs_hidden": true
    }
   },
   "outputs": [],
   "source": [
    "def q(p,p_star):\n",
    "    if p_star > p:\n",
    "        return (1 + g_p_1_over_2g*(p_star/p - 1))**0.5\n",
    "    else :\n",
    "        return 1"
   ]
  },
  {
   "cell_type": "code",
   "execution_count": 12,
   "metadata": {
    "jupyter": {
     "outputs_hidden": true
    }
   },
   "outputs": [],
   "source": [
    "def get_speeds(W_l,W_r,p_star):\n",
    "    S_l = W_l[1] - sound_speed_w(W_l)*q(W_l[2],p_star)\n",
    "    S_r = W_r[1] + sound_speed_w(W_r)*q(W_r[2],p_star)\n",
    "    \n",
    "    S_star = (W_r[2] - W_l[2] + \\\n",
    "              W_l[0]*W_l[1]*(S_l - W_l[1]) - \\\n",
    "              W_r[0]*W_r[1]*(S_r - W_r[1]))/( W_l[0]*(S_l - W_l[1]) - \\\n",
    "              W_r[0]*(S_r - W_r[1]) )\n",
    "    return np.asarray((S_l,S_r,S_star))\n"
   ]
  },
  {
   "cell_type": "code",
   "execution_count": 13,
   "metadata": {
    "jupyter": {
     "outputs_hidden": true
    }
   },
   "outputs": [],
   "source": [
    "def F_HLLC(W,S_star,S):\n",
    "    D = np.asarray([0,1,S_star])\n",
    "    F_star = (S_star*(S*W_to_U(W) - flux(W)) + \\\n",
    "              S*(W[2] + W[0]*(S - W[1])*(S_star - W[1]))*D)/\\\n",
    "    (S - S_star)\n",
    "    return F_star"
   ]
  },
  {
   "cell_type": "code",
   "execution_count": 14,
   "metadata": {
    "jupyter": {
     "outputs_hidden": true
    }
   },
   "outputs": [],
   "source": [
    "def hllc_flux(W_l,W_r):\n",
    "    p_star = guess_p(W_l,W_r,'TR')\n",
    "    S_l,S_r,S_star = get_speeds(W_l,W_r,p_star)\n",
    "    if 0 <= S_l:\n",
    "        return flux(W_l)\n",
    "    if S_l <= 0 <= S_star:\n",
    "        return F_HLLC(W_l,S_star,S_l)\n",
    "    if S_star <= 0 <= S_r:\n",
    "        return F_HLLC(W_r,S_star,S_r)\n",
    "    if 0 >= S_r:\n",
    "        return flux(W_r)"
   ]
  },
  {
   "cell_type": "code",
   "execution_count": 15,
   "metadata": {
    "jupyter": {
     "outputs_hidden": true
    }
   },
   "outputs": [],
   "source": [
    "N_points = 101\n",
    "x = np.linspace(0,1,N_points)\n",
    "decay_pos = 0.3\n",
    "W_correct= np.zeros((N_points,3))"
   ]
  },
  {
   "cell_type": "code",
   "execution_count": 16,
   "metadata": {
    "jupyter": {
     "outputs_hidden": true
    }
   },
   "outputs": [],
   "source": [
    "W_l,W_r,t = init('sod')\n",
    "#p_init = guess_p(W_l,W_r,'TR')\n",
    "#p_m, u_m = newton(p_init,W_l,W_r)"
   ]
  },
  {
   "cell_type": "code",
   "execution_count": 17,
   "metadata": {
    "jupyter": {
     "outputs_hidden": true
    }
   },
   "outputs": [],
   "source": [
    "dx = 1./(N_points - 1)\n",
    "sigma = 0.9\n",
    "\n",
    "W = np.zeros((N_points,3))\n",
    "fluxes = np.zeros((N_points - 1,3))\n",
    "U = np.zeros_like(W) "
   ]
  },
  {
   "cell_type": "code",
   "execution_count": 18,
   "metadata": {
    "jupyter": {
     "outputs_hidden": true
    }
   },
   "outputs": [],
   "source": [
    "W[np.where(x<decay_pos),:] = W_l\n",
    "W[np.where(x>=decay_pos),:] = W_r"
   ]
  },
  {
   "cell_type": "code",
   "execution_count": 19,
   "metadata": {
    "jupyter": {
     "outputs_hidden": true
    }
   },
   "outputs": [],
   "source": [
    "t_ = 0\n",
    "#dt = 0.0002\n",
    "U_n = np.copy(U)\n",
    "while t_<t:\n",
    "    U = W_to_U(W.T).T\n",
    "    hllc_fluxes = np.zeros((N_points - 1,3))\n",
    "    speeds = np.zeros(N_points - 1)\n",
    "    for i,x_ in enumerate(x[:-1]):\n",
    "        \n",
    "        hllc_fluxes[i] =hllc_flux(W[i],W[i+1])\n",
    "        c_l = sound_speed(W[i][0],W[i][2])\n",
    "        c_r = sound_speed(W[i+1][0],W[i+1][2])\n",
    "        speeds[i] = max(abs(W[i][1])+c_l,abs(W[i+1][1])+  c_r)\n",
    "\n",
    "    \n",
    "    dt = sigma*dx/max(speeds)\n",
    "    U_n[1:-1,:] = U[1:-1,:] + dt/dx*(hllc_fluxes[:-1,:]-hllc_fluxes[1:,:]) \n",
    "    U_n[0,:] = U_n[1,:]\n",
    "    U_n[-1,:] = U_n[-2,:]\n",
    "    W = U_to_W(U_n.T).T\n",
    "    t_=t_+dt"
   ]
  },
  {
   "cell_type": "code",
   "execution_count": 20,
   "metadata": {
    "jupyter": {
     "outputs_hidden": true
    }
   },
   "outputs": [],
   "source": [
    "%store -r"
   ]
  },
  {
   "cell_type": "code",
   "execution_count": 21,
   "metadata": {
    "jupyter": {
     "outputs_hidden": false
    }
   },
   "outputs": [
    {
     "data": {
      "image/png": "[encoded data removed]",
      "text/plain": [
       "<Figure size 1296x432 with 3 Axes>"
      ]
     },
     "metadata": {
      "needs_background": "light"
     },
     "output_type": "display_data"
    }
   ],
   "source": [
    "fig,axs = pyplot.subplots(1,3,figsize=(18,6)\n",
    "                         )\n",
    "for ax, W_, W_r_, W_c, y_label in zip(axs, W.T, W_roe.T, W_correct.T, (r'$\\rho$',r'$u$',r'$p$') ):\n",
    "#for ax, W_,  W_c, y_label in zip(axs, W.T,  W_correct.T, (r'$\\rho$',r'$u$',r'$p$') ):\n",
    "    ax.plot(x,W_,'o',label='HLLC')\n",
    "    ax.plot(x,W_r_,'o',label='Roe')\n",
    "    ax.plot(x,W_c,label='Exact')\n",
    "    ax.set_ylabel(y_label)\n",
    "    ax.set_xlabel('x')\n",
    "    scale_y = 1.1*abs(max(W_c)-min(W_c))\n",
    "    ax.set_ylim(0.5*(max(W_c)+min(W_c) - scale_y), 0.5*(max(W_c)+min(W_c) + scale_y))\n",
    "    ax.legend(loc='best')\n",
    "    ax.grid()"
   ]
  },
  {
   "cell_type": "code",
   "execution_count": null,
   "metadata": {
    "jupyter": {
     "outputs_hidden": true
    }
   },
   "outputs": [],
   "source": []
  }
 ],
 "metadata": {
  "anaconda-cloud": {},
  "kernelspec": {
   "display_name": "Python 3 (ipykernel)",
   "language": "python",
   "name": "python3"
  },
  "language_info": {
   "codemirror_mode": {
    "name": "ipython",
    "version": 3
   },
   "file_extension": ".py",
   "mimetype": "text/x-python",
   "name": "python",
   "nbconvert_exporter": "python",
   "pygments_lexer": "ipython3",
   "version": "3.10.1"
  }
 },
 "nbformat": 4,
 "nbformat_minor": 4
}
