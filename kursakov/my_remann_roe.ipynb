{
 "cells": [
  {
   "cell_type": "markdown",
   "metadata": {},
   "source": [
    "# Метод Роу"
   ]
  },
  {
   "cell_type": "code",
   "execution_count": 1,
   "metadata": {},
   "outputs": [],
   "source": [
    "%matplotlib inline\n",
    "import matplotlib\n",
    "from matplotlib import pyplot \n",
    "import numpy as np\n",
    "from matplotlib import rcParams\n",
    "rcParams['font.family'] = 'serif'\n",
    "rcParams['font.size'] = 16"
   ]
  },
  {
   "cell_type": "markdown",
   "metadata": {},
   "source": [
    "## Постановка задачи\n",
    "\n",
    "Задача Римана для одномерной нестационарной системы уравнений Эйлера прелставлеяет собой задачу Коши для законов сохранения\n",
    "\n",
    "\\begin{equation}\n",
    "\\label{eq:euler}\n",
    "\\left . \n",
    "\\begin{array}{c}\n",
    "\\mathbf{U}_t + \\mathbf{F}(\\mathbf{U})_x = 0, \\\\\n",
    "\\mathbf{U} = \\left[\\begin{array}{c}\\rho \\\\ \\rho u  \\\\E \\end{array}\\right], \n",
    "\\mathbf{F} = \\left[\\begin{array}{c}\\rho u \\\\ \\rho u^2+p  \\\\ u(E+p) \\end{array}\\right],\n",
    "\\end{array}\n",
    "\\right\\}\n",
    "\\end{equation}\n",
    "\n",
    "с начальными условиями\n",
    "\n",
    "\\begin{equation}\n",
    "\\mathbf{U}(x,0)=\\mathbf{U}^{(0)}(x) = \n",
    "\\left \\{ \n",
    "\\begin{array}{c}\n",
    "\\mathbf{U}_L ~\\textrm{если} ~x<0, \\\\\n",
    "\\mathbf{U}_R ~\\textrm{если} ~x>0.\n",
    "\\end{array}\n",
    "\\right .\n",
    "\\end{equation}\n",
    "\n",
    "При решении задачи Римана будем использовать вектор примитивных переменных $\\mathbf{W} = (\\rho, u, p)^T$ вместо консервативных переменных (вектор $\\mathbf{U}$). Тогда начальные условия задаются в виде двух векторов $\\mathbf{W}_L = (\\rho_L, u_L, p_L)^T$ для области слева от $x=0$ и $\\mathbf{W}_R = (\\rho_R, u_R, p_R)^T$ для области справа от $x=0$, области разделены скачком в $x=0$. Нужно найти решение в области, обозначенной на рисунке как _Star Region_.\n",
    "\n",
    "![Схема задачи Римана](./figures/star_region.png \"Схема задачи Римана\")\n",
    "\n"
   ]
  },
  {
   "cell_type": "markdown",
   "metadata": {},
   "source": [
    "## Линеаризация Роу"
   ]
  },
  {
   "cell_type": "markdown",
   "metadata": {},
   "source": [
    "Если ввести матрицу Якоби $ \\mathbf{A}(\\mathbf{U}) = \\frac {\\partial \\mathbf{F}}  {\\partial \\mathbf{U}}$, система уравнений $\\ref{eq:euler}$ может быть записана в виде\n",
    "\n",
    "$$\n",
    "\\mathbf{U}_t + \\mathbf{A}(\\mathbf{U})\\mathbf{U}_x = 0\n",
    "$$\n",
    "\n",
    "Согласно подходу Роу, матрица Якоби $ \\mathbf{A}(\\mathbf{U})$ заменяется на матрицу с постоянными элементами \n",
    "$\\tilde{\\mathbf{A}} =\\tilde{\\mathbf{A}} (\\mathbf{U}_L, \\mathbf{U}_R)$, которая определяется по значениям начальных условий по обе стороны от разрыва. Тогда исходное уравнение в частных производных заменяется уравенинем \n",
    "\n",
    "$$\n",
    "\\mathbf{U}_t + \\tilde{\\mathbf{A}}\\mathbf{U}_x = 0\n",
    "$$"
   ]
  },
  {
   "cell_type": "markdown",
   "metadata": {},
   "source": [
    "Таким образом, исходная _нелинейная_ задача Римана заменяется лианеризрванной задачей Римана \n",
    "\n",
    "$$\n",
    "\\begin{equation}\n",
    "\\label{eq:roe}\n",
    "\\left . \n",
    "\\begin{array}{c}\n",
    "\\mathbf{U}_t + \\tilde{\\mathbf{A}}\\mathbf{U}_x = 0, \\\\\n",
    "\\mathbf{U}(x,0)= \n",
    "\\left \\{ \n",
    "\\begin{array}{c}\n",
    "\\mathbf{U}_L, ~x<0 \\\\\n",
    "\\mathbf{U}_R,~x>0\n",
    "\\end{array}\n",
    "\\right .\n",
    "\\end{array}\n",
    "\\right\\}\n",
    "\\end{equation},\n",
    "$$\n",
    "которая решается точно."
   ]
  },
  {
   "cell_type": "markdown",
   "metadata": {},
   "source": [
    "Если известна матрица $\\tilde{\\mathbf{A}} =\\tilde{\\mathbf{A}} (\\mathbf{U}_L, \\mathbf{U}_R)$, ее собственные числа $\\tilde{\\lambda_i}(\\mathbf{U}_L, \\mathbf{U}_R)$ и соственные векторы $\\tilde{\\mathbf{K}}^{(i)} (\\mathbf{U}_L, \\mathbf{U}_R)$, то лианеризованная задача Римана может быть решена стандартным для гиперболической системы дифференциальных уравнений с постоянными коэффициентами способом."
   ]
  },
  {
   "cell_type": "markdown",
   "metadata": {},
   "source": [
    "Найдем коэффициенты разложения начальных условий по собственными векторам, решив систему уравнений\n",
    "\n",
    "$$\n",
    "\\Delta \\mathbf{U} = \\mathbf{U}_R - \\mathbf{U}_L = \\sum_{i=1}^m \\tilde{\\alpha_i}\\mathbf{K}^i\n",
    "$$\n",
    "\n",
    "Тогда решение $\\mathbf{U}_{i+\\frac{1}{2}}(x/t)$ на оси $t$, то есть при $x/t = 0$, запишется в виде\n",
    "\n",
    "$$\n",
    "\\mathbf{U}_{i+\\frac{1}{2}}(0) = \\mathbf{U}_L + \\sum_{\\tilde{\\lambda}_i\\le0}\\tilde{\\alpha}_i\\tilde{\\mathbf{K}^{(i)}},\n",
    "$$\n",
    "\n",
    "или\n",
    "\n",
    "$$\n",
    "\\mathbf{U}_{i+\\frac{1}{2}}(0) = \\mathbf{U}_R - \\sum_{\\tilde{\\lambda}_i\\ge0}\\tilde{\\alpha}_i\\tilde{\\mathbf{K}^{(i)}}\n",
    "$$"
   ]
  },
  {
   "cell_type": "markdown",
   "metadata": {},
   "source": [
    "Но нам неужно посчитать потоки на грани. Несмотря на то, что мы решаем линейную систему уравнений \n",
    "$$\n",
    "\\overline{\\mathbf{U}}_t + \\overline{\\mathbf{F}}(\\overline{\\mathbf{U}})_x = 0,\n",
    "$$\n",
    "\n",
    "где поток заптсывается как $\\overline{\\mathbf{F}}(\\overline{\\mathbf{U}}) = \\tilde{\\mathbf{A}}\\overline{\\mathbf{U}}$, аналогичное соотношение для потока на грани будет _неверным_! То есть\n",
    "\n",
    "$$\n",
    "\\mathbf{F}_{i+\\frac{1}{2}} \\ne \\tilde{\\mathbf{A}}\\overline{\\mathbf{U}}_{i+\\frac{1}{2}}(0)\n",
    "$$"
   ]
  },
  {
   "cell_type": "markdown",
   "metadata": {},
   "source": [
    "Для того чтобы получить верное соотношение для потока на линии разрыва (будущая грань ячейки расчетной сетки), запишем интегральный закон сохранения для левой части рисунка\n",
    "\n",
    "![Контрольный объем](./figures/star_reg_control_volume.png)\n",
    "\n",
    "$$\n",
    "\\int_{TS_L}^0\\mathbf{U}(x,T)dx = -TS_L\\mathbf{U}_L + T(\\mathbf{F}_L - \\mathbf{F}_{0L}),\n",
    "$$\n",
    "\n",
    "где $\\mathbf{F}_{0L}$ — поток $\\mathbf{F}(\\mathbf{U})$ на оси $t$. Выразим его из полученного соотношения:\n",
    "\n",
    "$$\n",
    "\\mathbf{F}_{0L} = \\mathbf{F}_{L} - S_L\\mathbf{U}_L - \\frac{1}{T}\\int_{TS_L}^0\\mathbf{U}(x,T)dx\n",
    "$$.\n",
    "\n",
    "Аналогично для $\\mathbf{F}_{0R}$ можно записать\n",
    "\n",
    "$$\n",
    "\\mathbf{F}_{0R} = \\mathbf{F}_{R} - S_R\\mathbf{U}_R + \\frac{1}{T}\\int_0^{TS_R}\\mathbf{U}(x,T)dx\n",
    "$$.\n",
    "\n",
    "Пусть $\\overline{\\mathbf{U}}_{i+\\frac{1}{2}}(x,t)$ – решение лианеризованной задачи Римана с начальными условиями $\\mathbf{U}_L$ и $\\mathbf{U}_R$, тогда интегралы в выражениях, записанных выше, приобретут следующий вид:\n",
    "\n",
    "$$\n",
    "\\int_{TS_L}^0\\overline{\\mathbf{U}}_{i+\\frac{1}{2}}(x,T)dx = T\\left[\\overline{\\mathbf{F}}(\\mathbf{U}_L) - \n",
    "\\overline{\\mathbf{F}}(\\overline{\\mathbf{U}}_{i+\\frac{1}{2}}(0)) \\right] - TS_L\\mathbf{U}_L\n",
    "$$\n",
    "и\n",
    "$$\n",
    "\\int_0^{TS_R}\\overline{\\mathbf{U}}_{i+\\frac{1}{2}}(x,T)dx = T\\left[ \\overline{\\mathbf{F}}(\\overline{\\mathbf{U}}_{i+\\frac{1}{2}}(0))\n",
    "-\\overline{\\mathbf{F}}(\\mathbf{U}_L)  \\right] + TS_R\\mathbf{U}_R.\n",
    "$$\n",
    "\n",
    "Подставим полученные интегралы и преобразуем выражения для потока на оси $t$:\n",
    "\n",
    "$$\n",
    "\\mathbf{F}_{0L} = \\overline{\\mathbf{F}}(\\overline{\\mathbf{U}}_{i+\\frac{1}{2}}(0)) +  \\mathbf{F}(\\mathbf{U}_L) - \\overline{\\mathbf{F}}(\\mathbf{U}_L) \n",
    "$$\n",
    "\n",
    "и\n",
    "$$\n",
    "\\mathbf{F}_{0R} = \\overline{\\mathbf{F}}(\\overline{\\mathbf{U}}_{i+\\frac{1}{2}}(0)) +  \\mathbf{F}(\\mathbf{U}_R) - \\overline{\\mathbf{F}}(\\mathbf{U}_R) \n",
    "$$.\n",
    "\n",
    "Наконец, используя выражение для $\\overline{\\mathbf{U}}_{i+\\frac{1}{2}}(0)$ и определение потока $\\overline{\\mathbf{F}} = \\tilde{\\mathbf{A}}\\overline{\\mathbf{U}}$, запишем для потока на оси $t$:\n",
    "\n",
    "$$\n",
    "\\mathbf{F}_{i+\\frac{1}{2}} = \\mathbf{F}_L + \\sum_{\\tilde{\\lambda}_i\\le0}\\tilde{\\alpha}_i \\tilde{\\lambda}_i \\tilde{\\mathbf{K}^{(i)}},\n",
    "$$\n",
    "\n",
    "$$\n",
    "\\mathbf{F}_{i+\\frac{1}{2}} = \\mathbf{F}_R - \\sum_{\\tilde{\\lambda}_i\\ge0}\\tilde{\\alpha}_i \\tilde{\\lambda}_i \\tilde{\\mathbf{K}^{(i)}}.\n",
    "$$\n",
    "\n",
    "Полученные выражения можно объединить в одно:\n",
    "\n",
    "$$\n",
    "\\mathbf{F}_{i+\\frac{1}{2}} = \\frac{1}{2}(\\mathbf{F}_L + \\mathbf{F}_R) - \\frac{1}{2}\\sum_{i=1}^m\\tilde{\\alpha}_i \\left|\\tilde{\\lambda}_i\\right| \\tilde{\\mathbf{K}^{(i)}}.\n",
    "$$"
   ]
  },
  {
   "cell_type": "markdown",
   "metadata": {},
   "source": [
    "Полученные выражения для решения и потока на грани справедливы для _любой_ гиперболической системы уравнений. Специфическмим для метода Роу являтся только сами значения коэффициентов разложения начальных условий по собственными векторам $\\tilde{\\alpha}_i$, собственные числа $\\tilde{\\lambda}_i$ и собственные векторы $\\tilde{\\mathbf{K}}^{(i)}$ матрицы Роу $\\tilde{\\mathbf{A}} (\\mathbf{U}_L, \\mathbf{U}_R)$. Заметим, что сама матрица нигде в вычислениях не участвует."
   ]
  },
  {
   "cell_type": "markdown",
   "metadata": {},
   "source": [
    "### Реализация метода для системы уравнений Эйлера"
   ]
  },
  {
   "cell_type": "markdown",
   "metadata": {},
   "source": [
    "Определим некоторый набор костантных выражений с показателем степени адиабаты $\\gamma = 1.4$"
   ]
  },
  {
   "cell_type": "code",
   "execution_count": 2,
   "metadata": {},
   "outputs": [],
   "source": [
    "gamma = 1.4     #Гамма, она же каппа\n",
    "#Различные формулы из гаммы\n",
    "g_m_1_over_2g = (gamma-1)/2/gamma      #g1\n",
    "g_p_1_over_2g = (gamma+1)/2/gamma      #g2\n",
    "g_m_1_over_2g_inv = 1/g_m_1_over_2g    #g3\n",
    "g_m_1_over_2_inv = 2/(gamma-1)         #g4\n",
    "g_p_1_over_2_inv = 2/(gamma+1)         #g5\n",
    "g_m_1_over_g_p_1 = (gamma-1)/(gamma+1) #g6\n",
    "g_m_1_over_2 = (gamma-1)/2             #g7\n",
    "g_m_1 = gamma-1  \n",
    "\n",
    "tol = 1e-8"
   ]
  },
  {
   "cell_type": "markdown",
   "metadata": {},
   "source": [
    "Нам потребуется вычислять скорость звука $$a = \\sqrt{\\gamma \\frac{p}{\\rho}}$$ и энтальпию $$H = \\frac{1}{2}u^2 + \\frac{\\gamma}{\\gamma -1}\\frac{p}{\\rho},$$ поэтому создадим для них соответсвующие функции. На вход в функции будем подавать вектор примитивных переменных $\\mathbf{W}$."
   ]
  },
  {
   "cell_type": "code",
   "execution_count": 3,
   "metadata": {},
   "outputs": [],
   "source": [
    "def sound_speed(W):\n",
    "    d = W[0]\n",
    "    p = W[2]\n",
    "    return (gamma*(p/d))**0.5"
   ]
  },
  {
   "cell_type": "code",
   "execution_count": 4,
   "metadata": {},
   "outputs": [],
   "source": [
    "def enthalpy(W):\n",
    "    return 0.5*W[1]**2 + gamma/ g_m_1 *(W[2]/W[0])"
   ]
  },
  {
   "cell_type": "markdown",
   "metadata": {},
   "source": [
    "Следующая функция задает начальные условия для трех тестов: задачи Сода, двух волн разрежения и задачи Вудварда. Описание тестов можно найти на странице 226 учебника Торо."
   ]
  },
  {
   "cell_type": "code",
   "execution_count": 5,
   "metadata": {},
   "outputs": [],
   "source": [
    "def init(case):\n",
    "    if case == 'sod':\n",
    "        W_l = np.array([1, 0.75, 1])\n",
    "        W_r = np.array([0.125, 0, 0.1])\n",
    "        t = 0.25\n",
    "    elif case == '123':\n",
    "        W_l = np.array([1, -2, 0.4])\n",
    "        W_r = np.array([1, 2, 0.4])\n",
    "        t = 0.15\n",
    "    elif case == 'left-woodward':\n",
    "        W_l = np.array([1, 0, 1000])\n",
    "        W_r = np.array([1, 0, 0.1])\n",
    "        \n",
    "        t = 0.012\n",
    "    else : print('Unknown case!')\n",
    "    return W_l, W_r, t"
   ]
  },
  {
   "cell_type": "markdown",
   "metadata": {},
   "source": [
    "Следующие три функции носят вспомогательный характер `U_to_W` переводит вектор консервативных величин $\\mathbf{U}$ в вектор неконсервативных $\\mathbf{W}$ величин. Функуция `W_to_U` делает обратное преобразование. Наконец, `flux` возрващает вектор потока, посчитанный по примитивным переменным."
   ]
  },
  {
   "cell_type": "code",
   "execution_count": 6,
   "metadata": {},
   "outputs": [],
   "source": [
    "def U_to_W(U):\n",
    "    W = np.zeros_like(U)\n",
    "    W[0] = U[0]\n",
    "    W[1] = U[1]/U[0]\n",
    "    W[2] = g_m_1*(U[2] - 0.5*U[1]**2/U[0])\n",
    "    return W\n"
   ]
  },
  {
   "cell_type": "code",
   "execution_count": 7,
   "metadata": {},
   "outputs": [],
   "source": [
    "def W_to_U(W):\n",
    "    U = np.zeros_like(W)\n",
    "    U[0] = W[0]\n",
    "    U[1] = W[1]*W[0]\n",
    "    U[2] = 0.5*W[1]**2*W[0]+W[2]/ g_m_1\n",
    "    return U\n"
   ]
  },
  {
   "cell_type": "code",
   "execution_count": 8,
   "metadata": {},
   "outputs": [],
   "source": [
    "def flux(W):\n",
    "    F = np.zeros_like(W)\n",
    "    F[0] = W[1]*W[0]\n",
    "    F[1] = W[1]**2*W[0] + W[2]\n",
    "    F[2] = W[1]*(0.5*W[1]**2*W[0]+W[2]/ g_m_1 + W[2])\n",
    "    return F"
   ]
  },
  {
   "cell_type": "markdown",
   "metadata": {},
   "source": [
    "Теперь можно приступить к функциям, реализующим метод Роу. Собственные векторы матрицы Роу формально совпадают с собственными векторами матрицы Якоби для системы уравнений Эйлера, с той лишь разницей, что для вычисления их используются величины, осредненные по Роу:\n",
    "$$\n",
    "\\begin{equation}\n",
    "\\begin{array}{c}\n",
    "\\tilde{u} = \\frac{\\sqrt{\\rho_L} u_R + \\sqrt{\\rho_R} u_R}{\\sqrt{\\rho_L} + \\sqrt{\\rho_R}}\\\\\n",
    "\\tilde{H} = \\frac{\\sqrt{\\rho_L} H_R + \\sqrt{\\rho_R} H_R}{\\sqrt{\\rho_L} + \\sqrt{\\rho_R}}\\\\\n",
    "\\tilde{a} = \\left( (\\gamma -1 )(\\tilde{H} - \\frac{1}{2}\\tilde{u}^2) \\right)^\\frac{1}{2}\n",
    "\\end{array}\n",
    "\\end{equation}\n",
    "$$\n",
    "\n",
    "Соответсвующую этой операции функцию назовем `roe_average`"
   ]
  },
  {
   "cell_type": "code",
   "execution_count": 9,
   "metadata": {},
   "outputs": [],
   "source": [
    "def roe_average(Wl,Wr):\n",
    "    denom = Wl[0]**0.5 + Wr[0]**0.5\n",
    "    u_tilda = (Wl[0]**0.5 * Wl[1] + Wr[0]**0.5 * Wr[1])/ denom\n",
    "    H_tilda = (Wl[0]**0.5 * enthalpy(Wl) + Wr[0]**0.5 * enthalpy(Wr))/ denom\n",
    "    a_tilda = (g_m_1*(H_tilda - 0.5*u_tilda**2))**0.5\n",
    "    return u_tilda, H_tilda, a_tilda "
   ]
  },
  {
   "cell_type": "markdown",
   "metadata": {},
   "source": [
    "Собственные числа матрицы Роу:\n",
    "$$\n",
    "\\tilde{\\lambda}_1 = \\tilde{u} - \\tilde{a}, \\ \\tilde{\\lambda}_2 = \\tilde{u}, \\ \\tilde{\\lambda}_3 = \\tilde{u} + \\tilde{a} \n",
    "$$"
   ]
  },
  {
   "cell_type": "code",
   "execution_count": 10,
   "metadata": {},
   "outputs": [],
   "source": [
    "def roe_eigen_values(roe_average):\n",
    "    lambdas = np.zeros(3)\n",
    "    lambdas[0] = roe_average[0] - roe_average[2]\n",
    "    lambdas[1] = roe_average[0] \n",
    "    lambdas[2] = roe_average[0] + roe_average[2]\n",
    "    return lambdas"
   ]
  },
  {
   "cell_type": "markdown",
   "metadata": {},
   "source": [
    "Собвенные векторы:\n",
    "\n",
    "$$\n",
    "\\tilde{\\mathbf{K}}^1 =\\left [ \\begin{array}{c} 1\\\\ \\tilde{u} - \\tilde{a} \\\\ \\tilde{H} -  \\tilde{u}\\tilde{a} \\end{array}  \\right] ; \\ \\tilde{\\mathbf{K}}^2 =\\left [ \\begin{array}{c} 1\\\\ \\tilde{u}             \\\\ \\frac{1}{2} \\tilde{u}^2         \\end{array}  \\right]; \\ \n",
    "\\tilde{\\mathbf{K}}^3 =\\left [ \\begin{array}{c} 1\\\\ \\tilde{u} + \\tilde{a} \\\\ \\tilde{H} +  \\tilde{u}\\tilde{a} \\end{array}  \\right]\n",
    "$$"
   ]
  },
  {
   "cell_type": "code",
   "execution_count": 11,
   "metadata": {},
   "outputs": [],
   "source": [
    "def roe_eigen_vectors(roe_average):\n",
    "    K = np.zeros((3,3))\n",
    "    K[0] = np.asarray([1, \n",
    "                       roe_average[0] - roe_average[2], \n",
    "                       roe_average[1] - roe_average[0] * roe_average[2] ])\n",
    "    K[1] = np.asarray([1, \n",
    "                       roe_average[0] , \n",
    "                       0.5*roe_average[0] **2 ])\n",
    "    K[2] = np.asarray([1, \n",
    "                       roe_average[0] + roe_average[2], \n",
    "                       roe_average[1] + roe_average[0] * roe_average[2] ])\n",
    "    return K"
   ]
  },
  {
   "cell_type": "markdown",
   "metadata": {},
   "source": [
    "Коэффициенты разложения вектора начальных условий по собственными векторам матрицы Роу находятся как решение системы уравнений\n",
    "$$\n",
    "\\Delta\\mathbf{U} = \\sum_{i=1}^3\\tilde{\\alpha_i}\\tilde{\\mathbf{K}}^{(i)}\n",
    "$$\n",
    "или\n",
    "$$\n",
    "\\begin{array}{c}\n",
    "\\tilde{\\alpha}_1                       +\\tilde{\\alpha}_2         +\\tilde{\\alpha}_3                      = \\Delta u_1 \\\\\n",
    "\\tilde{\\alpha}_1(\\tilde{u} - \\tilde{a})+\\tilde{\\alpha}_2\\tilde{u}+\\tilde{\\alpha}_3(\\tilde{u} + \\tilde{a}) = \\Delta u_2 \\\\\n",
    "\\tilde{\\alpha}_1(\\tilde{H} -  \\tilde{u}\\tilde{a} )+\\tilde{\\alpha}_2\\frac{1}{2} \\tilde{u}^2+\\tilde{\\alpha}_3(\\tilde{H} +  \\tilde{u}\\tilde{a}) = \\Delta u_3\n",
    "\\end{array}\n",
    "$$\n",
    "\n",
    "Решением этой системы будут значения:\n",
    "$$\n",
    "\\begin{array}{c}\n",
    "\\tilde{\\alpha}_2 = \\frac{\\gamma -1}{\\tilde{a}^2}\\left[\\Delta u_1(\\tilde{H} - \\tilde{u}^2) + \\tilde{u}\\Delta u_2 - \\Delta u_3 \\right] \\\\\n",
    "\\tilde{\\alpha}_1 = \\frac{1}{2\\tilde{a}}\\left[ \\Delta u_1 (\\tilde{u} + \\tilde{a}) -  \\Delta u_2 -  \\tilde{a}\\tilde{\\alpha}_2 \\right]\\\\\n",
    "\\tilde{\\alpha}_3 = \\Delta u_1 - (\\tilde{\\alpha}_1 + \\tilde{\\alpha}_2)\n",
    "\\end{array}\n",
    "$$\n",
    "\n",
    "Для их вычисления создадим функцию `alphas`."
   ]
  },
  {
   "cell_type": "code",
   "execution_count": 12,
   "metadata": {},
   "outputs": [],
   "source": [
    "def alfas(dU, roe_average):\n",
    "    alfas = np.zeros(3)\n",
    "    alfas[1] = g_m_1/roe_average[2]**2*(dU[0]*(roe_average[1] - roe_average[0]**2) + dU[1]*roe_average[0] - dU[2] )\n",
    "    alfas[0] = 0.5/roe_average[2]*(dU[0]*(roe_average[0] + roe_average[2]) - dU[1] - roe_average[2]*alfas[1])\n",
    "    alfas[2] = dU[0] - (alfas[0] +alfas[1])\n",
    "    return alfas\n"
   ]
  },
  {
   "cell_type": "markdown",
   "metadata": {},
   "source": [
    "Наконец, вычисляем потоки Роу по формуле\n",
    "\n",
    "$$\n",
    "\\mathbf{F}_{i+\\frac{1}{2}} = \\frac{1}{2}(\\mathbf{F}_L + \\mathbf{F}_R) - \\frac{1}{2}\\sum_{i=1}^m\\tilde{\\alpha}_i \\left|\\tilde{\\lambda}_i\\right| \\tilde{\\mathbf{K}^{(i)}}.\n",
    "$$"
   ]
  },
  {
   "cell_type": "code",
   "execution_count": 13,
   "metadata": {},
   "outputs": [],
   "source": [
    "def roe_flux(Wl,Wr):\n",
    "    Fl,Fr = flux(Wl),flux(Wr)\n",
    "    averages = roe_average(Wl,Wr)\n",
    "    lambdas = roe_eigen_values(averages)\n",
    "    K = roe_eigen_vectors(averages)\n",
    "    alphas = alfas(W_to_U(Wr) - W_to_U(Wl), averages)\n",
    "    roe_flux = 0.5*(Fl + Fr - np.dot(alphas*abs(lambdas),K))\n",
    "    return roe_flux"
   ]
  },
  {
   "cell_type": "markdown",
   "metadata": {},
   "source": [
    "Теперь все гтово к тестированию. Задаем количество узлов Расчетной сетки $N=101$ и положение разрыва на оси $x$"
   ]
  },
  {
   "cell_type": "code",
   "execution_count": 14,
   "metadata": {},
   "outputs": [],
   "source": [
    "N_points = 101\n",
    "x = np.linspace(0,1,N_points)\n",
    "decay_pos = 0.3\n",
    "W_correct= np.zeros((N_points,3))"
   ]
  },
  {
   "cell_type": "markdown",
   "metadata": {},
   "source": [
    "Задаем началные условия"
   ]
  },
  {
   "cell_type": "code",
   "execution_count": 15,
   "metadata": {},
   "outputs": [],
   "source": [
    "dx = 1./(N_points - 1)\n",
    "sigma = 0.9\n",
    "\n",
    "W = np.zeros((N_points,3))\n",
    "fluxes = np.zeros((N_points - 1,3))\n",
    "U = np.zeros_like(W) "
   ]
  },
  {
   "cell_type": "code",
   "execution_count": 27,
   "metadata": {},
   "outputs": [],
   "source": [
    "W_l,W_r,t = init('sod')\n",
    "W[np.where(x<decay_pos),:] = W_l\n",
    "W[np.where(x>=decay_pos),:] = W_r"
   ]
  },
  {
   "cell_type": "markdown",
   "metadata": {},
   "source": [
    "Для того, чтобы сделать шаг по времени, нужно определить величину этого шага, исходя из уловия устойчивости \n",
    "$$\n",
    "\\Delta t = \\frac{\\sigma \\Delta x}{S_{max}^n},\n",
    "$$\n",
    "где число Куранта-Фридрихса-Леви $0 \\lt \\sigma \\le 1$. Для этого нужно оценить максимальную скорость распространения возмущений на каждом временном слое. Воспользуемся оценкой $$ S_{max}^n = \\max\\limits_{i}\\{\\left|u_i^n\\right| + a_i^n\\},$$\n",
    "учебник Торо, стр. 221."
   ]
  },
  {
   "cell_type": "code",
   "execution_count": 28,
   "metadata": {},
   "outputs": [],
   "source": [
    "t_ = 0\n",
    "#dt = 0.0002\n",
    "U_n = np.copy(U)\n",
    "while t_<t:\n",
    "    U = W_to_U(W.T).T\n",
    "    roe_fluxes = np.zeros((N_points - 1,3))\n",
    "    speeds = np.zeros(N_points - 1)\n",
    "    for i,x_ in enumerate(x[:-1]):\n",
    "        \n",
    "        roe_fluxes[i] =roe_flux(W[i],W[i+1])\n",
    "        c_l = sound_speed(W[i])\n",
    "        c_r = sound_speed(W[i+1])\n",
    "        speeds[i] = max(abs(W[i][1])+c_l,abs(W[i+1][1])+  c_r)\n",
    "\n",
    "    \n",
    "    dt = sigma*dx/max(speeds)\n",
    "    U_n[1:-1,:] = U[1:-1,:] + dt/dx*(roe_fluxes[:-1,:]-roe_fluxes[1:,:]) \n",
    "    U_n[0,:] = U_n[1,:]\n",
    "    U_n[-1,:] = U_n[-2,:]\n",
    "    W = U_to_W(U_n.T).T\n",
    "    t_=t_+dt"
   ]
  },
  {
   "cell_type": "markdown",
   "metadata": {},
   "source": [
    "В следующей ячейке используется _магическая_ комманда Jupyter, позволяющая обмениваться переменными между разными ноутбуками. В соседнем ноутбуке у меня реализовано точное решение задачи Римана, результат хранися в переменной `W_correct`. При помощи команды\n",
    "```pyton\n",
    "%store W_correct\n",
    "```\n",
    "я сделал ее доступным в других запущенных ноутбуках."
   ]
  },
  {
   "cell_type": "code",
   "execution_count": 29,
   "metadata": {},
   "outputs": [],
   "source": [
    "%store -r"
   ]
  },
  {
   "cell_type": "code",
   "execution_count": 30,
   "metadata": {},
   "outputs": [
    {
     "data": {
      "image/png": "[encoded data removed]",
      "text/plain": [
       "<Figure size 1296x432 with 3 Axes>"
      ]
     },
     "metadata": {
      "needs_background": "light"
     },
     "output_type": "display_data"
    }
   ],
   "source": [
    "fig,axs = pyplot.subplots(1,3,figsize=(18,6) )\n",
    "\n",
    "for ax, W_,  W_c, y_label in zip(axs, W.T,  W_correct.T, (r'$\\rho$',r'$u$',r'$p$') ):\n",
    "    ax.plot(x,W_,'o',label='Roe')\n",
    "#    ax.plot(x,W_g_,'o',label='Godunov')\n",
    "    ax.plot(x,W_c,label='Exact')\n",
    "    ax.set_ylabel(y_label)\n",
    "    ax.set_xlabel('x')\n",
    "    scale_y = 1.1*abs(max(W_c)-min(W_c))\n",
    "    ax.set_ylim(0.5*(max(W_c)+min(W_c) - scale_y), 0.5*(max(W_c)+min(W_c) + scale_y))\n",
    "    ax.legend(loc='best')\n",
    "    ax.grid()\n",
    "    "
   ]
  },
  {
   "cell_type": "markdown",
   "metadata": {},
   "source": [
    "### Вопросы\n",
    "\n",
    "1. На волне разрежения наблюдается разрыв, откуда он тут взялся?\n",
    "2. Работают ли другие тесты? Если нет, почему?"
   ]
  },
  {
   "cell_type": "code",
   "execution_count": 20,
   "metadata": {},
   "outputs": [
    {
     "name": "stdout",
     "output_type": "stream",
     "text": [
      "Stored 'W_roe' (ndarray)\n"
     ]
    }
   ],
   "source": [
    "W_roe = np.copy(W)\n",
    "%store W_roe"
   ]
  },
  {
   "cell_type": "code",
   "execution_count": null,
   "metadata": {
    "jupyter": {
     "outputs_hidden": true
    }
   },
   "outputs": [],
   "source": []
  }
 ],
 "metadata": {
  "anaconda-cloud": {},
  "kernelspec": {
   "display_name": "Python 3 (ipykernel)",
   "language": "python",
   "name": "python3"
  },
  "language_info": {
   "codemirror_mode": {
    "name": "ipython",
    "version": 3
   },
   "file_extension": ".py",
   "mimetype": "text/x-python",
   "name": "python",
   "nbconvert_exporter": "python",
   "pygments_lexer": "ipython3",
   "version": "3.10.1"
  }
 },
 "nbformat": 4,
 "nbformat_minor": 4
}
