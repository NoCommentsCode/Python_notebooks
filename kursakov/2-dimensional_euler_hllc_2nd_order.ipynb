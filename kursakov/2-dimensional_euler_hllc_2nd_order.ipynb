{
 "cells": [
  {
   "cell_type": "code",
   "execution_count": 3,
   "id": "59295bc3",
   "metadata": {},
   "outputs": [],
   "source": [
    "%matplotlib inline\n",
    "import matplotlib\n",
    "from matplotlib import pyplot \n",
    "import numpy as np\n",
    "from matplotlib import rcParams\n",
    "rcParams['font.family'] = 'serif'\n",
    "rcParams['font.size'] = 16\n",
    "from matplotlib import cm"
   ]
  },
  {
   "cell_type": "code",
   "execution_count": 4,
   "id": "b5e5c3f9",
   "metadata": {},
   "outputs": [],
   "source": [
    "gamma = 1.4     #Гамма, она же каппа\n",
    "#Различные формулы из гаммы\n",
    "g_m_1_over_2g = (gamma-1)/2/gamma      #g1\n",
    "g_p_1_over_2g = (gamma+1)/2/gamma      #g2\n",
    "g_m_1_over_2g_inv = 1/g_m_1_over_2g    #g3\n",
    "g_m_1_over_2_inv = 2/(gamma-1)         #g4\n",
    "g_p_1_over_2_inv = 2/(gamma+1)         #g5\n",
    "g_m_1_over_g_p_1 = (gamma-1)/(gamma+1) #g6\n",
    "g_m_1_over_2 = (gamma-1)/2             #g7\n",
    "g_m_1 = gamma-1  \n",
    "\n",
    "tol = 1e-8"
   ]
  },
  {
   "cell_type": "code",
   "execution_count": 5,
   "id": "2fa1a4d6",
   "metadata": {},
   "outputs": [],
   "source": [
    "ax_dict = {'x':1,'y':2}"
   ]
  },
  {
   "cell_type": "code",
   "execution_count": 6,
   "id": "703d26a6",
   "metadata": {},
   "outputs": [],
   "source": [
    "def sound_speed(d,p):\n",
    "    return (gamma*(p/d))**0.5"
   ]
  },
  {
   "cell_type": "code",
   "execution_count": 7,
   "id": "ead20655",
   "metadata": {},
   "outputs": [],
   "source": [
    "def sound_speed_w(W):\n",
    "    d = W[0]\n",
    "    p = W[-1]\n",
    "    return sound_speed(d,p) "
   ]
  },
  {
   "cell_type": "code",
   "execution_count": 8,
   "id": "4f44666b",
   "metadata": {},
   "outputs": [],
   "source": [
    "def U_to_W(U):\n",
    "    W = np.zeros_like(U)\n",
    "    W[0] = U[0]\n",
    "    W[1] = U[1]/U[0]\n",
    "    W[2] = U[2]/U[0]\n",
    "    W[3] = g_m_1*(U[3] - 0.5*(U[1]**2 + U[2]**2)/U[0])\n",
    "    return W"
   ]
  },
  {
   "cell_type": "code",
   "execution_count": 9,
   "id": "1755c8d4",
   "metadata": {},
   "outputs": [],
   "source": [
    "def W_to_U(W):\n",
    "    U = np.zeros_like(W)\n",
    "    U[0] = W[0]\n",
    "    U[1] = W[1]*W[0]\n",
    "    U[2] = W[2]*W[0]\n",
    "    U[3] = 0.5*(W[1]**2 + W[2]**2)*W[0]+W[3]/g_m_1\n",
    "    return U\n"
   ]
  },
  {
   "cell_type": "code",
   "execution_count": 10,
   "id": "4f35c852",
   "metadata": {},
   "outputs": [],
   "source": [
    "def flux(W,axis):\n",
    "    F = np.zeros_like(W)\n",
    "    E = 0.5*(W[1]**2 + W[2]**2)*W[0] + W[3]/g_m_1\n",
    "    if axis == 'x':\n",
    "        F[0] = W[1]*W[0]\n",
    "        F[1] = W[1]**2 * W[0] + W[3]\n",
    "        F[2] = W[1]*W[2]*W[0]\n",
    "        F[3] = W[1]*(E + W[3])\n",
    "    elif axis == 'y':\n",
    "        F[0] = W[2]*W[0]\n",
    "        F[1] = W[1]*W[2]*W[0]\n",
    "        F[2] = W[2]**2 * W[0] + W[3]\n",
    "        F[3] = W[2]*(E + W[3])       \n",
    "    else:\n",
    "        print ('wrong axis_fluxes')\n",
    "        return -1\n",
    "    return F"
   ]
  },
  {
   "cell_type": "code",
   "execution_count": 11,
   "id": "9d7826ab",
   "metadata": {},
   "outputs": [],
   "source": [
    "def q(p,p_star):\n",
    "    if p_star > p:\n",
    "        return (1 + g_p_1_over_2g*(p_star/p - 1))**0.5\n",
    "    else :\n",
    "        return 1"
   ]
  },
  {
   "cell_type": "code",
   "execution_count": 12,
   "id": "75908206",
   "metadata": {},
   "outputs": [],
   "source": [
    "def enthalpy(W):\n",
    "    return 0.5 * (W[1]**2 + W[2]**2) + gamma / g_m_1 * (W[-1]/W[0])"
   ]
  },
  {
   "cell_type": "code",
   "execution_count": 13,
   "id": "a116af6e",
   "metadata": {},
   "outputs": [],
   "source": [
    "def limiter(e, dx,axis):\n",
    "    \"\"\"\n",
    "    Computes the minmod approximation of the slope.\n",
    "    \n",
    "    Parameters\n",
    "    ----------\n",
    "    e : list or numpy.ndarray\n",
    "        The input values as a 1D array of floats.\n",
    "    dx : float\n",
    "        The grid-cell width.\n",
    "    \n",
    "    Returns\n",
    "    -------\n",
    "    sigma : numpy.ndarray\n",
    "        The minmod-approximated slope\n",
    "        as a 2D array of floats.\n",
    "    \"\"\"\n",
    "    sigma = np.zeros_like(e)\n",
    "    for i in range(1, e.shape[0] - 1):\n",
    "        for j in range(1, e.shape[1] - 1):\n",
    "            if axis == 'x':\n",
    "                de_minus = (e[i,j] - e[i - 1,j]) / dx\n",
    "                de_plus = (e[i + 1,j] - e[i,j]) / dx\n",
    "            if axis == 'y':\n",
    "                de_minus = (e[i,j] - e[i,j-1]) / dx\n",
    "                de_plus = (e[i,j+1] - e[i,j]) / dx\n",
    "                    \n",
    "            for k in range(4):\n",
    "                \n",
    "                if de_minus[k] * de_plus[k] > 0:\n",
    "                    sigma[i,j,k] = 2 * de_minus[k] * de_plus[k] / (de_minus[k] + de_plus[k])\n",
    "                else:\n",
    "                    sigma[i,j,k] = 0.0\n",
    "    return sigma"
   ]
  },
  {
   "cell_type": "code",
   "execution_count": 14,
   "id": "8ba221a0",
   "metadata": {},
   "outputs": [],
   "source": [
    "def get_speeds(W_l,W_r,p_star,axis):\n",
    "    S_l = W_l[ax_dict[axis]] - sound_speed_w(W_l)*q(W_l[-1],p_star)\n",
    "    S_r = W_r[ax_dict[axis]] + sound_speed_w(W_r)*q(W_r[-1],p_star)\n",
    "    \n",
    "    S_star = (W_r[-1] - W_l[-1] + \\\n",
    "          W_l[0]*W_l[ax_dict[axis]]*(S_l - W_l[ax_dict[axis]]) - \\\n",
    "          W_r[0]*W_r[ax_dict[axis]]*(S_r - W_r[ax_dict[axis]]))/( W_l[0]*(S_l - W_l[ax_dict[axis]]) - \\\n",
    "          W_r[0]*(S_r - W_r[ax_dict[axis]]) )\n",
    "    \n",
    "    return np.asarray((S_l,S_r,S_star))"
   ]
  },
  {
   "cell_type": "code",
   "execution_count": 15,
   "id": "8cabf6c6",
   "metadata": {},
   "outputs": [],
   "source": [
    "def guess_p(W_l,W_r,axis):\n",
    "    \n",
    "\n",
    "    c_l = sound_speed(W_l[0],W_l[-1])\n",
    "    c_r = sound_speed(W_r[0],W_r[-1])\n",
    "    \n",
    "    q_temp = 2.0\n",
    "    \n",
    "    d_l, u_l, p_l = W_l[0], W_l[ax_dict[axis]], W_l[-1]\n",
    "    d_r, u_r, p_r = W_r[0], W_r[ax_dict[axis]], W_r[-1]\n",
    "        \n",
    "    p_pv = max(0.0, 0.5 * (p_l + p_r) - 0.125 * (u_r - u_l) * (d_l + d_r) * (c_l + c_r))\n",
    "    p_min = min(p_l, p_r)\n",
    "    p_max = max(p_l, p_r)\n",
    "    q_max = p_max / p_min\n",
    "          \n",
    "    if q_max <= q_temp and p_min <= p_pv <= p_max:\n",
    "        p_m = p_pv\n",
    "    elif p_pv < p_min:\n",
    "        p_m = ((c_l + c_r - 0.5 * g_m_1 * (u_r - u_l))/(c_l / p_l ** g_m_1_over_2g + c_r / p_r ** g_m_1_over_2g)) ** g_m_1_over_2g_inv\n",
    "    else:\n",
    "        g_l = ((g_p_1_over_2_inv / d_l) / (g_m_1_over_g_p_1 * p_l + p_pv)) ** 0.5\n",
    "        g_r = ((g_p_1_over_2_inv / d_r) / (g_m_1_over_g_p_1 * p_r + p_pv)) ** 0.5\n",
    "        p_m = (g_l * p_l  + g_r * p_r - (u_r - u_l)) / (g_l + g_r)\n",
    "        \n",
    "    return p_m"
   ]
  },
  {
   "cell_type": "code",
   "execution_count": 16,
   "id": "aba472be",
   "metadata": {},
   "outputs": [],
   "source": [
    "def F_HLLC(W,S_star,S,axis):\n",
    "    D = np.asarray([0,0,0,S_star])\n",
    "    D[ax_dict[axis]] = 1\n",
    "    \n",
    "    F_star = (S_star*(S*W_to_U(W) - flux(W,axis)) + \\\n",
    "              S*(W[-1] + W[0]*(S - W[ax_dict[axis]])*(S_star - W[ax_dict[axis]]))*D)/(S - S_star)\n",
    "    return F_star"
   ]
  },
  {
   "cell_type": "code",
   "execution_count": 17,
   "id": "3e490f62",
   "metadata": {},
   "outputs": [],
   "source": [
    "def hllc_flux(W_l, W_r, axis):\n",
    "    p_star = guess_p(W_l,W_r, axis)\n",
    "    S_l,S_r,S_star = get_speeds(W_l,W_r,p_star, axis)\n",
    "    if 0 <= S_l:\n",
    "        return flux(W_l,axis)\n",
    "    if S_l <= 0 <= S_star:\n",
    "        return F_HLLC(W_l,S_star,S_l,axis)\n",
    "    if S_star <= 0 <= S_r:\n",
    "        return F_HLLC(W_r,S_star,S_r,axis)\n",
    "    if 0 >= S_r:\n",
    "        return flux(W_r,axis)"
   ]
  },
  {
   "cell_type": "code",
   "execution_count": 18,
   "id": "4b5904cc",
   "metadata": {},
   "outputs": [],
   "source": [
    "def compute_flux_hllc_limiter(W,dx,axis):\n",
    "    hllc_fluxes = np.zeros((N_points - 1,N_points - 1,4))\n",
    "    speeds = np.zeros((N_points - 1,N_points - 1))\n",
    "    grads = limiter(W,dx,axis)\n",
    "    \n",
    "    if axis == 'x':\n",
    "        WL = (W + grads * dx / 2.0)[:-1,:,:]\n",
    "        WR = (W - grads * dx / 2.0)[1:,:,:]\n",
    "    if axis == 'y':\n",
    "        WL = (W + grads * dx / 2.0)[:,:-1,:]\n",
    "        WR = (W - grads * dx / 2.0)[:,1:,:]\n",
    "        \n",
    "    \n",
    "    for i in range(N_points-1):\n",
    "        for j in range(N_points-1):\n",
    "            hllc_fluxes[i,j] = hllc_flux(WL[i,j],WR[i,j],axis)\n",
    "            c_l = sound_speed(WL[i,j][0],WL[i,j][-1])\n",
    "            c_r = sound_speed(WR[i,j][0],WR[i,j][-1])\n",
    "            speeds[i,j] = max(WL[i,j][ax_dict[axis]] + c_l, WR[i,j][ax_dict[axis]] + c_r)\n",
    "\n",
    "    return hllc_fluxes, np.max(speeds)"
   ]
  },
  {
   "cell_type": "code",
   "execution_count": 114,
   "id": "0cdeee72",
   "metadata": {},
   "outputs": [],
   "source": [
    "N_points = 31\n",
    "x = np.linspace(0,1,N_points)\n",
    "y = np.linspace(0,1,N_points)\n",
    "decay_pos = 0.5\n",
    "W_correct = np.zeros((N_points,N_points,4))\n",
    "X, Y = np.meshgrid(x,y) #делаем двумерную сетку: в X х-координаты сетки, в Y y-координаты"
   ]
  },
  {
   "cell_type": "code",
   "execution_count": 115,
   "id": "5a64c9ff",
   "metadata": {},
   "outputs": [],
   "source": [
    "#X"
   ]
  },
  {
   "cell_type": "code",
   "execution_count": 116,
   "id": "d4b38344",
   "metadata": {},
   "outputs": [],
   "source": [
    "#Y"
   ]
  },
  {
   "cell_type": "code",
   "execution_count": 117,
   "id": "c78dca8b",
   "metadata": {},
   "outputs": [],
   "source": [
    "dx = 1./(N_points - 1)\n",
    "dy = 1./(N_points - 1)\n",
    "sigma = 0.9\n",
    "\n",
    "W = np.zeros_like(W_correct)\n",
    "U = np.zeros_like(W)"
   ]
  },
  {
   "cell_type": "code",
   "execution_count": 118,
   "id": "a0052eb8",
   "metadata": {},
   "outputs": [],
   "source": [
    "def init():\n",
    "    W_u_l = np.array([0.5197, -0.6259, -0.3, 0.4])\n",
    "    W_u_r = np.array([1.0, 0.1, -0.3, 1.0])\n",
    "    W_d_l = np.array([0.8, 0.1, -0.3, 0.4])\n",
    "    W_d_r = np.array([0.5313, 0.1, 0.4276, 0.4])\n",
    "    t = 0.5\n",
    "    return W_u_l, W_u_r, W_d_l, W_d_r, t"
   ]
  },
  {
   "cell_type": "code",
   "execution_count": 119,
   "id": "e1e65e35",
   "metadata": {},
   "outputs": [],
   "source": [
    "W_u_l, W_u_r, W_d_l, W_d_r, t = init()"
   ]
  },
  {
   "cell_type": "code",
   "execution_count": 120,
   "id": "a7b1d5f7",
   "metadata": {},
   "outputs": [],
   "source": [
    "W[(X<decay_pos)*(Y<decay_pos)] = W_d_l\n",
    "W[(X<decay_pos)*(Y>=decay_pos)] = W_u_l\n",
    "W[(X>=decay_pos)*(Y<decay_pos)] = W_d_r\n",
    "W[(X>=decay_pos)*(Y>=decay_pos)] = W_u_r"
   ]
  },
  {
   "cell_type": "code",
   "execution_count": 121,
   "id": "d94d8ce6",
   "metadata": {},
   "outputs": [
    {
     "data": {
      "image/png": "[encoded data removed]",
      "text/plain": [
       "<Figure size 1100x700 with 2 Axes>"
      ]
     },
     "metadata": {
      "needs_background": "light"
     },
     "output_type": "display_data"
    }
   ],
   "source": [
    "fig = pyplot.figure(figsize=(11,7), dpi=100)\n",
    "#pyplot.contourf(X, Y, W[:,:,-1], alpha=0.5, extend='both', levels=np.linspace(0.16,1.71,32),cmap='jet')\n",
    "pyplot.contourf(X, Y, W[:,:,-1], alpha=1., extend='both', levels=np.linspace(0.,1.,32),cmap='jet')\n",
    "pyplot.colorbar()\n",
    "#pyplot.quiver(X,Y, W[:,:,1], W[:,:,2])\n",
    "pyplot.xlabel('X')\n",
    "pyplot.ylabel('Y');"
   ]
  },
  {
   "cell_type": "code",
   "execution_count": 122,
   "id": "f560285f",
   "metadata": {},
   "outputs": [
    {
     "name": "stdout",
     "output_type": "stream",
     "text": [
      "t= 0\n",
      "t= 0.010314566748134323\n",
      "t= 0.020608375485892654\n",
      "t= 0.03083814114299702\n",
      "t= 0.04097727062156172\n",
      "t= 0.051030274680633834\n",
      "t= 0.061026565455583805\n",
      "t= 0.07100832528007382\n",
      "t= 0.08101977726886911\n",
      "t= 0.09096362696087566\n",
      "t= 0.1008543792536669\n",
      "t= 0.11071359256442498\n",
      "t= 0.12055774324180324\n",
      "t= 0.13040081167143563\n",
      "t= 0.1402498040492586\n",
      "t= 0.15007644934815811\n",
      "t= 0.15988918282102704\n",
      "t= 0.16969505917803043\n",
      "t= 0.17949879520801806\n",
      "t= 0.18930383605002465\n",
      "t= 0.19911313007802378\n"
     ]
    }
   ],
   "source": [
    "t_ = 0\n",
    "t = 0.2\n",
    "U_n = np.copy(U)\n",
    "U_n_star = np.copy(U)\n",
    "while t_<t:\n",
    "    U = W_to_U(W.T).T\n",
    "    \n",
    "    hllc_fluxes_f,m_speed_f = compute_flux_hllc_limiter(W,dx,'x')\n",
    "    hllc_fluxes_g,m_speed_g = compute_flux_hllc_limiter(W,dx,'y')\n",
    "    \n",
    "    M_speed = max(m_speed_f,m_speed_g)\n",
    "    \n",
    "    dt = sigma*min(dx,dy)/np.max(M_speed)/2.\n",
    "    \n",
    "    U_n_star[1:-1,1:-1,:] = U[1:-1,1:-1,:] + dt/dx*(hllc_fluxes_f[:-1,1:,:] - hllc_fluxes_f[1:,1:,:]) + \\\n",
    "                       dt/dy*(hllc_fluxes_g[1:,:-1,:] - hllc_fluxes_g[1:,1:,:])\n",
    "    U_n_star[0,:,:] = U_n_star[1,:,:]\n",
    "    U_n_star[-1,:,:] = U_n_star[-2,:,:]\n",
    "    \n",
    "    U_n_star[:,0,:] = U_n_star[:,1,:]\n",
    "    U_n_star[:,-1,:] = U_n_star[:,-2,:]    \n",
    "    \n",
    "    W_star = U_to_W(U_n_star.T).T\n",
    "    \n",
    "    hllc_fluxes_f,m_speed_f = compute_flux_hllc_limiter(W_star,dx,'x')\n",
    "    hllc_fluxes_g,m_speed_g = compute_flux_hllc_limiter(W_star,dx,'y')\n",
    "    \n",
    "    U_n[1:-1,1:-1,:] = 0.5 * U[1:-1,1:-1,:] + 0.5 * (U_n_star[1:-1,1:-1,:] + \n",
    "                       dt/dx*(hllc_fluxes_f[:-1,1:,:] - hllc_fluxes_f[1:,1:,:]) + \\\n",
    "                       dt/dy*(hllc_fluxes_g[1:,:-1,:] - hllc_fluxes_g[1:,1:,:]))\n",
    "    print('t=',t_)\n",
    "    U_n[0,:,:] = U_n[1,:,:]\n",
    "    U_n[-1,:,:] = U_n[-2,:,:]\n",
    "    \n",
    "    U_n[:,0,:] = U_n[:,1,:]\n",
    "    U_n[:,-1,:] = U_n[:,-2,:]\n",
    "    \n",
    "    W = U_to_W(U_n.T).T\n",
    "    \n",
    "    #fig = pyplot.figure(figsize=(11,7), dpi=100)\n",
    "    #pyplot.contourf(X, Y, W[:,:,-1], alpha=0.5, extend='both', levels=np.linspace(0,1))\n",
    "    #pyplot.colorbar()\n",
    "    #pyplot.quiver(X,Y, W[:,:,1], W[:,:,2])\n",
    "    #pyplot.xlabel('X')\n",
    "    #pyplot.ylabel('Y')\n",
    "    #pyplot.show()\n",
    "\n",
    "    t_ = t_+dt"
   ]
  },
  {
   "cell_type": "code",
   "execution_count": 123,
   "id": "12eba8bc",
   "metadata": {},
   "outputs": [
    {
     "data": {
      "image/png": "[encoded data removed]",
      "text/plain": [
       "<Figure size 1100x700 with 2 Axes>"
      ]
     },
     "metadata": {
      "needs_background": "light"
     },
     "output_type": "display_data"
    }
   ],
   "source": [
    "fig = pyplot.figure(figsize=(11,7), dpi=100)\n",
    "pyplot.contourf(X, Y, W[:,:,-1], alpha=1., extend='both', levels=np.linspace(0.,1.,32),cmap='jet')\n",
    "pyplot.colorbar()\n",
    "#pyplot.quiver(X,Y, W[:,:,1], W[:,:,2])\n",
    "pyplot.xlabel('X')\n",
    "pyplot.ylabel('Y');\n",
    "#pyplot.savefig('2d_hllc_2nd_order_101_02s.png', bbox_inchces = 'tight')"
   ]
  },
  {
   "cell_type": "code",
   "execution_count": null,
   "id": "107e1faa",
   "metadata": {},
   "outputs": [],
   "source": []
  }
 ],
 "metadata": {
  "kernelspec": {
   "display_name": "Python 3 (ipykernel)",
   "language": "python",
   "name": "python3"
  },
  "language_info": {
   "codemirror_mode": {
    "name": "ipython",
    "version": 3
   },
   "file_extension": ".py",
   "mimetype": "text/x-python",
   "name": "python",
   "nbconvert_exporter": "python",
   "pygments_lexer": "ipython3",
   "version": "3.10.1"
  }
 },
 "nbformat": 4,
 "nbformat_minor": 5
}
