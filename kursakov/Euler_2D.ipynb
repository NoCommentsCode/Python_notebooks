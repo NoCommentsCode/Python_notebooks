{
 "cells": [
  {
   "cell_type": "code",
   "execution_count": null,
   "id": "d6c6dded",
   "metadata": {},
   "outputs": [],
   "source": [
    "\"\"\"\n",
    "dx = dy  = h\n",
    "du/dt + dF/dx + dG/dy = 0\n",
    "(U[n+1] - U[n])/dt + (F[i+0.5] - F[i-0.5])/h + (G[j+0.5] - G[j-0.5])/h = 0\n",
    "\"\"\""
   ]
  },
  {
   "cell_type": "code",
   "execution_count": 2,
   "id": "9a1ad4be",
   "metadata": {},
   "outputs": [],
   "source": [
    "%matplotlib inline\n",
    "import matplotlib\n",
    "from matplotlib import pyplot \n",
    "import numpy as np\n",
    "from matplotlib import rcParams\n",
    "rcParams['font.family'] = 'serif'\n",
    "rcParams['font.size'] = 16"
   ]
  },
  {
   "cell_type": "code",
   "execution_count": 3,
   "id": "c0bbbde2",
   "metadata": {},
   "outputs": [],
   "source": [
    "gamma = 1.4     #Гамма, она же каппа\n",
    "#Различные формулы из гаммы\n",
    "g_m_1_over_2g = (gamma-1)/2/gamma      #g1\n",
    "g_p_1_over_2g = (gamma+1)/2/gamma      #g2\n",
    "g_m_1_over_2g_inv = 1/g_m_1_over_2g    #g3\n",
    "g_m_1_over_2_inv = 2/(gamma-1)         #g4\n",
    "g_p_1_over_2_inv = 2/(gamma+1)         #g5\n",
    "g_m_1_over_g_p_1 = (gamma-1)/(gamma+1) #g6\n",
    "g_m_1_over_2 = (gamma-1)/2             #g7\n",
    "g_m_1 = gamma-1  \n",
    "\n",
    "tol = 1e-8"
   ]
  },
  {
   "cell_type": "code",
   "execution_count": 4,
   "id": "ab3e789f",
   "metadata": {},
   "outputs": [],
   "source": [
    "def sound_speed(d,p):\n",
    "    return (gamma*(p/d))**0.5"
   ]
  },
  {
   "cell_type": "code",
   "execution_count": 7,
   "id": "c798933b",
   "metadata": {},
   "outputs": [],
   "source": [
    "def U_to_W(U):\n",
    "    W = np.zeros_like(U)\n",
    "    W[0] = U[0]\n",
    "    W[1] = U[1]/U[0]\n",
    "    W[2] = U[2]/U[0]\n",
    "    W[3] = g_m_1*(U[3] - 0.5 * (U[1]**2 + U[2]**2)/U[0])\n",
    "    return W"
   ]
  },
  {
   "cell_type": "code",
   "execution_count": 8,
   "id": "64a9ca4a",
   "metadata": {},
   "outputs": [],
   "source": [
    "def W_to_U(W):\n",
    "    U = np.zeros_like(W)\n",
    "    U[0] = W[0]\n",
    "    U[1] = W[1] * W[0]\n",
    "    U[2] = W[1] * W[0]\n",
    "    U[3] = 0.5 * (W[1]**2 + W[2]**2) * W[0] + W[3] / g_m_1\n",
    "    return U"
   ]
  },
  {
   "cell_type": "code",
   "execution_count": 11,
   "id": "e7bcb03d",
   "metadata": {},
   "outputs": [],
   "source": [
    "def flux(W, axis): # axis == label\n",
    "    F = np.zeros_like(W)\n",
    "    E = 0.5 * (W[1]**2 + W[2]**2) * W[0] + W[3] / g_m_1\n",
    "    if axis == 'x':\n",
    "        F[0] = W[1]*W[0]\n",
    "        F[1] = W[1]**2 * W[0] + W[3]\n",
    "        F[2] = W[0] * W[1] * W[2] \n",
    "        F[3] = W[1] * (E + W[3])\n",
    "    elif axis == 'y':\n",
    "        F[0] = W[2]*W[0]\n",
    "        F[1] = W[0] * W[1] * W[2] \n",
    "        F[2] = W[2]**2 * W[0] + W[3]\n",
    "        F[3] = W[2] * (E + W[3])\n",
    "    else:\n",
    "        assert 1 == 0, 'Unknown label!'\n",
    "    return F"
   ]
  },
  {
   "cell_type": "code",
   "execution_count": null,
   "id": "437b68db",
   "metadata": {},
   "outputs": [],
   "source": []
  }
 ],
 "metadata": {
  "kernelspec": {
   "display_name": "Python 3 (ipykernel)",
   "language": "python",
   "name": "python3"
  },
  "language_info": {
   "codemirror_mode": {
    "name": "ipython",
    "version": 3
   },
   "file_extension": ".py",
   "mimetype": "text/x-python",
   "name": "python",
   "nbconvert_exporter": "python",
   "pygments_lexer": "ipython3",
   "version": "3.10.1"
  }
 },
 "nbformat": 4,
 "nbformat_minor": 5
}
