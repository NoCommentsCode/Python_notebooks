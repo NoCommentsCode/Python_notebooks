{
 "cells": [
  {
   "cell_type": "code",
   "execution_count": 1,
   "metadata": {},
   "outputs": [],
   "source": [
    "import numpy as np\n",
    "from matplotlib import pyplot as plt\n",
    "from tqdm import trange\n",
    "from math import erf"
   ]
  },
  {
   "cell_type": "markdown",
   "metadata": {},
   "source": [
    "$\\frac{\\partial U}{\\partial t} = a^2\\frac{\\partial^2 U}{\\partial x^2}$"
   ]
  },
  {
   "cell_type": "code",
   "execution_count": 2,
   "metadata": {},
   "outputs": [],
   "source": [
    "# second derivatives\n",
    "def second_deriv_2(U, h):\n",
    "    return (U[:-2] - 2. * U[1:-1] + U[2:]) / h ** 2, 1, -1\n",
    "def second_deriv_4(U, h):\n",
    "    return (U[:-6] / 90. + U[6:] / 90. - 3. * U[1:-5] / 20. - 3. * U[5:-1] / 20 + 3. / 2. * U[2:-4] + 3. / 2. * U[4:-2] - 49. / 18. * U[3:-3]) / h ** 2, 3, -3"
   ]
  },
  {
   "cell_type": "code",
   "execution_count": 3,
   "metadata": {},
   "outputs": [],
   "source": [
    "# time derivatives\n",
    "def runge_kutta_4(U, h, c, r, Deriv):\n",
    "    dt = r * h ** 2\n",
    "    k1 = np.zeros_like(U)\n",
    "    k2 = np.zeros_like(U)\n",
    "    k3 = np.zeros_like(U)\n",
    "    k4 = np.zeros_like(U)\n",
    "    temp1, idx_l, idx_r = Deriv(U, h)\n",
    "    k1[idx_l:idx_r] = temp1\n",
    "    temp2, idx_l, idx_r = Deriv(U + c * dt * k1 / 2., h)\n",
    "    k2[idx_l:idx_r] = temp2\n",
    "    temp3, idx_l, idx_r = Deriv(U + c * dt * k2 / 2., h)\n",
    "    k3[idx_l:idx_r] = temp3\n",
    "    temp4, idx_l, idx_r = Deriv(U + c * dt * k3, h)\n",
    "    k4[idx_l:idx_r] = temp4\n",
    "    return U + c * dt * k1 / 6. + c * dt * k2 / 3. + c * dt * k3 / 3. + c * dt * k4 / 6., dt, 0, None\n",
    "def runge_kutta_7(U, h, c, r, Deriv):\n",
    "    dt = r * h ** 2\n",
    "    k1 = np.zeros_like(U)\n",
    "    k2 = np.zeros_like(U)\n",
    "    k3 = np.zeros_like(U)\n",
    "    k4 = np.zeros_like(U)\n",
    "    k5 = np.zeros_like(U)\n",
    "    k6 = np.zeros_like(U)\n",
    "    k7 = np.zeros_like(U)\n",
    "    k8 = np.zeros_like(U)\n",
    "    k9 = np.zeros_like(U)\n",
    "    temp1, idx_l, idx_r = Deriv(U, h)\n",
    "    k1[idx_l:idx_r] = temp1\n",
    "    temp2, idx_l, idx_r = Deriv(U + c * dt * k1  / 6.0, h)\n",
    "    k2[idx_l:idx_r] = temp2\n",
    "    temp3, idx_l, idx_r = Deriv(U + c * dt * k2  / 3.0, h)\n",
    "    k3[idx_l:idx_r] = temp3\n",
    "    temp4, idx_l, idx_r = Deriv(U + c * dt * k1  / 8.0 + c * dt * k3 * 3.0  / 8.0, h)\n",
    "    k4[idx_l:idx_r] = temp4\n",
    "    temp5, idx_l, idx_r = Deriv(U + c * dt * k1 * 148.0  / 1331.0 + c * dt * k3 * 150.0  / 1331.0 - c * dt * k4 * 56.0  / 1331.0, h)\n",
    "    k5[idx_l:idx_r] = temp5\n",
    "    temp6, idx_l, idx_r = Deriv(U - c * dt * k1 * 404.0  / 243.0 - c * dt * k3 * 170.0  / 27.0 + c * dt * k4 * 4024.0  / 1701.0 + c * dt * k5 * 10648.0  / 1701.0, h)\n",
    "    k6[idx_l:idx_r] = temp6\n",
    "    temp7, idx_l, idx_r = Deriv(U + c * dt * k1 * 2466.0  / 2401.0 + c * dt * k3 * 1242.0  / 343.0 - c * dt * k4 * 19176.0  / 16807.0 - c * dt * k5 * 51909.0  / 16807.0 + c * dt * k6 * 1053.0  / 2401.0, h)\n",
    "    k7[idx_l:idx_r] = temp7\n",
    "    temp8, idx_l, idx_r = Deriv(U + c * dt * k1 * 5.0  / 154.0 + c * dt * k4 * 96.0  / 539.0 - c * dt * k5 * 1815.0  / 20384.0 - c * dt * k6 * 405.0  / 2464.0 + c * dt * k7 * 49.0  / 1144.0, h)\n",
    "    k8[idx_l:idx_r] = temp8\n",
    "    temp9, idx_l, idx_r = Deriv(U - c * dt * k1 * 113.0  / 32.0 - c * dt * k3 * 195.0  / 22.0 + c * dt * k4 * 32.0  / 7.0 + c * dt * k5 * 29403.0  / 3584.0 - c * dt * k6 * 729.0  / 512.0 + c * dt * k7 * 1029.0  / 1408.0 + c * dt * k8 * 21.0  / 16.0, h)\n",
    "    k9[idx_l:idx_r] = temp9\n",
    "    return U + c * dt * k4 * 32.0  / 105.0 + c * dt * k5 * 1771561.0  / 6289920.0 + c * dt * k6 * 243.0  / 2560.0 + c * dt * k7 * 16807.0  / 74880.0 + c * dt * k8 * 77.0  / 1440.0 + c * dt * k9 * 11.0  / 270.0, dt, 0, None"
   ]
  },
  {
   "cell_type": "code",
   "execution_count": 4,
   "metadata": {},
   "outputs": [],
   "source": [
    "# exact solution\n",
    "def exact(U_init, a, T, L):\n",
    "    Nx = U_init.size\n",
    "    U = np.zeros(3 * Nx)\n",
    "    U[Nx : 2 * Nx] = U_init.copy()\n",
    "    U[:Nx] = U[Nx]\n",
    "    U[2 * Nx:] = U[2 * Nx - 1]\n",
    "    h = L / Nx\n",
    "    Integral = 0.\n",
    "    x = np.linspace(-L, 2 * L, 3 * Nx)\n",
    "    def f(i):\n",
    "        if int(i) != i:\n",
    "            d = i - int(i)\n",
    "            xi = x[int(i)] * (1 - d) + x[int(i) + 1] * d\n",
    "            Ui = U[int(i)] * (1 - d) + U[int(i) + 1] * d\n",
    "        else:\n",
    "            xi = x[i]\n",
    "            Ui = U[i]\n",
    "        return np.exp(-(x - xi) ** 2 / (4. * a ** 2 * T)) * Ui\n",
    "    for i in range(3 * Nx - 1):\n",
    "        #Integral += (f(i + 0.5 - 0.5 / np.sqrt(3.)) + f(i + 0.5 + 0.5 / np.sqrt(3.))) * h / 2. # gauss\n",
    "        Integral += (f(i) + 4. * f(i + 0.5) + f(i + 1)) * h / 6. # simpson\n",
    "        #Integral += (f(i) + f(i + 1)) * h / 2. # trapecia\n",
    "    Integral /= (2. * a * np.sqrt(np.pi * T))\n",
    "    return Integral[Nx : 2 * Nx]"
   ]
  },
  {
   "cell_type": "code",
   "execution_count": 5,
   "metadata": {},
   "outputs": [],
   "source": [
    "# initial functions\n",
    "def init_as_gauss(a, L, T, Nx):\n",
    "    x = np.linspace(0, L, Nx)\n",
    "    U = np.exp(-(x - L / 2.) ** 2 / 1000)\n",
    "    return U, exact(U, a, T, L)\n",
    "def init_as_sin(a, L, T, Nx):\n",
    "    x = np.linspace(0, L, Nx)\n",
    "    U = np.sin((x - L / 2.) / L * 4 * np.pi)\n",
    "    return U, exact(U, a, T, L)\n",
    "def init_as_tanh(a, L, T, Nx):\n",
    "    x = np.linspace(0, L, Nx)\n",
    "    U = -np.tanh((x - L / 2.) / 50)\n",
    "    return U, exact(U, a, T, L)\n",
    "def init_as_sign(a, L, T, Nx):\n",
    "    U = np.zeros(Nx)\n",
    "    U[:Nx // 2] = 1\n",
    "    x = np.linspace(0, L, Nx)\n",
    "    def _erf(x):\n",
    "        return np.array([erf(i) for i in x])\n",
    "    U_ex = 0.5 * (_erf((L - 2. * x) / (4. * a * np.sqrt(T))) + _erf((L + 2. * x) / (4. * a * np.sqrt(T))))\n",
    "    return U, U_ex\n",
    "    #return U, exact(U, a, T, L)"
   ]
  },
  {
   "cell_type": "code",
   "execution_count": 6,
   "metadata": {},
   "outputs": [],
   "source": [
    "class ConvectionSolver:\n",
    "    def __init__(self, L, h, c, r, T, init_function):\n",
    "        self.h = h\n",
    "        self.Nx = int(L / h)\n",
    "        self.L = L\n",
    "        self.c = c\n",
    "        self.r = r\n",
    "        self.T = T\n",
    "        self.U_init, self.U_ex = init_function(np.sqrt(c), L, T, self.Nx)\n",
    "        self.U = self.U_init.copy()\n",
    "    def solve(self, deriv_t, deriv_x):\n",
    "        temp, dt, idx_l, idx_r = deriv_t(self.U, self.h, self.c, self.r, deriv_x)\n",
    "        self.U[idx_l : idx_r] = temp\n",
    "        Nt = int(self.T / dt)\n",
    "        for i in trange(Nt):\n",
    "            if i == 0: continue\n",
    "            temp, dt, idx_l, idx_r = deriv_t(self.U, self.h, self.c, self.r, deriv_x)\n",
    "            self.U[idx_l : idx_r] = temp\n",
    "        return self.U\n",
    "    def error(self):\n",
    "        return np.sqrt(np.sum((self.U - self.U_ex) ** 2 * self.h))\n",
    "    def draw(self):\n",
    "        x = np.linspace(0, self.L, self.Nx)\n",
    "        plt.plot(x, self.U, label = '(numerical) T = ' + str(self.T));\n",
    "        plt.plot(x, self.U_ex, '--', label = '(analitical) T = ' + str(self.T));\n",
    "        plt.plot(x, self.U_init, '--', label = 'T = 0');\n",
    "        plt.xlabel('x')\n",
    "        plt.ylabel('y')\n",
    "        plt.grid()\n",
    "        plt.legend()\n"
   ]
  },
  {
   "cell_type": "code",
   "execution_count": 7,
   "metadata": {},
   "outputs": [],
   "source": [
    "def least_squares_linear(x, y):\n",
    "    # y = a * x + b\n",
    "    n = x.size\n",
    "    sx2 = np.sum(x ** 2)\n",
    "    sx = np.sum(x)\n",
    "    sy = np.sum(y)\n",
    "    sxy = np.sum(x * y)\n",
    "    d = n * sx2 - sx * sx\n",
    "    da = n * sxy - sx * sy\n",
    "    db = sx2 * sy - sx * sxy\n",
    "    return da / d, db / d"
   ]
  },
  {
   "cell_type": "code",
   "execution_count": 30,
   "metadata": {},
   "outputs": [],
   "source": [
    "def make_error_packs(H, c, L, r, deriv_t, deriv_x, init_funct, T = 1000.):\n",
    "    N = len(H)\n",
    "    errs = np.zeros(N)\n",
    "    solutions = []\n",
    "    for i, h in enumerate(H):\n",
    "        solver = ConvectionSolver(L, h, c, r, T, init_funct)\n",
    "        u = solver.solve(deriv_t, deriv_x)\n",
    "        solutions.append(u)\n",
    "        errs[i] = solver.error()\n",
    "    return errs, solutions"
   ]
  },
  {
   "cell_type": "code",
   "execution_count": 9,
   "metadata": {},
   "outputs": [],
   "source": [
    "def plot_errors(H, err):\n",
    "    plt.figure(figsize = (10, 10))\n",
    "    plt.grid()\n",
    "    plt.title('Errors')\n",
    "    plt.xlabel('ln(h)')\n",
    "    plt.ylabel('ln(err)')\n",
    "    a, b = least_squares_linear(np.log(H), np.log(err))\n",
    "    plt.scatter(np.log(H), np.log(err), label = 'order = ' + str(a));\n",
    "    plt.plot(np.log(H), a * np.log(H) + b, '--', color = 'black')\n",
    "    plt.legend()"
   ]
  },
  {
   "cell_type": "code",
   "execution_count": 25,
   "metadata": {},
   "outputs": [],
   "source": [
    "L = 1000.\n",
    "H = [0.25, .125, 0.0625]\n",
    "h = 1.\n",
    "a2 = .4\n",
    "r = 1.\n",
    "T = 1000"
   ]
  },
  {
   "cell_type": "code",
   "execution_count": 31,
   "metadata": {},
   "outputs": [
    {
     "name": "stderr",
     "output_type": "stream",
     "text": [
      "100%|██████████| 16000/16000 [00:01<00:00, 11803.00it/s]\n",
      "100%|██████████| 64000/64000 [00:08<00:00, 7936.44it/s]\n",
      "100%|██████████| 256000/256000 [00:57<00:00, 4441.96it/s]\n"
     ]
    }
   ],
   "source": [
    "errs, solutions = make_error_packs(H, a2, L, r, runge_kutta_4, second_deriv_2, init_as_gauss, T)"
   ]
  },
  {
   "cell_type": "code",
   "execution_count": 36,
   "metadata": {},
   "outputs": [
    {
     "name": "stdout",
     "output_type": "stream",
     "text": [
      "[3.37153009e-04 1.68562214e-04 8.43466314e-05]\n",
      "-1.000680926634994\n"
     ]
    },
    {
     "data": {
      "image/png": "[encoded data removed]",
      "text/plain": [
       "<Figure size 720x720 with 1 Axes>"
      ]
     },
     "metadata": {
      "needs_background": "light"
     },
     "output_type": "display_data"
    }
   ],
   "source": [
    "plot_errors(H, errs)\n",
    "print(errs)\n",
    "\n",
    "n = np.log(np.max(solutions[2][::4] - solutions[1][::2]) / np.max(solutions[1][::2] - solutions[0])) / np.log(2)\n",
    "print(n)"
   ]
  },
  {
   "cell_type": "code",
   "execution_count": null,
   "metadata": {},
   "outputs": [],
   "source": []
  }
 ],
 "metadata": {
  "interpreter": {
   "hash": "d6dea22c7ded492420265be4ebcc3197ea0b6febfe0e3742e811a049b88a6492"
  },
  "kernelspec": {
   "display_name": "Python 3.10.1 64-bit",
   "language": "python",
   "name": "python3"
  },
  "language_info": {
   "codemirror_mode": {
    "name": "ipython",
    "version": 3
   },
   "file_extension": ".py",
   "mimetype": "text/x-python",
   "name": "python",
   "nbconvert_exporter": "python",
   "pygments_lexer": "ipython3",
   "version": "3.10.1"
  },
  "orig_nbformat": 4
 },
 "nbformat": 4,
 "nbformat_minor": 2
}
