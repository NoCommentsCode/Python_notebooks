{
 "cells": [
  {
   "cell_type": "code",
   "execution_count": 1,
   "metadata": {},
   "outputs": [],
   "source": [
    "import math as mt\n",
    "import numpy as np\n",
    "import matplotlib.pyplot as plt\n",
    "import sympy as sp"
   ]
  },
  {
   "cell_type": "code",
   "execution_count": 2,
   "metadata": {},
   "outputs": [],
   "source": [
    "def divided_differences_fast(X, Y):\n",
    "    div_diff = np.zeros((len(X), len(X) + 1))\n",
    "    div_diff[:, 0] = X\n",
    "    div_diff[:, 1] = Y\n",
    "    div_diff[:-1, 2] = (div_diff[1:, 1] - div_diff[:-1, 1])\n",
    "    for i in range(3, len(X) + 1):\n",
    "        div_diff[:1 - i, i] = (div_diff[1:2 - i, i - 1] - div_diff[:1 - i, i - 1])/(div_diff[i - 1:, 0] - div_diff[:1 - i, 0])\n",
    "    return div_diff"
   ]
  },
  {
   "cell_type": "code",
   "execution_count": 3,
   "metadata": {},
   "outputs": [],
   "source": [
    "def divided_differences(X, Y):\n",
    "    div_diff = np.zeros((X.size, X.size + 1))\n",
    "    div_diff[:, 0] = X\n",
    "    div_diff[:, 1] = Y\n",
    "    for i in range(2, X.size + 1):\n",
    "        for j in range(0, X.size - i + 1):\n",
    "            div_diff[j][i] = (div_diff[j + 1][i - 1] - div_diff[j][i - 1])/(div_diff[j + i - 1][0] - div_diff[j][0])       \n",
    "    return div_diff"
   ]
  },
  {
   "cell_type": "code",
   "execution_count": 4,
   "metadata": {},
   "outputs": [],
   "source": [
    "def newthon_polynomus(X, Y):\n",
    "    div_diff = divided_differences_fast(X, Y)\n",
    "    def newthon(x):\n",
    "        ret_val = 0\n",
    "        for i in range(1, X.size + 1):\n",
    "            dy = div_diff[0][i]\n",
    "            for j in range(1, i):\n",
    "                dy *= (x - X[j - 1])\n",
    "            ret_val += dy\n",
    "        return ret_val\n",
    "    return newthon"
   ]
  },
  {
   "cell_type": "code",
   "execution_count": 5,
   "metadata": {},
   "outputs": [],
   "source": [
    "def lagrange(X, Y):\n",
    "    def ret_fun(x):\n",
    "        ret_val = 0\n",
    "        for j in range(len(X)):\n",
    "            yj = Y[j]\n",
    "            for i in range(len(X)):\n",
    "                if i != j:\n",
    "                    yj *= (x-X[i])/(X[j] - X[i])\n",
    "            ret_val += yj\n",
    "        return ret_val\n",
    "    return ret_fun"
   ]
  },
  {
   "cell_type": "code",
   "execution_count": 6,
   "metadata": {},
   "outputs": [],
   "source": [
    "def lagrange_sym(X, Y):\n",
    "    x = sp.symbols('x')\n",
    "    f = 0\n",
    "    for j in range(len(X)):\n",
    "        yj = Y[j]\n",
    "        for i in range(len(X)):\n",
    "            if i != j:\n",
    "                yj *= (x - X[i]) / (X[j] - X[i])\n",
    "        f += yj\n",
    "    return f"
   ]
  },
  {
   "cell_type": "code",
   "execution_count": 7,
   "metadata": {},
   "outputs": [],
   "source": [
    "def chebyshev_polynomuses_sym(n):\n",
    "    x = sp.symbols('x')\n",
    "    T = []\n",
    "    T0 = 1 + 0 * x\n",
    "    T1 = x\n",
    "    T.append(T0)\n",
    "    T.append(T1)\n",
    "    for i in range(2, n):\n",
    "        Ti = 2 * x * T[i - 1] - T[i - 2]\n",
    "        T.append(sp.simplify(Ti))\n",
    "    return T"
   ]
  },
  {
   "cell_type": "code",
   "execution_count": 8,
   "metadata": {},
   "outputs": [],
   "source": [
    "def chebyshev_roots(n, a = -1, b = 1):\n",
    "    R = []\n",
    "    for i in range(n):\n",
    "        R.append((a + b) / 2 + (b - a) * np.cos(np.pi * (2 * i + 1)/(2 * n)) / 2)\n",
    "    return R"
   ]
  },
  {
   "cell_type": "code",
   "execution_count": 9,
   "metadata": {},
   "outputs": [],
   "source": [
    "def chebyshev_interpolation_sym(X, Y, n):\n",
    "    x = sp.symbols('x')\n",
    "    T = chebyshev_polynomuses_sym(n + 1)\n",
    "    f = 0\n",
    "    T[0] *= 2. ** (-0.5)\n",
    "    for j in range(len(X)):\n",
    "        aj = 0\n",
    "        for i in range(len(X)):\n",
    "            aj += Y[i] * T[j].subs(x, X[i])\n",
    "        aj *= 2 / (n + 1)\n",
    "        f += aj * T[j]\n",
    "    return sp.simplify(f)\n",
    "\n",
    "def chebyshev_interpolation(X, Y, n):\n",
    "    C = chebyshev_interpolation_sym(X, Y, n)\n",
    "    def ret_fun(x):\n",
    "        return C.subs(sp.symbols('x'), x)\n",
    "    return ret_fun"
   ]
  },
  {
   "cell_type": "code",
   "execution_count": 10,
   "metadata": {},
   "outputs": [],
   "source": [
    "def runge_kutta_4(funct, y0, x_from, x_to, step):\n",
    "    N = int((x_to - x_from) / step)\n",
    "    y = np.zeros(N)\n",
    "    y[0] = y0\n",
    "    for n in range(0, N - 1):\n",
    "        xn = step * n\n",
    "        k1 = funct(xn, y[n])\n",
    "        k2 = funct(xn + step / 2, y[n] + k1 / 2)\n",
    "        k3 = funct(xn + step / 2, y[n] + k2 / 2)\n",
    "        k4 = funct(xn + step, y[n] + k3)\n",
    "        y[n + 1] = y[n] + step / 6 * (k1 + 2 * k2 + 2 * k3 + k4)\n",
    "    return y"
   ]
  },
  {
   "cell_type": "code",
   "execution_count": 64,
   "metadata": {},
   "outputs": [
    {
     "data": {
      "image/png": "[encoded data removed]",
      "text/plain": [
       "<Figure size 432x288 with 1 Axes>"
      ]
     },
     "metadata": {
      "needs_background": "light"
     },
     "output_type": "display_data"
    }
   ],
   "source": [
    "t = np.array([1, 1.5, 2, 2.5, 3, 3.5, 4, 4.5, 5])\n",
    "T = np.array([37.3, 37.58, 37.86, 38.21, 38.7, 39.26, 40.17, 40.17, 40.17])\n",
    "\n",
    "N = newthon_polynomus(t, T)\n",
    "x = np.linspace(1, 5, num = 4000)\n",
    "y = np.zeros(4000)\n",
    "\n",
    "for i in range(4000):\n",
    "    y[i] = N(x[i])\n",
    "    \n",
    "plt.plot(x, y);"
   ]
  },
  {
   "cell_type": "code",
   "execution_count": 65,
   "metadata": {},
   "outputs": [],
   "source": [
    "def deriv(x, y):\n",
    "    return (y[1:] - y[:-1])/(x[1:] - x[:-1])"
   ]
  },
  {
   "cell_type": "code",
   "execution_count": 66,
   "metadata": {},
   "outputs": [
    {
     "data": {
      "image/png": "[encoded data removed]",
      "text/plain": [
       "<Figure size 432x288 with 1 Axes>"
      ]
     },
     "metadata": {
      "needs_background": "light"
     },
     "output_type": "display_data"
    }
   ],
   "source": [
    "dN = deriv(x, y)\n",
    "plt.plot(x[:-1], dN);"
   ]
  },
  {
   "cell_type": "code",
   "execution_count": 67,
   "metadata": {},
   "outputs": [
    {
     "name": "stdout",
     "output_type": "stream",
     "text": [
      "t =  3.8197049262315583\n",
      "T =  38.56586233351929\n"
     ]
    }
   ],
   "source": [
    "t_0 = np.argmax(dN[:3200])\n",
    "print(\"t = \", x[t_0])\n",
    "print(\"T = \", y[t_0])"
   ]
  },
  {
   "cell_type": "code",
   "execution_count": null,
   "metadata": {},
   "outputs": [],
   "source": []
  }
 ],
 "metadata": {
  "kernelspec": {
   "display_name": "Python 3",
   "language": "python",
   "name": "python3"
  },
  "language_info": {
   "codemirror_mode": {
    "name": "ipython",
    "version": 3
   },
   "file_extension": ".py",
   "mimetype": "text/x-python",
   "name": "python",
   "nbconvert_exporter": "python",
   "pygments_lexer": "ipython3",
   "version": "3.9.0"
  }
 },
 "nbformat": 4,
 "nbformat_minor": 4
}
