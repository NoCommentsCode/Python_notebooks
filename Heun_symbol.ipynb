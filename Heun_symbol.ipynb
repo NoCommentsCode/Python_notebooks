{
 "cells": [
  {
   "cell_type": "code",
   "execution_count": 1,
   "metadata": {},
   "outputs": [],
   "source": [
    "import sympy as sp"
   ]
  },
  {
   "cell_type": "code",
   "execution_count": 26,
   "metadata": {},
   "outputs": [],
   "source": [
    "t, h = sp.symbols('t h')\n",
    "U = sp.symbols('Up0 Up1 Up2 Up3 Up4 Up5 Up6 Um6 Um5 Um4 Um3 Um2 Um1')\n",
    "#print(U[2] + U[-3])"
   ]
  },
  {
   "cell_type": "code",
   "execution_count": 55,
   "metadata": {},
   "outputs": [
    {
     "name": "stdout",
     "output_type": "stream",
     "text": [
      "0 1 - 65*t**2/(324*h**2)\n",
      "1 2*t*(-18*h + t)/(81*h**2)\n",
      "2 t*(9*h + 16*t)/(162*h**2)\n",
      "3 -2*t**2/(81*h**2)\n",
      "4 t**2/(648*h**2)\n",
      "-1 2*t*(18*h + t)/(81*h**2)\n",
      "-2 t*(-9*h + 16*t)/(162*h**2)\n",
      "-3 -2*t**2/(81*h**2)\n",
      "-4 t**2/(648*h**2)\n"
     ]
    }
   ],
   "source": [
    "U_star = U[0] - t / (36 * h) * (U[-2] - U[2] + 8 * (U[1] - U[-1]))\n",
    "U_star_star = U[0] - 2 * t / (36 * h) * (\\\n",
    "    (U[-2] - t / (36 * h) * (U[-4] - U[0] + 8 * (U[-1] - U[-3]))) -\\\n",
    "    (U[2] - t / (36 * h) * (U[0] - U[4] + 8 * (U[3] - U[1]))) + 8 * (\n",
    "    (U[1] - t / (36 * h) * (U[-1] - U[3] + 8 * (U[2] - U[0]))) -\\\n",
    "    (U[-1] - t / (36 * h) * (U[-3] - U[1] + 8 * (U[0] - U[-2])))))\n",
    "print(0, U_star_star.diff(U[0]).simplify())\n",
    "print(1, U_star_star.diff(U[1]).simplify())\n",
    "print(2, U_star_star.diff(U[2]).simplify())\n",
    "print(3, U_star_star.diff(U[3]).simplify())\n",
    "print(4, U_star_star.diff(U[4]).simplify())\n",
    "#print(5, U_star_star.diff(U[5]).simplify())\n",
    "#print(6, U_star_star.diff(U[6]).simplify())\n",
    "print(-1, U_star_star.diff(U[-1]).simplify())\n",
    "print(-2, U_star_star.diff(U[-2]).simplify())\n",
    "print(-3, U_star_star.diff(U[-3]).simplify())\n",
    "print(-4, U_star_star.diff(U[-4]).simplify())\n",
    "#print(-5, U_star_star.diff(U[-5]).simplify())\n",
    "#print(-6, U_star_star.diff(U[-6]).simplify())"
   ]
  },
  {
   "cell_type": "code",
   "execution_count": 36,
   "metadata": {},
   "outputs": [],
   "source": [
    "A = 2 * t ** 2 / (36 * h) ** 2\n",
    "J = 2 * t ** 2 / (36 * h) ** 2\n",
    "\n",
    "B = -32 * t ** 2 / (36 * h) ** 2\n",
    "H = -32 * t ** 2 / (36 * h) ** 2\n",
    "\n",
    "C = -2 * t / (36 * h) * (1 - 64 * t / (36 * h))\n",
    "G = -2 * t / (36 * h) * (-1 - 64 * t / (36 * h))\n",
    "\n",
    "D = -2 * t / (36 * h) * (-8 - 16 * t / (36 * h))\n",
    "F = -2 * t / (36 * h) * (8 - 16 * t / (36 * h))\n",
    "\n",
    "E = 1 - 260 * t ** 2 / (36 * h) ** 2"
   ]
  },
  {
   "cell_type": "code",
   "execution_count": 29,
   "metadata": {},
   "outputs": [],
   "source": [
    "U_np1 = 0.25 * U[0] + 0.75 * U[0] - 0.75 * t / (36 * h) * (U[-2] - U[2] + 8 * (U[1] - U[-1])) - t / (16 * h) * \\\n",
    "    ((A * U[-6] + B * U[-5] + C * U[-4] + D * U[-3] + E * U[-2] + F * U[-1] + G * U[0] + H * U[1] + J * U[2]) - \\\n",
    "    (A * U[-2] + B * U[-1] + C * U[0] + D * U[1] + E * U[2] + F * U[3] + G * U[4] + H * U[5] + J * U[6]) + \\\n",
    "    8 * (A * U[-3] + B * U[-2] + C * U[-1] + D * U[0] + E * U[1] + F * U[2] + G * U[3] + H * U[4] + J * U[5]) -\\\n",
    "    8 * (A * U[-5] + B * U[-4] + C * U[-3] + D * U[-2] + E * U[-1] + F * U[0] + G * U[1] + H * U[2] + J * U[3]))"
   ]
  },
  {
   "cell_type": "code",
   "execution_count": 41,
   "metadata": {},
   "outputs": [],
   "source": [
    "C = [(sp.diff(U_np1, U[0]).simplify()),\n",
    "(sp.diff(U_np1, U[1]).simplify()),\n",
    "(sp.diff(U_np1, U[2]).simplify()),\n",
    "(sp.diff(U_np1, U[3]).simplify()),\n",
    "(sp.diff(U_np1, U[4]).simplify()),\n",
    "(sp.diff(U_np1, U[5]).simplify()),\n",
    "(sp.diff(U_np1, U[6]).simplify()),\n",
    "(sp.diff(U_np1, U[-6]).simplify()),\n",
    "(sp.diff(U_np1, U[-5]).simplify()),\n",
    "(sp.diff(U_np1, U[-4]).simplify()),\n",
    "(sp.diff(U_np1, U[-3]).simplify()),\n",
    "(sp.diff(U_np1, U[-2]).simplify()),\n",
    "(sp.diff(U_np1, U[-1]).simplify())]"
   ]
  },
  {
   "cell_type": "code",
   "execution_count": 50,
   "metadata": {},
   "outputs": [
    {
     "name": "stdout",
     "output_type": "stream",
     "text": [
      "1 - 65*t**2/(144*h**2)\n",
      "-0.666666666666667*t/h + 0.0555555555555556*t**2/h**2 + 0.152777777777778*t**3/h**3\n",
      "0.0833333333333333*t/h + 0.222222222222222*t**2/h**2 - 0.0373263888888889*t**3/h**3\n",
      "-t**2/(18*h**2) - 61*t**3/(1296*h**3)\n",
      "t**2/(288*h**2) + t**3/(54*h**3)\n",
      "-t**3/(432*h**3)\n",
      "t**3/(10368*h**3)\n",
      "-t**3/(10368*h**3)\n",
      "t**3/(432*h**3)\n",
      "t**2/(288*h**2) - t**3/(54*h**3)\n",
      "-t**2/(18*h**2) + 61*t**3/(1296*h**3)\n",
      "-0.0833333333333333*t/h + 0.222222222222222*t**2/h**2 + 0.0373263888888889*t**3/h**3\n",
      "0.666666666666667*t/h + 0.0555555555555556*t**2/h**2 - 0.152777777777778*t**3/h**3\n"
     ]
    }
   ],
   "source": [
    "for c in C: print(c.expand())"
   ]
  },
  {
   "cell_type": "code",
   "execution_count": 49,
   "metadata": {},
   "outputs": [
    {
     "name": "stdout",
     "output_type": "stream",
     "text": [
      "(10368*h**3*exp(21.0*I) - 4680*h*t**2*exp(21.0*I) + 24*t**3*exp(16.0*I) - t**3*exp(15.0*I) + 8*t**2*(-72*h + 61*t)*exp(18.0*I) + 12*t**2*(3*h - 16*t)*exp(17.0*I) + t*(-864.0*h**2 + 2304.0*h*t + 387.0*t**2)*exp(19.0*I) + 16.0*t*(432.0*h**2 + 36.0*h*t - 99.0*t**2)*exp(20.0*I) + t*(t**2*exp(6.0*I) - 24*t**2*exp(5.0*I) + 12*t*(3*h + 16*t)*exp(4.0*I) - 8*t*(72*h + 61*t)*exp(3.0*I) + 16.0*(-432.0*h**2 + 36.0*h*t + 99.0*t**2)*exp(1.0*I) + (864.0*h**2 + 2304.0*h*t - 387.0*t**2)*exp(2.0*I))*exp(21.0*I))*exp(-21.0*I)/(10368*h**3)\n"
     ]
    }
   ],
   "source": [
    "U_np1_complex = sum([C[i] * sp.exp(1j * i) for i in [-6, -5, -4, -3, -2, -1, 0, 1, 2, 3, 4, 5, 6]])\n",
    "print(U_np1_complex.simplify())"
   ]
  },
  {
   "cell_type": "code",
   "execution_count": 56,
   "metadata": {},
   "outputs": [],
   "source": [
    "a = sp.Symbol('a')\n",
    "r = t / h\n",
    "Re = 1 - 65 * r ** 2 / 144 + r ** 2 / 9 * sp.cos(a) + r / 6 * sp.cos(2 * a) + 4 * r ** 2 / 9 * sp.cos(a) - \\\n",
    "     r ** 2 / 9 * sp.cos(3 * a) + r ** 2 / 144 * sp.cos(4 * a)\n",
    "Im = -4 * r / 3 * sp.sin(a) + 11 * r ** 3 / 36 * sp.sin(a) - 215 * r ** 3 / 288 * sp.sin(2 * a) - \\\n",
    "     61 * r ** 3 / 648 * sp.sin(3 * a) + r ** 3 / 27 * sp.sin(4 * a) - r ** 3 / 216 * sp.sin(5 * a) + r ** 3 / 5184 * sp.sin(6 * a)"
   ]
  },
  {
   "cell_type": "code",
   "execution_count": 67,
   "metadata": {},
   "outputs": [
    {
     "name": "stdout",
     "output_type": "stream",
     "text": [
      "sqrt((1296*h**2*(144*h**2 + 24*h*t*cos(2*a) + t**2*(80*cos(a) - 16*cos(3*a) + cos(4*a) - 65))**2 + t**2*(6912*h**2*sin(a) + t**2*(-1584*sin(a) + 3870*sin(2*a) + 488*sin(3*a) - 192*sin(4*a) + 24*sin(5*a) - sin(6*a)))**2)/h**6)/5184\n"
     ]
    }
   ],
   "source": [
    "Abs = sp.sqrt((Re ** 2 + Im ** 2)).simplify()\n",
    "#a0 = sp.solve(Abs.diff(a))\n",
    "print(Abs)"
   ]
  },
  {
   "cell_type": "code",
   "execution_count": 70,
   "metadata": {},
   "outputs": [
    {
     "data": {
      "text/latex": [
       "$\\displaystyle \\frac{\\sqrt{\\frac{1296 h^{2} \\left(144 h^{2} + 24 h t \\cos{\\left(2 a \\right)} + t^{2} \\left(80 \\cos{\\left(a \\right)} - 16 \\cos{\\left(3 a \\right)} + \\cos{\\left(4 a \\right)} - 65\\right)\\right)^{2} + t^{2} \\left(6912 h^{2} \\sin{\\left(a \\right)} + t^{2} \\left(- 1584 \\sin{\\left(a \\right)} + 3870 \\sin{\\left(2 a \\right)} + 488 \\sin{\\left(3 a \\right)} - 192 \\sin{\\left(4 a \\right)} + 24 \\sin{\\left(5 a \\right)} - \\sin{\\left(6 a \\right)}\\right)\\right)^{2}}{h^{6}}}}{5184}$"
      ],
      "text/plain": [
       "sqrt((1296*h**2*(144*h**2 + 24*h*t*cos(2*a) + t**2*(80*cos(a) - 16*cos(3*a) + cos(4*a) - 65))**2 + t**2*(6912*h**2*sin(a) + t**2*(-1584*sin(a) + 3870*sin(2*a) + 488*sin(3*a) - 192*sin(4*a) + 24*sin(5*a) - sin(6*a)))**2)/h**6)/5184"
      ]
     },
     "execution_count": 70,
     "metadata": {},
     "output_type": "execute_result"
    }
   ],
   "source": [
    "Abs\n",
    "# a0 = sp.solve(Abs.diff(a), a)"
   ]
  },
  {
   "cell_type": "code",
   "execution_count": null,
   "metadata": {},
   "outputs": [],
   "source": []
  }
 ],
 "metadata": {
  "interpreter": {
   "hash": "4996eebd00a08122ec9fc35088ff6eacd9d348c9ed913d07f828c1f49e402493"
  },
  "kernelspec": {
   "display_name": "Python 3.10.1 64-bit",
   "language": "python",
   "name": "python3"
  },
  "language_info": {
   "codemirror_mode": {
    "name": "ipython",
    "version": 3
   },
   "file_extension": ".py",
   "mimetype": "text/x-python",
   "name": "python",
   "nbconvert_exporter": "python",
   "pygments_lexer": "ipython3",
   "version": "3.10.1"
  },
  "orig_nbformat": 4
 },
 "nbformat": 4,
 "nbformat_minor": 2
}
