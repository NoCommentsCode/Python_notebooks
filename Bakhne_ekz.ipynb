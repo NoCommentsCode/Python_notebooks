{
 "cells": [
  {
   "cell_type": "code",
   "execution_count": 1,
   "id": "df14a64a",
   "metadata": {},
   "outputs": [],
   "source": [
    "import numpy as np\n",
    "from matplotlib import pyplot as plt\n",
    "from tqdm import trange"
   ]
  },
  {
   "cell_type": "markdown",
   "id": "968b96ba",
   "metadata": {},
   "source": [
    "$\\frac{\\partial U}{\\partial t} + U\\frac{\\partial U}{\\partial x} = 0$"
   ]
  },
  {
   "cell_type": "code",
   "execution_count": 2,
   "id": "00dfa474",
   "metadata": {},
   "outputs": [],
   "source": [
    "def flux(U):\n",
    "    return 0.5 * U ** 2"
   ]
  },
  {
   "cell_type": "code",
   "execution_count": 29,
   "id": "ef485e26",
   "metadata": {},
   "outputs": [],
   "source": [
    "# space-derivative approximation functions\n",
    "def central_2(U, h):\n",
    "    return -U[1:-1] * (U[2:] - U[:-2]) / 2. / h, 1, -1\n",
    "def central_4(U, h):\n",
    "    return -U[2:-2] * (U[:-4] - U[4:] + 8. * (U[3:-1] - U[1:-3])) / 12. / h, 2, -2\n",
    "def central_6(U, h):\n",
    "    return -U[3:-3] * (U[6:] - U[:-6] + 9. * (U[1:-5] - U[5:-1]) + 45. * (U[4:-2] - U[2:-4])) / 60. / h, 3, -3\n",
    "def weno_5(U, h):\n",
    "    N = U.size\n",
    "    C = np.array([[1./3., 5./6., -1./6.],\n",
    "                  [-1./6., 5./6., 1./3.],\n",
    "                  [1./3., -7./6., 11./6.]])\n",
    "    C_wave = C[::-1, ::-1]\n",
    "    Ur = np.zeros((3, N))\n",
    "    Ul = np.zeros((3, N))\n",
    "    Beta = np.zeros((3, N))\n",
    "    Beta[0, :-2] = 13./12. * (U[:-2] - 2. * U[1:-1] + U[2:]) ** 2 + 1./4. * (3. * U[:-2] - 4. * U[1:-1] + U[2:]) ** 2\n",
    "    Beta[1, 1:-1] = 13./12. * (U[:-2] - 2. * U[1:-1] + U[2:]) ** 2 + 1./4. * (U[:-2] - U[2:]) ** 2\n",
    "    Beta[2, 2:] = 13./12. * (U[:-2] - 2. * U[1:-1] + U[2:]) ** 2 + 1./4. * (U[:-2] - 4. * U[1:-1] + 3. * U[2:]) ** 2\n",
    "    Beta_wave = Beta[::-1, ::-1]\n",
    "    d = np.array([0.3, 0.6, 0.1])\n",
    "    d_wave = d[::-1]\n",
    "    eps = 1e-40\n",
    "    alpha = d / (eps + Beta.T) ** 2\n",
    "    alpha_wave = d_wave / (eps + Beta_wave.T) ** 2\n",
    "    W = alpha.T / np.sum(alpha, axis = 1)\n",
    "    W_wave = alpha_wave.T / np.sum(alpha_wave, axis = 1)\n",
    "    for r in range(3):\n",
    "        right = N - 2 + r\n",
    "        Ur[r, r:right] = C[r, 0] * U[:-2] + C[r, 1] * U[1:-1] + C[r, 2] * U[2:]\n",
    "        Ul[r, r:right] = C_wave[r, 0] * U[:-2] + C_wave[r, 1] * U[1:-1] + C_wave[r, 2] * U[2:]\n",
    "    U_R = np.sum(W * Ur, axis = 0)\n",
    "    U_L = np.sum(W_wave * Ul, axis = 0)\n",
    "    U_big = np.zeros(len(U) + 1)\n",
    "    U_big[0] = U_L[0]\n",
    "    U_big[-1] = U_R[-1]\n",
    "    U_big[1:-1] = 0.5 * (U_R[:-1] + U_L[1:] + (U_R[:-1] - U_L[1:]) * np.sign(U_R[:-1] + U_L[1:]))\n",
    "    Flux = -0.5 * (U_big[1:] ** 2 - U_big[:-1] ** 2) / h\n",
    "    return Flux, 0, None\n",
    "\n",
    "def weno_m_5(U, h):\n",
    "    N = U.size\n",
    "    C = np.array([[1./3., 5./6., -1./6.],\n",
    "                  [-1./6., 5./6., 1./3.],\n",
    "                  [1./3., -7./6., 11./6.]])\n",
    "    C_wave = C[::-1, ::-1]\n",
    "    Ur = np.zeros((3, N))\n",
    "    Ul = np.zeros((3, N))\n",
    "    Beta = np.zeros((3, N))\n",
    "    Beta[0, :-2] = 13./12. * (U[:-2] - 2. * U[1:-1] + U[2:]) ** 2 + 1./4. * (3. * U[:-2] - 4. * U[1:-1] + U[2:]) ** 2\n",
    "    Beta[1, 1:-1] = 13./12. * (U[:-2] - 2. * U[1:-1] + U[2:]) ** 2 + 1./4. * (U[:-2] - U[2:]) ** 2\n",
    "    Beta[2, 2:] = 13./12. * (U[:-2] - 2. * U[1:-1] + U[2:]) ** 2 + 1./4. * (U[:-2] - 4. * U[1:-1] + 3. * U[2:]) ** 2\n",
    "    Beta_wave = Beta[::-1, ::-1]\n",
    "    d = np.array([0.3, 0.6, 0.1])\n",
    "    d_wave = d[::-1]\n",
    "    eps = 1e-40\n",
    "    alpha = d / (eps + Beta.T) ** 2\n",
    "    alpha_wave = d_wave / (eps + Beta_wave.T) ** 2\n",
    "    W = alpha.T / np.sum(alpha, axis = 1)\n",
    "    W_wave = alpha_wave.T / np.sum(alpha_wave, axis = 1) # (3, 3001)\n",
    "    alpha_m = np.zeros((N, 3))\n",
    "    alpha_m_wave = np.zeros((N, 3))\n",
    "    for k in range(3):\n",
    "        alpha_m[:, k] = W[k, :] * (d[k] + d[k] ** 2 - 3 * d[k] * W[k, :] + W[k, :] ** 2) / (d[k] ** 2 + W[k, :] * (1 - 2 * d[k]))\n",
    "        alpha_m_wave[:, k] = W_wave[k, :] * (d_wave[k] + d_wave[k] ** 2 - 3 * d_wave[k] * W_wave[k, :] + W_wave[k, :] ** 2) / (d_wave[k] ** 2 + W_wave[k, :] * (1 - 2 * d_wave[k]))\n",
    "    W_m = alpha_m.T / np.sum(alpha_m, axis = 1) # (3001, 3)\n",
    "    W_m_wave = alpha_m_wave.T / np.sum(alpha_m_wave, axis = 1)\n",
    "    for r in range(3):\n",
    "        right = N - 2 + r\n",
    "        Ur[r, r:right] = C[r, 0] * U[:-2] + C[r, 1] * U[1:-1] + C[r, 2] * U[2:]\n",
    "        Ul[r, r:right] = C_wave[r, 0] * U[:-2] + C_wave[r, 1] * U[1:-1] + C_wave[r, 2] * U[2:]\n",
    "    U_R = np.sum(W_m * Ur, axis = 0)\n",
    "    U_L = np.sum(W_m_wave * Ul, axis = 0)\n",
    "    U_big = np.zeros(len(U) + 1)\n",
    "    U_big[0] = U_L[0]\n",
    "    U_big[-1] = U_R[-1]\n",
    "    U_big[1:-1] = 0.5 * (U_R[:-1] + U_L[1:] + (U_R[:-1] - U_L[1:]) * np.sign(U_R[:-1] + U_L[1:]))\n",
    "    Flux = -0.5 * (U_big[1:] ** 2 - U_big[:-1] ** 2) / h\n",
    "    return Flux, 0, None\n",
    "def weno_z_5(U, h):\n",
    "    N = U.size\n",
    "    C = np.array([[1./3., 5./6., -1./6.],\n",
    "                  [-1./6., 5./6., 1./3.],\n",
    "                  [1./3., -7./6., 11./6.]])\n",
    "    C_wave = C[::-1, ::-1]\n",
    "    Ur = np.zeros((3, N))\n",
    "    Ul = np.zeros((3, N))\n",
    "    Beta = np.zeros((3, N))\n",
    "    Beta[0, :-2] = 13./12. * (U[:-2] - 2. * U[1:-1] + U[2:]) ** 2 + 1./4. * (3. * U[:-2] - 4. * U[1:-1] + U[2:]) ** 2\n",
    "    Beta[1, 1:-1] = 13./12. * (U[:-2] - 2. * U[1:-1] + U[2:]) ** 2 + 1./4. * (U[:-2] - U[2:]) ** 2\n",
    "    Beta[2, 2:] = 13./12. * (U[:-2] - 2. * U[1:-1] + U[2:]) ** 2 + 1./4. * (U[:-2] - 4. * U[1:-1] + 3. * U[2:]) ** 2\n",
    "    Beta_wave = Beta[::-1, ::-1]\n",
    "    eps = 1e-40\n",
    "    tau_5 = np.abs(Beta[0, :] - Beta[2, :])\n",
    "    Beta_z = np.zeros((3, N))\n",
    "    Beta_z = 1. / (1. + tau_5 / (eps + Beta))\n",
    "    Beta_z_wave = np.zeros((3, N))\n",
    "    Beta_z_wave = 1. / (1. + tau_5 / (eps + Beta_wave))\n",
    "    d = np.array([0.3, 0.6, 0.1])\n",
    "    d_wave = d[::-1]\n",
    "    alpha_z = d / (eps + Beta_z.T) ** 2\n",
    "    alpha_z_wave = d_wave / (eps + Beta_z_wave.T) ** 2\n",
    "    W_z = alpha_z.T / np.sum(alpha_z, axis = 1)\n",
    "    W_z_wave = alpha_z_wave.T / np.sum(alpha_z_wave, axis = 1) # (3, 3001)\n",
    "    for r in range(3):\n",
    "        right = N - 2 + r\n",
    "        Ur[r, r:right] = C[r, 0] * U[:-2] + C[r, 1] * U[1:-1] + C[r, 2] * U[2:]\n",
    "        Ul[r, r:right] = C_wave[r, 0] * U[:-2] + C_wave[r, 1] * U[1:-1] + C_wave[r, 2] * U[2:]\n",
    "    U_R = np.sum(W_z * Ur, axis = 0)\n",
    "    U_L = np.sum(W_z_wave * Ul, axis = 0)\n",
    "    U_big = np.zeros(len(U) + 1)\n",
    "    U_big[0] = U_L[0]\n",
    "    U_big[-1] = U_R[-1]\n",
    "    U_big[1:-1] = 0.5 * (U_R[:-1] + U_L[1:] + (U_R[:-1] - U_L[1:]) * np.sign(U_R[:-1] + U_L[1:]))\n",
    "    Flux = -0.5 * (U_big[1:] ** 2 - U_big[:-1] ** 2) / h\n",
    "    return Flux, 0, None\n",
    "def weno_zm_5(U, h):\n",
    "    N = U.size\n",
    "    C = np.array([[1./3., 5./6., -1./6.],\n",
    "                  [-1./6., 5./6., 1./3.],\n",
    "                  [1./3., -7./6., 11./6.]])\n",
    "    C_wave = C[::-1, ::-1]\n",
    "    Ur = np.zeros((3, N))\n",
    "    Ul = np.zeros((3, N))\n",
    "    Beta = np.zeros((3, N))\n",
    "    Beta[0, :-2] = 13./12. * (U[:-2] - 2. * U[1:-1] + U[2:]) ** 2 + 1./4. * (3. * U[:-2] - 4. * U[1:-1] + U[2:]) ** 2\n",
    "    Beta[1, 1:-1] = 13./12. * (U[:-2] - 2. * U[1:-1] + U[2:]) ** 2 + 1./4. * (U[:-2] - U[2:]) ** 2\n",
    "    Beta[2, 2:] = 13./12. * (U[:-2] - 2. * U[1:-1] + U[2:]) ** 2 + 1./4. * (U[:-2] - 4. * U[1:-1] + 3. * U[2:]) ** 2\n",
    "    Beta_wave = Beta[::-1, ::-1]\n",
    "    eps = 1e-40\n",
    "    tau_5 = np.abs(Beta[0, :] - Beta[2, :])\n",
    "    Beta_z = np.zeros((3, N))\n",
    "    Beta_z = 1. / (1. + tau_5 / (eps + Beta))\n",
    "    Beta_z_wave = np.zeros((3, N))\n",
    "    Beta_z_wave = 1. / (1. + tau_5 / (eps + Beta_wave))\n",
    "    d = np.array([0.3, 0.6, 0.1])\n",
    "    d_wave = d[::-1]\n",
    "    alpha_z = d / (eps + Beta_z.T) ** 2\n",
    "    alpha_z_wave = d_wave / (eps + Beta_z_wave.T) ** 2\n",
    "    W_z = alpha_z.T / np.sum(alpha_z, axis = 1)\n",
    "    W_z_wave = alpha_z_wave.T / np.sum(alpha_z_wave, axis = 1) # (3, 3001)\n",
    "    alpha_zm = np.zeros((N, 3))\n",
    "    alpha_zm_wave = np.zeros((N, 3))\n",
    "    for k in range(3):\n",
    "        alpha_zm[:, k] = W_z[k, :] * (d[k] + d[k] ** 2 - 3 * d[k] * W_z[k, :] + W_z[k, :] ** 2) / (d[k] ** 2 + W_z[k, :] * (1 - 2 * d[k]))\n",
    "        alpha_zm_wave[:, k] = W_z_wave[k, :] * (d_wave[k] + d_wave[k] ** 2 - 3 * d_wave[k] * W_z_wave[k, :] + W_z_wave[k, :] ** 2) / (d_wave[k] ** 2 + W_z_wave[k, :] * (1 - 2 * d_wave[k]))\n",
    "    W_zm = alpha_zm.T / np.sum(alpha_zm, axis = 1)\n",
    "    W_zm_wave = alpha_zm_wave.T / np.sum(alpha_zm_wave, axis = 1) # (3, 3001)\n",
    "    for r in range(3):\n",
    "        right = N - 2 + r\n",
    "        Ur[r, r:right] = C[r, 0] * U[:-2] + C[r, 1] * U[1:-1] + C[r, 2] * U[2:]\n",
    "        Ul[r, r:right] = C_wave[r, 0] * U[:-2] + C_wave[r, 1] * U[1:-1] + C_wave[r, 2] * U[2:]\n",
    "    U_R = np.sum(W_zm * Ur, axis = 0)\n",
    "    U_L = np.sum(W_zm_wave * Ul, axis = 0)\n",
    "    U_big = np.zeros(len(U) + 1)\n",
    "    U_big[0] = U_L[0]\n",
    "    U_big[-1] = U_R[-1]\n",
    "    U_big[1:-1] = 0.5 * (U_R[:-1] + U_L[1:] + (U_R[:-1] - U_L[1:]) * np.sign(U_R[:-1] + U_L[1:]))\n",
    "    Flux = -0.5 * (U_big[1:] ** 2 - U_big[:-1] ** 2) / h\n",
    "    return Flux, 0, None"
   ]
  },
  {
   "cell_type": "code",
   "execution_count": 4,
   "id": "3fa2d5f5",
   "metadata": {},
   "outputs": [],
   "source": [
    "# time-derivative approximation functions\n",
    "def runge_kutta_2(U, h, r, Deriv):\n",
    "    dt = r * h\n",
    "    k1 = np.zeros_like(U)\n",
    "    k2 = np.zeros_like(U)\n",
    "    temp1, idx_l, idx_r = Deriv(U, h)\n",
    "    k1[idx_l:idx_r] = temp1\n",
    "    temp2, idx_l, idx_r = Deriv(U + dt * k1, h)\n",
    "    k2[idx_l:idx_r] = temp2\n",
    "    return U + 0.5 * dt * (k1 + k2), dt, 0, None\n",
    "def runge_kutta_3(U, h, r, Deriv):\n",
    "    dt = r * h\n",
    "    k1 = np.zeros_like(U)\n",
    "    k2 = np.zeros_like(U)\n",
    "    k3 = np.zeros_like(U)\n",
    "    temp1, idx_l, idx_r = Deriv(U, h)\n",
    "    k1[idx_l:idx_r] = temp1\n",
    "    temp2, idx_l, idx_r = Deriv(U + dt * k1 / 3., h)\n",
    "    k2[idx_l:idx_r] = temp2\n",
    "    temp3, idx_l, idx_r = Deriv(U + 2. * dt * k2 / 3., h)\n",
    "    k3[idx_l:idx_r] = temp3\n",
    "    return U + 0.25 * dt * (k1 + 3  * k3), dt, 0, None\n",
    "def runge_kutta_4(U, h, r, Deriv):\n",
    "    dt = r * h\n",
    "    k1 = np.zeros_like(U)\n",
    "    k2 = np.zeros_like(U)\n",
    "    k3 = np.zeros_like(U)\n",
    "    k4 = np.zeros_like(U)\n",
    "    temp1, idx_l, idx_r = Deriv(U, h)\n",
    "    k1[idx_l:idx_r] = temp1\n",
    "    temp2, idx_l, idx_r = Deriv(U + dt * k1 / 2., h)\n",
    "    k2[idx_l:idx_r] = temp2\n",
    "    temp3, idx_l, idx_r = Deriv(U + dt * k2 / 2., h)\n",
    "    k3[idx_l:idx_r] = temp3\n",
    "    temp4, idx_l, idx_r = Deriv(U + dt * k3, h)\n",
    "    k4[idx_l:idx_r] = temp4\n",
    "    return U + dt * (k1 / 6. + k2 / 3. + k3 / 3. + k4 / 6.), dt, 0, None\n",
    "def runge_kutta_5(U, h, r, Deriv):\n",
    "    dt = r * h\n",
    "    k1 = np.zeros_like(U)\n",
    "    k2 = np.zeros_like(U)\n",
    "    k3 = np.zeros_like(U)\n",
    "    k4 = np.zeros_like(U)\n",
    "    k5 = np.zeros_like(U)\n",
    "    k6 = np.zeros_like(U)\n",
    "    temp1, idx_l, idx_r = Deriv(U, h)\n",
    "    k1[idx_l:idx_r] = temp1\n",
    "    temp2, idx_l, idx_r = Deriv(U + dt * k1 / 4., h)\n",
    "    k2[idx_l:idx_r] = temp2\n",
    "    temp3, idx_l, idx_r = Deriv(U + dt * (k1 / 8. + k2 / 8.), h)\n",
    "    k3[idx_l:idx_r] = temp3\n",
    "    temp4, idx_l, idx_r = Deriv(U + dt * k3 / 2., h)\n",
    "    k4[idx_l:idx_r] = temp4\n",
    "    temp5, idx_l, idx_r = Deriv(U + dt * (3. * k1 / 16. - 3. * k2 / 8. + 3. * k3 / 8. + 9. * k4 / 16.), h)\n",
    "    k5[idx_l:idx_r] = temp5\n",
    "    temp6, idx_l, idx_r = Deriv(U + dt * (- 3. * k1 / 7. + 8. * k2 / 7. + 6. * k3 / 7. - 12. * k4 / 7. + 8. * k5 / 7.), h)\n",
    "    k6[idx_l:idx_r] = temp6\n",
    "    return U + dt * (7. * k1 / 90. + 16. * k3 / 45. + 2. * k4 / 15. + 16. * k5 / 45. + 7. * k6 / 90.), dt, 0, None\n",
    "def runge_kutta_7(U, h, r, Deriv):\n",
    "    dt = r * h\n",
    "    k1 = np.zeros_like(U)\n",
    "    k2 = np.zeros_like(U)\n",
    "    k3 = np.zeros_like(U)\n",
    "    k4 = np.zeros_like(U)\n",
    "    k5 = np.zeros_like(U)\n",
    "    k6 = np.zeros_like(U)\n",
    "    k7 = np.zeros_like(U)\n",
    "    k8 = np.zeros_like(U)\n",
    "    k9 = np.zeros_like(U)\n",
    "    temp1, idx_l, idx_r = Deriv(U, h)\n",
    "    k1[idx_l:idx_r] = temp1\n",
    "    temp2, idx_l, idx_r = Deriv(U + dt * k1  / 6.0, h)\n",
    "    k2[idx_l:idx_r] = temp2\n",
    "    temp3, idx_l, idx_r = Deriv(U + dt * k2  / 3.0, h)\n",
    "    k3[idx_l:idx_r] = temp3\n",
    "    temp4, idx_l, idx_r = Deriv(U + dt * (k1  / 8.0 + k3 * 3.0  / 8.0), h)\n",
    "    k4[idx_l:idx_r] = temp4\n",
    "    temp5, idx_l, idx_r = Deriv(U + dt * (k1 * 148.0  / 1331.0 + k3 * 150.0  / 1331.0 - k4 * 56.0  / 1331.0), h)\n",
    "    k5[idx_l:idx_r] = temp5\n",
    "    temp6, idx_l, idx_r = Deriv(U + dt * (-k1 * 404.0  / 243.0 - k3 * 170.0  / 27.0 + k4 * 4024.0  / 1701.0 + k5 * 10648.0  / 1701.0), h)\n",
    "    k6[idx_l:idx_r] = temp6\n",
    "    temp7, idx_l, idx_r = Deriv(U + dt * (k1 * 2466.0  / 2401.0 + k3 * 1242.0  / 343.0 - k4 * 19176.0  / 16807.0 - k5 * 51909.0  / 16807.0 + k6 * 1053.0  / 2401.0), h)\n",
    "    k7[idx_l:idx_r] = temp7\n",
    "    temp8, idx_l, idx_r = Deriv(U + dt * (k1 * 5.0  / 154.0 + k4 * 96.0  / 539.0 - k5 * 1815.0  / 20384.0 - k6 * 405.0  / 2464.0 + k7 * 49.0  / 1144.0), h)\n",
    "    k8[idx_l:idx_r] = temp8\n",
    "    temp9, idx_l, idx_r = Deriv(U + dt * (-k1 * 113.0  / 32.0 - k3 * 195.0  / 22.0 + k4 * 32.0  / 7.0 + k5 * 29403.0  / 3584.0 - k6 * 729.0  / 512.0 + k7 * 1029.0  / 1408.0 + k8 * 21.0  / 16.0), h)\n",
    "    k9[idx_l:idx_r] = temp9\n",
    "    return U + dt * (k4 * 32.0  / 105.0 + k5 * 1771561.0  / 6289920.0 + k6 * 243.0  / 2560.0 + k7 * 16807.0  / 74880.0 + k8 * 77.0  / 1440.0 + k9 * 11.0  / 270.0), dt, 0, None"
   ]
  },
  {
   "cell_type": "code",
   "execution_count": 34,
   "id": "e1e9e3e7",
   "metadata": {},
   "outputs": [],
   "source": [
    "class SolverHopf:\n",
    "    def __init__(self, h, r, T = 20.):\n",
    "        self.h = h\n",
    "        self.r = r\n",
    "        self.x = np.linspace(0, 3000, int(3000 // h) + 1)\n",
    "        self.U = np.zeros_like(self.x)\n",
    "        self.U_ex = np.zeros_like(self.x)\n",
    "        self.T = T\n",
    "    def initial(self):\n",
    "        x0 = int(1480 / self.h)\n",
    "        x1 = int(1520 / self.h)\n",
    "        self.U[:x0] = 1.\n",
    "        self.U[x1:] = -1.\n",
    "        self.U[x0:x1] = -self.x[x0:x1] / 20. + 75. #np.linspace(1., -1., x1 - x0)\n",
    "        if self.T < 20.:\n",
    "            x0 = int(1480 / self.h) + int(self.T / self.h)\n",
    "            x1 = int(1520 / self.h) - int(self.T / self.h)\n",
    "            self.U_ex[:x0] = 1.\n",
    "            self.U_ex[x1:] = -1.\n",
    "            k = 2. / (self.x[x0] - self.x[x1])\n",
    "            b = 1. - k * self.x[x0]\n",
    "            self.U_ex[x0:x1] = k * self.x[x0:x1] + b #np.linspace(1., -1., x1 - x0)\n",
    "        else:\n",
    "            mid = int(1500. / self.h)\n",
    "            self.U_ex[:mid] = 1.\n",
    "            self.U_ex[mid] = 0.\n",
    "            self.U_ex[mid + 1:] = -1.\n",
    "    def solve(self, F, Deriv):\n",
    "        temp, dt, idx_l, idx_r = F(self.U, self.h, self.r, Deriv)\n",
    "        self.U[idx_l : idx_r] = temp\n",
    "        Nt = int(self.T / dt)\n",
    "        for i in trange(Nt):\n",
    "            if i == 0: continue\n",
    "            temp, dt, idx_l, idx_r = F(self.U, self.h, self.r, Deriv)\n",
    "            self.U[idx_l : idx_r] = temp\n",
    "    def error(self):\n",
    "        x0 = int(1480 / self.h)\n",
    "        x1 = int(1520 / self.h)\n",
    "        intLdh = int(50 / self.h)\n",
    "        return np.sqrt(np.sum((self.U[x0 - intLdh: x1 + intLdh] - self.U_ex[x0 - intLdh: x1 + intLdh]) ** 2 * self.h))\n",
    "    def draw(self, axs, ylabel):\n",
    "        x0 = int(1480 / self.h)\n",
    "        x1 = int(1520 / self.h)\n",
    "        x0 += int(self.T / self.h)\n",
    "        x1 -= int(self.T / self.h)\n",
    "        #lim = 1.5 if self.T <= 20. else 4\n",
    "        #axs.set_ylim([-lim, lim])\n",
    "        axs.set_xlim([1480, 1520])\n",
    "        axs.set_ylim([-1.1, 1.1])\n",
    "        intLdh = int(100 / self.h)\n",
    "        axs.plot(self.x[x0 - intLdh: x1 + intLdh], self.U[x0 - intLdh: x1 + intLdh], '-', label = ylabel)\n",
    "        axs.set_xlabel('x')\n",
    "        axs.set_ylabel('U')\n",
    "        axs.legend()\n",
    "    def draw_exact(self, axs):\n",
    "        x0 = int(1480 / self.h)\n",
    "        x1 = int(1520 / self.h)\n",
    "        x0 += int(self.T / self.h)\n",
    "        x1 -= int(self.T / self.h)\n",
    "        #lim = lim = 1.5 if self.T <= 20. else 4\n",
    "        #axs.set_ylim([-lim, lim])\n",
    "        axs.set_xlim([1480, 1520])\n",
    "        axs.set_ylim([-1.1, 1.1])\n",
    "        intLdh = int(100 / self.h)\n",
    "        axs.plot(self.x[x0 - intLdh: x1 + intLdh], self.U_ex[x0 - intLdh: x1 + intLdh], '--', label = 'exact')\n",
    "        axs.set_xlabel('x')\n",
    "        axs.set_ylabel('U')\n",
    "        axs.legend()"
   ]
  },
  {
   "cell_type": "code",
   "execution_count": 35,
   "id": "0dd7f0c7",
   "metadata": {},
   "outputs": [],
   "source": [
    "def solve_for_different_F(H, r, T, deriv_t, deriv_x_array):\n",
    "    fig = plt.figure(figsize = (20, 25))\n",
    "    axs = fig.add_subplot(211)\n",
    "    axs.grid()\n",
    "    solver = SolverHopf(H, r, T)\n",
    "    for deriv in deriv_x_array:\n",
    "        solver.initial()\n",
    "        solver.solve(deriv_t, deriv)\n",
    "        ylabel = str(deriv_t).split(' ')[1] + '+' + str(deriv).split(' ')[1]\n",
    "        solver.draw(axs, ylabel)\n",
    "        print(solver.error())\n",
    "    solver.draw_exact(axs)"
   ]
  },
  {
   "cell_type": "code",
   "execution_count": 36,
   "id": "97883f6f",
   "metadata": {},
   "outputs": [
    {
     "name": "stderr",
     "output_type": "stream",
     "text": [
      "100%|██████████| 80/80 [00:00<00:00, 265.23it/s]\n"
     ]
    },
    {
     "name": "stdout",
     "output_type": "stream",
     "text": [
      "3.7964617296440183e-13\n"
     ]
    },
    {
     "name": "stderr",
     "output_type": "stream",
     "text": [
      "100%|██████████| 80/80 [00:00<00:00, 109.11it/s]\n"
     ]
    },
    {
     "name": "stdout",
     "output_type": "stream",
     "text": [
      "6.59918612732218e-14\n"
     ]
    },
    {
     "name": "stderr",
     "output_type": "stream",
     "text": [
      "100%|██████████| 80/80 [00:00<00:00, 180.98it/s]\n"
     ]
    },
    {
     "name": "stdout",
     "output_type": "stream",
     "text": [
      "2.839043308678209e-13\n"
     ]
    },
    {
     "name": "stderr",
     "output_type": "stream",
     "text": [
      "100%|██████████| 80/80 [00:00<00:00, 94.68it/s] \n"
     ]
    },
    {
     "name": "stdout",
     "output_type": "stream",
     "text": [
      "4.625392862377994e-14\n"
     ]
    },
    {
     "data": {
      "image/png": "[encoded data removed]",
      "text/plain": [
       "<Figure size 1440x1800 with 1 Axes>"
      ]
     },
     "metadata": {
      "needs_background": "light"
     },
     "output_type": "display_data"
    }
   ],
   "source": [
    "r = .5\n",
    "T = 40.\n",
    "H = 1.\n",
    "solve_for_different_F(H, r, T, runge_kutta_7, [weno_5, weno_m_5, weno_z_5, weno_zm_5])"
   ]
  },
  {
   "cell_type": "code",
   "execution_count": 8,
   "id": "b2ac9a6b",
   "metadata": {},
   "outputs": [
    {
     "name": "stderr",
     "output_type": "stream",
     "text": [
      "100%|██████████| 80/80 [00:00<00:00, 265.62it/s]\n"
     ]
    },
    {
     "name": "stdout",
     "output_type": "stream",
     "text": [
      "3.7964617296440183e-13\n"
     ]
    },
    {
     "data": {
      "image/png": "[encoded data removed]",
      "text/plain": [
       "<Figure size 1440x1800 with 1 Axes>"
      ]
     },
     "metadata": {
      "needs_background": "light"
     },
     "output_type": "display_data"
    }
   ],
   "source": [
    "T = 40\n",
    "solver = SolverHopf(H, r, T)\n",
    "solver.initial()\n",
    "solver.solve(runge_kutta_7, weno_5)\n",
    "\n",
    "fig = plt.figure(figsize = (20, 25))\n",
    "axs = fig.add_subplot(211)\n",
    "axs.grid()\n",
    "solver.draw(axs, 'U')\n",
    "solver.draw_exact(axs)\n",
    "print(solver.error())"
   ]
  },
  {
   "cell_type": "code",
   "execution_count": null,
   "id": "934511e5",
   "metadata": {},
   "outputs": [],
   "source": []
  }
 ],
 "metadata": {
  "interpreter": {
   "hash": "d6dea22c7ded492420265be4ebcc3197ea0b6febfe0e3742e811a049b88a6492"
  },
  "kernelspec": {
   "display_name": "Python 3 (ipykernel)",
   "language": "python",
   "name": "python3"
  },
  "language_info": {
   "codemirror_mode": {
    "name": "ipython",
    "version": 3
   },
   "file_extension": ".py",
   "mimetype": "text/x-python",
   "name": "python",
   "nbconvert_exporter": "python",
   "pygments_lexer": "ipython3",
   "version": "3.10.1"
  }
 },
 "nbformat": 4,
 "nbformat_minor": 5
}
