{
 "cells": [
  {
   "cell_type": "code",
   "execution_count": 1,
   "id": "a4fc0584",
   "metadata": {},
   "outputs": [],
   "source": [
    "import numpy as np\n",
    "from matplotlib import pyplot as plt"
   ]
  },
  {
   "cell_type": "code",
   "execution_count": 2,
   "id": "b7c39ccd",
   "metadata": {},
   "outputs": [],
   "source": [
    "# функция нормализации\n",
    "def normalization(eta):\n",
    "    eta_A, eta_E = eta[0], eta[-1]\n",
    "    eta_star = (eta - eta_A)/(eta_E - eta_A)\n",
    "    return eta_star\n",
    "# функция денормализации\n",
    "def denormalization(eta_star, eta_A, eta_E):\n",
    "    return eta_star * (eta_E - eta_A) + eta_A"
   ]
  },
  {
   "cell_type": "code",
   "execution_count": 3,
   "id": "c98932b2",
   "metadata": {},
   "outputs": [],
   "source": [
    "# функция нижней границы\n",
    "def f1(x):\n",
    "    return np.sqrt(x)\n",
    "# функция верхней границы\n",
    "def f2(x):\n",
    "    return 2 + 0.5 * np.sqrt(x)"
   ]
  },
  {
   "cell_type": "code",
   "execution_count": 4,
   "id": "5352cd90",
   "metadata": {},
   "outputs": [
    {
     "data": {
      "image/png": "[encoded data removed]",
      "text/plain": [
       "<Figure size 432x288 with 1 Axes>"
      ]
     },
     "metadata": {
      "needs_background": "light"
     },
     "output_type": "display_data"
    }
   ],
   "source": [
    "# отрисуем канал\n",
    "x_l, x_r = 1, 10\n",
    "M, N = 10, 10\n",
    "x = np.linspace(x_l, x_r, N)\n",
    "y1 = f1(x)\n",
    "y2 = f2(x)\n",
    "y_l = np.linspace(y1[0], y2[0], M)\n",
    "y_r = np.linspace(y1[-1], y2[-1], M)\n",
    "\n",
    "plt.scatter(x, y1, s = 10)\n",
    "plt.scatter(x, y2, s = 10)\n",
    "plt.scatter([x[0]] * len(y_l), y_l, s = 10)\n",
    "plt.scatter([x[-1]] * len(y_r), y_r, s = 10)\n",
    "plt.grid()"
   ]
  },
  {
   "cell_type": "code",
   "execution_count": 5,
   "id": "006e7064",
   "metadata": {},
   "outputs": [],
   "source": [
    "def fi_0(r):\n",
    "    return 1 - r\n",
    "def fi_1(r):\n",
    "    return r\n",
    "def psi_0(s):\n",
    "    return 1 - s\n",
    "def psi_1(s):\n",
    "    return s"
   ]
  },
  {
   "cell_type": "code",
   "execution_count": 6,
   "id": "fa242842",
   "metadata": {},
   "outputs": [],
   "source": [
    "def Z_ad(r, s):\n",
    "    return 1 if r == 0 else 0"
   ]
  },
  {
   "cell_type": "code",
   "execution_count": null,
   "id": "a0dc4957",
   "metadata": {},
   "outputs": [],
   "source": []
  }
 ],
 "metadata": {
  "kernelspec": {
   "display_name": "Python 3 (ipykernel)",
   "language": "python",
   "name": "python3"
  },
  "language_info": {
   "codemirror_mode": {
    "name": "ipython",
    "version": 3
   },
   "file_extension": ".py",
   "mimetype": "text/x-python",
   "name": "python",
   "nbconvert_exporter": "python",
   "pygments_lexer": "ipython3",
   "version": "3.10.1"
  }
 },
 "nbformat": 4,
 "nbformat_minor": 5
}
