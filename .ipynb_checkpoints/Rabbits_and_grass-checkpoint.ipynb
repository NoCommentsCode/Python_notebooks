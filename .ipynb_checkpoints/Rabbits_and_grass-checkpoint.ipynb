{
 "cells": [
  {
   "cell_type": "code",
   "execution_count": 1,
   "metadata": {},
   "outputs": [],
   "source": [
    "import numpy as np\n",
    "import matplotlib.pyplot as plt"
   ]
  },
  {
   "cell_type": "code",
   "execution_count": 2,
   "metadata": {},
   "outputs": [],
   "source": [
    "\"\"\"\n",
    "1:\n",
    "x' = ay\n",
    "y' = 0\n",
    "\n",
    "2:\n",
    "x' = ay - bx\n",
    "y' = cx\n",
    "\"\"\"\n",
    "a, b, c = 1, 0.1, 0.1"
   ]
  },
  {
   "cell_type": "code",
   "execution_count": 3,
   "metadata": {},
   "outputs": [],
   "source": [
    "# runge-kutta 4\n",
    "def rg4(f, t0, t1, X0, h):\n",
    "    N = int((t1 - t0) / h)\n",
    "    OUT = np.zeros((N, X0.size))\n",
    "    OUT[0] = X0\n",
    "    T = np.linspace(t0, t1, N)\n",
    "    for i in range(0, N - 1):\n",
    "        k1 = f(T[i], OUT[i])\n",
    "        k2 = f(T[i] + h / 3, OUT[i] + k1 * h / 3)\n",
    "        k3 = f(T[i] + 2 * h / 3, OUT[i] - k1 * h / 3 + k2 * h)\n",
    "        k4 = f(T[i] + h, OUT[i] + k1 * h - k2 * h + k3 * h)\n",
    "        OUT[i + 1] = OUT[i] + h * (k1 / 8 + 3 * k2 / 8 + 3 * k3 / 8 + k4 / 8)\n",
    "    return OUT"
   ]
  },
  {
   "cell_type": "code",
   "execution_count": 7,
   "metadata": {},
   "outputs": [],
   "source": [
    "def f1(t, x):\n",
    "    return np.array([a * x[1], 0])\n",
    "\n",
    "def f2(t, x):\n",
    "    return np.array([a * x[1] - b * x[0], c * x[0]])"
   ]
  },
  {
   "cell_type": "code",
   "execution_count": 19,
   "metadata": {},
   "outputs": [
    {
     "data": {
      "text/plain": [
       "[<matplotlib.lines.Line2D at 0x13b182c1280>]"
      ]
     },
     "execution_count": 19,
     "metadata": {},
     "output_type": "execute_result"
    },
    {
     "data": {
      "image/png": "[encoded data removed]",
      "text/plain": [
       "<Figure size 432x288 with 1 Axes>"
      ]
     },
     "metadata": {
      "needs_background": "light"
     },
     "output_type": "display_data"
    }
   ],
   "source": [
    "x0 = np.array([10, 10])\n",
    "y1 = rg4(f1, 0, 10, x0, 0.001)\n",
    "y2 = rg4(f2, 0, 10, x0, 0.001)\n",
    "\n",
    "t = np.linspace(0, 10, 10000, dtype = float)\n",
    "plt.plot(t, y1[:, 0], 'b')\n",
    "plt.plot(t, y1[:, 1], 'r')\n",
    "\n",
    "plt.plot(t, y2[:, 0], 'g')\n",
    "plt.plot(t, y2[:, 1], 'y')"
   ]
  },
  {
   "cell_type": "code",
   "execution_count": null,
   "metadata": {},
   "outputs": [],
   "source": []
  }
 ],
 "metadata": {
  "kernelspec": {
   "display_name": "Python 3 (ipykernel)",
   "language": "python",
   "name": "python3"
  },
  "language_info": {
   "codemirror_mode": {
    "name": "ipython",
    "version": 3
   },
   "file_extension": ".py",
   "mimetype": "text/x-python",
   "name": "python",
   "nbconvert_exporter": "python",
   "pygments_lexer": "ipython3",
   "version": "3.10.0"
  }
 },
 "nbformat": 4,
 "nbformat_minor": 4
}
