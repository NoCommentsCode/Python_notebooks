{
 "cells": [
  {
   "cell_type": "code",
   "execution_count": 3,
   "metadata": {},
   "outputs": [],
   "source": [
    "import numpy as np\n",
    "from matplotlib import pyplot as plt\n",
    "%matplotlib inline"
   ]
  },
  {
   "cell_type": "code",
   "execution_count": 44,
   "metadata": {},
   "outputs": [],
   "source": [
    "def flux(c, u):\n",
    "    if c >= 0:\n",
    "        F = c * u[:-1]\n",
    "    else:\n",
    "        F = c * u[1:]\n",
    "    return F"
   ]
  },
  {
   "cell_type": "code",
   "execution_count": 45,
   "metadata": {},
   "outputs": [],
   "source": [
    "def linearconv(nx, c):\n",
    "    dx = 2 / (nx - 1)\n",
    "    nt = 20\n",
    "    sigma = 0.8\n",
    "    x = np.linspace(0, 2, nx)\n",
    "    u = np.ones(nx)\n",
    "    lbound = np.where(x >= 0.5)\n",
    "    ubound = np.where(x <= 1)\n",
    "    u[np.intersect1d(lbound, ubound)] = 2\n",
    "    un = np.ones(nx)\n",
    "    dt = sigma * dx / abs(c)\n",
    "    for n in range(nt):\n",
    "        un = u.copy()\n",
    "        F = flux(c, u)\n",
    "        u[1:-1] = un[1:-1] - dt / dx * (F[1:] - F[:-1])\n",
    "        u[0] = 1\n",
    "        u[-1] = u[-2]\n",
    "    plt.plot(x, u)\n",
    "    plt.plot(0.0, 2.5)\n",
    "        "
   ]
  },
  {
   "cell_type": "code",
   "execution_count": 47,
   "metadata": {},
   "outputs": [
    {
     "name": "stdout",
     "output_type": "stream",
     "text": [
      "Wall time: 22 ms\n"
     ]
    },
    {
     "data": {
      "image/png": "[encoded data removed]",
      "text/plain": [
       "<Figure size 432x288 with 1 Axes>"
      ]
     },
     "metadata": {
      "needs_background": "light"
     },
     "output_type": "display_data"
    }
   ],
   "source": [
    "%%time\n",
    "linearconv(101, -1)"
   ]
  },
  {
   "cell_type": "code",
   "execution_count": null,
   "metadata": {},
   "outputs": [],
   "source": []
  }
 ],
 "metadata": {
  "kernelspec": {
   "display_name": "Python 3",
   "language": "python",
   "name": "python3"
  },
  "language_info": {
   "codemirror_mode": {
    "name": "ipython",
    "version": 3
   },
   "file_extension": ".py",
   "mimetype": "text/x-python",
   "name": "python",
   "nbconvert_exporter": "python",
   "pygments_lexer": "ipython3",
   "version": "3.9.0"
  }
 },
 "nbformat": 4,
 "nbformat_minor": 4
}
