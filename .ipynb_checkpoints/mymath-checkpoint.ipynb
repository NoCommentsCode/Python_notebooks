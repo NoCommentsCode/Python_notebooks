{
 "cells": [
  {
   "cell_type": "code",
   "execution_count": null,
   "metadata": {},
   "outputs": [],
   "source": [
    "def Newthon(F, Xo, N):\n",
    "    n = Xo.size\n",
    "    X = np.zeros([N, n])\n",
    "    X[0] = Xo\n",
    "    def __deriv(F, X0, i, j, eps = 1e-5):\n",
    "        dx = np.zeros(n)\n",
    "        dx[j] += eps\n",
    "        return (F[i](X0 + dx) - F[i](X0 - dx)) / (2. * eps)\n",
    "    def __jacobian(F, X0):\n",
    "        J = np.zeros([n, n])\n",
    "        for i in range(0, n):\n",
    "            for j in range(0, n):\n",
    "                dF = __deriv(F, X0, i, j)\n",
    "                J[i][j] = dF\n",
    "        return J\n",
    "    for i in range(1, N):\n",
    "        J = np.linalg.det(__jacobian(F, X[i - 1]))\n",
    "        X[i] = X[i - 1] - np.array([F[k](X[i - 1]) for k in range(n)]) / J\n",
    "    return X"
   ]
  }
 ],
 "metadata": {
  "kernelspec": {
   "display_name": "Python 3",
   "language": "python",
   "name": "python3"
  },
  "language_info": {
   "codemirror_mode": {
    "name": "ipython",
    "version": 3
   },
   "file_extension": ".py",
   "mimetype": "text/x-python",
   "name": "python",
   "nbconvert_exporter": "python",
   "pygments_lexer": "ipython3",
   "version": "3.9.0"
  }
 },
 "nbformat": 4,
 "nbformat_minor": 4
}
