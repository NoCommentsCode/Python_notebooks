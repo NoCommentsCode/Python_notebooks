{
 "cells": [
  {
   "cell_type": "code",
   "execution_count": 22,
   "id": "df14a64a",
   "metadata": {},
   "outputs": [],
   "source": [
    "import numpy as np\n",
    "from matplotlib import pyplot as plt"
   ]
  },
  {
   "cell_type": "code",
   "execution_count": 78,
   "id": "002db7d8",
   "metadata": {},
   "outputs": [],
   "source": [
    "def f(U):\n",
    "    return U[:-4] - U[4:] + 8 * (U[3:-1] - U[1:-3])"
   ]
  },
  {
   "cell_type": "code",
   "execution_count": 91,
   "id": "9fdf8991",
   "metadata": {},
   "outputs": [],
   "source": [
    "def errs_for_different_h(N_errs, Cu, c, L):\n",
    "    H = np.array([2 ** -i for i in range(N_errs)])\n",
    "    errs = np.zeros(N_errs)\n",
    "    \n",
    "    for i, h in zip(range(N_errs), H):\n",
    "        Nx = int(L / h)\n",
    "        Nt = int(100 / h / Cu)\n",
    "        dt = Cu * h / c\n",
    "        x = np.linspace(0, 3000, Nx)\n",
    "\n",
    "        def init(x0, x1):\n",
    "            U = np.zeros([Nt, Nx])\n",
    "            U[0, x0:x1] = np.abs(np.sin((x[x0:x1] - x[x0]) * np.pi / (x[x1] - x[x0])) ** 6)\n",
    "            return U\n",
    "        \n",
    "        def first_order(U, Nt, Cu):\n",
    "            for n in range(Nt - 1):\n",
    "                U[n + 1, 1:] = U[n, 1:] - Cu * (U[n, 1:] - U[n, :-1]) # first + first\n",
    "                #U[n + 1, 0] = U[n, 0]\n",
    "                \n",
    "                #U[n + 1, 2:] = U[n, 2:] - Cu * (U[n, 0:-2] - 4 * U[n, 1:-1] + 3 * U[n, 2:]) / 2 # first + second\n",
    "                #U[n + 1, 0] = U[n, 0]\n",
    "                #U[n + 1, 1] = U[n, 1]\n",
    "                \n",
    "                #U[n + 1, 3:-3] = U[n, 3:-3] - Cu * (U[n, 6:] - U[n, :-6] + 9 * (U[n, 1:-5] - U[n, 5:-1]) + 45 * (U[n, 4:-2] - U[n, 2:-4])) / 60\n",
    "                U_star = np.zeros(Nx)\n",
    "                U_star[2:-2] = U[n, 2:-2] + 0.5 * Cu / 12. * f(U[n, :])\n",
    "                U[n + 1, 2:-2] = U[n, 2:-2] + Cu / 12. * f(U_star)\n",
    "            return U\n",
    "        \n",
    "        x0 = int(Nx / 2) - int(20 / h)\n",
    "        x1 = x0 + int(40 / h)\n",
    "        U = init(x0, x1)\n",
    "        U_n = first_order(U, Nt, Cu)\n",
    "        U_ex = init(x0 + int(Nt * Cu), x1 + int(Nt * Cu))\n",
    "        errs[i] = np.sqrt(np.sum((U_n[-1, x0 + int(Nt * Cu): x1 + int(Nt * Cu)] - U_ex[0, x0 + int(Nt * Cu): x1 + int(Nt * Cu)]) ** 2 * h))\n",
    "        \n",
    "        #plt.plot(x[x0 + int(Nt * Cu)-100: x1 + int(Nt * Cu) + 100], U_n[-1, x0 + int(Nt * Cu) - 100: x1 + int(Nt * Cu) + 100]);\n",
    "        plt.plot(x[x0 + int(Nt * Cu)-100: x1 + int(Nt * Cu) + 100], U_ex[0, x0 + int(Nt * Cu) - 100: x1 + int(Nt * Cu) + 100]);\n",
    "        #plt.plot(x, U_n[-1, :])\n",
    "        #plt.plot(x, U_ex[0, :])\n",
    "    return H, errs"
   ]
  },
  {
   "cell_type": "code",
   "execution_count": 92,
   "id": "f68a5a6a",
   "metadata": {},
   "outputs": [
    {
     "data": {
      "image/png": "[encoded data removed]",
      "text/plain": [
       "<Figure size 432x288 with 1 Axes>"
      ]
     },
     "metadata": {
      "needs_background": "light"
     },
     "output_type": "display_data"
    }
   ],
   "source": [
    "c = 1.\n",
    "Cu = 0.7\n",
    "L = 3000.\n",
    "H, errs = errs_for_different_h(2, Cu, c, L)"
   ]
  },
  {
   "cell_type": "code",
   "execution_count": 88,
   "id": "4b813c51",
   "metadata": {},
   "outputs": [
    {
     "name": "stdout",
     "output_type": "stream",
     "text": [
      "-25.868836427572347\n"
     ]
    },
    {
     "data": {
      "image/png": "[encoded data removed]",
      "text/plain": [
       "<Figure size 432x288 with 1 Axes>"
      ]
     },
     "metadata": {
      "needs_background": "light"
     },
     "output_type": "display_data"
    }
   ],
   "source": [
    "plt.plot(np.log(H), np.log(errs), '-o');\n",
    "print(np.log(errs[-2] / errs[-1]) / np.log(2.))"
   ]
  },
  {
   "cell_type": "code",
   "execution_count": null,
   "id": "82a01e6b",
   "metadata": {},
   "outputs": [],
   "source": []
  }
 ],
 "metadata": {
  "kernelspec": {
   "display_name": "Python 3 (ipykernel)",
   "language": "python",
   "name": "python3"
  },
  "language_info": {
   "codemirror_mode": {
    "name": "ipython",
    "version": 3
   },
   "file_extension": ".py",
   "mimetype": "text/x-python",
   "name": "python",
   "nbconvert_exporter": "python",
   "pygments_lexer": "ipython3",
   "version": "3.10.1"
  }
 },
 "nbformat": 4,
 "nbformat_minor": 5
}
