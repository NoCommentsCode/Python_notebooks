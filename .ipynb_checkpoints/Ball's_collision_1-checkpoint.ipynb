{
 "cells": [
  {
   "cell_type": "code",
   "execution_count": 34,
   "id": "4bc2cf34",
   "metadata": {},
   "outputs": [],
   "source": [
    "import numpy as np\n",
    "import random as rd\n",
    "from matplotlib import pyplot as plt"
   ]
  },
  {
   "cell_type": "code",
   "execution_count": 35,
   "id": "84f2d55b",
   "metadata": {},
   "outputs": [],
   "source": [
    "N = 10\n",
    "r = 0.1"
   ]
  },
  {
   "cell_type": "code",
   "execution_count": 36,
   "id": "2bbd2087",
   "metadata": {},
   "outputs": [],
   "source": [
    "def rand_init(N):\n",
    "    bodies = np.zeros((N, 4))\n",
    "    for i in range(N):\n",
    "        for j in range(4):\n",
    "            bodies[i, j] = rd.random()\n",
    "    bodies[:, :] *= 10.\n",
    "    return bodies"
   ]
  },
  {
   "cell_type": "code",
   "execution_count": 37,
   "id": "c2e98577",
   "metadata": {},
   "outputs": [],
   "source": [
    "#bodies = np.array([[1, 1, 5, 5], [5, 1, -5, 5], [9, 1, 0, -1]], dtype = float)\n",
    "bodies = rand_init(N)"
   ]
  },
  {
   "cell_type": "code",
   "execution_count": 38,
   "id": "cb0541c6",
   "metadata": {},
   "outputs": [],
   "source": [
    "def wall_collision(body):\n",
    "    if body[0] <= r or body[0] >= 10. - r:\n",
    "        body[2] *= -1.\n",
    "    if body[1] <= r or body[1] >= 10. - r:\n",
    "        body[3] *= -1.\n",
    "    return body"
   ]
  },
  {
   "cell_type": "code",
   "execution_count": null,
   "id": "4d63f3f4",
   "metadata": {},
   "outputs": [],
   "source": [
    "def all_wall_collision(bodies):\n",
    "    for i in range(N):\n",
    "        bodies[i] = wall_collision(bodies[i].copy())\n",
    "    return bodies"
   ]
  },
  {
   "cell_type": "code",
   "execution_count": 39,
   "id": "dd6cf7ab",
   "metadata": {},
   "outputs": [],
   "source": [
    "def collision(body1, body2):\n",
    "    \n",
    "    tan = abs(body1[1]-body2[1]) / abs(body1[0]-body2[0])\n",
    "    alpha = np.arctan(tan)\n",
    "    \n",
    "    vel1_x_init = body1[2]\n",
    "    vel2_x_init = body2[2]\n",
    "    vel1_y_init = body1[3]\n",
    "    vel2_y_init = body2[3]\n",
    "    \n",
    "    vel1_x_new = -vel1_y_init * np.sin(alpha) + vel1_x_init * np.cos(alpha) \n",
    "    vel2_x_new = -vel2_y_init * np.sin(alpha) + vel2_x_init * np.cos(alpha) \n",
    "    vel1_y_new = vel1_y_init * np.cos(alpha) + vel1_x_init * np.sin(alpha) \n",
    "    vel2_y_new = vel2_y_init * np.cos(alpha) + vel2_x_init * np.sin(alpha) \n",
    "\n",
    "    vel1_x_new_comm = vel2_x_new\n",
    "    vel2_x_new_comm = vel1_x_new \n",
    "    vel1_y_new_comm = vel1_y_new \n",
    "    vel2_y_new_comm = vel2_y_new \n",
    "    \n",
    "    vel1_x_init_comm = vel1_y_new_comm * np.sin(alpha) + vel1_x_new_comm * np.cos(alpha)\n",
    "    vel2_x_init_comm = vel2_y_new_comm * np.sin(alpha) + vel2_x_new_comm * np.cos(alpha)\n",
    "    vel1_y_init_comm = vel1_y_new_comm * np.cos(alpha) - vel1_x_new_comm * np.sin(alpha)\n",
    "    vel2_y_init_comm = vel2_y_new_comm * np.cos(alpha) - vel2_x_new_comm * np.sin(alpha)\n",
    "    \n",
    "    body1[2] = vel1_x_init_comm\n",
    "    body1[3] = vel1_y_init_comm\n",
    "    body2[2] = vel2_x_init_comm\n",
    "    body2[3] = vel2_y_init_comm\n",
    "    \n",
    "    return body1, body2"
   ]
  },
  {
   "cell_type": "code",
   "execution_count": 40,
   "id": "8839b051",
   "metadata": {},
   "outputs": [],
   "source": [
    "def move(body, dt):\n",
    "    body[0] += body[2] * dt\n",
    "    body[1] += body[3] * dt\n",
    "    return body"
   ]
  },
  {
   "cell_type": "code",
   "execution_count": 41,
   "id": "f176ed83",
   "metadata": {},
   "outputs": [],
   "source": [
    "def move_all(bodies, dt):\n",
    "    for i in range(N):\n",
    "        bodies[i] = move(bodies[i].copy(), dt)\n",
    "    return bodies"
   ]
  },
  {
   "cell_type": "code",
   "execution_count": 42,
   "id": "fe3cbf79",
   "metadata": {},
   "outputs": [],
   "source": [
    "def wait_nearest_wall_collision(bodies):\n",
    "    def wait_for_one(body):\n",
    "        if body[2] > 0:\n",
    "            t_x = (10 - r - body[0]) / body[2]\n",
    "        else:\n",
    "            t_x = (r - body[0]) / body[2]\n",
    "        if body[3] > 0:\n",
    "            t_y = (10 - r - body[1]) / body[3]\n",
    "        else:\n",
    "            t_y = (r - body[3]) / body[3]\n",
    "        return min(t_x, t_y)\n",
    "    times = np.array([wait_for_one(body) for body in bodies])\n",
    "    return min(times)"
   ]
  },
  {
   "cell_type": "code",
   "execution_count": 43,
   "id": "20e47642",
   "metadata": {},
   "outputs": [],
   "source": [
    "def wait_nearest_ball_collision(bodies):\n",
    "    def calculate(body1, body2):\n",
    "        a = (body2[2] - body1[2]) ** 2 + (body2[3] - body1[3]) ** 2\n",
    "        b = 2. * (body2[0] - body1[0]) * (body2[2] - body1[2]) + 2. * (body2[1] - body1[1]) * (body2[3] - body1[3])\n",
    "        c = (body2[0] - body1[0]) ** 2 + (body2[1] - body1[1]) ** 2 - 4. * r ** 2\n",
    "        D = b ** 2 - 4. * a * c\n",
    "        if D > 0:\n",
    "            t1 = (-b + np.sqrt(D)) / 2. / a\n",
    "            if t1 < 0:\n",
    "                t1 = np.inf\n",
    "            t2 = (-b - np.sqrt(D)) / 2. / a\n",
    "            if t2 < 0:\n",
    "                t2 = np.inf\n",
    "            return min(t1, t2)\n",
    "        elif D == 0:\n",
    "            t = -b / 2. / a\n",
    "            if t < 0:\n",
    "                t = np.inf\n",
    "            return t\n",
    "        else: return np.inf\n",
    "    t_min = np.inf\n",
    "    i_min, j_min = 0, 0\n",
    "    for i in range(N):\n",
    "        for j in range(i):\n",
    "            t = calculate(bodies[i], bodies[j])\n",
    "            if t < t_min:\n",
    "                t_min, i_min, j_min = t, i, j\n",
    "    return t, i, j"
   ]
  },
  {
   "cell_type": "code",
   "execution_count": 44,
   "id": "3a4c49b6",
   "metadata": {},
   "outputs": [
    {
     "name": "stdout",
     "output_type": "stream",
     "text": [
      "0.11911732199844301 inf\n",
      "0.0 inf\n",
      "0.0 inf\n",
      "0.0 inf\n"
     ]
    },
    {
     "data": {
      "image/png": "[encoded data removed]",
      "text/plain": [
       "<Figure size 720x576 with 5 Axes>"
      ]
     },
     "metadata": {
      "needs_background": "light"
     },
     "output_type": "display_data"
    }
   ],
   "source": [
    "K = 5\n",
    "fig, axs = plt.subplots(K, 1, figsize = (10, 8))\n",
    "axs[0].set_xlim([0, 10])\n",
    "axs[0].set_ylim([0, 10])\n",
    "axs[0].scatter(bodies[:, 0], bodies[:, 1], label = 't = ' + str(t_prev));\n",
    "axs[0].legend()\n",
    "t_prev = 0\n",
    "for k in range(1, K):\n",
    "    t_wall = wait_nearest_wall_collision(bodies)\n",
    "    t_coll, i, j = wait_nearest_ball_collision(bodies)\n",
    "    print(t_wall, t_coll)\n",
    "    if (t_wall < t_coll):\n",
    "        bodies = move_all(bodies, t_wall)\n",
    "        t_prev += t_wall\n",
    "    else:\n",
    "        bodies = move_all(bodies, t_coll)\n",
    "        bodies[i], bodies[j] = collision(bodies[i].copy(), bodies[j].copy())\n",
    "        t_prev += t_coll\n",
    "    axs[k].set_xlim([0, 10])\n",
    "    axs[k].set_ylim([0, 10])\n",
    "    axs[k].scatter(bodies[:, 0], bodies[:, 1], label = 't = ' + str(t_prev));\n",
    "    axs[k].legend()"
   ]
  },
  {
   "cell_type": "code",
   "execution_count": null,
   "id": "d1ea2b32",
   "metadata": {},
   "outputs": [],
   "source": []
  }
 ],
 "metadata": {
  "kernelspec": {
   "display_name": "Python 3 (ipykernel)",
   "language": "python",
   "name": "python3"
  },
  "language_info": {
   "codemirror_mode": {
    "name": "ipython",
    "version": 3
   },
   "file_extension": ".py",
   "mimetype": "text/x-python",
   "name": "python",
   "nbconvert_exporter": "python",
   "pygments_lexer": "ipython3",
   "version": "3.10.1"
  }
 },
 "nbformat": 4,
 "nbformat_minor": 5
}
