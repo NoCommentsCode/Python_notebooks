{
 "cells": [
  {
   "cell_type": "code",
   "execution_count": 4,
   "metadata": {},
   "outputs": [],
   "source": [
    "import numpy as np\n",
    "from matplotlib import pyplot as plt"
   ]
  },
  {
   "cell_type": "code",
   "execution_count": 44,
   "metadata": {},
   "outputs": [],
   "source": [
    "def derivative(f, x0): # сие вернетъ производную от f в x0\n",
    "    return (f(x0 + 1e-5) - f(x0 - 1e-5)) / 2e-5"
   ]
  },
  {
   "cell_type": "code",
   "execution_count": 48,
   "metadata": {},
   "outputs": [],
   "source": [
    "def newthon(f, x0, N):\n",
    "    X = np.zeros(N) # тута мы созидаемъ массивъ нулей \n",
    "    X[0] = x0 # нулевой элементъ массива нулей - икс НОЛЬ (начальное приближовывание)\n",
    "    for i in range(1, N):\n",
    "        X[i] = X[i - 1] - f(X[i - 1]) / derivative(f, X[i - 1]) # наполняемъ массивъ аки в методе Ньютона\n",
    "    return X # и вертаемъ яго в задъ"
   ]
  },
  {
   "cell_type": "code",
   "execution_count": 49,
   "metadata": {},
   "outputs": [],
   "source": [
    "def f(x): # будемъ искать нуль у функции\n",
    "    return x ** 2 - np.cos(x) # коя что то вертаетъ в задъ"
   ]
  },
  {
   "cell_type": "code",
   "execution_count": 58,
   "metadata": {},
   "outputs": [
    {
     "name": "stdout",
     "output_type": "stream",
     "text": [
      "0.8241323123025224\n"
     ]
    },
    {
     "data": {
      "image/png": "[encoded data removed]",
      "text/plain": [
       "<Figure size 432x288 with 1 Axes>"
      ]
     },
     "metadata": {
      "needs_background": "light"
     },
     "output_type": "display_data"
    }
   ],
   "source": [
    "N = 10 # итераций наших число\n",
    "X = newthon(f, 2, N) # взываемъ к методу Ньютона\n",
    "plt.plot(np.linspace(0, N - 1, N), X); # начертаемъ оное на холсте\n",
    "print(X[-1]) # и узрим к чему сошелся методъ"
   ]
  },
  {
   "cell_type": "code",
   "execution_count": 20,
   "metadata": {},
   "outputs": [],
   "source": [
    "def Newthon(F, Xo, N):\n",
    "    n = Xo.size\n",
    "    X = np.zeros([N, n])\n",
    "    X[0] = Xo\n",
    "    def __deriv(F, X0, i, j, eps = 1e-5):\n",
    "        dx = np.zeros(n)\n",
    "        dx[j] += eps\n",
    "        return (F[i](X0 + dx) - F[i](X0 - dx)) / (2. * eps)\n",
    "    def __jacobian(F, X0):\n",
    "        J = np.zeros([n, n])\n",
    "        for i in range(0, n):\n",
    "            for j in range(0, n):\n",
    "                dF = __deriv(F, X0, i, j)\n",
    "                J[i][j] = dF\n",
    "        return J\n",
    "    for i in range(1, N):\n",
    "        J = np.linalg.det(__jacobian(F, X[i - 1]))\n",
    "        X[i] = X[i - 1] - np.array([F[k](X[i - 1]) for k in range(n)]) / J\n",
    "    return X"
   ]
  },
  {
   "cell_type": "code",
   "execution_count": 2,
   "metadata": {},
   "outputs": [],
   "source": [
    "def f1(X):\n",
    "    return X[0] + X[1] - 3\n",
    "def f2(X):\n",
    "    return X[0] ** 2 + X[1] ** 2 - 9\n",
    "F = [f1, f2]"
   ]
  },
  {
   "cell_type": "code",
   "execution_count": 21,
   "metadata": {},
   "outputs": [
    {
     "name": "stdout",
     "output_type": "stream",
     "text": [
      "[[ 1.  1.]\n",
      " [ 2. 10.]]\n",
      "[[1.   1.  ]\n",
      " [1.25 5.75]]\n",
      "[[1.         1.        ]\n",
      " [1.02777778 5.90277778]]\n",
      "[[1.         1.        ]\n",
      " [0.83689459 5.9131252 ]]\n",
      "[[1.         1.        ]\n",
      " [0.68914326 5.94607857]]\n",
      "[[1.         1.        ]\n",
      " [0.56830825 5.96217456]]\n",
      "[[1.         1.        ]\n",
      " [0.46995898 5.97417896]]\n",
      "[[1.         1.        ]\n",
      " [0.38926854 5.98220229]]\n",
      "[[1.         1.        ]\n",
      " [0.32285066 5.98772048]]\n",
      "[0.1340133  2.99575662]\n"
     ]
    }
   ],
   "source": [
    "x = Newthon(F, np.array([1, 5]), 10)\n",
    "print(x[-1])"
   ]
  },
  {
   "cell_type": "code",
   "execution_count": null,
   "metadata": {},
   "outputs": [],
   "source": []
  }
 ],
 "metadata": {
  "kernelspec": {
   "display_name": "Python 3",
   "language": "python",
   "name": "python3"
  },
  "language_info": {
   "codemirror_mode": {
    "name": "ipython",
    "version": 3
   },
   "file_extension": ".py",
   "mimetype": "text/x-python",
   "name": "python",
   "nbconvert_exporter": "python",
   "pygments_lexer": "ipython3",
   "version": "3.9.0"
  }
 },
 "nbformat": 4,
 "nbformat_minor": 4
}
