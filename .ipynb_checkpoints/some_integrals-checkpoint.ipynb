{
 "cells": [
  {
   "cell_type": "code",
   "execution_count": 3,
   "id": "016c9583",
   "metadata": {},
   "outputs": [],
   "source": [
    "import numpy as np"
   ]
  },
  {
   "cell_type": "code",
   "execution_count": 4,
   "id": "d8effeeb",
   "metadata": {},
   "outputs": [],
   "source": [
    "def simpson(f, a, b, N):\n",
    "    x = np.linspace(a, b, N)\n",
    "    s = 0\n",
    "    h = x[1] - x[0]\n",
    "    for i in range(x.size - 1):\n",
    "        s += h / 6. * (f(x[i]) + 4. * f(0.5 * (x[i] + x[i + 1])) + f(x[i + 1]))\n",
    "    return s"
   ]
  },
  {
   "cell_type": "code",
   "execution_count": 5,
   "id": "6b016b1d",
   "metadata": {},
   "outputs": [],
   "source": [
    "def gauss(f, a, b, N):\n",
    "    x = np.linspace(a, b, N)\n",
    "    s = 0\n",
    "    h = x[1] - x[0]\n",
    "    for i in range(x.size - 1):\n",
    "        s += 0.5 * h * (f(0.5 * (x[i] + x[i + 1]) + 0.5 * h / np.sqrt(3.)) + f(0.5 * (x[i] + x[i + 1]) - 0.5 * h / np.sqrt(3.)))\n",
    "    return s"
   ]
  },
  {
   "cell_type": "code",
   "execution_count": 6,
   "id": "4fbb4bb2",
   "metadata": {},
   "outputs": [],
   "source": [
    "def trapecion(f, a, b, N):\n",
    "    x = np.linspace(a, b, N)\n",
    "    s = 0\n",
    "    h = x[1] - x[0]\n",
    "    for i in range(x.size - 1):\n",
    "        s += 0.5 * h * (f(x[i]) + f(x[i + 1]))\n",
    "    return s"
   ]
  },
  {
   "cell_type": "code",
   "execution_count": 7,
   "id": "ee44d82c",
   "metadata": {},
   "outputs": [],
   "source": [
    "def f(x):\n",
    "    return np.exp(-x * x / 2.) / 3."
   ]
  },
  {
   "cell_type": "code",
   "execution_count": 8,
   "id": "eb89cc75",
   "metadata": {},
   "outputs": [],
   "source": [
    "def try_different_n(f, f_int, a, b, I_exact, eps, N_0 = 2):\n",
    "    I = f_int(f, a, b, N_0)\n",
    "    while np.abs(I - I_exact) > eps:\n",
    "        N_0 += 1\n",
    "        I = f_int(f, a, b, N_0)\n",
    "    return N_0"
   ]
  },
  {
   "cell_type": "code",
   "execution_count": 10,
   "id": "31a12149",
   "metadata": {},
   "outputs": [
    {
     "name": "stdout",
     "output_type": "stream",
     "text": [
      "2\n",
      "2\n",
      "5\n"
     ]
    }
   ],
   "source": [
    "I_exact = 0.57041626126143253544\n",
    "print(try_different_n(f, simpson, -1, 1, I_exact, 1e-2))\n",
    "print(try_different_n(f, gauss, -1, 1, I_exact, 1e-2))\n",
    "print(try_different_n(f, trapecion, -1, 1, I_exact, 1e-2))"
   ]
  },
  {
   "cell_type": "code",
   "execution_count": null,
   "id": "d6a2d8e6",
   "metadata": {},
   "outputs": [],
   "source": []
  }
 ],
 "metadata": {
  "kernelspec": {
   "display_name": "Python 3 (ipykernel)",
   "language": "python",
   "name": "python3"
  },
  "language_info": {
   "codemirror_mode": {
    "name": "ipython",
    "version": 3
   },
   "file_extension": ".py",
   "mimetype": "text/x-python",
   "name": "python",
   "nbconvert_exporter": "python",
   "pygments_lexer": "ipython3",
   "version": "3.10.1"
  }
 },
 "nbformat": 4,
 "nbformat_minor": 5
}
