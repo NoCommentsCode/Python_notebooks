{
 "cells": [
  {
   "cell_type": "code",
   "execution_count": 1,
   "metadata": {},
   "outputs": [],
   "source": [
    "import numpy as np\n",
    "from matplotlib import pyplot as plt"
   ]
  },
  {
   "cell_type": "code",
   "execution_count": 48,
   "metadata": {},
   "outputs": [],
   "source": [
    "def gauss_method(A, b):\n",
    "    n = A.shape[0]\n",
    "    for i in range(0, n - 1):\n",
    "        for j in range(i + 1, n):\n",
    "            c = A[j][i]\n",
    "            A[j] -= A[i] * c / A[i][i]\n",
    "            b[j] -= b[i] * c / A[i][i]\n",
    "    x = np.zeros(n)\n",
    "    for i in range(n - 1, -1, -1): # первое -1 это типа предначальный элепмент, второе вычитаем типа идем в обратном порядке\n",
    "        s = 0\n",
    "        for j in range(i + 1, n):\n",
    "            s += A[i][j] * x[j]\n",
    "        x[i] = (b[i] - s) / A[i][i]\n",
    "    return x"
   ]
  },
  {
   "cell_type": "code",
   "execution_count": 49,
   "metadata": {},
   "outputs": [],
   "source": [
    "A = np.array([[1, 2, 0], [3, 4, 5], [0, 6, 7]], dtype = float)\n",
    "b = np.array([5, 6, 5], dtype = float)"
   ]
  },
  {
   "cell_type": "code",
   "execution_count": 50,
   "metadata": {},
   "outputs": [
    {
     "name": "stdout",
     "output_type": "stream",
     "text": [
      "[ 1.  2. -1.]\n"
     ]
    }
   ],
   "source": [
    "x = gauss_method(A, b)\n",
    "print(x)"
   ]
  },
  {
   "cell_type": "code",
   "execution_count": 90,
   "metadata": {},
   "outputs": [],
   "source": [
    "def check_zeros(A):\n",
    "    n = A.shape[0]\n",
    "    for i in range(0, n):\n",
    "        if A[i][i] == 0:\n",
    "            for j in range(0, n):\n",
    "                if A[j][i] != 0 and A[i][j] != 0:\n",
    "                    print(A[i], A[j])\n",
    "                    t = A[i].copy()\n",
    "                    A[i] = A[j].copy()\n",
    "                    A[j] = t.copy()\n",
    "                    #print(A[i], A[j])\n",
    "                    break\n",
    "    return A"
   ]
  },
  {
   "cell_type": "code",
   "execution_count": 91,
   "metadata": {},
   "outputs": [
    {
     "name": "stdout",
     "output_type": "stream",
     "text": [
      "[0. 2. 1.] [3. 4. 5.]\n",
      "[0. 6. 0.] [0. 2. 1.]\n",
      "[[3. 4. 5.]\n",
      " [0. 6. 0.]\n",
      " [0. 2. 1.]]\n"
     ]
    }
   ],
   "source": [
    "C = np.array([[0, 2, 1], [3, 4, 5], [0, 6, 0]], dtype = float)\n",
    "print(check_zeros(C))"
   ]
  },
  {
   "cell_type": "code",
   "execution_count": null,
   "metadata": {},
   "outputs": [],
   "source": []
  }
 ],
 "metadata": {
  "kernelspec": {
   "display_name": "Python 3",
   "language": "python",
   "name": "python3"
  },
  "language_info": {
   "codemirror_mode": {
    "name": "ipython",
    "version": 3
   },
   "file_extension": ".py",
   "mimetype": "text/x-python",
   "name": "python",
   "nbconvert_exporter": "python",
   "pygments_lexer": "ipython3",
   "version": "3.9.0"
  }
 },
 "nbformat": 4,
 "nbformat_minor": 5
}
