{
 "cells": [
  {
   "cell_type": "code",
   "execution_count": 4,
   "id": "fe200de5",
   "metadata": {},
   "outputs": [],
   "source": [
    "import numpy as np\n",
    "from matplotlib import pyplot as plt"
   ]
  },
  {
   "cell_type": "code",
   "execution_count": 5,
   "id": "d8406026",
   "metadata": {},
   "outputs": [],
   "source": [
    "def polynom_coeff(X, Y):\n",
    "    n = X.size - 1\n",
    "    A = np.zeros([n + 1, n + 1])\n",
    "    for i in range(n + 1):\n",
    "        for j in range(n + 1):\n",
    "            A[i][j] = X[i] ** (n - j)\n",
    "    return np.linalg.solve(A, Y)"
   ]
  },
  {
   "cell_type": "code",
   "execution_count": 6,
   "id": "3122d0a5",
   "metadata": {},
   "outputs": [],
   "source": [
    "# (x0**n x0**(n-1) ... x0)(an) (y0)\n",
    "# (...                   )(..)=(..)\n",
    "# (xn**n xn**(n-1) ... xn)(a0) (yn)"
   ]
  },
  {
   "cell_type": "code",
   "execution_count": 7,
   "id": "014b51be",
   "metadata": {},
   "outputs": [],
   "source": [
    "def splain(X, Y, n):\n",
    "    N = X.size\n",
    "    k = N - n\n",
    "    S = np.zeros([k, n + 1])\n",
    "    for i in range(k):\n",
    "        S[i, :] = polynom_coeff(X[i : i + n + 1], Y[i : i + n + 1])\n",
    "    return S"
   ]
  },
  {
   "cell_type": "code",
   "execution_count": 8,
   "id": "2aafc2c4",
   "metadata": {},
   "outputs": [],
   "source": [
    "def polynom(S, x):\n",
    "    n = S.size - 1\n",
    "    s = 0\n",
    "    for i in range(n + 1):\n",
    "        s += S[i] * x ** (n - i)\n",
    "    return s"
   ]
  },
  {
   "cell_type": "code",
   "execution_count": 9,
   "id": "56aa097e",
   "metadata": {},
   "outputs": [],
   "source": [
    "def predict(S, X, x_val):\n",
    "    k = S.shape[0] # количество строк\n",
    "    n = S.shape[1] - 1 # количество столбцов - 1\n",
    "    def find_place_and_predict(x):\n",
    "        for i in range(X.size):\n",
    "            if X[i] <= x and x <= X[i + 1]:\n",
    "                idx = i\n",
    "                break\n",
    "        if idx < k:\n",
    "            return polynom(S[idx, :], x)\n",
    "        else:\n",
    "            return polynom(S[-1, :], x)\n",
    "    y_val = np.zeros_like(x_val)\n",
    "    j = 0\n",
    "    for x in x_val:\n",
    "        y_val[j] = find_place_and_predict(x)\n",
    "        j += 1\n",
    "    return y_val"
   ]
  },
  {
   "cell_type": "code",
   "execution_count": 10,
   "id": "1c266812",
   "metadata": {},
   "outputs": [
    {
     "name": "stdout",
     "output_type": "stream",
     "text": [
      "[[-1.03932197e-02 -3.55642612e-01  1.20750682e+00  0.00000000e+00]\n",
      " [ 1.17709796e-01 -1.12426071e+00  2.61663999e+00 -7.68618094e-01]\n",
      " [ 1.37590968e-01 -1.30319126e+00  3.13355046e+00 -1.24576622e+00]\n",
      " [ 3.09716386e-02 -2.37593016e-02 -1.87755802e+00  5.15139354e+00]\n",
      " [-1.04122873e-01  2.00265837e+00 -1.18745519e+01  2.13627349e+01]\n",
      " [-1.43487295e-01  2.71121797e+00 -1.60865450e+01  2.96292636e+01]\n",
      " [-5.09301600e-02  7.67518136e-01 -2.57320335e+00 -1.46993373e+00]]\n"
     ]
    }
   ],
   "source": [
    "X = np.array([0, 1, 2, 3, 4, 5, 6, 7, 8, 9])\n",
    "Y = np.sin(X)\n",
    "S = splain(X, Y, 3)\n",
    "print(S)"
   ]
  },
  {
   "cell_type": "code",
   "execution_count": 11,
   "id": "1bd83972",
   "metadata": {},
   "outputs": [
    {
     "data": {
      "image/png": "[encoded data removed]",
      "text/plain": [
       "<Figure size 432x288 with 1 Axes>"
      ]
     },
     "metadata": {
      "needs_background": "light"
     },
     "output_type": "display_data"
    }
   ],
   "source": [
    "x_val = np.linspace(0, 5, 50)\n",
    "#y_val = np.array([predict(S, X, [x]) for x in x_val])\n",
    "y_val = predict(S, X, x_val)\n",
    "plt.plot(x_val, y_val);\n",
    "plt.plot(x_val, np.sin(x_val));"
   ]
  },
  {
   "cell_type": "code",
   "execution_count": null,
   "id": "e0ec8fba",
   "metadata": {},
   "outputs": [],
   "source": []
  }
 ],
 "metadata": {
  "kernelspec": {
   "display_name": "Python 3 (ipykernel)",
   "language": "python",
   "name": "python3"
  },
  "language_info": {
   "codemirror_mode": {
    "name": "ipython",
    "version": 3
   },
   "file_extension": ".py",
   "mimetype": "text/x-python",
   "name": "python",
   "nbconvert_exporter": "python",
   "pygments_lexer": "ipython3",
   "version": "3.10.1"
  }
 },
 "nbformat": 4,
 "nbformat_minor": 5
}
