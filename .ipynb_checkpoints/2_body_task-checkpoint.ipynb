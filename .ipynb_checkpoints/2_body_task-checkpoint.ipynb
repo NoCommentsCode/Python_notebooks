{
 "cells": [
  {
   "cell_type": "code",
   "execution_count": 1,
   "id": "ed279b7c",
   "metadata": {},
   "outputs": [],
   "source": [
    "import numpy as np\n",
    "import matplotlib.pyplot as plt"
   ]
  },
  {
   "cell_type": "code",
   "execution_count": 2,
   "id": "ed508c0e",
   "metadata": {},
   "outputs": [],
   "source": [
    "# runge-kutta 4\n",
    "def rg4(f, t0, t1, X0, h):\n",
    "    N = int((t1 - t0) / h)\n",
    "    OUT = np.zeros((N, X0.size))\n",
    "    OUT[0] = X0\n",
    "    T = np.linspace(t0, t1, N)\n",
    "    for i in range(0, N - 1):\n",
    "        k1 = f(T[i], OUT[i])\n",
    "        k2 = f(T[i] + h / 3, OUT[i] + k1 * h / 3)\n",
    "        k3 = f(T[i] + 2 * h / 3, OUT[i] - k1 * h / 3 + k2 * h)\n",
    "        k4 = f(T[i] + h, OUT[i] + k1 * h - k2 * h + k3 * h)\n",
    "        OUT[i + 1] = OUT[i] + h * (k1 / 8 + 3 * k2 / 8 + 3 * k3 / 8 + k4 / 8)\n",
    "    return OUT"
   ]
  },
  {
   "cell_type": "code",
   "execution_count": 9,
   "id": "128b02ba",
   "metadata": {},
   "outputs": [],
   "source": [
    "m1, m2 = 1, 1\n",
    "gamma = 3\n",
    "mu = m1 * m2 / (m1 + m2)"
   ]
  },
  {
   "cell_type": "code",
   "execution_count": 18,
   "id": "dc005d3a",
   "metadata": {},
   "outputs": [],
   "source": [
    "x1, y1 = 0, 0\n",
    "x2, y2 = 1, 0\n",
    "Vx1, Vy1 = 0, 1\n",
    "Vx2, Vy2 = 0, -1\n",
    "e = 0.1\n",
    "\n",
    "x = x1 - x2\n",
    "y = y1 - y2\n",
    "Vx = Vx1 - Vx2\n",
    "Vy = Vy1 - Vy2\n",
    "xcm = (x1 * m1 + x2 * m2) / (m1 + m2)\n",
    "ycm = (y1 * m1 + y2 * m2) / (m1 + m2)\n",
    "Vxcm = (Vx1 * m1 + Vx2 * m2) / (m1 + m2)\n",
    "Vycm = (Vy1 * m1 + Vy2 * m2) / (m1 + m2)\n",
    "\n",
    "X_0 = np.array([x, y, Vx, Vy, xcm, ycm, Vxcm, Vycm])"
   ]
  },
  {
   "cell_type": "code",
   "execution_count": 22,
   "id": "07752d09",
   "metadata": {},
   "outputs": [],
   "source": [
    "def F(t, X):\n",
    "    c = -gamma * m1 * m2 / mu\n",
    "    R_sq = X[0] ** 2 + X[1] ** 2\n",
    "    if R_sq < e ** 2:\n",
    "        r3 = e ** 3\n",
    "    else:\n",
    "        r3 = R_sq ** 1.5\n",
    "    return np.array([X[2], X[3], c * X[0] / r3, c * X[1] / r3, X[6], X[7], 0, 0])"
   ]
  },
  {
   "cell_type": "code",
   "execution_count": 23,
   "id": "c7b6a1a1",
   "metadata": {},
   "outputs": [],
   "source": [
    "dt = 0.001\n",
    "T = 10\n",
    "OUT = rg4(F, 0, T, X_0, dt)\n",
    "\n",
    "alpha = m2 / (m1 + m2)\n",
    "beta = m1 / (m1 + m2)\n",
    "X1 = OUT[:, 4] + alpha * OUT[:, 0]\n",
    "Y1 = OUT[:, 5] + alpha * OUT[:, 1]\n",
    "X2 = OUT[:, 4] - beta * OUT[:, 0]\n",
    "Y2 = OUT[:, 5] - beta * OUT[:, 1]"
   ]
  },
  {
   "cell_type": "code",
   "execution_count": 24,
   "id": "4568f0e7",
   "metadata": {},
   "outputs": [
    {
     "data": {
      "image/png": "[encoded data removed]",
      "text/plain": [
       "<Figure size 432x288 with 1 Axes>"
      ]
     },
     "metadata": {
      "needs_background": "light"
     },
     "output_type": "display_data"
    }
   ],
   "source": [
    "t = np.linspace(0, T, int(T / dt))\n",
    "# plt.plot(t, X1)\n",
    "# plt.plot(t, X2)\n",
    "plt.plot(X1, Y1)\n",
    "plt.plot(X2, Y2)\n",
    "plt.show()"
   ]
  },
  {
   "cell_type": "code",
   "execution_count": null,
   "id": "254eac96",
   "metadata": {},
   "outputs": [],
   "source": []
  }
 ],
 "metadata": {
  "kernelspec": {
   "display_name": "Python 3 (ipykernel)",
   "language": "python",
   "name": "python3"
  },
  "language_info": {
   "codemirror_mode": {
    "name": "ipython",
    "version": 3
   },
   "file_extension": ".py",
   "mimetype": "text/x-python",
   "name": "python",
   "nbconvert_exporter": "python",
   "pygments_lexer": "ipython3",
   "version": "3.10.1"
  }
 },
 "nbformat": 4,
 "nbformat_minor": 5
}
