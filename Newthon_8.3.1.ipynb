{
 "cells": [
  {
   "cell_type": "code",
   "execution_count": 1,
   "metadata": {},
   "outputs": [],
   "source": [
    "import numpy as np\n",
    "import matplotlib.pyplot as plt"
   ]
  },
  {
   "cell_type": "code",
   "execution_count": 30,
   "metadata": {},
   "outputs": [],
   "source": [
    "h = 0.5\n",
    "L = 1.\n",
    "N = int(L / h) + 1\n",
    "y_0 = 2.\n",
    "y_1 = 6.25"
   ]
  },
  {
   "cell_type": "code",
   "execution_count": 25,
   "metadata": {},
   "outputs": [],
   "source": [
    "def solve(p):\n",
    "    Y = np.zeros(N, dtype = float)\n",
    "    Y[0] = y_0\n",
    "    Y[1] = p * h + Y[0]\n",
    "    for n in range(2, N):\n",
    "        Y[n] = 2 * Y[n - 1] - Y[n - 2] + h**2 * (Y[n - 1]**2 + 1)\n",
    "    return Y"
   ]
  },
  {
   "cell_type": "code",
   "execution_count": 26,
   "metadata": {},
   "outputs": [],
   "source": [
    "def newthon(p0, eps = 1e-2, dp = 1e-3):\n",
    "    p = p0\n",
    "    i = 0\n",
    "    while True:\n",
    "        i += 1\n",
    "        fp = solve(p)\n",
    "        dfp = (solve(p + dp) - solve(p - dp)) / 2. / dp\n",
    "        p -= (fp[-1] - y_1) / dfp[-1]\n",
    "        if np.abs(fp[-1] - y_1) < eps or i > 1000: return p, fp, i"
   ]
  },
  {
   "cell_type": "code",
   "execution_count": 33,
   "metadata": {},
   "outputs": [
    {
     "name": "stdout",
     "output_type": "stream",
     "text": [
      "p = 1.85641, y_1 = 6.2500000000513207, n = 4\n"
     ]
    },
    {
     "data": {
      "image/png": "[encoded data removed]",
      "text/plain": [
       "<Figure size 432x288 with 1 Axes>"
      ]
     },
     "metadata": {
      "needs_background": "light"
     },
     "output_type": "display_data"
    }
   ],
   "source": [
    "p, Y, n = newthon(1., 1e-6)\n",
    "print('p = %.5f, y_1 = %.16f, n = %d' % (p, Y[-1], n))\n",
    "plt.plot(np.linspace(0, L, N), Y);"
   ]
  },
  {
   "cell_type": "code",
   "execution_count": null,
   "metadata": {},
   "outputs": [],
   "source": []
  }
 ],
 "metadata": {
  "interpreter": {
   "hash": "4996eebd00a08122ec9fc35088ff6eacd9d348c9ed913d07f828c1f49e402493"
  },
  "kernelspec": {
   "display_name": "Python 3.10.1 64-bit",
   "language": "python",
   "name": "python3"
  },
  "language_info": {
   "codemirror_mode": {
    "name": "ipython",
    "version": 3
   },
   "file_extension": ".py",
   "mimetype": "text/x-python",
   "name": "python",
   "nbconvert_exporter": "python",
   "pygments_lexer": "ipython3",
   "version": "3.10.1"
  },
  "orig_nbformat": 4
 },
 "nbformat": 4,
 "nbformat_minor": 2
}
