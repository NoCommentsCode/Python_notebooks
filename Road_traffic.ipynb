{
 "cells": [
  {
   "cell_type": "code",
   "execution_count": 18,
   "metadata": {},
   "outputs": [],
   "source": [
    "import numpy as np\n",
    "import matplotlib.pylab as mpl\n",
    "from matplotlib import pyplot as plt\n",
    "%matplotlib inline"
   ]
  },
  {
   "cell_type": "code",
   "execution_count": 19,
   "metadata": {},
   "outputs": [],
   "source": [
    "def rho_green_light(nx, rho_light):\n",
    "    rho = np.arange(nx) * 2 / nx * rho_light\n",
    "    rho[int((nx - 1) / 2):] = 0\n",
    "    return rho"
   ]
  },
  {
   "cell_type": "code",
   "execution_count": 29,
   "metadata": {},
   "outputs": [],
   "source": [
    "nx = 81\n",
    "nt = 30\n",
    "dx = 4.0 / (nx - 1)\n",
    "x = np.linspace(0., 4., nx)\n",
    "rho_max = 10\n",
    "u_max = 1\n",
    "rho_light = 5\n",
    "rho = rho_green_light(nx, rho_light)\n",
    "\n",
    "#plt.plot(x, rho)"
   ]
  },
  {
   "cell_type": "code",
   "execution_count": 21,
   "metadata": {},
   "outputs": [],
   "source": [
    "def compute(u_max, rho_max, rho):\n",
    "    return u_max * rho * (1 - rho / rho_max)"
   ]
  },
  {
   "cell_type": "code",
   "execution_count": 22,
   "metadata": {},
   "outputs": [],
   "source": [
    "def ftbs(rho, nt, dt, dx, rho_max, u_max):\n",
    "    rho_n = np.zeros((nt, len(rho)))\n",
    "    rho_n[0, :] = rho.copy()\n",
    "    \n",
    "    for t in range(1, nt):\n",
    "        F = compute(u_max, rho_max, rho)\n",
    "        rho_n[t, 1:] = rho[1:] - dt / dx * (F[1:] - F[:-1])\n",
    "        rho_n[t, 0] = rho[0]\n",
    "        rho = rho_n[t].copy()\n",
    "        \n",
    "    return rho_n"
   ]
  },
  {
   "cell_type": "code",
   "execution_count": 30,
   "metadata": {},
   "outputs": [
    {
     "data": {
      "text/plain": [
       "[<matplotlib.lines.Line2D at 0x185aa997850>]"
      ]
     },
     "execution_count": 30,
     "metadata": {},
     "output_type": "execute_result"
    },
    {
     "data": {
      "image/png": "[encoded data removed]",
      "text/plain": [
       "<Figure size 432x288 with 1 Axes>"
      ]
     },
     "metadata": {
      "needs_background": "light"
     },
     "output_type": "display_data"
    }
   ],
   "source": [
    "sigma = 1\n",
    "dt = sigma * dx\n",
    "rho_n = ftbs(rho, nt, dt, dx, rho_max, u_max)\n",
    "\n",
    "plt.plot(x, rho_n[-1, :])"
   ]
  },
  {
   "cell_type": "code",
   "execution_count": null,
   "metadata": {},
   "outputs": [],
   "source": []
  }
 ],
 "metadata": {
  "kernelspec": {
   "display_name": "Python 3 (ipykernel)",
   "language": "python",
   "name": "python3"
  },
  "language_info": {
   "codemirror_mode": {
    "name": "ipython",
    "version": 3
   },
   "file_extension": ".py",
   "mimetype": "text/x-python",
   "name": "python",
   "nbconvert_exporter": "python",
   "pygments_lexer": "ipython3",
   "version": "3.10.1"
  }
 },
 "nbformat": 4,
 "nbformat_minor": 4
}
