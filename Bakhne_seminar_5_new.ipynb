{
 "cells": [
  {
   "cell_type": "code",
   "execution_count": 2,
   "id": "df14a64a",
   "metadata": {},
   "outputs": [],
   "source": [
    "import numpy as np\n",
    "from matplotlib import pyplot as plt\n",
    "from tqdm import trange"
   ]
  },
  {
   "cell_type": "markdown",
   "id": "968b96ba",
   "metadata": {},
   "source": [
    "$\\frac{\\partial U}{\\partial t} + U\\frac{\\partial U}{\\partial x} = 0$"
   ]
  },
  {
   "cell_type": "code",
   "execution_count": 3,
   "id": "00dfa474",
   "metadata": {},
   "outputs": [],
   "source": [
    "def flux(U):\n",
    "    return 0.5 * U ** 2"
   ]
  },
  {
   "cell_type": "code",
   "execution_count": 5,
   "id": "ef485e26",
   "metadata": {},
   "outputs": [],
   "source": [
    "# space-derivative approximation functions\n",
    "from central_diference import generate_cd\n",
    "cd_2 = generate_cd(2).get_cd_as_function()\n",
    "cd_4 = generate_cd(4).get_cd_as_function()\n",
    "cd_6 = generate_cd(6).get_cd_as_function()\n",
    "cd_8 = generate_cd(8).get_cd_as_function()\n",
    "\n",
    "def CD_2(U, h): return -U * cd_2(U, h)\n",
    "def CD_4(U, h): return -U * cd_4(U, h)\n",
    "def CD_6(U, h): return -U * cd_6(U, h)\n",
    "def CD_8(U, h): return -U * cd_8(U, h)\n",
    "\n",
    "from weno import weno_5, weno_m_5, weno_z_5, weno_zm_5\n",
    "def WENO_5(U, h): return -U * weno_5(U, h)\n",
    "def WENO_M_5(U, h): return -U * weno_m_5(U, h)\n",
    "def WENO_Z_5(U, h): return -U * weno_z_5(U, h)\n",
    "def WENO_ZM_5(U, h): return -U * weno_zm_5(U, h)"
   ]
  },
  {
   "cell_type": "code",
   "execution_count": 7,
   "id": "3fa2d5f5",
   "metadata": {},
   "outputs": [],
   "source": [
    "# time-derivative approximation functions\n",
    "from runge_kutta import runge_kutta_function\n",
    "rk_8 = runge_kutta_function(8)\n",
    "\n",
    "def RK_8(U, h, r, Deriv):\n",
    "    dt = r * h\n",
    "    return rk_8(U, dt, Deriv, (h,)), dt"
   ]
  },
  {
   "cell_type": "code",
   "execution_count": 8,
   "id": "e1e9e3e7",
   "metadata": {},
   "outputs": [],
   "source": [
    "class SolverHopf:\n",
    "    def __init__(self, h, r, T = 20.):\n",
    "        self.h = h\n",
    "        self.r = r\n",
    "        self.x = np.linspace(0, 3000, int(3000 // h) + 1)\n",
    "        self.U = np.zeros_like(self.x)\n",
    "        self.U_ex = np.zeros_like(self.x)\n",
    "        self.T = T\n",
    "    def initial(self):\n",
    "        x0 = int(1480 / self.h)\n",
    "        x1 = int(1520 / self.h)\n",
    "        self.U[:x0] = 1.\n",
    "        self.U[x1:] = -1.\n",
    "        self.U[x0:x1] = -self.x[x0:x1] / 20. + 75. #np.linspace(1., -1., x1 - x0)\n",
    "        if self.T < 20.:\n",
    "            x0 = int(1480 / self.h) + int(self.T / self.h)\n",
    "            x1 = int(1520 / self.h) - int(self.T / self.h)\n",
    "            self.U_ex[:x0] = 1.\n",
    "            self.U_ex[x1:] = -1.\n",
    "            k = 2. / (self.x[x0] - self.x[x1])\n",
    "            b = 1. - k * self.x[x0]\n",
    "            self.U_ex[x0:x1] = k * self.x[x0:x1] + b #np.linspace(1., -1., x1 - x0)\n",
    "        else:\n",
    "            mid = int(1500. / self.h)\n",
    "            self.U_ex[:mid] = 1.\n",
    "            self.U_ex[mid] = 0.\n",
    "            self.U_ex[mid + 1:] = -1.\n",
    "    def solve(self, F, Deriv):\n",
    "        self.U, dt = F(self.U, self.h, self.r, Deriv)\n",
    "        Nt = int(self.T / dt)\n",
    "        for i in trange(Nt):\n",
    "            if i == 0: continue\n",
    "            self.U, dt = F(self.U, self.h, self.r, Deriv)\n",
    "    def error(self):\n",
    "        x0 = int(1480 / self.h)\n",
    "        x1 = int(1520 / self.h)\n",
    "        intLdh = int(50 / self.h)\n",
    "        return np.sqrt(np.sum((self.U[x0 - intLdh: x1 + intLdh] - self.U_ex[x0 - intLdh: x1 + intLdh]) ** 2 * self.h))\n",
    "    def draw(self, axs, ylabel):\n",
    "        x0 = int(1480 / self.h)\n",
    "        x1 = int(1520 / self.h)\n",
    "        x0 += int(self.T / self.h)\n",
    "        x1 -= int(self.T / self.h)\n",
    "        lim = 1.5 if self.T <= 20. else 4\n",
    "        axs.set_ylim([-lim, lim])\n",
    "        intLdh = int(100 / self.h)\n",
    "        axs.plot(self.x[x0 - intLdh: x1 + intLdh], self.U[x0 - intLdh: x1 + intLdh], label = ylabel)\n",
    "        axs.set_xlabel('x')\n",
    "        axs.set_ylabel('U')\n",
    "        axs.legend()\n",
    "    def draw_exact(self, axs):\n",
    "        x0 = int(1480 / self.h)\n",
    "        x1 = int(1520 / self.h)\n",
    "        x0 += int(self.T / self.h)\n",
    "        x1 -= int(self.T / self.h)\n",
    "        lim = lim = 1.5 if self.T <= 20. else 4\n",
    "        axs.set_ylim([-lim, lim])\n",
    "        intLdh = int(100 / self.h)\n",
    "        axs.plot(self.x[x0 - intLdh: x1 + intLdh], self.U_ex[x0 - intLdh: x1 + intLdh], '--', label = 'exact')\n",
    "        axs.set_xlabel('x')\n",
    "        axs.set_ylabel('U')\n",
    "        axs.legend()"
   ]
  },
  {
   "cell_type": "code",
   "execution_count": 9,
   "id": "0dd7f0c7",
   "metadata": {},
   "outputs": [],
   "source": [
    "def solve_for_different_F(H, r, T, deriv_t, deriv_x_array):\n",
    "    fig = plt.figure(figsize = (20, 25))\n",
    "    axs = fig.add_subplot(211)\n",
    "    axs.grid()\n",
    "    solver = SolverHopf(H, r, T)\n",
    "    for deriv in deriv_x_array:\n",
    "        solver.initial()\n",
    "        solver.solve(deriv_t, deriv)\n",
    "        ylabel = str(deriv_t).split(' ')[1] + '+' + str(deriv).split(' ')[1]\n",
    "        solver.draw(axs, ylabel)\n",
    "        print(solver.error())\n",
    "    solver.draw_exact(axs)"
   ]
  },
  {
   "cell_type": "code",
   "execution_count": 12,
   "id": "97883f6f",
   "metadata": {},
   "outputs": [
    {
     "name": "stderr",
     "output_type": "stream",
     "text": [
      "100%|██████████| 80/80 [00:00<00:00, 258.69it/s]\n"
     ]
    },
    {
     "name": "stdout",
     "output_type": "stream",
     "text": [
      "3.813116698935658e-13\n"
     ]
    },
    {
     "name": "stderr",
     "output_type": "stream",
     "text": [
      "100%|██████████| 80/80 [00:00<00:00, 132.16it/s]\n"
     ]
    },
    {
     "name": "stdout",
     "output_type": "stream",
     "text": [
      "6.552526509629715e-14\n"
     ]
    },
    {
     "name": "stderr",
     "output_type": "stream",
     "text": [
      "100%|██████████| 80/80 [00:00<00:00, 199.93it/s]\n"
     ]
    },
    {
     "name": "stdout",
     "output_type": "stream",
     "text": [
      "2.831809417652678e-13\n"
     ]
    },
    {
     "name": "stderr",
     "output_type": "stream",
     "text": [
      "100%|██████████| 80/80 [00:00<00:00, 118.76it/s]\n"
     ]
    },
    {
     "name": "stdout",
     "output_type": "stream",
     "text": [
      "4.6019112657938405e-14\n"
     ]
    },
    {
     "data": {
      "image/png": "[encoded data removed]",
      "text/plain": [
       "<Figure size 1440x1800 with 1 Axes>"
      ]
     },
     "metadata": {
      "needs_background": "light"
     },
     "output_type": "display_data"
    }
   ],
   "source": [
    "r = .5\n",
    "T = 40.\n",
    "H = 1.\n",
    "\n",
    "#solve_for_different_F(H, r, T, RK_8, [CD_2, CD_4, CD_6, CD_8, WENO_5])\n",
    "solve_for_different_F(H, r, T, RK_8, [WENO_5, WENO_M_5, WENO_Z_5, WENO_ZM_5])"
   ]
  },
  {
   "cell_type": "code",
   "execution_count": null,
   "id": "934511e5",
   "metadata": {},
   "outputs": [],
   "source": []
  }
 ],
 "metadata": {
  "interpreter": {
   "hash": "d6dea22c7ded492420265be4ebcc3197ea0b6febfe0e3742e811a049b88a6492"
  },
  "kernelspec": {
   "display_name": "Python 3.10.1 64-bit",
   "language": "python",
   "name": "python3"
  },
  "language_info": {
   "codemirror_mode": {
    "name": "ipython",
    "version": 3
   },
   "file_extension": ".py",
   "mimetype": "text/x-python",
   "name": "python",
   "nbconvert_exporter": "python",
   "pygments_lexer": "ipython3",
   "version": "3.10.1"
  }
 },
 "nbformat": 4,
 "nbformat_minor": 5
}
