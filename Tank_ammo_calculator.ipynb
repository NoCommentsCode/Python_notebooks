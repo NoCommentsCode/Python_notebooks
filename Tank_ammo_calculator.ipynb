{
 "cells": [
  {
   "cell_type": "code",
   "execution_count": 19,
   "metadata": {},
   "outputs": [],
   "source": [
    "import numpy as np\n",
    "from matplotlib import pyplot as plt"
   ]
  },
  {
   "cell_type": "code",
   "execution_count": 24,
   "metadata": {},
   "outputs": [],
   "source": [
    "def get_coordinates(p_near, p_far):\n",
    "    x = np.linspace(0, 1500, 150)\n",
    "    y = np.zeros(150)\n",
    "    idx_near = int(p_near[0] / 10)\n",
    "    idx_far = int(p_far[0] / 10)\n",
    "    y[idx_near:idx_far] = np.interp(x[idx_near:idx_far], [p_near[0], p_far[0]], [p_near[1], p_far[1]])\n",
    "    y[:idx_near] = y[idx_near]\n",
    "    y[idx_far:] = y[-1]\n",
    "    return x, y"
   ]
  },
  {
   "cell_type": "code",
   "execution_count": 33,
   "metadata": {},
   "outputs": [
    {
     "data": {
      "image/png": "[encoded data removed]",
      "text/plain": [
       "<Figure size 432x288 with 1 Axes>"
      ]
     },
     "metadata": {
      "needs_background": "light"
     },
     "output_type": "display_data"
    }
   ],
   "source": [
    "x0, y0 = get_coordinates([10, 99], [1500, 9.9])\n",
    "x1, y1 = get_coordinates([10, 67.5], [1500, 67.5])\n",
    "plt.plot(x0, y0)\n",
    "plt.plot(x1, y1)\n",
    "idx = np.argwhere(np.diff(np.sign(y1 - y0))).flatten()\n",
    "plt.plot(x[idx], y0[idx], 'ro')\n",
    "plt.show()"
   ]
  },
  {
   "cell_type": "code",
   "execution_count": null,
   "metadata": {},
   "outputs": [],
   "source": []
  }
 ],
 "metadata": {
  "kernelspec": {
   "display_name": "Python 3",
   "language": "python",
   "name": "python3"
  },
  "language_info": {
   "codemirror_mode": {
    "name": "ipython",
    "version": 3
   },
   "file_extension": ".py",
   "mimetype": "text/x-python",
   "name": "python",
   "nbconvert_exporter": "python",
   "pygments_lexer": "ipython3",
   "version": "3.9.0"
  }
 },
 "nbformat": 4,
 "nbformat_minor": 4
}
