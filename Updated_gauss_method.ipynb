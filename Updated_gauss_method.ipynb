{
 "cells": [
  {
   "cell_type": "code",
   "execution_count": 1,
   "metadata": {},
   "outputs": [],
   "source": [
    "import numpy as np\n",
    "from matplotlib import pyplot as plt"
   ]
  },
  {
   "cell_type": "code",
   "execution_count": 10,
   "metadata": {},
   "outputs": [],
   "source": [
    "def gauss_method(A, b):\n",
    "    n = A.shape[0]\n",
    "    x = np.zeros(n)\n",
    "    if n != b.size:\n",
    "        return x\n",
    "    for i in range(0, n):\n",
    "        if A[i][i] == 0:\n",
    "            for j in range(0, n):\n",
    "                if A[j][i] != 0 and A[i][j] != 0:\n",
    "                    t = A[i].copy()\n",
    "                    A[i] = A[j].copy()\n",
    "                    A[j] = t.copy()\n",
    "                    p = b[i]\n",
    "                    b[i] = b[j]\n",
    "                    b[j] = p\n",
    "                    break\n",
    "    for i in range(0, n - 1):\n",
    "        for j in range(i + 1, n):\n",
    "            c = A[j][i]\n",
    "            A[j] -= A[i] * c / A[i][i]\n",
    "            b[j] -= b[i] * c / A[i][i]\n",
    "    for i in range(n - 1, -1, -1):\n",
    "        s = 0\n",
    "        for j in range(i + 1, n):\n",
    "            s += A[i][j] * x[j]\n",
    "        x[i] = (b[i] - s) / A[i][i]\n",
    "    return x"
   ]
  },
  {
   "cell_type": "code",
   "execution_count": 11,
   "metadata": {},
   "outputs": [],
   "source": [
    "#A = np.array([[1, 2, 0], [3, 4, 5], [0, 6, 7]], dtype = float)\n",
    "A = np.array([[0, 6, 7], [3, 4, 5], [1, 2, 0]], dtype = float)\n",
    "b = np.array([5, 6, 5], dtype = float)"
   ]
  },
  {
   "cell_type": "code",
   "execution_count": 12,
   "metadata": {},
   "outputs": [
    {
     "name": "stdout",
     "output_type": "stream",
     "text": [
      "[ 1.  2. -1.]\n"
     ]
    }
   ],
   "source": [
    "x = gauss_method(A, b)\n",
    "print(x)"
   ]
  }
 ],
 "metadata": {
  "kernelspec": {
   "display_name": "Python 3",
   "language": "python",
   "name": "python3"
  },
  "language_info": {
   "codemirror_mode": {
    "name": "ipython",
    "version": 3
   },
   "file_extension": ".py",
   "mimetype": "text/x-python",
   "name": "python",
   "nbconvert_exporter": "python",
   "pygments_lexer": "ipython3",
   "version": "3.9.0"
  }
 },
 "nbformat": 4,
 "nbformat_minor": 4
}
