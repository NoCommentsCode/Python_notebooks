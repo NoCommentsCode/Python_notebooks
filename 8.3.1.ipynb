{
 "cells": [
  {
   "cell_type": "code",
   "execution_count": 3,
   "metadata": {},
   "outputs": [
    {
     "data": {
      "text/plain": [
       "'\\n№ 8.3.1\\n\\ny\"=y^2+1\\n(y[n+1]-2y[n]+y[n-1])/h^2=y[n]^2+1\\ny[0]=2\\ny[-1]=6.25\\n\\n(y[1]-y[0])/h=a\\n\\n'"
      ]
     },
     "execution_count": 3,
     "metadata": {},
     "output_type": "execute_result"
    }
   ],
   "source": [
    "\"\"\"\n",
    "№ 8.3.1\n",
    "\n",
    "y\"=y^2+1\n",
    "(y[n+1]-2y[n]+y[n-1])/h^2=y[n]^2+1\n",
    "y[0]=2\n",
    "y[-1]=6.25\n",
    "\n",
    "(y[1]-y[0])/h=a\n",
    "\n",
    "\"\"\""
   ]
  },
  {
   "cell_type": "code",
   "execution_count": 4,
   "metadata": {},
   "outputs": [],
   "source": [
    "import numpy as np\n",
    "import matplotlib.pyplot as plt"
   ]
  },
  {
   "cell_type": "code",
   "execution_count": 5,
   "metadata": {},
   "outputs": [],
   "source": [
    "h = 0.0001\n",
    "N = 10000\n",
    "y_0 = 2.\n",
    "y_1 = 6.25"
   ]
  },
  {
   "cell_type": "code",
   "execution_count": 6,
   "metadata": {},
   "outputs": [],
   "source": [
    "def solve(p):\n",
    "    Y = np.zeros(N, dtype = float)\n",
    "    Y[0] = y_0\n",
    "    Y[1] = p * h + Y[0]\n",
    "    for n in range(2, N):\n",
    "        Y[n] = 2 * Y[n - 1] - Y[n - 2] + h**2 * (Y[n - 1]**2 + 1)\n",
    "    return Y"
   ]
  },
  {
   "cell_type": "code",
   "execution_count": 7,
   "metadata": {},
   "outputs": [],
   "source": [
    "def solve_with_different_params(P):\n",
    "    Y_best = solve(P[0])\n",
    "    p_best = P[0]\n",
    "    y_best = Y_best[-1]\n",
    "    for p in P[1:]:\n",
    "        Y = solve(p)\n",
    "        if np.abs(Y[-1] - y_1) < np.abs(y_best - y_1):\n",
    "            y_best = Y[-1]\n",
    "            p_best = p\n",
    "            Y_best = Y\n",
    "    return Y_best, p_best"
   ]
  },
  {
   "cell_type": "code",
   "execution_count": 8,
   "metadata": {},
   "outputs": [
    {
     "name": "stdout",
     "output_type": "stream",
     "text": [
      "p_best = 0.19597989949748745 \t Y[-1] = 6.247536726526142\n"
     ]
    },
    {
     "data": {
      "image/png": "[encoded data removed]",
      "text/plain": [
       "<Figure size 432x288 with 1 Axes>"
      ]
     },
     "metadata": {
      "needs_background": "light"
     },
     "output_type": "display_data"
    }
   ],
   "source": [
    "P = np.linspace(0, 1, 200)\n",
    "Y, p = solve_with_different_params(P)\n",
    "X = np.linspace(0, 1, N, dtype = float)\n",
    "plt.plot(X, Y)\n",
    "print(\"p_best =\", p, \"\\t\", \"Y[-1] =\", Y[-1])"
   ]
  },
  {
   "cell_type": "code",
   "execution_count": 20,
   "metadata": {},
   "outputs": [],
   "source": [
    "def interp(X, Y, XQ):\n",
    "    def line(xl, xr, yl, yr, x):\n",
    "        return (yr * (x - xl) + yl * (xr - x)) / (xr - xl)\n",
    "    YQ = np.zeros_like(XQ)\n",
    "    YQ = np.zeros_like(XQ)\n",
    "    for j in range(XQ.size):\n",
    "        if XQ[j] <= X[0]:\n",
    "            YQ[j] = line(X[0], X[1], Y[0], Y[1], XQ[j])\n",
    "        elif XQ[j] > X[-1]:\n",
    "            YQ[j] = line(X[-2], X[-1], Y[-2], Y[-1], XQ[j])\n",
    "        else:\n",
    "            for i in range(0, X.size - 1):\n",
    "                if X[i] < XQ[j] <= X[i + 1]:\n",
    "                    YQ[j] = line(X[i], X[i + 1], Y[i], Y[i + 1], XQ[j])\n",
    "                    break\n",
    "    return YQ"
   ]
  },
  {
   "cell_type": "code",
   "execution_count": 23,
   "metadata": {},
   "outputs": [
    {
     "data": {
      "text/plain": [
       "[<matplotlib.lines.Line2D at 0x12ad2ddff70>]"
      ]
     },
     "execution_count": 23,
     "metadata": {},
     "output_type": "execute_result"
    },
    {
     "data": {
      "image/png": "[encoded data removed]",
      "text/plain": [
       "<Figure size 432x288 with 1 Axes>"
      ]
     },
     "metadata": {
      "needs_background": "light"
     },
     "output_type": "display_data"
    }
   ],
   "source": [
    "X = np.arange(1, 5, 0.5)\n",
    "Y = np.sin(X)\n",
    "XQ = np.array([-1, 0, 1.5, 2, 2.5, 3.5, 4.5, 6, 7])\n",
    "YQ = interp(X, Y, XQ)\n",
    "plt.plot(X, Y)\n",
    "plt.plot(XQ, YQ)"
   ]
  },
  {
   "cell_type": "code",
   "execution_count": null,
   "metadata": {},
   "outputs": [],
   "source": [
    "import sys\n",
    "\n",
    "with open('somefilename.txt', 'w') as fid:\n",
    "        sys.stdout = fid\n",
    "        print('#s    \\n','Layout')\n",
    "        print('#s    \\n','  HT    Fin')\n",
    "        print('#10.0f   #10.0f \\n',123,3456)\n",
    "        print('#s    \\n','Wing Section')\n",
    "        #\n",
    "        # Wing\n",
    "        #\n",
    "        # thickw=[0.15 0.12 0.11 0.10 0.10 0.10 0.10]\n",
    "        # epsw=[3. 2. 1. 0. -1. -1.5 -2.]\n",
    "        #\n",
    "        #\n",
    "        print('#s   #10.5f \\n','ARW=     ',23.45)\n",
    "        sys.stdout = original_stdout"
   ]
  },
  {
   "cell_type": "code",
   "execution_count": null,
   "metadata": {},
   "outputs": [],
   "source": []
  }
 ],
 "metadata": {
  "kernelspec": {
   "display_name": "Python 3 (ipykernel)",
   "language": "python",
   "name": "python3"
  },
  "language_info": {
   "codemirror_mode": {
    "name": "ipython",
    "version": 3
   },
   "file_extension": ".py",
   "mimetype": "text/x-python",
   "name": "python",
   "nbconvert_exporter": "python",
   "pygments_lexer": "ipython3",
   "version": "3.10.1"
  }
 },
 "nbformat": 4,
 "nbformat_minor": 4
}
