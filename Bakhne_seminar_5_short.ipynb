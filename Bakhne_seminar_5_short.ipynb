{
 "cells": [
  {
   "cell_type": "code",
   "execution_count": 2,
   "id": "df14a64a",
   "metadata": {},
   "outputs": [],
   "source": [
    "import numpy as np\n",
    "from matplotlib import pyplot as plt\n",
    "from tqdm import trange"
   ]
  },
  {
   "cell_type": "markdown",
   "id": "968b96ba",
   "metadata": {},
   "source": [
    "$\\frac{dU}{dt} + U\\frac{dU}{dx} = 0\\\\\n",
    "\\frac{dU}{dt} + U\\frac{dU}{dx} = \\frac{d^2U}{dx^2}$"
   ]
  },
  {
   "cell_type": "markdown",
   "id": "afad0420",
   "metadata": {},
   "source": [
    "$\\frac{dU}{dt} + \\frac{dflux(U)}{dx} = dissipation(U)$"
   ]
  },
  {
   "cell_type": "code",
   "execution_count": 3,
   "id": "00dfa474",
   "metadata": {},
   "outputs": [],
   "source": [
    "def flux(U):\n",
    "    return 0.5 * U ** 2\n",
    "def dissipation(U, h):\n",
    "    U_n = np.zeros_like(U)\n",
    "    U_n[1:-1] = (U[2:] - 2. * U[1:-1] + U[:-2]) / h ** 2\n",
    "    U_n[0] = U_n[1]\n",
    "    U_n[-1] = U_n[-2]\n",
    "    return U_n"
   ]
  },
  {
   "cell_type": "code",
   "execution_count": 4,
   "id": "ef485e26",
   "metadata": {},
   "outputs": [],
   "source": [
    "# space-derivative approximation functions\n",
    "\n",
    "#def right_1(U, h):\n",
    "#    return (flux(U)[1:] - flux(U)[:-1]) / h, 1, None\n",
    "#def right_2(U, h):\n",
    "#    return (flux(U)[0:-2] - 4 * flux(U)[1:-1] + 3 * flux(U)[2:]) / h / 2., 2, None\n",
    "def central_2(U, h, nu):\n",
    "    return -U[1:-1] * (U[2:] - U[:-2]) / 2. / h + nu * dissipation(U, h)[1:-1], 1, -1\n",
    "def central_4(U, h, nu):\n",
    "    return -U[2:-2] * (U[:-4] - U[4:] + 8. * (U[3:-1] - U[1:-3])) / 12. / h + nu * dissipation(U, h)[2:-2], 2, -2\n",
    "def central_6(U, h, nu):\n",
    "    return -U[3:-3] * (U[6:] - U[:-6] + 9. * (U[1:-5] - U[5:-1]) + 45. * (U[4:-2] - U[2:-4])) / 60. / h + nu * dissipation(U, h)[3:-3], 3, -3\n",
    "def weno_5(U, h, nu):\n",
    "    N = U.size\n",
    "    C = np.array([[1./3., 5./6., -1./6.],\n",
    "                  [-1./6., 5./6., 1./3.],\n",
    "                  [1./3., -7./6., 11./6.]])\n",
    "    C_wave = C[::-1, ::-1]\n",
    "    Beta = np.zeros((3, N - 6))\n",
    "    Beta[0, :] = 13./12. * (U[3:-3] - 2. * U[4:-2] + U[5:-1]) ** 2 + 1./4. * (3. * U[3:-3] - 4. * U[4:-2] + U[5:-1]) ** 2\n",
    "    Beta[1, :] = 13./12. * (U[2:-4] - 2. * U[3:-3] + U[4:-2]) ** 2 + 1./4. * (U[2:-4] - U[4:-2]) ** 2\n",
    "    Beta[2, :] = 13./12. * (U[1:-5] - 2. * U[2:-4] + U[3:-3]) ** 2 + 1./4. * (U[1:-5] - 4. * U[2:-4] + 3. * U[3:-3]) ** 2\n",
    "    Beta_wave = Beta[::-1, ::-1]\n",
    "    \n",
    "    d = np.array([0.3, 0.6, 0.1])\n",
    "    d_wave = d[::-1]\n",
    "    eps = 1e-20\n",
    "    alpha = d / (eps + Beta.T) ** 2\n",
    "    alpha_wave = d_wave / (eps + Beta_wave.T) ** 2\n",
    "    W = alpha.T / np.sum(alpha, axis = 1)\n",
    "    W_wave = alpha_wave.T / np.sum(alpha_wave, axis = 1)\n",
    "    \n",
    "    U_R = np.copy(U)\n",
    "    U_L = np.copy(U)\n",
    "\n",
    "    U_R[3:-3] += W[0, :] * np.convolve(U[3:-1], C[0, ::-1], 'valid') + \\\n",
    "                 W[1, :] * np.convolve(U[2:-2], C[1, ::-1], 'valid') + \\\n",
    "                 W[2, :] * np.convolve(U[1:-3], C[2, ::-1], 'valid')\n",
    "    U_L[3:-3] += W_wave[0, :] * np.convolve(U[3:-1], C_wave[0, ::-1], 'valid') + \\\n",
    "                 W_wave[1, :] * np.convolve(U[2:-2], C_wave[1, ::-1], 'valid') + \\\n",
    "                 W_wave[2, :] * np.convolve(U[1:-3], C_wave[2, ::-1], 'valid')\n",
    "    \n",
    "    U_big = np.zeros(len(U) + 1)\n",
    "    U_big[0] = U_L[0]\n",
    "    U_big[-1] = U_R[-1]\n",
    "    S = 0.5 * (U_L[1:] + U_R[:-1])\n",
    "    U_big[1:-1][S > 0] = U_R[:-1][S > 0]\n",
    "    U_big[1:-1][S < 0] = U_L[1:][ S < 0]\n",
    "    U_big[1:-1][S == 0] = 0\n",
    "    Flux = -0.5 * (U_big[1:] ** 2 - U_big[:-1] ** 2) / h + nu * dissipation(U, h)\n",
    "    return Flux, 0, None"
   ]
  },
  {
   "cell_type": "code",
   "execution_count": 5,
   "id": "3fa2d5f5",
   "metadata": {},
   "outputs": [],
   "source": [
    "# time-derivative approximation functions\n",
    "\n",
    "def runge_kutta_7(U, h, r, Deriv, nu):\n",
    "    dt = r * h\n",
    "    k1 = np.zeros_like(U)\n",
    "    k2 = np.zeros_like(U)\n",
    "    k3 = np.zeros_like(U)\n",
    "    k4 = np.zeros_like(U)\n",
    "    k5 = np.zeros_like(U)\n",
    "    k6 = np.zeros_like(U)\n",
    "    k7 = np.zeros_like(U)\n",
    "    k8 = np.zeros_like(U)\n",
    "    k9 = np.zeros_like(U)\n",
    "    temp1, idx_l, idx_r = Deriv(U, h, nu)\n",
    "    k1[idx_l:idx_r] = temp1\n",
    "    temp2, idx_l, idx_r = Deriv(U + dt * k1  / 6.0, h, nu)\n",
    "    k2[idx_l:idx_r] = temp2\n",
    "    temp3, idx_l, idx_r = Deriv(U + dt * k2  / 3.0, h, nu)\n",
    "    k3[idx_l:idx_r] = temp3\n",
    "    temp4, idx_l, idx_r = Deriv(U + dt * k1  / 8.0 + dt * k3 * 3.0  / 8.0, h, nu)\n",
    "    k4[idx_l:idx_r] = temp4\n",
    "    temp5, idx_l, idx_r = Deriv(U + dt * k1 * 148.0  / 1331.0 + dt * k3 * 150.0  / 1331.0 - dt * k4 * 56.0  / 1331.0, h, nu)\n",
    "    k5[idx_l:idx_r] = temp5\n",
    "    temp6, idx_l, idx_r = Deriv(U - dt * k1 * 404.0  / 243.0 - dt * k3 * 170.0  / 27.0 + dt * k4 * 4024.0  / 1701.0 + dt * k5 * 10648.0  / 1701.0, h, nu)\n",
    "    k6[idx_l:idx_r] = temp6\n",
    "    temp7, idx_l, idx_r = Deriv(U + dt * k1 * 2466.0  / 2401.0 + dt * k3 * 1242.0  / 343.0 - dt * k4 * 19176.0  / 16807.0 - dt * k5 * 51909.0  / 16807.0 + dt * k6 * 1053.0  / 2401.0, h, nu)\n",
    "    k7[idx_l:idx_r] = temp7\n",
    "    temp8, idx_l, idx_r = Deriv(U + dt * k1 * 5.0  / 154.0 + dt * k4 * 96.0  / 539.0 - dt * k5 * 1815.0  / 20384.0 - dt * k6 * 405.0  / 2464.0 + dt * k7 * 49.0  / 1144.0, h, nu)\n",
    "    k8[idx_l:idx_r] = temp8\n",
    "    temp9, idx_l, idx_r = Deriv(U - dt * k1 * 113.0  / 32.0 - dt * k3 * 195.0  / 22.0 + dt * k4 * 32.0  / 7.0 + dt * k5 * 29403.0  / 3584.0 - dt * k6 * 729.0  / 512.0 + dt * k7 * 1029.0  / 1408.0 + dt * k8 * 21.0  / 16.0, h, nu)\n",
    "    k9[idx_l:idx_r] = temp9\n",
    "    return U + dt * k4 * 32.0  / 105.0 + dt * k5 * 1771561.0  / 6289920.0 + dt * k6 * 243.0  / 2560.0 + dt * k7 * 16807.0  / 74880.0 + dt * k8 * 77.0  / 1440.0 + dt * k9 * 11.0  / 270.0, dt, 0, None"
   ]
  },
  {
   "cell_type": "code",
   "execution_count": 6,
   "id": "11e232cc",
   "metadata": {},
   "outputs": [
    {
     "data": {
      "text/plain": [
       "[<matplotlib.lines.Line2D at 0x217adf10730>]"
      ]
     },
     "execution_count": 6,
     "metadata": {},
     "output_type": "execute_result"
    },
    {
     "data": {
      "image/png": "[encoded data removed]",
      "text/plain": [
       "<Figure size 432x288 with 1 Axes>"
      ]
     },
     "metadata": {
      "needs_background": "light"
     },
     "output_type": "display_data"
    }
   ],
   "source": [
    "h = 0.5\n",
    "L = 3000\n",
    "r = 0.5\n",
    "T = 10\n",
    "nu = 0\n",
    "\n",
    "Nx = int(L / h)\n",
    "U = np.zeros(Nx)\n",
    "x0 = int(Nx / 2) - int(20 / h)\n",
    "x1 = x0 + int(40 / h)\n",
    "U[:x0] = 1.\n",
    "U[x1:] = -1.\n",
    "for x in range(x0, x1):\n",
    "    U[x] = 2. * x / (x0 - x1) + (1. - 2. * x0 / (x0 - x1))\n",
    "x = np.linspace(0, L, Nx)\n",
    "plt.plot(x, U)"
   ]
  },
  {
   "cell_type": "code",
   "execution_count": 7,
   "id": "8125fea3",
   "metadata": {},
   "outputs": [
    {
     "name": "stderr",
     "output_type": "stream",
     "text": [
      "  0%|          | 0/40 [00:00<?, ?it/s]C:\\Users\\dmdrf\\AppData\\Local\\Temp/ipykernel_11924/2388187395.py:28: RuntimeWarning: overflow encountered in square\n",
      "  alpha = d / (eps + Beta.T) ** 2\n",
      "C:\\Users\\dmdrf\\AppData\\Local\\Temp/ipykernel_11924/2388187395.py:29: RuntimeWarning: overflow encountered in square\n",
      "  alpha_wave = d_wave / (eps + Beta_wave.T) ** 2\n",
      "C:\\Users\\dmdrf\\AppData\\Local\\Temp/ipykernel_11924/2388187395.py:30: RuntimeWarning: invalid value encountered in true_divide\n",
      "  W = alpha.T / np.sum(alpha, axis = 1)\n",
      "C:\\Users\\dmdrf\\AppData\\Local\\Temp/ipykernel_11924/2388187395.py:31: RuntimeWarning: invalid value encountered in true_divide\n",
      "  W_wave = alpha_wave.T / np.sum(alpha_wave, axis = 1)\n",
      "C:\\Users\\dmdrf\\AppData\\Local\\Temp/ipykernel_11924/2388187395.py:20: RuntimeWarning: overflow encountered in square\n",
      "  Beta[0, :] = 13./12. * (U[3:-3] - 2. * U[4:-2] + U[5:-1]) ** 2 + 1./4. * (3. * U[3:-3] - 4. * U[4:-2] + U[5:-1]) ** 2\n",
      "C:\\Users\\dmdrf\\AppData\\Local\\Temp/ipykernel_11924/2388187395.py:21: RuntimeWarning: overflow encountered in square\n",
      "  Beta[1, :] = 13./12. * (U[2:-4] - 2. * U[3:-3] + U[4:-2]) ** 2 + 1./4. * (U[2:-4] - U[4:-2]) ** 2\n",
      "C:\\Users\\dmdrf\\AppData\\Local\\Temp/ipykernel_11924/2388187395.py:22: RuntimeWarning: overflow encountered in square\n",
      "  Beta[2, :] = 13./12. * (U[1:-5] - 2. * U[2:-4] + U[3:-3]) ** 2 + 1./4. * (U[1:-5] - 4. * U[2:-4] + 3. * U[3:-3]) ** 2\n",
      "C:\\Users\\dmdrf\\AppData\\Local\\Temp/ipykernel_11924/2388187395.py:50: RuntimeWarning: overflow encountered in square\n",
      "  Flux = -0.5 * (U_big[1:] ** 2 - U_big[:-1] ** 2) / h + nu * dissipation(U, h)\n",
      "C:\\Users\\dmdrf\\AppData\\Local\\Temp/ipykernel_11924/2388187395.py:21: RuntimeWarning: invalid value encountered in subtract\n",
      "  Beta[1, :] = 13./12. * (U[2:-4] - 2. * U[3:-3] + U[4:-2]) ** 2 + 1./4. * (U[2:-4] - U[4:-2]) ** 2\n",
      "C:\\Users\\dmdrf\\AppData\\Local\\Temp/ipykernel_11924/2388187395.py:36: RuntimeWarning: invalid value encountered in multiply\n",
      "  U_R[3:-3] += W[0, :] * np.convolve(U[3:-1], C[0, ::-1], 'valid') + \\\n",
      "C:\\Users\\dmdrf\\AppData\\Local\\Temp/ipykernel_11924/2388187395.py:37: RuntimeWarning: invalid value encountered in multiply\n",
      "  W[1, :] * np.convolve(U[2:-2], C[1, ::-1], 'valid') + \\\n",
      "C:\\Users\\dmdrf\\AppData\\Local\\Temp/ipykernel_11924/2388187395.py:38: RuntimeWarning: invalid value encountered in multiply\n",
      "  W[2, :] * np.convolve(U[1:-3], C[2, ::-1], 'valid')\n",
      "C:\\Users\\dmdrf\\AppData\\Local\\Temp/ipykernel_11924/2388187395.py:50: RuntimeWarning: invalid value encountered in multiply\n",
      "  Flux = -0.5 * (U_big[1:] ** 2 - U_big[:-1] ** 2) / h + nu * dissipation(U, h)\n",
      "100%|██████████| 40/40 [00:00<00:00, 255.16it/s]\n"
     ]
    }
   ],
   "source": [
    "temp, dt, idx_l, idx_r = runge_kutta_7(U, h, r, weno_5, nu)\n",
    "U[idx_l : idx_r] = temp\n",
    "#self.U = temp\n",
    "Nt = int(T / dt)\n",
    "for i in trange(Nt):\n",
    "    if i == 0: continue\n",
    "    temp, dt, idx_l, idx_r = runge_kutta_7(U, h, r, weno_5, nu)\n",
    "    U[idx_l : idx_r] = temp"
   ]
  },
  {
   "cell_type": "code",
   "execution_count": 8,
   "id": "5590de31",
   "metadata": {},
   "outputs": [
    {
     "data": {
      "image/png": "[encoded data removed]",
      "text/plain": [
       "<Figure size 432x288 with 1 Axes>"
      ]
     },
     "metadata": {
      "needs_background": "light"
     },
     "output_type": "display_data"
    }
   ],
   "source": [
    "\n",
    "plt.plot(x[x0 - 100: x1 + 100], U[x0 - 100: x1 + 100])\n",
    "plt.grid()"
   ]
  },
  {
   "cell_type": "code",
   "execution_count": null,
   "id": "b2ac9a6b",
   "metadata": {},
   "outputs": [],
   "source": []
  }
 ],
 "metadata": {
  "kernelspec": {
   "display_name": "Python 3 (ipykernel)",
   "language": "python",
   "name": "python3"
  },
  "language_info": {
   "codemirror_mode": {
    "name": "ipython",
    "version": 3
   },
   "file_extension": ".py",
   "mimetype": "text/x-python",
   "name": "python",
   "nbconvert_exporter": "python",
   "pygments_lexer": "ipython3",
   "version": "3.10.1"
  }
 },
 "nbformat": 4,
 "nbformat_minor": 5
}
