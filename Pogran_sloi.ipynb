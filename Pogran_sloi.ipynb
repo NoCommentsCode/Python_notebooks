{
 "cells": [
  {
   "cell_type": "code",
   "execution_count": 95,
   "metadata": {},
   "outputs": [
    {
     "data": {
      "text/plain": [
       "\"\\n2f'''+f''*f=0\\nf[0]=0\\nf[1]=0\\nf[2]=ph^2\\n\\n       3y[n]-3y[n-1]+y[n-2]+hy[n](2y[n]-y[n-1])\\nf[n+1]=----------------------------------------\\n                       1+hy[n]\\ny'[inf]=1 => y[inf]=h+y[n-1]\\n\""
      ]
     },
     "execution_count": 95,
     "metadata": {},
     "output_type": "execute_result"
    }
   ],
   "source": [
    "\"\"\"\n",
    "2f'''+f''*f=0\n",
    "f[0]=0\n",
    "f[1]=0\n",
    "f[2]=ph^2\n",
    "\n",
    "       3y[n]-3y[n-1]+y[n-2]+hy[n](2y[n]-y[n-1])\n",
    "f[n+1]=----------------------------------------\n",
    "                       1+hy[n]\n",
    "y'[inf]=1 => y[inf]=h+y[n-1]\n",
    "\"\"\""
   ]
  },
  {
   "cell_type": "code",
   "execution_count": 96,
   "metadata": {},
   "outputs": [],
   "source": [
    "import numpy as np\n",
    "import matplotlib.pyplot as plt"
   ]
  },
  {
   "cell_type": "code",
   "execution_count": 114,
   "metadata": {},
   "outputs": [],
   "source": [
    "h = 0.001\n",
    "L = 100\n",
    "N = int(L / h)"
   ]
  },
  {
   "cell_type": "code",
   "execution_count": 99,
   "metadata": {},
   "outputs": [],
   "source": [
    "# runge-kutta 4\n",
    "def rg4(f, t0, t1, X0, h):\n",
    "    N = int((t1 - t0) / h)\n",
    "    OUT = np.zeros((N, X0.size))\n",
    "    OUT[0] = X0\n",
    "    T = np.linspace(t0, t1, N)\n",
    "    for i in range(0, N - 1):\n",
    "        k1 = f(T[i], OUT[i])\n",
    "        k2 = f(T[i] + h / 3, OUT[i] + k1 * h / 3)\n",
    "        k3 = f(T[i] + 2 * h / 3, OUT[i] - k1 * h / 3 + k2 * h)\n",
    "        k4 = f(T[i] + h, OUT[i] + k1 * h - k2 * h + k3 * h)\n",
    "        OUT[i + 1] = OUT[i] + h * (k1 / 8 + 3 * k2 / 8 + 3 * k3 / 8 + k4 / 8)\n",
    "    return OUT"
   ]
  },
  {
   "cell_type": "code",
   "execution_count": 100,
   "metadata": {},
   "outputs": [],
   "source": [
    "def solve_with_different_params(P):\n",
    "    X_0 = np.array([0, 0, P[0]])\n",
    "    Y_best = rg4(f, 0, L, X_0, h)[:,0]\n",
    "    p_best = P[0]\n",
    "    diff_best = (Y_best[-1] - Y_best[-2]) / h\n",
    "    for p in P[1:]:\n",
    "        X_0 = np.array([0, 0, p])\n",
    "        Y = rg4(f, 0, L, X_0, h)[:,0]\n",
    "        diff = (Y[-1] - Y[-2]) / h\n",
    "        if np.abs(diff - 1) < np.abs(diff_best - 1):\n",
    "            diff_best = diff\n",
    "            p_best = p\n",
    "            Y_best = Y\n",
    "    return Y_best, p_best, diff_best"
   ]
  },
  {
   "cell_type": "code",
   "execution_count": 101,
   "metadata": {},
   "outputs": [],
   "source": [
    "def f(t, X):\n",
    "    return np.array([X[1], X[2], - X[2] * X[0]])"
   ]
  },
  {
   "cell_type": "code",
   "execution_count": 113,
   "metadata": {},
   "outputs": [
    {
     "name": "stdout",
     "output_type": "stream",
     "text": [
      "p_best = 0.4696 \tdiff_best = 1.000000016523117\n"
     ]
    },
    {
     "data": {
      "image/png": "[encoded data removed]",
      "text/plain": [
       "<Figure size 432x288 with 1 Axes>"
      ]
     },
     "metadata": {
      "needs_background": "light"
     },
     "output_type": "display_data"
    }
   ],
   "source": [
    "# very very loooong time of wark!!\n",
    "P = np.linspace(0.46959, 0.46961, 99)\n",
    "Y, p, d = solve_with_different_params(P)\n",
    "X = np.linspace(0, L, N, dtype = float)\n",
    "plt.plot(X, Y)\n",
    "print(\"p_best =\", p, \"\\tdiff_best =\", d)"
   ]
  },
  {
   "cell_type": "code",
   "execution_count": 119,
   "metadata": {},
   "outputs": [
    {
     "name": "stdout",
     "output_type": "stream",
     "text": [
      "p_best = 0.4696 \tdiff_best = 1.000000016517788\n"
     ]
    },
    {
     "data": {
      "image/png": "[encoded data removed]",
      "text/plain": [
       "<Figure size 432x288 with 1 Axes>"
      ]
     },
     "metadata": {
      "needs_background": "light"
     },
     "output_type": "display_data"
    }
   ],
   "source": [
    "p = 0.4696\n",
    "X_0 = np.array([0, 0, p])\n",
    "out = rg4(f, 0, L, X_0, h)\n",
    "X = np.linspace(0, L, N, dtype = float)\n",
    "Y = out[:, 0]\n",
    "#plt.plot(X, Y)\n",
    "plt.plot( out[:, 1], X)\n",
    "plt.ylim(0, 10)\n",
    "print(\"p_best =\", p, \"\\tdiff_best =\", (Y[-1] - Y[-2]) / h)"
   ]
  },
  {
   "cell_type": "code",
   "execution_count": null,
   "metadata": {},
   "outputs": [],
   "source": []
  }
 ],
 "metadata": {
  "kernelspec": {
   "display_name": "Python 3",
   "language": "python",
   "name": "python3"
  },
  "language_info": {
   "codemirror_mode": {
    "name": "ipython",
    "version": 3
   },
   "file_extension": ".py",
   "mimetype": "text/x-python",
   "name": "python",
   "nbconvert_exporter": "python",
   "pygments_lexer": "ipython3",
   "version": "3.9.0"
  }
 },
 "nbformat": 4,
 "nbformat_minor": 4
}
