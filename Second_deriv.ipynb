{
 "cells": [
  {
   "cell_type": "code",
   "execution_count": 1,
   "metadata": {},
   "outputs": [],
   "source": [
    "from sympy import Rational as R\n",
    "import sympy as sp"
   ]
  },
  {
   "cell_type": "code",
   "execution_count": 2,
   "metadata": {},
   "outputs": [],
   "source": [
    "h = sp.Symbol('h')"
   ]
  },
  {
   "cell_type": "code",
   "execution_count": 3,
   "metadata": {},
   "outputs": [],
   "source": [
    "A = sp.Matrix([[1,          1,         1,         1,        1,          1,         1],\n",
    "               [-3,         3,         -2,        2,        -1,         1,         0],\n",
    "               [R(9, 2),    R(9, 2),   2,         2,        R(1, 2),    R(1, 2),   0],\n",
    "               [-R(9, 2),   R(9, 2),   -R(4, 3),  R(4, 3),  -R(1, 6),   R(1, 6),   0],\n",
    "               [R(27, 8),   R(27, 8),  R(2, 3),   R(2, 3),  R(1, 24),   R(1, 24),  0],\n",
    "               [-R(81, 40), R(81, 40), -R(4, 15), R(4, 15), -R(1, 120), R(1, 120), 0],\n",
    "               [R(81, 80),  R(81, 80), R(4, 45),  R(4, 45), R(1, 720),  R(1, 720), 0]])\n",
    "b = sp.Matrix([[0], [0], [1 / h**2], [0], [0], [0], [0]])"
   ]
  },
  {
   "cell_type": "code",
   "execution_count": 4,
   "metadata": {},
   "outputs": [],
   "source": [
    "x = A.inv() * b"
   ]
  },
  {
   "cell_type": "code",
   "execution_count": 5,
   "metadata": {},
   "outputs": [
    {
     "data": {
      "text/latex": [
       "$\\displaystyle \\left[\\begin{matrix}\\frac{1}{90 h^{2}}\\\\\\frac{1}{90 h^{2}}\\\\- \\frac{3}{20 h^{2}}\\\\- \\frac{3}{20 h^{2}}\\\\\\frac{3}{2 h^{2}}\\\\\\frac{3}{2 h^{2}}\\\\- \\frac{49}{18 h^{2}}\\end{matrix}\\right]$"
      ],
      "text/plain": [
       "Matrix([\n",
       "[  1/(90*h**2)],\n",
       "[  1/(90*h**2)],\n",
       "[ -3/(20*h**2)],\n",
       "[ -3/(20*h**2)],\n",
       "[   3/(2*h**2)],\n",
       "[   3/(2*h**2)],\n",
       "[-49/(18*h**2)]])"
      ]
     },
     "execution_count": 5,
     "metadata": {},
     "output_type": "execute_result"
    }
   ],
   "source": [
    "x"
   ]
  },
  {
   "cell_type": "code",
   "execution_count": 6,
   "metadata": {},
   "outputs": [],
   "source": [
    "def diff2_4(U, h):\n",
    "    return (U[:-6] / 90. + U[6:] / 90. - 3. * U[1:-5] / 20. - 3. * U[5:-1] / 20 + 3. / 2. * U[2:-4] + 3. / 2. * U[4:-2] - 49. / 18. * U[3:-3]) / h ** 2"
   ]
  }
 ],
 "metadata": {
  "interpreter": {
   "hash": "d6dea22c7ded492420265be4ebcc3197ea0b6febfe0e3742e811a049b88a6492"
  },
  "kernelspec": {
   "display_name": "Python 3 (ipykernel)",
   "language": "python",
   "name": "python3"
  },
  "language_info": {
   "codemirror_mode": {
    "name": "ipython",
    "version": 3
   },
   "file_extension": ".py",
   "mimetype": "text/x-python",
   "name": "python",
   "nbconvert_exporter": "python",
   "pygments_lexer": "ipython3",
   "version": "3.10.1"
  }
 },
 "nbformat": 4,
 "nbformat_minor": 2
}
