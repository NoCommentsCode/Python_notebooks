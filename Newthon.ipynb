{
 "cells": [
  {
   "cell_type": "code",
   "execution_count": 46,
   "metadata": {},
   "outputs": [],
   "source": [
    "import numpy as np\n",
    "from matplotlib import pyplot as plt"
   ]
  },
  {
   "cell_type": "code",
   "execution_count": 47,
   "metadata": {},
   "outputs": [],
   "source": [
    "def derivative(f, x0): # сие вернетъ производную от f в x0\n",
    "    return (f(x0 + 1e-5) - f(x0 - 1e-5)) / 2e-5"
   ]
  },
  {
   "cell_type": "code",
   "execution_count": 48,
   "metadata": {},
   "outputs": [],
   "source": [
    "def newthon(f, x0, N):\n",
    "    X = np.zeros(N) # тута мы созидаемъ массивъ нулей \n",
    "    X[0] = x0 # нулевой элементъ массива нулей - икс НОЛЬ (начальное приближовывание)\n",
    "    for i in range(1, N):\n",
    "        X[i] = X[i - 1] - f(X[i - 1]) / derivative(f, X[i - 1]) # наполняемъ массивъ аки в методе Ньютона\n",
    "    return X # и вертаемъ яго в задъ"
   ]
  },
  {
   "cell_type": "code",
   "execution_count": 49,
   "metadata": {},
   "outputs": [],
   "source": [
    "def f(x): # будемъ искать нуль у функции\n",
    "    return x ** 2 - np.cos(x) # коя что то вертаетъ в задъ"
   ]
  },
  {
   "cell_type": "code",
   "execution_count": 56,
   "metadata": {},
   "outputs": [
    {
     "name": "stdout",
     "output_type": "stream",
     "text": [
      "0.8241323123025224\n"
     ]
    },
    {
     "data": {
      "image/png": "[encoded data removed]",
      "text/plain": [
       "<Figure size 432x288 with 1 Axes>"
      ]
     },
     "metadata": {
      "needs_background": "light"
     },
     "output_type": "display_data"
    }
   ],
   "source": [
    "N = 50 # итераций наших число\n",
    "X = newthon(f, 2, N) # взываемъ к методу Ньютона\n",
    "plt.plot(np.linspace(0, N - 1, N), X); # начертаемъ оное на холсте\n",
    "print(X[-1]) # и узрим к чему сошелся методъ"
   ]
  },
  {
   "cell_type": "code",
   "execution_count": 51,
   "metadata": {},
   "outputs": [],
   "source": [
    "def f1(X):\n",
    "    return X[0] + X[1] - 3\n",
    "def f2(X):\n",
    "    return X[0] ** 2 + X[1] ** 2 - 9\n",
    "F = [f1, f2]"
   ]
  },
  {
   "cell_type": "code",
   "execution_count": 52,
   "metadata": {},
   "outputs": [],
   "source": [
    "def Newthon(F, Xo, N):\n",
    "    n = Xo.size\n",
    "    X = np.zeros([N, n])\n",
    "    X[0] = Xo\n",
    "    def __deriv(F, X0, i, j, eps = 1e-5):\n",
    "        dx = np.zeros(n)\n",
    "        dx[j] += eps\n",
    "        return (F[i](X0 + dx) - F[i](X0 - dx)) / (2. * eps)\n",
    "    def __jacobian(F, X0):\n",
    "        J = np.zeros([n, n])\n",
    "        for i in range(0, n):\n",
    "            for j in range(0, n):\n",
    "                dF = __deriv(F, X0, i, j)\n",
    "                J[i][j] = dF\n",
    "        return J\n",
    "    for i in range(1, N):\n",
    "        J = np.linalg.det(__jacobian(F, X[i - 1]))\n",
    "        X[i] = X[i - 1] - np.array([F[k](X[i - 1]) for k in range(n)]) / J\n",
    "    return X"
   ]
  },
  {
   "cell_type": "code",
   "execution_count": 57,
   "metadata": {},
   "outputs": [
    {
     "name": "stdout",
     "output_type": "stream",
     "text": [
      "[8.96805167e-05 3.00000000e+00]\n"
     ]
    },
    {
     "data": {
      "image/png": "[encoded data removed]",
      "text/plain": [
       "<Figure size 432x288 with 1 Axes>"
      ]
     },
     "metadata": {
      "needs_background": "light"
     },
     "output_type": "display_data"
    }
   ],
   "source": [
    "x = Newthon(F, np.array([1, 5]), N)\n",
    "print(x[-1])\n",
    "plt.plot(np.linspace(0, N - 1, N), x[:, 0])\n",
    "plt.plot(np.linspace(0, N - 1, N), x[:, 1])\n",
    "plt.show()"
   ]
  },
  {
   "cell_type": "code",
   "execution_count": 54,
   "metadata": {},
   "outputs": [],
   "source": [
    "def g(X):\n",
    "    return np.cos(X[0]) - 1. / X[0]"
   ]
  },
  {
   "cell_type": "code",
   "execution_count": 55,
   "metadata": {},
   "outputs": [
    {
     "name": "stdout",
     "output_type": "stream",
     "text": [
      "[[-10.        ]\n",
      " [-11.38397437]\n",
      " [-10.87563809]\n",
      " [-10.90377839]\n",
      " [-10.90373353]\n",
      " [-10.90373353]\n",
      " [-10.90373353]\n",
      " [-10.90373353]\n",
      " [-10.90373353]\n",
      " [-10.90373353]]\n"
     ]
    }
   ],
   "source": [
    "y = Newthon([g], np.array([-10.]), 10)\n",
    "print(y)"
   ]
  }
 ],
 "metadata": {
  "kernelspec": {
   "display_name": "Python 3",
   "language": "python",
   "name": "python3"
  },
  "language_info": {
   "codemirror_mode": {
    "name": "ipython",
    "version": 3
   },
   "file_extension": ".py",
   "mimetype": "text/x-python",
   "name": "python",
   "nbconvert_exporter": "python",
   "pygments_lexer": "ipython3",
   "version": "3.9.0"
  }
 },
 "nbformat": 4,
 "nbformat_minor": 4
}
