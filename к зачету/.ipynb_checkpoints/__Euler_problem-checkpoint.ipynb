{
 "cells": [
  {
   "cell_type": "markdown",
   "metadata": {},
   "source": [
    "# Euler problem"
   ]
  },
  {
   "cell_type": "code",
   "execution_count": 1,
   "metadata": {
    "ExecuteTime": {
     "end_time": "2021-12-11T16:02:29.124104Z",
     "start_time": "2021-12-11T16:02:29.119118Z"
    }
   },
   "outputs": [],
   "source": [
    "%matplotlib inline\n",
    "import matplotlib\n",
    "import matplotlib.pyplot as plt\n",
    "import numpy as np\n",
    "from matplotlib import rcParams\n",
    "rcParams['font.family'] = 'serif'\n",
    "rcParams['font.size'] = 16"
   ]
  },
  {
   "cell_type": "markdown",
   "metadata": {},
   "source": [
    "## Постановка задачи\n",
    "\n",
    "Задача Римана для одномерной нестационарной системы уравнений Эйлера прелставлеяет собой задачу Коши для законов сохранения\n",
    "\n",
    "$$\n",
    "\\frac{\\partial{\\mathbf{U}}}{\\partial{t}} + \\frac{\\partial{\\mathbf{F}}}{\\partial{x}} = 0, \\\\\n",
    "\\mathbf{U} = \\begin{pmatrix}\\rho \\\\ \\rho u  \\\\E \\end{pmatrix}, \\;\n",
    "\\mathbf{F} = \\begin{pmatrix}\\rho u \\\\ \\rho u^2+p  \\\\ u(E+p) \\end{pmatrix}\n",
    "$$"
   ]
  },
  {
   "cell_type": "markdown",
   "metadata": {},
   "source": [
    "с начальными условиями\n",
    "\n",
    "$$\n",
    "\\mathbf{U}(x,0)=\\mathbf{U}^{(0)}(x) = \n",
    "\\begin{cases}\n",
    "\\mathbf{U}_L ~\\textrm{если} ~ x<0 \\\\\n",
    "\\mathbf{U}_R ~\\textrm{если} ~ x>0\n",
    "\\end{cases}\n",
    "$$"
   ]
  },
  {
   "attachments": {
    "image.png": {
     "image/png": "[encoded data removed]"
    }
   },
   "cell_type": "markdown",
   "metadata": {},
   "source": [
    "![image.png](attachment:image.png)"
   ]
  },
  {
   "cell_type": "markdown",
   "metadata": {},
   "source": [
    "Система уравнений замыкается уравнением состояния\n",
    "\n",
    "$$\n",
    "e = \\frac{p}{(\\gamma -1) \\rho}\n",
    "$$"
   ]
  },
  {
   "cell_type": "markdown",
   "metadata": {},
   "source": [
    "## Уравнения для давления и скорости"
   ]
  },
  {
   "cell_type": "markdown",
   "metadata": {},
   "source": [
    "Согласно Торо, значение давления в интересующей нас области это корень алгебраического уравнения:\n",
    "\n",
    "\\begin{equation}\n",
    "f(p,\\mathbf{W}_L,\\mathbf{W}_R) \\equiv f_L(p,\\mathbf{W}_L) +f_R(p,\\mathbf{W}_R) + \\Delta u = 0, ~ \\Delta u \\equiv u_R - u_L,\n",
    "\\end{equation}\n",
    "\n",
    "где функция $f_L$ задается соотношением\n",
    "\n",
    "\\begin{equation}\n",
    "f_L(p,\\mathbf{W}_L) = \n",
    "\\left \\{ \n",
    "\\begin{array}{ll}\n",
    "(p-p_L)\\left[ \\frac{A_L}{p+B_L} \\right]^\\frac{1}{2} &~\\textrm{если} ~ p>p_L ~(скачок),& \\\\\n",
    "\\frac{2c_L}{(\\gamma-1)}\\left[ \\left(\\frac{p}{p_L} \\right)^\\frac{\\gamma-1}{2\\gamma} -1 \\right] &~\\textrm{если} ~p\\leq p_L ~(разрежение),&\n",
    "\\end{array}\n",
    "\\right .\n",
    "\\end{equation}\n",
    "\n",
    "функция $f_R$ задается соотношением\n",
    "\n",
    "\\begin{equation}\n",
    "f_R(p,\\mathbf{W}_R) = \n",
    "\\left \\{ \n",
    "\\begin{array}{ll}\n",
    "(p-p_R)\\left[ \\frac{A_R}{p+B_R} \\right]^\\frac{1}{2} &~\\textrm{если} ~ p>p_R ~(скачок),& \\\\\n",
    "\\frac{2c_R}{(\\gamma-1)}\\left[ \\left(\\frac{p}{p_R} \\right)^\\frac{\\gamma-1}{2\\gamma} -1 \\right] &~\\textrm{если} ~p\\leq p_R ~(разрежение),&\n",
    "\\end{array}\n",
    "\\right .\n",
    "\\end{equation}\n",
    "\n",
    "а константы $A_L,~B_L,~A_R,~B_R$ задаются как\n",
    "\n",
    "\\begin{equation}\n",
    "\\left .\n",
    "\\begin{array}{ll}\n",
    "A_L = \\frac{2}{(\\gamma+1)\\rho_L},~B_L = \\frac{(\\gamma -1)}{(\\gamma +1)}p_L,\\\\\n",
    "A_R = \\frac{2}{(\\gamma+1)\\rho_R},~B_R = \\frac{(\\gamma -1)}{(\\gamma +1)}p_R.\n",
    "\\end{array}\n",
    "\\right \\}\n",
    "\\end{equation}\n",
    "\n",
    "Скорость вычисляется из соотношения\n",
    "\\begin{equation}\n",
    "u_*=\\frac{1}{2}(u_L+u_R) + \\frac{1}{2}[f_R(p_*) - f_L(p_*)].\n",
    "\\end{equation}"
   ]
  },
  {
   "cell_type": "code",
   "execution_count": 2,
   "metadata": {
    "ExecuteTime": {
     "end_time": "2021-12-11T11:08:15.005502Z",
     "start_time": "2021-12-11T11:08:15.000515Z"
    }
   },
   "outputs": [],
   "source": [
    "gamma = 1.4     #Гамма, она же каппа\n",
    "#Различные формулы из гаммы\n",
    "g_m_1_over_2g = (gamma-1)/2/gamma      #g1\n",
    "g_p_1_over_2g = (gamma+1)/2/gamma      #g2\n",
    "g_m_1_over_2g_inv = 1/g_m_1_over_2g    #g3\n",
    "g_m_1_over_2_inv = 2/(gamma-1)         #g4\n",
    "g_p_1_over_2_inv = 2/(gamma+1)         #g5\n",
    "g_m_1_over_g_p_1 = (gamma-1)/(gamma+1) #g6\n",
    "g_m_1_over_2 = (gamma-1)/2             #g7\n",
    "g_m_1 = gamma-1  \n",
    "tol = 1e-8"
   ]
  },
  {
   "cell_type": "code",
   "execution_count": 3,
   "metadata": {
    "ExecuteTime": {
     "end_time": "2021-12-11T11:08:49.902039Z",
     "start_time": "2021-12-11T11:08:49.898075Z"
    }
   },
   "outputs": [],
   "source": [
    "def sound_speed(d, p):\n",
    "    return (gamma * p / d)**0.5"
   ]
  },
  {
   "cell_type": "code",
   "execution_count": 4,
   "metadata": {
    "ExecuteTime": {
     "end_time": "2021-12-11T15:47:29.127123Z",
     "start_time": "2021-12-11T15:47:29.122172Z"
    }
   },
   "outputs": [],
   "source": [
    "def calc_f(p, d_k, u_k, p_k):\n",
    "    c_k = sound_speed(d_k, p_k)\n",
    "    if p > p_k:\n",
    "        A = g_p_1_over_2_inv / d_k\n",
    "        B = g_m_1_over_g_p_1 * p_k\n",
    "        f = (p - p_k) * (A / (p + B))**0.5\n",
    "        f_deriv = (A / (p + B))**0.5*(1 - 0.5 * (p - p_k) / (p + B))\n",
    "    else :\n",
    "        f = g_m_1_over_2_inv * c_k * ((p / p_k)**g_m_1_over_2g - 1)\n",
    "        f_deriv = c_k / (p * g_m_1) * ((2 * gamma - 1) / gamma * (p / p_k)**g_m_1_over_2g - 1)\n",
    "    return f, f_deriv"
   ]
  },
  {
   "cell_type": "markdown",
   "metadata": {},
   "source": [
    "## guess p"
   ]
  },
  {
   "cell_type": "markdown",
   "metadata": {},
   "source": [
    "- Two Rarefaction (TR):\n",
    "$$ p_{TR} =  \\left[ \\frac{c_R + c_L - \\frac{1}{2}(\\gamma - 1)(u_R - u_L)}{c_L / p_L^{\\frac{\\gamma - 1}{2\\gamma}} + c_R /p_R^{\\frac{\\gamma - 1}{2\\gamma}}} \\right]^ {\\frac{2\\gamma}{\\gamma - 1}}$$\n",
    "\n",
    "\n",
    "- Primitive Variables (PV):\n",
    " $$\n",
    " \\begin{cases}\n",
    " p_{PV} = \\frac{1}{2}(p_L + p_R) - \\frac{1}{8} (u_R - u_L)(\\rho_L + \\rho_R)(c_L + c_R)\\\\\n",
    " p_0 = max(TOL, p_{PV})\n",
    " \\end{cases}$$\n",
    " \n",
    " \n",
    "- Two Shock (TS):\n",
    " $$\n",
    " \\begin{cases}\n",
    " p_{TS} = \\frac{g_L(\\hat{p}) p_L + g_R(\\hat{p}) p_R  - \\Delta u} {g_L(\\hat{p}) + g_R(\\hat{p})} \\\\\n",
    " g_K = (\\frac{A_K}{p + B_K})^{\\frac{1}{2}} \\\\\n",
    " p_0 = max(TOL, p_{TS})\n",
    " \\end{cases}$$"
   ]
  },
  {
   "cell_type": "code",
   "execution_count": 5,
   "metadata": {
    "ExecuteTime": {
     "end_time": "2021-12-11T15:47:30.218017Z",
     "start_time": "2021-12-11T15:47:30.208045Z"
    }
   },
   "outputs": [],
   "source": [
    "def guess_p(W_l, W_r, label):\n",
    "    c_l = sound_speed(W_l[0],W_l[2])\n",
    "    c_r = sound_speed(W_r[0],W_r[2])\n",
    "    W_aver = 0.5 * (W_l + W_r)\n",
    "    p_pv = W_aver[2] - 0.5 * (W_r[1] - W_l[1]) * W_aver[0] * 0.5 * (c_l + c_r)\n",
    "    if label == 'TR':\n",
    "        return ((c_l + c_r - 0.5*g_m_1*(W_r[1] - W_l[1]))/\n",
    "                ((c_l/W_l[2]**g_m_1_over_2g) + (c_r/W_r[2]**g_m_1_over_2g) ))**g_m_1_over_2g_inv\n",
    "    elif label == 'PV':  \n",
    "        p_0 = max(tol, p_pv)\n",
    "        return p_0\n",
    "    elif label == 'TS':\n",
    "        A_k = lambda x : g_p_1_over_2_inv / x\n",
    "        B_k = lambda x : g_m_1_over_g_p_1 * x\n",
    "        g_L = (A_k(W_l[0]) / (p_pv + B_k(W_l[2])))**0.5\n",
    "        g_R = (A_k(W_r[0])/(p_pv + B_k(W_r[2])))**0.5\n",
    "        p_ts = (g_L * W_l[2] + g_R * W_r[2] - (W_r[1]-W_l[1])) / (g_L + g_R)\n",
    "        p_0 = max(tol, p_ts)\n",
    "        return p_0\n",
    "    else:\n",
    "        return W_aver[2] "
   ]
  },
  {
   "cell_type": "code",
   "execution_count": 6,
   "metadata": {
    "ExecuteTime": {
     "end_time": "2021-12-11T15:47:30.429931Z",
     "start_time": "2021-12-11T15:47:30.422951Z"
    }
   },
   "outputs": [],
   "source": [
    "def init(case):\n",
    "    if case == 'sod':\n",
    "        W_l = np.array([1, 0.75, 1])\n",
    "        W_r = np.array([0.125, 0, 0.1])\n",
    "        t = 0.25\n",
    "    elif case == '123':\n",
    "        W_l = np.array([1, -2, 0.4])\n",
    "        W_r = np.array([1, 2, 0.4])\n",
    "        t = 0.15\n",
    "    elif case == 'left-woodward':\n",
    "        W_l = np.array([1, 0, 1000])\n",
    "        W_r = np.array([1, 0, 0.1])\n",
    "        t = 0.012\n",
    "    else : print('Unknown case!')\n",
    "    return W_l, W_r, t"
   ]
  },
  {
   "cell_type": "code",
   "execution_count": 7,
   "metadata": {
    "ExecuteTime": {
     "end_time": "2021-12-11T15:47:30.628089Z",
     "start_time": "2021-12-11T15:47:30.624084Z"
    }
   },
   "outputs": [],
   "source": [
    "W_l,W_r,_ = init('sod')"
   ]
  },
  {
   "cell_type": "code",
   "execution_count": 8,
   "metadata": {
    "ExecuteTime": {
     "end_time": "2021-12-11T15:47:30.917855Z",
     "start_time": "2021-12-11T15:47:30.910875Z"
    }
   },
   "outputs": [],
   "source": [
    "def newton(p_init, W_l, W_r):\n",
    "    p_curr = p_init\n",
    "    cha =1e3\n",
    "    i= 0\n",
    "    while cha > tol:\n",
    "        f_l = calc_f(p_curr,*W_l)\n",
    "        f_r = calc_f(p_curr,*W_r)\n",
    "        p_new = p_curr - (f_l[0] + f_r[0] + W_r[1] - W_l[1]) / (f_l[1] + f_r[1])\n",
    "        cha = abs(2 * (p_new - p_curr) / (p_new + p_curr))\n",
    "        p_curr = p_new\n",
    "        i = i+1\n",
    "    u_new = 0.5 * (W_l + W_r)[1] + 0.5 * (calc_f(p_new,*W_r)[0] - calc_f(p_new,*W_l)[0])\n",
    "    return p_new, u_new"
   ]
  },
  {
   "cell_type": "code",
   "execution_count": 9,
   "metadata": {
    "ExecuteTime": {
     "end_time": "2021-12-11T15:47:31.187036Z",
     "start_time": "2021-12-11T15:47:31.172076Z"
    }
   },
   "outputs": [],
   "source": [
    "def sample(W_l, c_l, W_r, c_r, p_star, u_star, s):\n",
    "    \"\"\"\n",
    "    Returns d,u,p in sampled point according the shock and wave configuration\n",
    "    \"\"\"\n",
    "    d_l, u_l, p_l = W_l #плотность, скорость, давление\n",
    "    d_r, u_r, p_r = W_r\n",
    "    #----------------------------------------------------------------------------------------------------\n",
    "    if s <= u_star:              #точка лежит слева от контактного разрыва\n",
    "        if p_star <= p_l: #слева -- волна разрежения\n",
    "            S_HL = u_l - c_l   #скорость головной характеристики волны разрежения   \n",
    "            if s <= S_HL: #точка лежит слева от волны -- все значения из левой ячейки\n",
    "                d = d_l\n",
    "                u = u_l\n",
    "                p = p_l\n",
    "            else:\n",
    "                c_star_l = c_l * (p_star / p_l)**g_m_1_over_2g  #скорость звука справа от левой волны\n",
    "                S_TL = u_star - c_star_l        #скорость замыкающей характеристики волны разрежения  \n",
    "                if s>=S_TL:              #точка лежит между волной и контактным разрывом   \n",
    "                    d = d_l * (p_star / p_l)**(1./gamma)\n",
    "                    u = u_star\n",
    "                    p = p_star\n",
    "                else:                              #точка лежит в веере волны разрежения\n",
    "                    u = g_p_1_over_2_inv * (c_l + g_m_1_over_2 * u_l + s)\n",
    "                    c = u - s\n",
    "                    d = d_l*(c / c_l)**g_m_1_over_2_inv\n",
    "                    p = p_l*(c / c_l)**g_m_1_over_2g_inv\n",
    "        else:       #слева -- скачок \n",
    "            shock_ratio = p_star / p_l\n",
    "            S_l = u_l - c_l * (g_p_1_over_2g * shock_ratio + g_m_1_over_2g)**0.5 #скорость скачка\n",
    "            if s <= S_l: #точка лежит слева от скачка -- все значения из левой ячейки\n",
    "                d = d_l\n",
    "                u = u_l\n",
    "                p = p_l\n",
    "            else:   #точка лежит между скачком и контактным разрывом\n",
    "                d = d_l * (shock_ratio + (gamma - 1) / (gamma + 1))/((gamma - 1) / (gamma + 1) * shock_ratio + 1)\n",
    "                u = u_star\n",
    "                p = p_star \n",
    "    #----------------------------------------------------------------------------------------------------\n",
    "    else:              #точка лежит справа от контактного разрыва\n",
    "        if p_star > p_r:   #справа -- скачок\n",
    "            shock_ratio = p_star / p_r\n",
    "            S_r = u_r + c_r * (g_p_1_over_2g * shock_ratio + g_m_1_over_2g)**0.5 #скорость скачка\n",
    "            if s >= S_r: #точка лежит справа от скачка -- все значения из правой ячейки\n",
    "                d = d_r\n",
    "                u = u_r\n",
    "                p = p_r\n",
    "            else:   #точка лежит между скачком и контактным разрывом\n",
    "                d = d_r * (shock_ratio + g_m_1_over_g_p_1) / (g_m_1_over_g_p_1 * shock_ratio + 1)\n",
    "                u = u_star\n",
    "                p = p_star\n",
    "        else:           #справа -- волна\n",
    "            S_HR = u_r + c_r   #скорость головной характеристики волны разрежения\n",
    "            if s >= S_HR: #точка лежит справа от волны -- все значения из правой ячейки\n",
    "                d = d_r\n",
    "                u = u_r\n",
    "                p = p_r\n",
    "            else:\n",
    "                c_star_r = c_r * (p_star / p_r)**g_m_1_over_2g #скорость звука слева от правой волны\n",
    "                S_TR = u_star + c_star_r           #скорость замыкающей характеристики волны разрежения\n",
    "                if s <= S_TR:              #точка лежит между контактным разрывом и волной\n",
    "                    d = d_r * (p_star / p_r)**(1 / gamma)\n",
    "                    u = u_star\n",
    "                    p = p_star\n",
    "                else:                              #точка лежит в веере волны разрежения\n",
    "                    u = g_p_1_over_2_inv * (-c_r + g_m_1_over_2 * u_r + s)\n",
    "                    c = -u + s\n",
    "                    d = d_r * (c / c_r)**g_m_1_over_2_inv\n",
    "                    p = p_r * (c / c_r)**g_m_1_over_2g_inv\n",
    "    return d, u, p"
   ]
  },
  {
   "cell_type": "code",
   "execution_count": 10,
   "metadata": {
    "ExecuteTime": {
     "end_time": "2021-12-11T15:47:31.400543Z",
     "start_time": "2021-12-11T15:47:31.394559Z"
    }
   },
   "outputs": [],
   "source": [
    "def get_S_max(W_l, c_l, W_r, c_r, p_star, u_star):\n",
    "    d_l, u_l, p_l = W_l\n",
    "    d_r, u_r, p_r = W_r\n",
    "    if p_star <= p_l: #слева -- волна разрежения\n",
    "        S_l = u_l - c_l\n",
    "    else:\n",
    "        shock_ratio = p_star / p_l\n",
    "        S_l = u_l - c_l * (g_p_1_over_2g * shock_ratio + g_m_1_over_2g)**0.5\n",
    "    if p_star > p_r:\n",
    "        shock_ratio = p_star / p_r\n",
    "        S_r = u_r + c_r*(g_p_1_over_2g*shock_ratio + g_m_1_over_2g)**0.5 \n",
    "    else:\n",
    "        S_r = u_r + c_r\n",
    "    S_max = max(abs(S_l), abs(S_r))\n",
    "    return S_max"
   ]
  },
  {
   "cell_type": "code",
   "execution_count": 11,
   "metadata": {
    "ExecuteTime": {
     "end_time": "2021-12-11T15:47:46.929839Z",
     "start_time": "2021-12-11T15:47:46.924853Z"
    }
   },
   "outputs": [],
   "source": [
    "N_points = 101\n",
    "x = np.linspace(0, 1, N_points)\n",
    "decay_pos = 0.3\n",
    "W_correct= np.zeros((N_points,3))"
   ]
  },
  {
   "cell_type": "code",
   "execution_count": 12,
   "metadata": {
    "ExecuteTime": {
     "end_time": "2021-12-11T15:47:47.247755Z",
     "start_time": "2021-12-11T15:47:47.242766Z"
    }
   },
   "outputs": [],
   "source": [
    "W_l, W_r, t = init('sod')\n",
    "p_init = guess_p(W_l, W_r, 'TR')\n",
    "p_star, u_star = newton(p_init, W_l, W_r)"
   ]
  },
  {
   "cell_type": "code",
   "execution_count": 13,
   "metadata": {
    "ExecuteTime": {
     "end_time": "2021-12-11T15:47:47.497203Z",
     "start_time": "2021-12-11T15:47:47.491219Z"
    }
   },
   "outputs": [],
   "source": [
    "c_l = sound_speed(W_l[0], W_l[2])\n",
    "c_r = sound_speed(W_r[0], W_r[2])\n",
    "for i, x_ in enumerate(x):\n",
    "    s = (x_ - decay_pos) / t\n",
    "    W_correct[i] = np.asarray(sample(W_l, c_l, W_r, c_r, p_star, u_star, s))"
   ]
  },
  {
   "cell_type": "code",
   "execution_count": 14,
   "metadata": {
    "ExecuteTime": {
     "end_time": "2021-12-11T15:47:48.273333Z",
     "start_time": "2021-12-11T15:47:47.741729Z"
    }
   },
   "outputs": [
    {
     "data": {
      "image/png": "[encoded data removed]",
      "text/plain": [
       "<Figure size 1440x360 with 3 Axes>"
      ]
     },
     "metadata": {
      "needs_background": "light"
     },
     "output_type": "display_data"
    }
   ],
   "source": [
    "fig,axs = plt.subplots(1,3,figsize=(20,5))\n",
    "for ax,W_,y_label in zip(axs,W_correct.T,(r'$\\rho$',r'$u$',r'$p$') ):\n",
    "    ax.plot(x,W_)\n",
    "    ax.set_ylabel(y_label)\n",
    "    ax.set_xlabel('x')\n",
    "    ax.set_title(y_label)\n",
    "    ax.grid()"
   ]
  },
  {
   "cell_type": "code",
   "execution_count": 15,
   "metadata": {
    "ExecuteTime": {
     "end_time": "2021-12-11T15:47:48.281286Z",
     "start_time": "2021-12-11T15:47:48.275302Z"
    }
   },
   "outputs": [
    {
     "name": "stdout",
     "output_type": "stream",
     "text": [
      "Stored 'W_correct' (ndarray)\n"
     ]
    }
   ],
   "source": [
    "%store W_correct"
   ]
  },
  {
   "cell_type": "code",
   "execution_count": 16,
   "metadata": {
    "ExecuteTime": {
     "end_time": "2021-12-11T15:47:48.454803Z",
     "start_time": "2021-12-11T15:47:48.283280Z"
    }
   },
   "outputs": [],
   "source": [
    "def U_to_W(U):\n",
    "    W = np.zeros_like(U)\n",
    "    W[0] = U[0]\n",
    "    W[1] = U[1] / U[0]\n",
    "    W[2] = g_m_1 * (U[2] - 0.5 * U[1]**2 / U[0])\n",
    "    return W"
   ]
  },
  {
   "cell_type": "code",
   "execution_count": 17,
   "metadata": {
    "ExecuteTime": {
     "end_time": "2021-12-11T15:47:48.534159Z",
     "start_time": "2021-12-11T15:47:48.456792Z"
    }
   },
   "outputs": [],
   "source": [
    "def W_to_U(W):\n",
    "    U = np.zeros_like(W)\n",
    "    U[0] = W[0]\n",
    "    U[1] = W[1] * W[0]\n",
    "    U[2] = 0.5 * W[1]**2 * W[0] + W[2] / g_m_1\n",
    "    return U"
   ]
  },
  {
   "cell_type": "code",
   "execution_count": 18,
   "metadata": {
    "ExecuteTime": {
     "end_time": "2021-12-11T15:47:48.614704Z",
     "start_time": "2021-12-11T15:47:48.601772Z"
    }
   },
   "outputs": [],
   "source": [
    "def flux(W):\n",
    "    F = np.zeros_like(W)\n",
    "    F[0] = W[1] * W[0]\n",
    "    F[1] = W[1]**2 * W[0] + W[2]\n",
    "    F[2] = W[1] * (0.5 * W[1]**2 * W[0] + W[2] / g_m_1 + W[2])\n",
    "    return F"
   ]
  },
  {
   "cell_type": "code",
   "execution_count": 19,
   "metadata": {
    "ExecuteTime": {
     "end_time": "2021-12-11T15:51:24.961946Z",
     "start_time": "2021-12-11T15:51:24.957956Z"
    }
   },
   "outputs": [],
   "source": [
    "dx = 1./(N_points - 1)\n",
    "sigma = 1.\n",
    "W = np.zeros((N_points,3))\n",
    "fluxes = np.zeros((N_points - 1,3))\n",
    "U = np.zeros_like(W)"
   ]
  },
  {
   "cell_type": "code",
   "execution_count": 20,
   "metadata": {
    "ExecuteTime": {
     "end_time": "2021-12-11T15:51:25.397293Z",
     "start_time": "2021-12-11T15:51:25.393303Z"
    }
   },
   "outputs": [],
   "source": [
    "W[np.where(x < decay_pos),:] = W_l\n",
    "W[np.where(x >= decay_pos),:] = W_r"
   ]
  },
  {
   "cell_type": "code",
   "execution_count": 21,
   "metadata": {
    "ExecuteTime": {
     "end_time": "2021-12-11T15:51:26.276195Z",
     "start_time": "2021-12-11T15:51:25.768555Z"
    }
   },
   "outputs": [
    {
     "data": {
      "image/png": "[encoded data removed]",
      "text/plain": [
       "<Figure size 1440x360 with 3 Axes>"
      ]
     },
     "metadata": {
      "needs_background": "light"
     },
     "output_type": "display_data"
    }
   ],
   "source": [
    "fig,axs = plt.subplots(1,3,figsize=(20,5))\n",
    "for ax,W_,y_label in zip(axs,W.T,(r'$\\rho$',r'$u$',r'$p$') ):\n",
    "    ax.plot(x,W_)\n",
    "    ax.set_ylabel(y_label)\n",
    "    ax.set_xlabel('x')\n",
    "    ax.set_title(y_label)\n",
    "    ax.grid()"
   ]
  },
  {
   "cell_type": "code",
   "execution_count": 22,
   "metadata": {
    "ExecuteTime": {
     "end_time": "2021-12-11T15:51:26.599334Z",
     "start_time": "2021-12-11T15:51:26.278190Z"
    }
   },
   "outputs": [],
   "source": [
    "t_ = 0\n",
    "U_n = np.copy(U)\n",
    "while t_< t:\n",
    "    U = W_to_U(W.T).T\n",
    "    big_values = np.zeros((N_points - 1,3))\n",
    "    speeds = np.zeros(N_points - 1)\n",
    "    for i,x_ in enumerate(x[:-1]):\n",
    "        p_init = guess_p(W[i], W[i+1],'TR')\n",
    "        p_star, u_star = newton(p_init, W[i], W[i+1])\n",
    "        c_l = sound_speed(W[i][0], W[i][2])\n",
    "        c_r = sound_speed(W[i+1][0], W[i+1][2])\n",
    "        s = 0\n",
    "        big_values[i] = np.asarray(sample(W[i], c_l, W[i+1], c_r, p_star, u_star, s))\n",
    "        speeds[i] = get_S_max(W[i], c_l, W[i+1], c_r, p_star, u_star)\n",
    "    fluxes = flux(big_values.T).T\n",
    "    dt = sigma * dx / max(speeds)\n",
    "    U_n[1:-1,:] = U[1:-1,:] + dt / dx * (fluxes[:-1,:] - fluxes[1:,:]) \n",
    "    U_n[0,:] = U_n[1,:]\n",
    "    U_n[-1,:] = U_n[-2,:]\n",
    "    W = U_to_W(U_n.T).T\n",
    "    t_= t_ + dt"
   ]
  },
  {
   "cell_type": "code",
   "execution_count": 23,
   "metadata": {
    "ExecuteTime": {
     "end_time": "2021-12-11T15:51:27.273350Z",
     "start_time": "2021-12-11T15:51:27.268361Z"
    }
   },
   "outputs": [
    {
     "name": "stdout",
     "output_type": "stream",
     "text": [
      "Stored 'W_g' (ndarray)\n"
     ]
    }
   ],
   "source": [
    "W_g = W.copy()\n",
    "%store W_g"
   ]
  },
  {
   "cell_type": "code",
   "execution_count": 24,
   "metadata": {
    "ExecuteTime": {
     "end_time": "2021-12-11T16:02:46.645370Z",
     "start_time": "2021-12-11T16:02:46.119777Z"
    }
   },
   "outputs": [
    {
     "data": {
      "image/png": "[encoded data removed]",
      "text/plain": [
       "<Figure size 1296x432 with 3 Axes>"
      ]
     },
     "metadata": {
      "needs_background": "light"
     },
     "output_type": "display_data"
    }
   ],
   "source": [
    "fig,axs = plt.subplots(1,3,figsize=(18,6))\n",
    "for ax, W_, W_c, y_label in zip(axs, W_g.T, W_correct.T, (r'$\\rho$',r'$u$',r'$p$') ):\n",
    "    ax.plot(x, W_,'-o', label='Godunov')\n",
    "    ax.plot(x, W_c,label='Exact')\n",
    "    ax.set_ylabel(y_label)\n",
    "    ax.set_xlabel('x')\n",
    "    ax.set_ylim(-1.1*abs(min(W_c)),1.1*max(W_c))\n",
    "    ax.legend(loc='best')\n",
    "    ax.grid()"
   ]
  },
  {
   "cell_type": "code",
   "execution_count": 25,
   "metadata": {
    "ExecuteTime": {
     "end_time": "2021-12-11T16:12:52.028108Z",
     "start_time": "2021-12-11T16:12:51.832626Z"
    }
   },
   "outputs": [
    {
     "data": {
      "image/png": "[encoded data removed]",
      "text/plain": [
       "<Figure size 576x432 with 1 Axes>"
      ]
     },
     "metadata": {
      "needs_background": "light"
     },
     "output_type": "display_data"
    }
   ],
   "source": [
    "plt.figure(figsize=(8,6))\n",
    "e = W[:,2] / W[:,0] / g_m_1\n",
    "e_ex = W_correct[:,2] / W_correct[:,0] / g_m_1\n",
    "plt.plot(x, e,'-o',label='Godunov', ms=4)\n",
    "plt.plot(x, e_ex,'-',label='Exact')\n",
    "plt.legend();"
   ]
  }
 ],
 "metadata": {
  "kernelspec": {
   "display_name": "Python 3 (ipykernel)",
   "language": "python",
   "name": "python3"
  },
  "language_info": {
   "codemirror_mode": {
    "name": "ipython",
    "version": 3
   },
   "file_extension": ".py",
   "mimetype": "text/x-python",
   "name": "python",
   "nbconvert_exporter": "python",
   "pygments_lexer": "ipython3",
   "version": "3.10.1"
  },
  "toc": {
   "base_numbering": 1,
   "nav_menu": {},
   "number_sections": false,
   "sideBar": true,
   "skip_h1_title": false,
   "title_cell": "Table of Contents",
   "title_sidebar": "Contents",
   "toc_cell": false,
   "toc_position": {},
   "toc_section_display": true,
   "toc_window_display": false
  }
 },
 "nbformat": 4,
 "nbformat_minor": 4
}
