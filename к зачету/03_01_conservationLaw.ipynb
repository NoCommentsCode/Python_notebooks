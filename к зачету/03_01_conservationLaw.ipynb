{
 "cells": [
  {
   "cell_type": "markdown",
   "metadata": {},
   "source": [
    "###### Content under Creative Commons Attribution license CC-BY 4.0, code under MIT license (c)2014 L.A. Barba, C.D. Cooper, G.F. Forsyth."
   ]
  },
  {
   "cell_type": "markdown",
   "metadata": {},
   "source": [
    "# Riding the wave"
   ]
  },
  {
   "cell_type": "markdown",
   "metadata": {},
   "source": [
    "## Convection problems"
   ]
  },
  {
   "cell_type": "markdown",
   "metadata": {},
   "source": [
    "Welcome to *Riding the wave: Convection problems*, the third module of  [\"Practical Numerical Methods with Python\"](http://openedx.seas.gwu.edu/courses/GW/MAE6286/2014_fall/about). \n",
    "\n",
    "In the [first module](https://github.com/numerical-mooc/numerical-mooc/tree/master/lessons/01_phugoid), we learned about numerical integration methods for the solution of ordinary differential equations (ODEs). The [second module](https://github.com/numerical-mooc/numerical-mooc/tree/master/lessons/02_spacetime) introduced the finite difference method for numerical solution of partial differential equations (PDEs), where we need to discretize both *space* and *time*.\n",
    "\n",
    "This module explores the convection equation in more depth, applied to a traffic-flow problem.  We already introduced convection in [Lesson 1 of Module 2](http://nbviewer.ipython.org/github/numerical-mooc/numerical-mooc/blob/master/lessons/02_spacetime/02_01_1DConvection.ipynb). This hyperbolic equation is very interesting because the solution can develop *shocks*, or regions with very high gradient, which are difficult to resolve well with numerical methods. \n",
    "\n",
    "We will start by introducing the concept of a conservation law, closely related to the convection equation.  Then we'll explore different numerical schemes and how they perform when shocks are present. "
   ]
  },
  {
   "cell_type": "markdown",
   "metadata": {},
   "source": [
    "## Conservation laws"
   ]
  },
  {
   "cell_type": "markdown",
   "metadata": {},
   "source": [
    "You know from (non relativistic) physics that mass is _conserved_. This is one example of a conserved quantity, but there are others (like momentum and energy) and they all obey a _conservation law_. Let's start with the more intuitive case of conservation of mass."
   ]
  },
  {
   "cell_type": "markdown",
   "metadata": {},
   "source": [
    "### Conservation of mass"
   ]
  },
  {
   "cell_type": "markdown",
   "metadata": {},
   "source": [
    "In any closed system, we know that the mass $M$ in the system does not change, which we can write: $\\frac{D\\,M}{Dt} =0$. When we change the point of view from a closed system to what engineers call a _control volume_, mass can move in and out of the volume and conservation of mass is now expressed by:\n",
    "\n",
    "![massconservation-CV](./figures/massconservation-CV.png)\n",
    "\n",
    "Let's imagine the control volume as a tiny cylinder of cross-section dA and length dx, like in the sketch below.\n",
    "\n",
    "![1Dcontrolvolume](./figures/1Dcontrolvolume.png)\n",
    "#### Figure 1. Tiny control volume in the shape of a cylinder.\n",
    "\n",
    "If we represent the mass density by $\\rho$, then mass is equal to $\\rho\\times$ volume. For simplicity, let's assume that mass flows in or out of the control volume only in one direction, say, the $x$-direction. Express the 1D velocity component by $u$, and conservation of mass for the control volume is translated to a mathematical expression as follows:\n",
    "\n",
    "\\begin{equation}\n",
    "\\frac{\\partial}{\\partial t}\\int_{\\text{cv}}\\rho \\, dV + \\int_{\\text{cs}}\\rho \\, u\\, dA =0\n",
    "\\end{equation}\n",
    "\n",
    "where \"cv\" stands for control volume and \"cs\" stands for control surface. The first term represents the rate of change of mass in the control volume, and the second term is the rate of flow of mass, with velocity $u$, accross the control surface.\n",
    "\n"
   ]
  },
  {
   "cell_type": "markdown",
   "metadata": {},
   "source": [
    "Since the control volume is very small, we can take, to leading order, $\\rho$ as a uniform quantity inside it, and the first term in equation (1) can be simplified to the time derivative of density multiplied by the volume of the tiny cylinder, $dAdx$:\n",
    "\n",
    "$$\\frac{\\partial}{\\partial t}\\int_{\\text{cv}}\\rho \\, dV \\rightarrow \\frac{\\partial \\rho}{\\partial t} dAdx$$\n",
    "\n",
    "Now, for the second term in equation (1), we have to do a little more work. The quantity inside the integral is now $\\rho u$ and, to leading order, we have to take into consideration that this quantity can change in the distance $dx$. Take $\\rho u$ to be the value in the center of the cylinder. Then the flow of mass on each side is illustrated in the figure below, where we use a Taylor expansion of the quantity $\\rho u$ around the center of the control volume (to first order)."
   ]
  },
  {
   "cell_type": "markdown",
   "metadata": {},
   "source": [
    "![1Dfluxbalance](./figures/1Dfluxbalance.png)\n",
    "#### Figure 2. Flux terms on the control surfaces."
   ]
  },
  {
   "cell_type": "markdown",
   "metadata": {},
   "source": [
    "Subtracting the negative flux on the left to the positive flux on the right, we arrive at the total flux of mass accross the control surfaces, the second term in equation (1):\n",
    "\n",
    "$$ \\int_{\\text{cs}}\\rho \\, u\\, dA \\rightarrow \\frac{\\partial}{\\partial x}(\\rho u) dAdx$$\n",
    "\n",
    "We can now put together the equation of conservation of mass for the tiny cylindrical control volume, which after diving by $dAdx$ is:\n",
    "\n",
    "\\begin{equation}\n",
    "\\frac{\\partial \\rho}{\\partial t} + \\frac{\\partial}{\\partial x}(\\rho u)=0\n",
    "\\end{equation}\n",
    "\n",
    "This is the 1D mass conservation equation in differential form. If we take $u$ to be a constant and take it out of the spatial derivative this equation looks the same as the first PDE we studied: the linear convection equation in [Lesson 1 of Module 2](http://nbviewer.ipython.org/github/numerical-mooc/numerical-mooc/blob/master/lessons/02_spacetime/02_01_1DConvection.ipynb).\n",
    "But in the form shown above, it is a typical _conservation law_. The term under the spatial derivative is called the _flux_, for reasons that should be clear from our discussion above: it represents amounts of the conserved quantity flowing across the boundary of the control volume."
   ]
  },
  {
   "cell_type": "markdown",
   "metadata": {},
   "source": [
    "##### Dig deeper"
   ]
  },
  {
   "cell_type": "markdown",
   "metadata": {},
   "source": [
    "You can follow the derivation of the full three-dimensional equation of conservation of mass for a flow on this screencast by Prof. Barba (duration 12:47)."
   ]
  },
  {
   "cell_type": "code",
   "execution_count": 1,
   "metadata": {},
   "outputs": [
    {
     "data": {
      "image/jpeg": "[encoded data removed]",
      "text/html": [
       "\n",
       "        <iframe\n",
       "            width=\"400\"\n",
       "            height=\"300\"\n",
       "            src=\"https://www.youtube.com/embed/35unQgSaT88\"\n",
       "            frameborder=\"0\"\n",
       "            allowfullscreen\n",
       "        ></iframe>\n",
       "        "
      ],
      "text/plain": [
       "<IPython.lib.display.YouTubeVideo at 0x7f2ac8502fa0>"
      ]
     },
     "execution_count": 1,
     "metadata": {},
     "output_type": "execute_result"
    }
   ],
   "source": [
    "from IPython.display import YouTubeVideo\n",
    "YouTubeVideo('35unQgSaT88')"
   ]
  },
  {
   "cell_type": "markdown",
   "metadata": {},
   "source": [
    "### General conservation laws"
   ]
  },
  {
   "cell_type": "markdown",
   "metadata": {},
   "source": [
    "All conservation laws express the same idea: the variation of a conserved quantity inside a control volume is due to the total flux of that quantity crossing the boundary surface (plus possibly the effect of any sources inside the volume, but let's ignore those for now).\n",
    "\n",
    "The _flux_ is a fundamental concept in conservation laws: it represents the amount of the quantity that crosses a surface per unit time. Our discussion above was limited to flow in one dimension, but in general the flux has any direction and is a vector quantity. Think about this: if the direction of flow is parallel to the surface, then no quantity comes in or out. We really only care about the component of flux perpendicular to the surface. Mathematically, for a vector flux $\\vec{F}$, the amount of the conserved quantity crossing a small surface element is:\n",
    "\n",
    "$$\\vec{F}\\cdot d\\vec{A}$$\n",
    "\n",
    "where $d\\vec{A}$ points in the direction of the outward normal to the surface. A general conservation law for a quantity $e$ is thus (still ignoring possible sources):\n",
    "\n",
    "\\begin{equation}\n",
    "\\frac{\\partial}{\\partial t}\\int_{\\text{cv}}e \\, dV + \\oint_{\\text{cs}}\\vec{F}\\cdot d\\vec{A} =0\n",
    "\\end{equation}\n",
    "\n",
    "To obtain a differential form of this conservation equation, we can apply the theorem of Gauss to the second integral, which brings the gradient of $\\vec{F}$ into play. One way to recognize a conservation law in differential form is that the _fluxes appear only under the gradient operator_.\n",
    "\n",
    "Recall the non-linear convection equation from [Lesson 1 of Module 2](http://nbviewer.ipython.org/github/numerical-mooc/numerical-mooc/blob/master/lessons/02_spacetime/02_01_1DConvection.ipynb). It was:\n",
    "\n",
    "\\begin{equation}\\frac{\\partial u}{\\partial t} + u \\frac{\\partial u}{\\partial x} = 0\\end{equation}\n",
    "\n",
    "If we look closely at the spatial derivative, we can rewrite this equation as\n",
    "\n",
    "\\begin{equation}\\frac{\\partial u}{\\partial t} + \\frac{\\partial}{\\partial x} \\left(\\frac{u^2}{2} \\right) = 0, \\end{equation}\n",
    "\n",
    "which is the *conservation form* of the non-linear convection equation, with flux $F=\\frac{u^2}{2}$."
   ]
  },
  {
   "cell_type": "markdown",
   "metadata": {},
   "source": [
    "## Traffic flow model"
   ]
  },
  {
   "cell_type": "markdown",
   "metadata": {},
   "source": [
    "We've all experienced it: as rush hour approaches certain roads in or out of city centers start getting full of cars, and the speed of travel can reduce to a crawl. Sometimes, the cars stop altogether. If you're a driver, you know that the more cars on the road, the slower your trip will flow.\n",
    "\n",
    "Traffic flow models seek to describe these everyday experiences with mathematics, to help engineers design better road systems.\n",
    "\n",
    "Let's review the [Lighthill-Whitham-Richards](http://en.wikipedia.org/wiki/Macroscopic_traffic_flow_model) traffic model that was offered as an exercise at the end of Module 2. This model considers cars with a continuous *traffic density* (average number of cars per unit length of road) rather than keeping track of them individually. If $\\rho(x)=0$, there are no cars at that point $x$ of the road.  If $\\rho(x) = \\rho_{\\rm max}$, traffic is literally bumper to bumper.\n",
    "\n",
    "If the number of cars on a bounded stretch of road changes, it means that cars are entering or leaving the road somehow. _Traffic density obeys a conservation law_ (!) where the flux is the number of cars leaving the road per unit time. It is given by $F=\\rho u$—as with mass conservation, flux equals density times velocity. But don't forget your experience on the road: the speed of travel depends on the car density. Here, $u$ refers not to the speed of each individual car, but to the _traffic speed_ at a given point of the road.  \n",
    "\n",
    "You know from experience that with more cars on the road, the speed of travel decreases. It is also true that if you are traveling at fast speed, you are advised to leave a larger gap with cars ahead. These two considerations lead us to propose a monotonically decreasing $u=u(\\rho)$ function. As a first approximation, we may consider the linear function:\n",
    "\n",
    "\\begin{equation}u(\\rho) = u_{\\rm max} \\left(1-\\frac{\\rho}{\\rho_{\\rm max}}\\right)\\end{equation}\n",
    "\n",
    "![velocityvsdensity](./figures/velocityvsdensity.png)\n",
    "#### Figure 3. Traffic speed vs. traffic density.\n",
    "\n",
    "The linear model of the behavior of drivers satisfies these experimental observations:  \n",
    "1.  All drivers will approach a maximum velocity $u_{max}$ when the road is empty.\n",
    "2.  If the road is completely jampacked ($\\rho \\rightarrow \\rho_{max}$), velocity goes to zero.  \n",
    "\n",
    "That seems like a reasonable approximation of reality! \n",
    "\n",
    "Applying a conservation law to the vehicle traffic, the traffic density will obey the following transport equation:\n",
    "\n",
    "\\begin{equation} \\frac{\\partial \\rho}{\\partial t} + \\frac{\\partial F}{\\partial x} = 0 \\end{equation}\n",
    "\n",
    "where $F$ is the *traffic flux*, which in the linear traffic-speed model is given by: \n",
    "\n",
    "\\begin{equation} F = \\rho u_{\\rm max} \\left(1-\\frac{\\rho}{\\rho_{\\rm max}}\\right).\n",
    "\\end{equation}\n",
    "\n",
    "We can now use our numerical kung-fu to solve some interesting traffic situations, and check if our simple model gives realistic results!"
   ]
  },
  {
   "cell_type": "markdown",
   "metadata": {},
   "source": [
    "### Green light!"
   ]
  },
  {
   "cell_type": "markdown",
   "metadata": {},
   "source": [
    "Let's say that we are examining a road of length $4$ where the speed limit is $u_{\\rm max}=1$, fitting $10$ cars per unit length $(\\rho_{\\rm max}=10)$. Now, imagine we have an intersection with a red light at $x=2$.  At the stoplight, traffic is bumper-to-bumper, and the traffic density decreases linearly to zero as we approach the beginning of our road. Ahead of the stoplight, the road is clear.\n",
    "\n",
    "Mathematically, we can represent this situation with the following initial condition:\n",
    "\n",
    "\\begin{equation}\\rho(x,0) = \\left\\{ \\begin{array}{cc}\n",
    "\\rho_{\\rm max}\\frac{x}{2} & 0 \\leq x < 2  \\\\\n",
    "0 & 2 \\leq x \\leq 4 \\\\ \\end{array} \\right.\\end{equation}\n",
    "\n",
    "Let's see what a plot of that looks like."
   ]
  },
  {
   "cell_type": "code",
   "execution_count": 12,
   "metadata": {},
   "outputs": [],
   "source": [
    "%matplotlib agg\n",
    "import numpy \n",
    "from matplotlib import pyplot\n",
    "from matplotlib import rcParams\n",
    "rcParams['font.family'] = 'serif'\n",
    "rcParams['font.size'] = 16"
   ]
  },
  {
   "cell_type": "code",
   "execution_count": 13,
   "metadata": {},
   "outputs": [],
   "source": [
    "def rho_green_light(nx, rho_light):\n",
    "    \"\"\"Computes \"green light\" initial condition with shock, and linear distribution behind\n",
    "\n",
    "    Parameters\n",
    "    ----------\n",
    "    nx        : int\n",
    "        Number of grid points in x\n",
    "    rho_light : float\n",
    "        Density of cars at stoplight\n",
    "\n",
    "    Returns\n",
    "    -------\n",
    "    rho: array of floats\n",
    "        Array with initial values of density\n",
    "    \"\"\"    \n",
    "    rho = numpy.arange(nx)*2./nx*rho_light  # Before stoplight\n",
    "    rho[int((nx-1)/2):] = 0\n",
    "    \n",
    "    return rho"
   ]
  },
  {
   "cell_type": "code",
   "execution_count": 14,
   "metadata": {},
   "outputs": [],
   "source": [
    "#Basic initial condition parameters\n",
    "#defining grid size, time steps\n",
    "nx = 81\n",
    "nt = 30\n",
    "dx = 4.0/(nx-1)\n",
    "\n",
    "\n",
    "x = numpy.linspace(0,4,nx)\n",
    "\n",
    "rho_max = 10.\n",
    "u_max = 1.\n",
    "rho_light = 10.\n",
    "\n",
    "rho = rho_green_light(nx, rho_light)"
   ]
  },
  {
   "cell_type": "code",
   "execution_count": 15,
   "metadata": {},
   "outputs": [
    {
     "data": {
      "image/png": "[encoded data removed]",
      "text/plain": [
       "<Figure size 432x288 with 1 Axes>"
      ]
     },
     "metadata": {
      "needs_background": "light"
     },
     "output_type": "display_data"
    }
   ],
   "source": [
    "pyplot.plot(x, rho, color='#003366', ls='-', lw=3)\n",
    "pyplot.ylabel('Traffic density')\n",
    "pyplot.xlabel('Distance')\n",
    "pyplot.ylim(-0.5,11.);"
   ]
  },
  {
   "cell_type": "markdown",
   "metadata": {},
   "source": [
    "**How does the traffic behave once the light turns green?** Cars should slowly start moving forward: the density profile should move to the right. Let's see if the numerical solution agrees with that!\n",
    "\n",
    "Before we start, let's define a function to calculate the traffic flux. We'll use it in each time step of our numerical solution."
   ]
  },
  {
   "cell_type": "code",
   "execution_count": 16,
   "metadata": {},
   "outputs": [],
   "source": [
    "def computeF(u_max, rho_max, rho):\n",
    "    \"\"\"Computes flux F=V*rho\n",
    "\n",
    "    Parameters\n",
    "    ----------\n",
    "    u_max  : float\n",
    "        Maximum allowed velocity\n",
    "    rho    : array of floats\n",
    "        Array with density of cars at every point x\n",
    "    rho_max: float\n",
    "        Maximum allowed car density\n",
    "        \n",
    "    Returns\n",
    "    -------\n",
    "    F : array\n",
    "        Array with flux at every point x\n",
    "    \"\"\"\n",
    "    return u_max*rho*(1-rho/rho_max)"
   ]
  },
  {
   "cell_type": "markdown",
   "metadata": {},
   "source": [
    "### Forward-time/backward-space"
   ]
  },
  {
   "cell_type": "markdown",
   "metadata": {},
   "source": [
    "Start by using a forward-time, backward-space scheme, like you used in Module 2. The discretized form of our traffic model is:\n",
    "\n",
    "\\begin{equation}\n",
    "\\frac{\\rho^{n+1}_i- \\rho^n_{i}}{\\Delta t}+ \\frac{F^n_{i}-F^n_{i-1}}{\\Delta x}=0\n",
    "\\end{equation}\n",
    "\n",
    "Like before, we'll step in time via a for-loop, and we'll operate on all spatial points simultaneously via array operations. In each time step, we also need to call the function that computes the flux. Here is a function that implements in code the forward-time/backward-space difference scheme:"
   ]
  },
  {
   "cell_type": "code",
   "execution_count": 17,
   "metadata": {},
   "outputs": [],
   "source": [
    "def ftbs(rho, nt, dt, dx, rho_max, u_max):\n",
    "    \"\"\" Computes the solution with forward in time, backward in space\n",
    "    \n",
    "    Parameters\n",
    "    ----------\n",
    "    rho    : array of floats\n",
    "            Density at current time-step\n",
    "    nt     : int\n",
    "            Number of time steps\n",
    "    dt     : float\n",
    "            Time-step size\n",
    "    dx     : float\n",
    "            Mesh spacing\n",
    "    rho_max: float\n",
    "            Maximum allowed car density\n",
    "    u_max  : float\n",
    "            Speed limit\n",
    "    \n",
    "    Returns\n",
    "    -------\n",
    "    rho_n : array of floats\n",
    "            Density after nt time steps at every point x\n",
    "    \"\"\"\n",
    "    \n",
    "    #initialize our results array with dimensions nt by nx\n",
    "    rho_n = numpy.zeros((nt,len(rho)))      \n",
    "    #copy the initial u array into each row of our new array\n",
    "    rho_n[0,:] = rho.copy()              \n",
    "    \n",
    "    for t in range(1,nt):\n",
    "        F = computeF(u_max, rho_max, rho)\n",
    "        rho_n[t,1:] = rho[1:] - dt/dx*(F[1:]-F[:-1])\n",
    "        rho_n[t,0] = rho[0]\n",
    "        rho = rho_n[t].copy()\n",
    "\n",
    "    return rho_n"
   ]
  },
  {
   "cell_type": "markdown",
   "metadata": {},
   "source": [
    "We're all good to go! \n",
    "\n",
    "**Note:** The code above saves the complete traffic density at each time-step—we'll use that in a second to create animations with our results.  \n",
    "\n",
    "Running the numerical solution is easy now: we just need to call the function for evolving the initial condition with the forward-time/backward-space scheme."
   ]
  },
  {
   "cell_type": "code",
   "execution_count": 18,
   "metadata": {},
   "outputs": [],
   "source": [
    "sigma = 1.\n",
    "dt = sigma*dx\n",
    "\n",
    "rho_n = ftbs(rho, nt, dt, dx, rho_max, u_max)"
   ]
  },
  {
   "cell_type": "markdown",
   "metadata": {},
   "source": [
    "Let's see how that looks. \n",
    "\n",
    "Below is another way to use the `matplotlib` animation routines.  Instead of computing and animating at the same time, we can pass the results of our calculation, stored in the array `rho_n`, as individual frames.  \n",
    "\n",
    "It doesn't make much of a difference for a computationally light example like this one, but if you want to animate more complicated problems, it's nice to separate the computation from the visualization.  You don't want to re-run your entire simulation just so you can update the line style!"
   ]
  },
  {
   "cell_type": "code",
   "execution_count": 19,
   "metadata": {},
   "outputs": [],
   "source": [
    "from matplotlib import animation\n",
    "from IPython.display import HTML"
   ]
  },
  {
   "cell_type": "code",
   "execution_count": 20,
   "metadata": {},
   "outputs": [
    {
     "data": {
      "image/png": "[encoded data removed]",
      "text/plain": [
       "<Figure size 432x288 with 1 Axes>"
      ]
     },
     "metadata": {
      "needs_background": "light"
     },
     "output_type": "display_data"
    }
   ],
   "source": [
    "fig = pyplot.figure();\n",
    "ax = pyplot.axes(xlim=(0,4),ylim=(-.5,11.5),xlabel=('Distance'),ylabel=('Traffic density'));\n",
    "line, = ax.plot([],[],color='#003366', lw=2);\n",
    "\n",
    "def animate(data):\n",
    "    x = numpy.linspace(0,4,nx)\n",
    "    y = data\n",
    "    line.set_data(x,y)\n",
    "    return line,\n",
    "\n",
    "anim = animation.FuncAnimation(fig, animate, frames=rho_n, interval=50)"
   ]
  },
  {
   "cell_type": "code",
   "execution_count": 21,
   "metadata": {},
   "outputs": [
    {
     "ename": "RuntimeError",
     "evalue": "Requested MovieWriter (ffmpeg) not available",
     "output_type": "error",
     "traceback": [
      "\u001b[0;31m---------------------------------------------------------------------------\u001b[0m",
      "\u001b[0;31mRuntimeError\u001b[0m                              Traceback (most recent call last)",
      "\u001b[0;32m<ipython-input-21-f885f4acf935>\u001b[0m in \u001b[0;36m<module>\u001b[0;34m\u001b[0m\n\u001b[0;32m----> 1\u001b[0;31m \u001b[0mHTML\u001b[0m\u001b[0;34m(\u001b[0m\u001b[0manim\u001b[0m\u001b[0;34m.\u001b[0m\u001b[0mto_html5_video\u001b[0m\u001b[0;34m(\u001b[0m\u001b[0;34m)\u001b[0m\u001b[0;34m)\u001b[0m\u001b[0;34m\u001b[0m\u001b[0;34m\u001b[0m\u001b[0m\n\u001b[0m",
      "\u001b[0;32m~/anaconda3/lib/python3.8/site-packages/matplotlib/animation.py\u001b[0m in \u001b[0;36mto_html5_video\u001b[0;34m(self, embed_limit)\u001b[0m\n\u001b[1;32m   1326\u001b[0m                 \u001b[0;31m# We create a writer manually so that we can get the\u001b[0m\u001b[0;34m\u001b[0m\u001b[0;34m\u001b[0m\u001b[0;34m\u001b[0m\u001b[0m\n\u001b[1;32m   1327\u001b[0m                 \u001b[0;31m# appropriate size for the tag\u001b[0m\u001b[0;34m\u001b[0m\u001b[0;34m\u001b[0m\u001b[0;34m\u001b[0m\u001b[0m\n\u001b[0;32m-> 1328\u001b[0;31m                 \u001b[0mWriter\u001b[0m \u001b[0;34m=\u001b[0m \u001b[0mwriters\u001b[0m\u001b[0;34m[\u001b[0m\u001b[0mrcParams\u001b[0m\u001b[0;34m[\u001b[0m\u001b[0;34m'animation.writer'\u001b[0m\u001b[0;34m]\u001b[0m\u001b[0;34m]\u001b[0m\u001b[0;34m\u001b[0m\u001b[0;34m\u001b[0m\u001b[0m\n\u001b[0m\u001b[1;32m   1329\u001b[0m                 writer = Writer(codec='h264',\n\u001b[1;32m   1330\u001b[0m                                 \u001b[0mbitrate\u001b[0m\u001b[0;34m=\u001b[0m\u001b[0mrcParams\u001b[0m\u001b[0;34m[\u001b[0m\u001b[0;34m'animation.bitrate'\u001b[0m\u001b[0;34m]\u001b[0m\u001b[0;34m,\u001b[0m\u001b[0;34m\u001b[0m\u001b[0;34m\u001b[0m\u001b[0m\n",
      "\u001b[0;32m~/anaconda3/lib/python3.8/site-packages/matplotlib/animation.py\u001b[0m in \u001b[0;36m__getitem__\u001b[0;34m(self, name)\u001b[0m\n\u001b[1;32m    162\u001b[0m         \u001b[0;32mif\u001b[0m \u001b[0mself\u001b[0m\u001b[0;34m.\u001b[0m\u001b[0mis_available\u001b[0m\u001b[0;34m(\u001b[0m\u001b[0mname\u001b[0m\u001b[0;34m)\u001b[0m\u001b[0;34m:\u001b[0m\u001b[0;34m\u001b[0m\u001b[0;34m\u001b[0m\u001b[0m\n\u001b[1;32m    163\u001b[0m             \u001b[0;32mreturn\u001b[0m \u001b[0mself\u001b[0m\u001b[0;34m.\u001b[0m\u001b[0m_registered\u001b[0m\u001b[0;34m[\u001b[0m\u001b[0mname\u001b[0m\u001b[0;34m]\u001b[0m\u001b[0;34m\u001b[0m\u001b[0;34m\u001b[0m\u001b[0m\n\u001b[0;32m--> 164\u001b[0;31m         \u001b[0;32mraise\u001b[0m \u001b[0mRuntimeError\u001b[0m\u001b[0;34m(\u001b[0m\u001b[0;34mf\"Requested MovieWriter ({name}) not available\"\u001b[0m\u001b[0;34m)\u001b[0m\u001b[0;34m\u001b[0m\u001b[0;34m\u001b[0m\u001b[0m\n\u001b[0m\u001b[1;32m    165\u001b[0m \u001b[0;34m\u001b[0m\u001b[0m\n\u001b[1;32m    166\u001b[0m \u001b[0;34m\u001b[0m\u001b[0m\n",
      "\u001b[0;31mRuntimeError\u001b[0m: Requested MovieWriter (ffmpeg) not available"
     ]
    }
   ],
   "source": [
    "HTML(anim.to_html5_video())"
   ]
  },
  {
   "cell_type": "markdown",
   "metadata": {},
   "source": [
    "**Yikes! The solution is blowing up.** This didn't happen in your traffic-flow exercise (coding assignment) for Module 2! (Thankfully.) What is going on? Is there a bug in the code?\n",
    "\n",
    "No need to panic. Let's take a closer look at the equation we are solving:\n",
    "\n",
    "\\begin{equation}\\frac{\\partial \\rho}{\\partial t} + \\frac{\\partial F}{\\partial x} = 0\\end{equation}\n",
    "\n",
    "Using the chain rule of calculus, rewrite is as follows:\n",
    "\n",
    "\\begin{equation} \\frac{\\partial \\rho}{\\partial t} + \\frac{\\partial F}{\\partial \\rho} \\frac{\\partial \\rho}{\\partial x} = 0\\end{equation}\n",
    "\n",
    "This form of the equation looks like the nonlinear convection equation from [Lesson 1 of Module 2](http://nbviewer.ipython.org/github/numerical-mooc/numerical-mooc/blob/master/lessons/02_spacetime/02_01_1DConvection.ipynb), right? This is a wave equation where the wave speed is $u_{\\rm wave} = \\frac{\\partial F}{\\partial\\rho}$. That term is:\n",
    "\n",
    "\\begin{equation}u_{\\rm wave} = \\frac{\\partial F}{\\partial \\rho} = u_{\\rm max} \\left( 1-2\\frac{\\rho}{\\rho_{\\rm max}} \\right).\\end{equation}\n",
    "\n",
    "See how the wave speed changes sign at $\\rho = \\rho_{\\rm max}/2$? That means that for the initial conditions given for the green-light problem, the part of the wave under $\\rho = \\rho_{\\rm max}/2$ will want to move right, whereas the part of the wave over this mark, will move left! \n",
    "\n",
    "There is no real problem with that in terms of the model, but a scheme that is backward in space is *unstable* for negative values of the wave speed. "
   ]
  },
  {
   "cell_type": "markdown",
   "metadata": {},
   "source": [
    "## Upwind schemes"
   ]
  },
  {
   "cell_type": "markdown",
   "metadata": {},
   "source": [
    "Maybe you noticed that the backward-space discretization is spatially biased: we include the points $i$ and $i-1$ in the formula. Look again at the stencil and you'll see what we mean."
   ]
  },
  {
   "cell_type": "markdown",
   "metadata": {},
   "source": [
    "![FTBS_stencil](./figures/FTBS_stencil.png)\n",
    "#### Figure 4. Stencil of forward-time/backward-space."
   ]
  },
  {
   "cell_type": "markdown",
   "metadata": {},
   "source": [
    "In fact, the spatial bias was meant to be in the direction of propagation of the wave—this was true when we solved the convection equation (with positive wave speed $c$), but now we have some problems. Discretization schemes that are biased in the direction that information propagates are called _upwind schemes_.\n",
    "\n",
    "Remember when we discussed the characteristic lines for the linear convection equation in [lesson 1 of the previous module](http://nbviewer.ipython.org/github/numerical-mooc/numerical-mooc/blob/wave_dev/lessons/02_spacetime/02_01_1DConvection.ipynb)? Compare the sketch of the characteristic lines with the stencil above. The point is that there is an inherent directionality in the physics, and we want the numerical scheme to have the same directionality. This is one example of _choosing an appropriate scheme_ for the physical problem.\n",
    "\n",
    "If we wanted to solve the convection equation with negative wave speed, $c<0$, we would need a spatial bias \"slanting left,\" which we would obtain by using the points $i$ and $i+1$ in the formula.\n",
    "\n",
    "But if we have waves traveling in both directions, we are in a bit of a bind. One way to avoid this problem with our traffic flow model is to simply use an initial condition that doesn't produce negative speed. This should work. But later we will learn about other numerical schemes that are able to handle waves in both directions."
   ]
  },
  {
   "cell_type": "markdown",
   "metadata": {},
   "source": [
    "Just for a sanity check, let's try the forward-time/backward-space scheme with the initial conditions\n",
    "\n",
    "\\begin{equation}\\rho(x,0) = \\left\\{ \\begin{array}{cc}\n",
    "2.5 x & 0 \\leq x < 2  \\\\\n",
    "0 & 2 \\leq x \\leq 4 \\\\ \\end{array} \\right.\\end{equation}\n",
    "\n",
    "If all values of $\\rho \\leq \\rho_{\\rm max}/2$, then $\\frac{\\partial F}{\\partial \\rho}$ is positive everywhere. For these conditions, our forward-time/backward-space scheme shouldn't have any trouble, as all wave speeds are positive."
   ]
  },
  {
   "cell_type": "code",
   "execution_count": null,
   "metadata": {},
   "outputs": [],
   "source": [
    "rho_light = 5.\n",
    "nt = 40\n",
    "rho = rho_green_light(nx, rho_light)\n",
    "rho_n = ftbs(rho, nt, dt, dx, rho_max, u_max)\n",
    "\n",
    "anim = animation.FuncAnimation(fig, animate, frames=rho_n, interval=50)\n",
    "HTML(anim.to_html5_video())"
   ]
  },
  {
   "cell_type": "markdown",
   "metadata": {},
   "source": [
    "Phew!  It works! Try this out yourself with different initial conditions. \n",
    "\n",
    "Also, you can easily create a new function `ftfs` to do a forward-time/forward-space scheme, which is stable for negative wave speeds. Unfortunately, forward in space is unstable for positive wave speeds.  If you don't want it blowing up, make sure the wave speed is negative everywhere: $u_{\\rm wave} = \\frac{\\partial F}{\\partial \\rho} < 0 \\ \\forall \\ x$.\n",
    "\n",
    "Look at that solution again, and you'll get some nice insights of the real physical problem. See how on the trailing edge, a shock is developing? In the context of the traffic flow problem, a shock is a sign of a traffic jam: a region where traffic is heavy and slow next to a region that is free of cars. In the initial condition, the cars in the rear end of the triangle see a mostly empty road (traffic density is low!).  They see an empty road and speed up, accordingly.  The cars in the peak of the triangle are moving pretty slowly because traffic density is higher there.  Eventually the cars that started in the rear will catch up with the rest and form a traffic jam."
   ]
  },
  {
   "cell_type": "markdown",
   "metadata": {},
   "source": [
    "## Beware the CFL!"
   ]
  },
  {
   "cell_type": "markdown",
   "metadata": {},
   "source": [
    "[Lesson 2 of Module 2](http://nbviewer.ipython.org/github/numerical-mooc/numerical-mooc/blob/wave_dev/lessons/02_spacetime/02_02_CFLCondition.ipynb) discusses the CFL condition for the linear convection equation. To refresh your memory, for a constant wave speed $u_{\\rm wave} = c$:\n",
    "\n",
    "\\begin{equation} \\sigma = c\\frac{\\Delta t}{\\Delta x} < 1.\\end{equation}\n",
    "\n",
    "What happens for non-linear equations? The wave speed is space- and time-dependent, $u_{\\rm wave} = u_{\\rm wave}(x,t)$, and the CFL condition needs to apply for every point in space, at every instant of time. We just need $\\sigma>1$ in one spot, for the whole solution to blow up! \n",
    "\n",
    "Let's generalize the CFL condition to\n",
    "\n",
    "\\begin{equation} \\sigma = \\max\\left[ \\left| u_{\\rm wave} \\right| \\frac{\\Delta t}{\\Delta x} \\right] < 1.\\end{equation}\n",
    "\n",
    "which in our case is\n",
    "\n",
    "\\begin{equation} \\sigma = \\max\\left[ u_{\\rm max} \\left| 1-\\frac{2 \\rho}{\\rho_{\\rm max}} \\right|  \\frac{\\Delta t}{\\Delta x} \\right] < 1.\\end{equation}\n",
    "\n",
    "Here, the closer $\\rho$ is to zero, the more likely it is to be unstable."
   ]
  },
  {
   "cell_type": "markdown",
   "metadata": {},
   "source": [
    "### Green light and CFL"
   ]
  },
  {
   "cell_type": "markdown",
   "metadata": {},
   "source": [
    "\n",
    "We know that the green-light problem with density at the stop light $\\rho = \\rho_{\\rm light} = 4$ is stable using a forward-time/backward -space scheme. Earlier, we used $u_{\\rm max} = 1$, and $\\Delta t/\\Delta x=1$, which gives a CFL $= 1$, when $\\rho = 0$. \n",
    "\n",
    "What if we change the conditions slightly, say $u_{\\rm max} = 1.1$? "
   ]
  },
  {
   "cell_type": "code",
   "execution_count": 13,
   "metadata": {},
   "outputs": [
    {
     "data": {
      "text/html": [
       "<video width=\"432.0\" height=\"288.0\" controls autoplay loop>\n",
       "  <source type=\"video/mp4\" src=\"data:video/mp4;base64,AAAAHGZ0eXBNNFYgAAACAGlzb21pc28yYXZjMQAAAAhmcmVlAABQom1kYXQAAAKuBgX//6rcRem9\n",
       "5tlIt5Ys2CDZI+7veDI2NCAtIGNvcmUgMTQ4IHIyNjk5IGE1ZTA2YjkgLSBILjI2NC9NUEVHLTQg\n",
       "QVZDIGNvZGVjIC0gQ29weWxlZnQgMjAwMy0yMDE2IC0gaHR0cDovL3d3dy52aWRlb2xhbi5vcmcv\n",
       "eDI2NC5odG1sIC0gb3B0aW9uczogY2FiYWM9MSByZWY9MyBkZWJsb2NrPTE6MDowIGFuYWx5c2U9\n",
       "MHgzOjB4MTEzIG1lPWhleCBzdWJtZT03IHBzeT0xIHBzeV9yZD0xLjAwOjAuMDAgbWl4ZWRfcmVm\n",
       "PTEgbWVfcmFuZ2U9MTYgY2hyb21hX21lPTEgdHJlbGxpcz0xIDh4OGRjdD0xIGNxbT0wIGRlYWR6\n",
       "b25lPTIxLDExIGZhc3RfcHNraXA9MSBjaHJvbWFfcXBfb2Zmc2V0PS0yIHRocmVhZHM9OSBsb29r\n",
       "YWhlYWRfdGhyZWFkcz0xIHNsaWNlZF90aHJlYWRzPTAgbnI9MCBkZWNpbWF0ZT0xIGludGVybGFj\n",
       "ZWQ9MCBibHVyYXlfY29tcGF0PTAgY29uc3RyYWluZWRfaW50cmE9MCBiZnJhbWVzPTMgYl9weXJh\n",
       "bWlkPTIgYl9hZGFwdD0xIGJfYmlhcz0wIGRpcmVjdD0xIHdlaWdodGI9MSBvcGVuX2dvcD0wIHdl\n",
       "aWdodHA9MiBrZXlpbnQ9MjUwIGtleWludF9taW49MjAgc2NlbmVjdXQ9NDAgaW50cmFfcmVmcmVz\n",
       "aD0wIHJjX2xvb2thaGVhZD00MCByYz1jcmYgbWJ0cmVlPTEgY3JmPTIzLjAgcWNvbXA9MC42MCBx\n",
       "cG1pbj0wIHFwbWF4PTY5IHFwc3RlcD00IGlwX3JhdGlvPTEuNDAgYXE9MToxLjAwAIAAABV3ZYiE\n",
       "ADf//vbw/gU2O5jQlxHN6J0zH78VuLo0N73OAAADAAA33OavHhF/f4gKB00SVM8Ln0Ac1zy7ucAA\n",
       "DussVOuyTUoaNfgmkghpckD/xUYlCLsheNTJqm6hrb8OC+fXIgAl97/kDlCAdsFmoNax3Hf8//z4\n",
       "QFjG6wD2VHPV1lKlduNCICiAsm5rOk9HmIz8ENix8bKapqviqUcScB4FmcWIzfDf/Pr7G5sN8oop\n",
       "M3B9VNUQcdvuXEQQqwqKyXw7KdvYKuvMB0cYeRsP5OFXM//yjGOt8goRZdEu/uU/0KxCVcZrmR1Z\n",
       "w9d8ybzjkrXTiHv4vPcK9bKlRYjZadAiANp6J+rg4QjmDflcI2nzbnQdrmUpKxoXoPtgXbogqfnd\n",
       "g2774QXXRAfHysUK+ma1rwk4vRPXm9sOYiZVCE94cVgLuaOZ6H17aCXNCH4DNeOEkW/Qs5t8Hnh7\n",
       "YGYjl2f8MPfvJrW6Ytg7EVHaordIZ7DcH37yTa/4H0DYdfpzQ0p2UZe7ORJoNMkcPM5CTB25dq/X\n",
       "l/NMGeQjvlG0ttaj1sKn09p7cqkjsooshe3xi86jj2+HCIgndPX0Ta0nnxxNwfkrAYW4Wyj/HVbc\n",
       "7SH+1UXCmp5QAAFn+PrAuJ9RyE+dRwfVcSfpQ8y4JltMDwAcpDr947riwEHwR8UN9ISfBpe6oL69\n",
       "vSoIGqeILdxIaHMdSGt6sM3GMRuqDbLsbRJ8O5XNSR7xyyWMQX7VxBwIojpQKwcOAbCSWof6w45G\n",
       "V1LSg+w1RgICHvXpOb6q265nQKfjpymBO0cM0Jxf0vVG3gRQ5T5sM/k4gAK3A/tzn9fJkIS8TBHY\n",
       "YJTWcbfWUf/cYjNNH5H38SheaHyL4f1ZqnA+Xl1Sk/HumLRVQs+tSabz89v7Q1pW46le094kTjJj\n",
       "jw/II+pysbLb5+ABBVi/iAZwqCId0bjxfGXEHzGmLjAf64mzuPhUHBaHZPXOpv4+siXzrAUo3qAA\n",
       "G5mHzQyweUFV3y3gClS0u/TM2yWbWoYU1N04ri4+8/USUe/+j3/chuD0ucLgOMlxcUy5Y6qmdigZ\n",
       "evZMMC1VviZOnuLcDaKVE/euPr8hO/gP81GPGWHr/0yl9jSd6IE4Gslhp9tqDSbI4CKXT8sgGh3x\n",
       "yFyWTwPUxsLEKylBdRXkmgdpr/DBOy8u8P3DyjN67wxmYywNI0oJRKj9lzhI2t2FvvZVcDcTayvx\n",
       "lIQTln8C6yJaCVoHQcKGbz9haFP5ZewbR9dWF8Vqp0jBJ6OiwTDx+/4fORuJA0ArlqmPWiIpNxN7\n",
       "klQG5Wj4HxGT3M2TIjbTx3Po1lrrMcYn0uWm4Jtcly3XpPiyJq2XADmZyFz12/f3mpx0qhjQoZR3\n",
       "g8m7zBvai4YxxrxL2IOo4dpPoa+wN3bIBEhqbWpXMWLHPT6/XxRSWjx7Ug5TuLKWQM1n7mTec2pK\n",
       "ICKG/duqGVEMJCCB/FXjSjWfY/OFyX/c38l1RYkmnHGBMgaqQliSih+U+51IMYesT1KxpaV68sCD\n",
       "5NFXF9wkWypZri9sZ5eeJC64UerCE5he/3Ge/u8pqKKt9X2ZGMuf1yIOqKLFHzNXmYxWJmtXaZnr\n",
       "cSZlVUZJbl67EIZz4CD4I6a82oBnp2yGq8cl6RfURLAbtDQKqcoKFd/mL7Wbwt6B9/ZizMxHIvRi\n",
       "Q7nSrcv7w8uuq8zLXkPdMars3MLo/eE0trDHIYoKtyTwVW4APsiuHhaPJpWSEU4gEPMIaEN3iw/I\n",
       "yjpY5OEpbgGULekmlk0izfidS3lFRrE8gRtLey8jFkYn/TDBqERDzOdpilOhnRA/J/0ZOmTQR+Kg\n",
       "yApkqMXUe+lMrQfyaNjqJWgYkjldPE7Pjv/f+gk0h9DeelczUmZCyvlpJHov9fJdraN8W2wkO4G4\n",
       "S7J+uYAgzMW0fX6TpYoLllc25YADiU2F5YF9Jihl6jAtUfjW9qSSHzt3KWvNuqCG35upNnxQ3Ft/\n",
       "zDK/7fu0TjZIHEL0hd0TpFad7f5Y/9d+aTPkPHG52UkjJi8olOYO54iiMcMlmdUf9kNdd5gIHeOQ\n",
       "Tl9jZl5DK0T2eaqOYBaNA1AHi1EVbFdluKbguXKwFdp/kYZ7I7dzPysmNYKIEM/dcJkAbHWmvzqe\n",
       "3mfgdzbxYBC1WJqHaS01nw9yiy3P79W1nYKbgK/oIez2fuvTfDVUJAQPIEpHSKbslQu0aJUBi1L0\n",
       "PYw69nxVlUMs4kcmjRChjlgiCUks94OJumHhI5JEgxgiC4J68Z8Bt7h9nZnZl9vcupA21Zbnd2jY\n",
       "2o8BZ0ni9BAl2RF3UsjVJ7Ankio+C7WN2qVTyTv3ecdfujkqn9cv1AC+CLaw50XBWk/uadYzjg3M\n",
       "lBLbLpSrEkatmcUVCSJ7emuin9EszVXsDJwbdT9Lmx6E4h/Zs5aoTYoNHLrm+lTP2bhH8BggM9Jv\n",
       "fc/vShwa6sB+A5aFV3cNRTTJvURNP3CFWHLtl3BXErtXMpT0VQ5jO/0mizNvrLVUFx3ARZRBAEFk\n",
       "uIVajtDEHvMzdo7blgiKZtxlcSuqsgPZ8uyvn2gv+u+S/EQOUcB7hfyL+C+EOHmK11R4uw2VT7Cl\n",
       "SrLNfGjIJ/JIUSn1lYcT4gR02XVZGfM7xYsG2Q5ENgudVO2dCJ25/E4N1B5XoZ8NG0CJdXpwWpsE\n",
       "eepCA7ZzGKWPnFN3dqIi0nqLyv8w7TLIZySEWiX1gMfgq0QCuLVCMYguQRa7YuAdfvwfZZG/oLxh\n",
       "twZ/LTT41HDCblGlaY36ouQpdaG8KEI3w4CM9NNcjVYsq/8soMzdf2fVO9YGV9DKSPHZIvNtP/tZ\n",
       "mqBqsRPWrwvV5Iv/7jQLBmfp5YcrxN+tfm0QQ9EkYzfG1OvipgvJVEFjb4tSK9xFH1FZeDvYBvbC\n",
       "EHEPdlpUu730jxutluB/oakvEkqQdtWUVjp9+W59KASDg3CQZCk95PYNAuD/l9NvdmTBtkE8qkzR\n",
       "jwUziPb8ThKRoaaXC158Z7/Y7KLeC6GP46VuJhA5Iu2Js5TsSZd69/msNEZponNg7TZkvVqvyJm4\n",
       "HU4sXcXzvxVq1VLmXm011lBUx5yaqR3k8xiez+5UqlQA2o/1vYA+VlqEAy7A6hEoAjwbzR0uNPHu\n",
       "wMkpkZ7+jAZweXuyNm11Rc71U+eYOEVAVjPxmuky9m2zXlmbXVVsZMRV2usf4+yf0XE6vdEO90Ey\n",
       "y6q3VhATmFKX+IM7HoBcbiH/V8bKn0XHRze5xN92CpRfJaHoi/5goCltdRvn1xyXTekl0SzYepvb\n",
       "jw4TG3LKv6ej1et5ghs1+4OzLvunzfgol/tQBfQ5eq2eIQjbvMZQu7cvqiZhJfmKfUtm6PB+D5Ri\n",
       "29Oc8fOm694F07KM45Tw3Ny9Ep6pgI8EQbovAcSsMQ8XwC3lDS5gZVoDsPf/x9yaoMQsp4NpCio4\n",
       "MTi1BslVqFFd0libuwDaYEvbZ13dxieFSUozd1KwLXNfKiJn6wIq7UH7jOc/pQYhrFsZwz5jGAfs\n",
       "lhXj+NXEPdV8nRVRgRpLP2Xa+AUBqY0xBPpyzMhOXKe5oyNAIMeXpNmDtNjUpoLqqRwzngTEfSw5\n",
       "4n/lKh2qw3YKxTf/kJZzNRJYofGHjZ7XKTLD/KanDAFojeX9MdrHbmkMWL3shYFxpNnelk8MflN2\n",
       "UFYI/IbGR/yDCP0rfLwz1tksMHTZkVwQg1ZstU2kmbOd/uGV7TamsJvUA4D1tkMtGhvNkJ3U8II5\n",
       "gIYbk+UbWBbd8K13DGtlqCoPh1xiHYbbbPpHjRexuz8t2W+h7/TM81WOswedeD+VObKRWFSY4ZsQ\n",
       "MKAJ4ZZaRWP6G5Z8Em1a5sCSkz+V25wQ7PUb7Z01a7IuHuJqj7atEjg0BbkeycNEPc42kvKqoCvY\n",
       "QTd3KP+F/6nW11IY+Uy2EPGcGaAhch7Xg3g1KGtZwvfrUekAAintPhnwcVjelyXnNHVhnH4Lp3Wm\n",
       "SWeKbRZ4XbGiw2U3AKBwsxguOru1aTP1TXNyt9J8bWZeC2Xm+ryAALgyEdGWlbfQpOMRuFU5YKob\n",
       "IiB9t5Fb9WIQQyM//NmMwnta2VhLB7IjCgL/hhTmLl75pxr9xUiWxwN6+v949F72oxAd8/uPGMpF\n",
       "ekb6QBgKOeloVv7di/iKZUeHsVywOSbQowmN/B28Hfpcq9VKgfygwCglvIDNBhz1sJdQKqgt2lU6\n",
       "O1LLiaIB0dKoIdqBi1bj4R7NVajwf4lVdRtS+Z40Um5edRkRe1QEADFSw1pWbwlvk1EDpFOqrvKy\n",
       "RDsG2pzq1S5nUVJaRG1j0P7P18I2ClD0HYU5dy+x9tKGlPPohS4MQRPPsjtvTEPwbfKx9vXsIY/b\n",
       "zKwholDFBf/uW0UyVhrrk9y6ue4252+QuGoYWH4JdhBQA7cx9MZ9C7DgL9/Dg3oUPfX1sqs38KkH\n",
       "Zs8Vp0cUHCYQrTNyb+hVSsJgq7FRlc4Az8jYhLXueWfXTcEIOvfesJ0ZPFSarhaC083jA1D6YJni\n",
       "/i6VbLhDQYEBzE2Bin2kwbgF14wgGo+zjKBvaAdowpDYMLsldxrs8yV3jBS2/A1omcBczGg7ioUR\n",
       "wim3QzkXtEq+jHSGU6nlS/ciACMJsLqfueZYiSCSH6ULo7xujTtNTfabujV/j0kFTED5NX+raxHw\n",
       "pLK+DQSNijJ3byz24YtCLvH7MQz9Tsk+xz5ORQa/+VjiSIUaKueTTqo6ySQlM2riUtWSneh1oDpR\n",
       "sq4cClHKjw0RBo6QkTvbg8BCo0Slk612lCVO3VpXY+eVsIw1goK59KlqZ+7xImBXgs2G+CXs01NB\n",
       "3IR/me1jdHOMRx1izOmvK5LHP7k4OdqAX1Sp+G6zVBbussE4l4TCGaLdOjjdXcuNk6yci8yOJo1Z\n",
       "19KcZUVUamH6ZS0vPORSc3q+g5We5kXJvmNSUafpMossynf+wvrouFQ9EcJZbEKJom52WafGcaAA\n",
       "ntUtTiSuqpnNYdYLQutBBd0yPE+DYzxI9c/9RkZrwI6gCUHjvwUn1h6YJixhBQoyeqtgGKb5a+yp\n",
       "wOap3nZmg1KUUpEipC80mhHI3w+SykyARELTF5rlb6opf/Jf7GysaixYlSHkFcTwAKr1k27SIDc/\n",
       "Au5nsg+CjBf0es6BT0gPyLK7/sSbrINMUe1uQZfne924A5Axg0Ju/Q7RJcOd1Cly9X6kIlW0dhGA\n",
       "jmYyXzi2cg3e0X7M2ZCRd17p15OfdoFABAAYopcvdcEnd3p9IEKNxMq9zfCMpx+qXgPv4Pcqe+Dl\n",
       "QvyuFtbQe33prJnOJCzA+VxtdQ7/CMOQByMbn+6558gwV35mv2QJrGnzE3Qr0gmjSmvGOb8PcLyY\n",
       "fXmDVstqFp9pd7d6zKtz7r5/wOJ3+DJYgljpI2PIaofdifqSD/R6BR1ZGwQF+oO+wM1xjgaiPCvs\n",
       "MM3BlD1u32x7KhHFuQfDW5HWvqrA54o0Q9OrENrgEsobcdoJPSNzLg//fB9/CZSzxYh7rplYOeW8\n",
       "jfyJpugPO3HbxptjtUSLmBfVRsofkixC+tUh1YnHa/neyWGrGAN417yhxKhJnmfdLU84VrT1TgGL\n",
       "V3DkcRRz6SmXmvVcUdg1g6fEz2IJCElEffTHmES+nUYU2dbdXuj4w67ZZ0fP+LK8OKQHvvjHVPr/\n",
       "767ieodLRdILUehW2edagrYPNP3fgnX+rDa/D2VdUoP0Jbrv6IhTGxL7acm5zbFRgSBTr+r6vDlm\n",
       "aR1r7h08VWLQ6qdYXrbNamhxZMH/2k5/94EKfkSjpur8pEIBjPmLoi7cUiNfH0U49OPj7WUex1eQ\n",
       "l/UZSob06hegNXBVfWfH/tRIOJBk5ULjZJQpEkDCRIznBeVdyElmBf43ktzMhn5yQw1gVUsjWFlH\n",
       "Ny8uz7MrUhI8+bc05GX11CS8QF/BFusdrUee1XlxGjgKyMXx5nBnDSTCI+BBnTdV4NGUriOzNjn9\n",
       "zqkkCrS0JR2zSpr7T9JWbCYOv7OdJ1O5zNOxJRhxuMXvjDmfRZYX9glM7E5KJ5kDvqGfnDuD6qAR\n",
       "MlnER+QumoHG7pvz4r+/xxkE8lHaEgDG9aMQA9Z5J7Nyc6+3AVkk15V6n1vmE6Bh0V3IIzfUqZuh\n",
       "KnUsw2f39S04xNmGdEjzHiFHTk0jbYN1IDgMHhoKWTESdYWckNoZYOHujqXdwwKKwy9PvbCnAQx8\n",
       "aRM7XGZnReGyrpj7EX0FqkR8qxIymSgMOxAAH+s0yI2W51Gcnk9uOkgI6LJffrytA9ps5ABun5l+\n",
       "55E+mB7bR/q8VFScInom72N83YERPJsicuZRlA34Zj0u/aw7ZwWdOoEP6SAF8OWdDPHO9Oixhsxh\n",
       "goo4wt+Ejx0iwJQMtm+j2/9gExh/+jgCnP9p8mNgQNjSWLmx0HbQ7Pacwm+YTqEfbZ6txwZVpOSK\n",
       "HjscMDu0cSWcy0icUlulZNFdgV1livoeRDlBwOSIWHetPzlq2D/8/wJn0fZECNFp13jdxe3e2Upn\n",
       "oug8XNKLihniad/rK2hsqCJTMw57+Ymy9zumsx6Kwu/9M63db9yJjbv1j/8xriyxZkQGwjeVrm85\n",
       "B3U4xECz2eNp10wsN/CucvrOOxbZfo+i34RReDMZ8DP9NV6TqSjKCuvHxZqD09kiSc/sT2vBVivO\n",
       "tlGQ0KsfQwCE+tH9OMsML8yAIIpiTi8M6Ia3F32FFOn6yOISAVkyvqbPlPzujLykfSMSceOOHi7H\n",
       "s0IQAnqFt3v5EosHxksLzLbYOdqeg/aDTJoDpXCGYkntvSLfP4fx1OE72VMBOIIEgWXad7weCfdV\n",
       "zTsp+AJSGQETEusR+bCfoYpKnIh6Aez/Yy/KP3O6Tswuiicr/ZBXo9IH2v354iIBvDmvNBacZ+s6\n",
       "wfRaMGJh4632uxzd7EOfQLV+CDO+xHvAj+jAClQ39qWIr7MrCdlHXg1sAql4Qi8zVMA1gVtHxr3X\n",
       "2B2iiFzoEkeIhSb13RsGXOcEa92MWww9O+kXf++MRGdJxiA9F/bOoAbTw5XXBo8YrhPDGT7IXSs2\n",
       "9ndzP/3zShAI7jswKkQ6n0GldU3F7n5q1hMlw3EK5t/WzDRxUPjjB147Mlq9nWW5lB/tC+bRGOI1\n",
       "KeULFH5yVCR7SOp5bIBpzek/UQF12ieQ0gbAtCzs0xmV6litx81P8cvwtidHhJSNkazVj7A9spLE\n",
       "bEtkICQ9HtwP9RL4YGrRf8VgeJ8xrwYY98lV/KHNnBhocqdToHZdQiVg7EULzFiJQmxFxtXl8ziv\n",
       "g4H7CJJQF1ZOEIWpnUKtwr6hhbHv0jymGbcm79HQ19GX0pB5GtMrluLIkW8A6xr5JjbAznVNoSOA\n",
       "I8e5LtZISD8Kw57XWSv9wjKYTBcAAAKKQZohbEN//qeEJL2VwFDuS7q/k071GikEl7LaSK9Li6bz\n",
       "NqNnxYFW7DeeUn0RE9UUz/hSJb3ZK+2e/Zz1LBbHk3bL+XrQgWGOhEPxHewZhr9eSbP++UC4UWSL\n",
       "dW0xGjMU1UQH8N08r3AVEBU/bvIwwtTMaHl/qjV9urIw/GrSEUxb5GmLR+/Xe+bq9jg+QWlJDSIi\n",
       "bNAKUzJv4gmIYNoiyAjXQ/xOmQSlnHz4EZrkHp8SrBbW+VeFg6ywVF0OWqmvPEzL+D6i6KigKxg6\n",
       "7dafeBmGhOFddNv+X75A65Uo2TVdTcNxb7nwzD1UgEtcuiKEpXZ1H6bjqDZZdr028zCv0cIgnoN7\n",
       "A7u169+cqOPJYt6eRgpAGrMLfbPBBiOUCBpjz/kGl82kMpUirqKKVmoqRDDIfdYULJ05gweLTeoE\n",
       "e8XROfjLGnVOD1JDwIbNjje66dc9hU0AYntsI+1tikMPJwpiXWmLbr2k4IzdPprllPZ6vdTsZf6k\n",
       "H7HG6i65uJi3f6RUUADo8PIsgLnIJlCcaUWJGxELf/R8YNt8ykcHYHxCDrktKcoNvEas+C86BNQj\n",
       "wIdeouiFyr2JLFw0eB8ZKl9zjlgPBF8elwN/sWIStCPqy0uS3ixLZtzcT+WHUwmgB3EbX3UyLIUE\n",
       "xNyohI4eK002MpcB3GDLh7TZlyfAdIVUBhdjpDzwwHm+yDxFE2PnT/IAOumUAmjVvI1BlSeoxAq5\n",
       "0aUR1KGBfmghz0QWLJxhav2/u2FCU4n8H3KUodOBNLYjwCsD+1YyYKfuz8zSIPUWk02x3VzyYjVZ\n",
       "6/eZhRIXMjkbAAc0n5Jy6CfIyFPSDtMt8kzQ3CHGV54xi1pl0yHRpkEWnC+afKAAAAFsQZpCPCGT\n",
       "KYQ3//6nhAABYch4HpjkgBLPd7eKV91TuKvri1A6wlEv0Js5V6U/typmQUj2G9oSFf7IMxjpM0F8\n",
       "i9Hvsy+dQ6SnfszAF9QHwW9HYCFWPOg9NQS+VGue4bsTnNk7to2HU+cdQihJMZxadMNibck+EE9R\n",
       "AtmsKHVn/MNeG9jyYl2K8O3C1PQT36UxCWwj+nPPGAsdiKa5D1Zad5t1FkW4URg3sxbbVgbHns9h\n",
       "p6hHxT4dbqNmzk2UC6I5xyBDxl+Inm1K+pl9vfp7L1cafjCCmAtcvT1lgDbPJJunfB20ekKR7Cco\n",
       "XmyiZPprllPZ6tsEKb/6kG8iRA7Ge0df3E0n034IbnO2J4sCF7rjNd0tHl4Ea0XibSC/fQ9nLJU1\n",
       "NqPAyJsOkTG5pvCF2dGvj5WjAUY6oseUQtbNuhvw+V29KfQ5oQdUbj6SIgOIfyagegmBp6cMhEav\n",
       "MeezlMDLgNTkIaAjTLS27QAAAZ9BmmRJ4Q8mUwU8N//+p4QAAWzmXacR5G4fyzV5//Cv2ozY2Y/r\n",
       "wl9jWEI6jiGv9BwftQs5GX31Qsmg95mqhmi2LebV5j3nOuf8qIKBR5Xy21XE1qqp2DTJGaIObubO\n",
       "6hYK41FzJygZYrHoxYaiYj0CwfVMOdF6lQNLCp7li4Kv2xIcMAA4y1uj+cYHJKMcQF+DWt8oMqfX\n",
       "3gU9PadLzlE4D4eO2KBjGRRF1BBaljOL/8xVgO2d6VpTGC6nUwGjKoV3/ZX0WaPbzRcAs17ckw96\n",
       "Htxn4+1dPKzy7DnUhaT+aABYIYxCZlEfncdM8Lco/ctdyJMrxG2F6qDcex6Ch20wBsL2YiYxNFdI\n",
       "tvsBji+UTig9xuwDrvBcw5n5TEm5JwVomyWWT6a5ZT2erbBCm/+pBvIkQOxntHbG3BMO4tizIbzu\n",
       "QwubjxcaxcnT5rVtYB7gIegvAwypgFBt4idw4Mbbu5KSN75VYjWx0R9WkNiQi0c/IfHGThhVE3JB\n",
       "X1MT9I91o1ROZ1GGRU78ZpwLlnzcb3yH8QKQrpQtkaXAmWIGAAAArAGeg2pCvwAC4WZIuidWGd+8\n",
       "hpKkDa5nXFfy+Hoa9Rk4O2AE7POFThOoxeKqEWLLBITf/C8iyKM6tPUHRFmm+N3pVG/RoPzuGfWf\n",
       "A4Rt+szyBX4EmAfxE2a4boT0TQZJFopg8sLWtjsgQsNF6QmIXkcbUJISaS4oJeckgxTIY6eOu8us\n",
       "5fBgHul4D2LXlw2kiB5TGkXiUI4GesHXE+BditicXrQ2qGR04IS5dC0AAAFBQZqFSeEPJlMCHf/+\n",
       "qZYAAK4qMMcQAP4QMBtF/EPXHHNaFS2w7x6IOiEkXuedUullJMM6rU4HhwP9Y+7/6WqPYV0vY9YD\n",
       "5wFCD3ijzWH8ndN6uq1TlzAqDBinl0BYQwCsp7s9L1f7jjJ1/CkOguewBs0KQaJIF5R8LYZNGzAa\n",
       "UmBHOei47cGvaMWGlGLJCFjZYX99lGjFZElJ5hu3CL3h5Q3GhoF/hYz8Ito+DVQQ/rbLhoufYTs+\n",
       "oFo2ocX8oomOb6U4P6ujJMhnNBlNgRmfFTkIRLjv6fvTcmyrVIsGb3yZ//6RDCre5o8gyj7kEva3\n",
       "+16hNz97WqpCG8hLWciG4Nn56YCEFipTaL40+Jdeo/PUEr+tSxIKqgRZLYEbWmwEq6fuQ8dhJVab\n",
       "L/CyTcn2GBJhQn9r+zM85y+/7tNyTLcdAAAByEGaqEnhDyZTAhv//qeEAAFZUuQpsvMgBNNUWFu/\n",
       "LnBKvsi6Nt9x9c0fbvDaBek8Z0/RpVXR6lXBdRQo5jdTw3GY9kpdYqEC3KU9vGf7SoElzXSXMQNT\n",
       "zFcQVGrRsI0zOWIsErpwck9/1vMTtaTgdZKzBWSkWReLBoz5slDVkb1TW4Fwm+7k4QGYzVP1b5h1\n",
       "zzJxb1M1qfS8amq021iSWqXfp1rja/NiEfEBub8BcSg2KoXvx0QXKEtfMqReBV9wf/dl9umTrLCs\n",
       "urtR+ivcOFGgSxiCyUjHwJHexovY9BOW3LdcHbHwr1gwgdtPylsnKhRNPZdpo411yB9tKAWroua2\n",
       "Ykf8RvdO9YovTYnQiQAXAOm7IphiW+q4nWcNcQiQWKUhJEkl5VI5PBSjLMyEu4qIcGE4w5u+QujM\n",
       "Z6yHtRNIOp8UqeQbYM4os9Ylc9Y34QqX7S0raucEGAohmmN10ZtR4hQ9uWLPaqxY8BRwOJ4XWkeB\n",
       "LNifwP1NMFmHr+fsuKOU/TO41HnBqrbrrRbYTnivwcZj678GsHswOm/9/PkIzU6tkSnnxKVxtFHr\n",
       "hOsq2yHXM6jxn5ex/XsrRcEhFXtqKSM+2pVG3QAAAMBBnsZFETwv/wACFQ1d3KByeLPOhd9ACWS2\n",
       "LngV8IcmP8boqQSnyapBBjpb5YqoS1b5aPKSk/IOgx9hbB6ariva+JgMBfHgL9tC8D7kMMRmHtBr\n",
       "XDpW6jdy+zDh6pHWg4AqV0ZbC9AQxi96sYr5CPhIrJdNx775ab2/8zCbl/Ixk82UF/PalnZ6F86A\n",
       "bMd1NNXn7+hzwHHqanlglCiO2dw8vfvc7xiCTPdaY2VPQjqvARMI1EkPACt/hGX1j0VH8BUAAACX\n",
       "AZ7nakK/AALpYA1P+NdWLvUAFzyY2aKPx3wSw3sATou9js3pqHsLRYZW7HB2S1VbeZLba7qmfcyv\n",
       "UFBpt8W/AqrgEOCDJuB7BbwdjTKX5mt7MyLT3a7ZpTUDS/VK21cXbhIuR+p2qxk8LD0Ot4t1UsZ3\n",
       "cKOs2STHLAa9DlilNwYdz1yjJk2S4FHUZD5ys3/XyCbobqYc9AAAASlBmulJqEFomUwIb//+p4QA\n",
       "AWP3gH6D6wAuYs4yFclFOGgb1pwNxTVLPrP0bjjarCGrLOJvwUGkQiNdYweNlUn419oBug43gZmK\n",
       "BqOAK+mAGEKqGXFzTTesXZ6t99ntYZIYqyOfLq/WwCim+9HZ6olriCwX1u80xNJe7C659JYElLOa\n",
       "GCTJM2mbJdSNN0dWIZFC3SEY+9HSK0Qi2jf1960hCMXsvqtb7rxDQXPObez9ORu7FPUim88g/xJK\n",
       "xAHidJyp73r/frdxCNOjnRFISdNMT7QdVFT6G0mSslVO7T2tNttbNvhG6c7HA/qrlqwWM8gx0ouI\n",
       "vEofcEXwWC4u0rM/N5/ADYCFt49iT1ZpkRGiSPz4ogWDN84MTyQpwiyaZLASpihxoimWbcAAAAEd\n",
       "QZsKSeEKUmUwIb/+p4QAAVkOmwqzIAS1b8Pp9/hAN14eDiCWoXQNMX1df7P465sk2I166TGwrvO4\n",
       "Bc/QGjqyIEKAyQATU50H+rDNmTO6hLbEwcw4wyFrGGCeIrS6catkjLaKmMlB7X/xASZjm/Enwpdn\n",
       "zxkx/UMEt+jNyXYlj0GVFJeQfjO4wNFY8wcqmJ1Ntdqg4sr/AYYeQZzaFvSFJKyHpmrVjUJWf+LC\n",
       "OwL4L+ZeUhMN9/sLZ+uB2h+af5SNs7+u82GiWt7mWcX6bh2Gu7OFezvq+r5XTU3//VvUUg44uGI2\n",
       "iBETbPbpKqe5NZCUipoHNA74wJc62uMxlyWf8fWTMUd9MAVzq/fRkIaWjFRnMmbVjcyaDxJ8CGuh\n",
       "AAABG0GbK0nhDomUwIb//qeEAAFYyMa7gBusc6rxAQzuvH6l+vyf1mwyNRMKivvm5o4bPcxUuzrY\n",
       "1MJkFcMnja0OqVpbQInOlENQj2dvQZ4YWwHNV5l120WuzPrdyjyMd1xXcmaku6pBOlY93620fb1f\n",
       "mQg1as9vdbPDTAISlWQnt2k8tE8dkEJo+KXktPZIGJjQiTNcZCVQgfsExb9PR8I9xniVcLptzCDK\n",
       "mt1OXXd16hS2OCxST6STESDB1P0Ym6ySUH67F6ltj8DkCHASDQ20oY0qnoaHxJeyubvvKXQrjeQp\n",
       "7Mu1dk1T6kET6NoQZNrmNw/vtfB2Y5vuTEVM/LUPvFS7kVcr56w+ulWzI1QXwG0iIaftaEnG+/hq\n",
       "/FgAAAD3QZtMSeEPJlMCG//+p4QAAVkPBiL7RIPtPTSscf3HzgAjSuHicT7mddJhXbrbD5a7zzNi\n",
       "/K9lc7Z/onCyynNqSQXtkots0bJ2s1QcQVjNqZ20TdpOdD//nioY207b0D16XebBFs795w8HuGhK\n",
       "ZZA3mGvzRCSiblXDbjPUWyuIPZrjfEMkVw1j7h6FK75XuoVVHzIt+lKAJMqKD2TC0ElWXa4B+rfO\n",
       "9Xp0WOiTK95ZRmJeOKV2TaBA5vwrZTPDz5Rl2E7qx6ksS6VUe2qJNdsshqomeD/qGQeXrlu2g77Y\n",
       "iFI2pdVn/IuNhrf1OBEQbVl3KiS3F8rfMAAAATtBm21J4Q8mUwIb//6nhAABWIXU+opHbtJHaGFi\n",
       "8ALZuX4m/yFVsT5C1puawV0lVQ57FsKxqh6TWpHo28ZvrhFYTzJwHQf3W+O298yL7HCu5lQrQGvg\n",
       "xTUyne5GMPesuHHNX77HXtHmNqP94WZtWGc804ZcaruMVMtkz3u/+n+zmEvHIuA2W0j23L7nt/QR\n",
       "e9Nag4UhGyzXsxtLbf3CnQP17zP/whlJ6bAS7QMoKyuvMHHcFiVeZ1AQHpu9zh5+uNIwt/9QgO8h\n",
       "NnCuhBedGS8Cz5H0qwOxp+/8SR1T64gXXPkd9iv35loNf1YsBaeYWgMBioUjVQDyIO3JeLv09UDO\n",
       "0Z6sJyTqrJdmqjNWcjOonk56J2/PgkGNc7BB7Bqcsqi3PlH5W6hi9o4mI8HMGtWjs3R46dH97wYo\n",
       "qyEAAAFEQZuOSeEPJlMCG//+p4QZ3AwAkmXvcwLrf+/yCfpdZWuW5p82pTMmR9NYwK4dCjGsWzJb\n",
       "FyLT0qjrtLIYQfCWh/wNih3+SROd9N2ifmQ3KKxBs/+VFGAJbavruiwzMlUbsJbFRGftJyZSiPS/\n",
       "rIHZTk8K8JUJOVdRlSfd3FoOk7qPE958dyWjtjiRnDSD5Fc9VkMS8VcLmeGSBOHEpzcmSTLp1NlR\n",
       "C5Ep3uWRyKTeiJMLxaiYiRYXUbCCihNM6L9o47J5VdDbVj6ZDcA4eb0J4MKyI4O1iiBb40PHUTVN\n",
       "zCCzJ3f6OnHE098B8PtfcMWGhjEhoIM/EH7m3jSzoWOUcpAkQ5J3WLz3jDzXMEucQNiaY1mBdoZd\n",
       "vcF9Tq/ROBcjDH5ELZtf1dN1WKE3CDrEsnMiK2Q85IxCGxRvgaKLMEMK+fmBAAABHkGbr0nhDyZT\n",
       "Ahv//qeEAAFP9AFIB+E8lLv84YSjx3RJ3ABxrs7JX+vpI+ZPmNAeYLwntN/NFZ+xaPTQMOgLG2J3\n",
       "jOdUc5Q7JyeBD3uwS7H0NhDA0ca3FR3B30mJzpMuB2sZL79ee+7eENfFLbHi4QUm6GkmVUKPQ4Xw\n",
       "N+VwyMOqekv5poNxooLWYgbaDkoDdu1u8fwGkLyZGmMT503cmNAvjYLTEiv1JielQ0uWhnfKyw/v\n",
       "PcQfzzFvcuzKMSfiKPZ3kPNhS+TkOF6824rk+SVb84ZUUR39OZ2zruqWVO36yT8EkO4DzjogEDbJ\n",
       "qz+IUwvpQmRhYXurcO+oBgahQ3Np09fzRFumURsRVE2BTIdP6LzuaKVO6DU9O0AaxOsAAAFJQZvQ\n",
       "SeEPJlMCG//+p4QAALDjIFjBfsVMtAA4UyRCagvh51wqLkDYrG/ADhlQznJ4320LWNgtStQxEgRH\n",
       "FidvBTfr4HdlELIZjnPMpqmlsRYwl6/0IrYNiMZY8FRuAecJ6l74gWb7WskBMYGuKqQd8qoh5qNV\n",
       "xHAnIoaQztnnFJByRnr3bIR+KjppN2gyvWyxXVdbEoaN9xRppmmuILOuaEoiNhSzlQHubG2T10FJ\n",
       "2/xzYPo/DJ+Wx+FHBd3856eN5tglP7E3XSVcNdqvemN3gCLG5Buriz4QdyWU6V4yISS8Euvb6YxK\n",
       "fn5d2CVGiL/OB1AKUiSlVxE4OHEmAJhVsyywwynmlaP8+t2vjKZ1fWgkZ0pnzETZVOJaCL8nVOI3\n",
       "8AX9z1/sRLUyG1s0QBRf7llLXimaXYMfvNqhE/52Bpzd7v6yWNlkzGgAAAEeQZvxSeEPJlMCG//+\n",
       "p4QAALDg5TZAHMdKEEvzZd3CId67WE4dEzcCaOMwu1xUfM0uSDqpnDk2f36T1Ts6LoXK/EyTHwZj\n",
       "pkepwnppSYM3DUFFHrEK4/yNM0iY66UdPVy1mlY6bcRf++JAqy4nUbpiURMTH+Yz76LChW6H4ens\n",
       "jKm7JDinxWPXvRfw0sySX09U8x8RgpKaiFS5ZivSuBZiYSgnqjtOotOFrYuh/oKYUwPR4HXJYqFf\n",
       "KLrrSpKLv2IUxDR59VZI6bjNiJMGnN7/N1dWEqmwO6Q3AbobmGwhvNUQZI1BbWLTJ5UT2GOpcIxg\n",
       "z25SnX3XlvldatSrtPF5villv2SJmkiPYkCLCFG8GV6KIWalpqMfVK/Vp6ICwwAAAU5BmhJJ4Q8m\n",
       "UwIb//6nhAAAsOMgdoVNAA3v5FSqiUnc5bkJrh3KkQX434ouVkfr2bTP+VHzVieWSyvxICWjYEZ3\n",
       "Pdx730NY93qHMau03XrFocno5C63PmXYNWnqOBULkBjm/4s/Dk+nB2dV6BMuCja0OVgpclZ6AEgo\n",
       "bRtJ3BsNbhoplvmCWWq6YKHnTPP0cGV/640FFpPTuQzp/7rqQCMgmWpd7YN7bNcJfxAv3isOfIz6\n",
       "D/0EY4hhIuXyBvqX5zvPlqnWUzrAvqbOl7PysY4edcB9WZSlOiHO480hQq7RQVQQfxWBO1d8yoXt\n",
       "c8U6duE5GSSKNrNSwIc18wXmKHj+FNXjdu5+PMwONHQFKioHe87e5yqT/prKA1ysuubQFJ07qI/k\n",
       "dNPCzlb0KpicU7eEGcvmSMI1prDDrEsnMf172GHeogLiXEkn9KXAnNRxAAABwkGaNEnhDyZTBRE8\n",
       "N//+p4QAALHzLsMPHz19zAAONKmYk5nImmZ/eWHGKsF9UGj0ZYU8OvM+09W5aGug2cuGoCJcFDlP\n",
       "35PyS+xbxIUBOqKE0Yve5n99ubV7KWswTGaj8oCLxRKHxhlQe0MJ6RUquMYy5zIT3RTCEFjI1bv7\n",
       "XXR6AD1ltXJZrc3TuD0LoREUAGX0c5AbS05H/G8+6OPcsvu8pz4kgmmIKFOy3nrZPjFGXJx6W65t\n",
       "1pixxZT8EXrvgq3TeU9SQ8Aa8VO2uHHKezAgT3p/CmXjwjp1dhfj4RiqjM4nwGafsKqR95Numpfd\n",
       "zyWXU6+WrRJ+dmgfnb9+CCHjW57SfZHhShZrGax7eJ3LzFoxq+Pq6LI+C3f2GRn+LVZ59x1Nm2je\n",
       "sSlG2NAWcDcp+aQj/wvtrfnqkPr1QoXG6V9yxcgfXYdx8i+FEGTdVFm05IpkyfBcXQYYrYQZ1WvD\n",
       "8TuGUmJWnKuajk0So8G9XcSR1hziSvninYAatKryZ4lu7FQmDhkyOLR9zldrP+GfqxzCTjZo+QH3\n",
       "vX3viFtTFmOdGZ028oMOJjDwgJxu+3Trg6xa2TTNDOVoVC+YEeH3gAAAAIYBnlNqQr8AAuFmR8A7\n",
       "tGC7CNS05aVffWf9+5nPzYvoBF/ZhjPCfLaVmNdEKHjtRpYrLmGY4QKTwqoi1do+5LCMc/TXUFm9\n",
       "Ng2gG6fwBl+tS148bOKvLtECbIyeqACD6jW4HdWCvyOuBORPF5JhqV6YfIDhsEOdb+CBzYXLqhry\n",
       "3ODhqmcnvAAAAZlBmlVJ4Q8mUwIb//6nhAAArKqT9xQAHGgnxKFxwzYMcVgjUtLSuyDwtsR7hUD3\n",
       "M06xWnibuudggfAB6nEZRuLx4ZqPSFlTV3ygPvVcGukzwCdkuEKs4GHDqVEARyZ9KPsjr6tYiTHN\n",
       "/9SEFLLxhpFlgf0HP0UUWYDgUyTa+ecj4idKMehcFjcPlRL0gjd2AsSmkzywF9gwkXnmPDGt/FbR\n",
       "MYPdLVPGvvnIp/colvM4k4kEiVkRA0IZk2bs9WcCrDd+uTguHQvvnd/5nn3InYhDBwis3LXJ3wDi\n",
       "ppaxBKZQouKOfkO95ypBWaZZp0IbDgfuNBNpRnQAeSxJ3drT8mZMOdVzzNuHwR5ZycWfhP59+cAd\n",
       "C4EHDKGVo0GAfCwCp2WfoEO2UBnOAzooODZsj+e4GU9lTPWrWydUP5Rs97IA06p/9gWd63j7M+x0\n",
       "z2M4HlKBfLZoJI7GPvpmcD1ionlgWV+5dt3qOXKgLEhcfl516Iu/MtBNoEuy57gjRMOCYFnaO3vg\n",
       "NwiZQINCVl5GOvH6AMpA9ey7ZM1vAAABQ0GadknhDyZTAhv//qeEAACsYyMUgCHxFb5mWpYJSMxL\n",
       "+JSY/47sdkklOlg0C8XBMcwandwePGbsNq0Ai2/cfG9JvCvnf4G3GQ6vMGnj5B4xf2IvR5y6HA4z\n",
       "wdCVCDbFGoAsRLSI6bfaHx0EzQtf3u7zKky9YDZha0f2A/DRKx3Htt8P+NjHeL9nfGUufgbG+MaW\n",
       "ElHwqiAk/VHkU5RPvKF4fmlbqZFJm5wHrC2gAto7O2mfL9ldF1LImhpAReZgfkht9SLYjRo94LG7\n",
       "CwpCE9i6tOXPR7JcfE2NEFunHzjXSW1wSW/VgC27LjHTnVPHIzMHiMuxpAYm3TRLVr8dDJKuQ6Gb\n",
       "mULaQCMOR/Qpjh6H0H5KiTTxLmN1B0FymwH/rLUFosxNlsqUGUbTPU+0CFdSzffeMF8ABpEF8wCl\n",
       "SbmUGaSoAAABikGal0nhDyZTAhv//qeEAACsqXosqJADgH1knP5kewxpSjA+7FsWVHDLZIGotPmr\n",
       "EOdKJrFYyNePdOrPa1mqVfKEDw7ysYIk19bakbcrMNUkesk2aCdhe6bHU3HPUTOseaQoaB9SWSCY\n",
       "j6LrsKNQMaQiWYcMbZ81C34hgztTk2KfwxRM0by9Ky5eEd5EWrvMoPMlK42ZRWTlWU60rYmW5D4R\n",
       "uDg4kX5HLprwIuIPUJf8qsIMFFe8Sr1eADN9nqmh5k7G4IaemGo/MJ2tWxJgrrvXPWU+BQPni3j4\n",
       "71fY8NVMzlrUXi7ThFh65uId1EvdaRLTqcuXB6gPhvKJkfRZcYx0WsUWWi0iCUL4mV+wI4/ZocLX\n",
       "Pz9zNtkS4YOVnM/zuQch3EwKhBP7GxdQl2WPYtY5xuipZlt9oTMVvOTJ17SA8QJzoRMruxjOWrpW\n",
       "PBnzn9BkdJ/pb2BLCkMXKTbLQtmw6HjMDllpJKna54ZSyB69WHuE+GN1QKv9HPqw9pUgE2HUTzIZ\n",
       "WFomYpkAAAFjQZq4SeEPJlMCG//+p4QAAKxjIQvS0PUGAA4w+lENyid5ML6LFA2VBvCwVkUajRKX\n",
       "/89bpehkj+b8TONnffoKNXyajW19jkT2KF4fMs2xqjZkrw8hkjay7Z65Kqht+A3h4wwPhvaEk6PI\n",
       "7kkn8qlciuCGJvg+ffNcHH+zToWqrTRw7Fbc2ChW/P+8NGfsbOATlhjIRewZWHIVgcgm6txfl2Uq\n",
       "f5NWxVNjcBI6NER6q9TOJ5XwatY/LwTl1DlvA8Q9xR+3E9VGrJn4EkdsmA77hEj4u0lNWqs9t57G\n",
       "sDnYAP3dx77+I9qnQ8KNpvpYAZP2txllec2OVdpuChTut7JmihunufLwtNc9JuKS3803iP92V/SK\n",
       "wHdOiXcF4vp7/XuDBeFEeoIXN+VDUjbMfYLUNseX25H9HGGo/ijRNEGIlqzeCT8AmTLIVJNJr2HN\n",
       "HVnqKIlVdg4YX7UE26rS8LAnm48e0QAAAXRBmtlJ4Q8mUwIb//6nhAAArGDlNkAVviZE1tNfX7B0\n",
       "hMInvUtjdGREhI1vAWyKSLOeR95F6nJ0Tw/5denlc8EQ99thmM7Tw5bGR7rQ8f9y7e6PD9F860Oc\n",
       "q9Y8If1fpNSv1DIYKYtF6w7j839/Oq2ZGkZK1DvMgNkAT7XwHiR/3h6YeUP8i2Y6xaJ7I5b3F2Lx\n",
       "SZFYbgB9o2aCzG+ozbaIEj8RnyeuWyJWr/96+V9CzRIM8fIuQ47VZ2/RPTYnwI8pg4+hs1s56e7T\n",
       "4V8T2JcR/b1Ry+B9277z0bb3/r64rf+pGeXgBlR9lS07mw475/pVbROPifK/3TLl8ijotv0xDnnv\n",
       "Hd4iQEpGxuQkUTQcMk/3/LPJms7hBlaBUqNoakoWCDNALRO58WQAlRXonDhVEoIkNHr/GqSsudVK\n",
       "w3I56+kULmdqoQc88P6samMoA9bisaeIm22ovthXRgLcXWgxdIBz3MxcD8h/F3v5r7PV53EQzOcA\n",
       "AAF/QZr6SeEPJlMCG//+p4QAAKxlByW+DWQhUgAN8ZxiH3uCXyhVzyDqazdYdcXyMGMBSeALope/\n",
       "h8qQNIw5gwPIIucoXeyV3xYF8kyuLZFJZk/2tfSXe8VopPYB7ZxgPHCAbBB8sOKtbBbbSC88JkTt\n",
       "tKAl6THeJ6E+nuw/XTCnsAgRB3LmOKOJ8ZeHmyRN8lWxmSFnoTeIDjMSZ4M+lxX7bUkXdvX7ADd0\n",
       "vPB+lEsvhJmziM9VaZ4yg46jz0O1H+Q8bLj6pWU7RTDzJD43PhDL9/xwgwq7h6NfVf+oHEV5CxjJ\n",
       "9WEOikayLYuImltF2EeBbn3t2PESOokH2pS1wb5rXO6dhAWcMRNHgvryCbGoT45ap0dnPnu/VjIt\n",
       "aFsUvlGc3JXhs3/kxB1e93/mPJsNjrSqY91mK4KG1r+PLPh8dggAbd+TWjknDcxZkBmYS1rHdqPn\n",
       "lUqQwOMSs0EW2iNIo7W988Tio9c7IyaXe97NApfvaWeB6I0C8vLyy6PJ9q8AAAGqQZsbSeEPJlMC\n",
       "G//+p4QAAVH3hQ3X/wibBTwTSEALkef+Svx+lFtttVadFSEtuICG7X1IZa232VjrfFe17Laf2zNy\n",
       "nUbN9sUYN+3ztgp9alnFudyWYZzxjZj3n7GEgyHSeUEnJMFMUUA1p9QZ9oQUM8lTXEwSjL6j6IZe\n",
       "hznNU0qwRuUx6UnE7vF2z8yWZBfPAjaVYnDAMRNw+yXAVGFJAVjMavyucCPPBqMYQpG+Lb+oBBT9\n",
       "wgxdaeMnPB+5Hg72qO7PSi41tMcxsFYvM/fBfO07C3oM+38JPW8fKosZ2Vqog474OON+arAxjUDN\n",
       "Igf79sB51h/Ez/7Af6OQGxp5Ecq/ttTgGuhoePPc76L/4VJI8dRKz0sPEq5LpvHX/3eoPAE50iJ/\n",
       "baiiFCHuseYbG2TBTzqWJfkJuievpQGS6NigOHlZrlkqdOYzztxmlqgeVAWUOigky99WJ8G532lB\n",
       "vynf5Hs4fAjMtsXYU0/fimRHvGEJ6FIuK5siagjRwnbFWx6RnFVyHc1O/Ak6Dt9S6iLTBAkDIKs0\n",
       "xg8cL420pLoRWw01FJF2i0CwAAABqkGbPEnhDyZTAhv//qeEAAFI94UNjpdX64sALp6RCLf9gxhL\n",
       "IkL9fv4B4BURkE/EEf15jtfeaETOorjdUMNmpwQz9h05b6XVm7VXxaKYsNW/8sXZSE8QbX5KHl1f\n",
       "a5JxpUWOaDGApwdtehKOp/Z0oYBN9Bw1XKHNqFqtiGGUI8DkgH9xcT4hnA5QKLqpbJ5KYiaE+znE\n",
       "Xq1gRlbIPfsOSNdq2PuYG3aGHhQmxeZcGgXdFoHWc8tcYOwcRszEZIW8i0188txMAB+C+5F8vOVj\n",
       "Bu+h3vGvHqXury6OqBesJwRZLCmuqCaECdxKQqRxUyBczY1Ayap/dOphdRI+hkhUe0/N6JKP6tRW\n",
       "Yr1r+ENetJ3jAwisbbJxL9c/aa0FuMvMT2jwz8F4U9O8XVQ6wSnJ8vXKWGCFaaJs1k196e5AQjAw\n",
       "gZ7lWuy6W0YaqpgEgGZrBTb3iMRUNeqZa09K6MyUPcH+C6OLY7RvTVC6PbP1JH3FkkC+8isHt9o1\n",
       "wva5HuUEZTMx7lawT5PbcUvwvr1vz/Fey7Nm+UAPcwbI6GCdO7Yt3jeIu6DeRGY4gQAAAchBm11J\n",
       "4Q8mUwIb//6nhAAAqGwiLJICoarhYbBdQA4mKm2eqaDEARcT4xgqy4Fra2YH4mZ2LhlSdKaSBzDP\n",
       "flWdWHiOEMifTXCdMG7/ovfq6Uu43q43twqTDTO7C7rRIcOV+qbRZZ6WEPnG8OsJ4RmdYvZ8FeUu\n",
       "EW0Fhn6aT+6q4tq0qFierk7U8g6aD43OPRQLkCE3GX+5wp0Hz9NSKxMxA/jk5+qrYBK3bARNzbBw\n",
       "wI5UBmdU2qUqUtsvFRXvbmrzCCbAFelyIDIrir6xZxas7Bos3XntaFmYBMRt5LGEQCcvNB/zNjrm\n",
       "KW7eyL6i6yHskHqQPQK0YE8f5M3Wc8qK7x7cy0mslcaOwx7L89yFAqdNN6LHVr8QwRg76S9OYb4M\n",
       "7hWC4fiEY884ZHdsyaDPopylu+XX0EcZp3c9Bnumzs3+aTjQoxKK+sQA5bP7yuyN2A9+Vqpu0l74\n",
       "A1DGqbly9XI/fy8+9Fw01zd4qmC9ZsCERcf51DxrAnRt18NFvw6Os75AR1qTY0qklTzE0bqH+M79\n",
       "47duNPSoPts4rHElqp8g4PzvgsoaDSDba2lGTi8rLwr8sXvQQf47LR69jWY3I+iTiIpjjEcAAAGr\n",
       "QZt+SeEPJlMCG//+p4QAAUjmXajpx+dD7Izu3QBDg9MDg3Vqsgrv47cp3ZLqJFXpWvzkEXKYNelb\n",
       "1KGzZG2dr2Jc5r1q/HMHogztIxVZ+rvBYWbVTdAhPKDIXdb6JepqLwucmeO0HDvovupnpDRKXk4H\n",
       "F0UJSnlekPPPP6/U411Nl8i11juARimAmFypift7eiKtGhIbZSlPmeBtmZ0MZvyyTKVMOC9CCBBL\n",
       "7yrVKv9shlElAHEXyFWymCfNivzI+HCryXy4+PXKmP6HYDzfinGXCePd5RokDHIXTqJlJtjQOB8Q\n",
       "0zMdVCc2bJkxfN3m40HGZMXlVzVXczpOn5Dlc07ltdzf12HddqqVAd2RQnlJWoGrUWfw0PAAHSJ2\n",
       "HGjU0y59bgGsp1GQxMSUch3qV+XoFpgclrOMyXT5DgkwSbJ7WdZ8vD/0kHST3EDU12G567AqLJzb\n",
       "hto3FOgvc8RAVo4KJq72yN5bDC+vlpGoPIgEhmp8KAJKjXH3SexVYiLbjHfK0/9LxGC+i/qPY5PS\n",
       "DVd3J81CFAcIrp91xSya86RvuxFQrrR7+PEqgAAAAZRBm59J4Q8mUwIb//6nhAAAqJVicrdQA0+v\n",
       "FDDQQarlNgvKbLEOkibb2AZzlixRQj0d1E1gFiW1VGqYjwsSivjfkO2yITk/8HeWMEMCEIrDcvAq\n",
       "1ivk+2DlHJeWowpdOrlLeAgNEmEky5pziw1QA226/rjBqBA6YzSxQXnj3tsFM8H/Gdf9GR8k+x8M\n",
       "asd/rpKgRX8p8F2ZrtmSHCOB3q2RZ7qRizATF9usOu7aaAoc8X8PFNf1x+EwUreulMx80cbqJRTm\n",
       "fafxKipCFUdcXD8tlhGj7zUtp8fQc8wtuJdNcvMbXi2F0HvDcDbBR/uyaneaqW24NuLR5eGndA8O\n",
       "P9QwHQhe+znYEIOha5p8XPr+5AZIdcD8U+ujGhrEz8VjUeWOyu+50pHm4oh0TIWZomh2VuitSjyA\n",
       "8oYBwepH6hf27PJavuTuH1M/FbMkjsjrYpYrkNObNh1zoy6r5pXYTryQK/7Wd1EWQ9OLraK7JYF1\n",
       "9ODKfX3xsMaMTPXm7QM9XH9D8tE++Qw2eka368iY10aHFFqbAQAAAXZBm6BJ4Q8mUwIb//6nhAAA\n",
       "qAAKG3TIAiDYW0xDvsXZTozwzRfDVUps5ZjqizkVLZNyDUQQWVhbjVseCYY6GwH51aD133VVYn1o\n",
       "Iq5hMVx96AW78rTEwKjEjOII4n+2p9UZh+zZRZje0OvMiiTakDX7E2xS0hvlz8rsJc1YW8FsDl9e\n",
       "M718LoPmnKOGq398kDVFAskTLTnPP2aPbI918y+xMISCsT0iUrOqyBvw0463WFwPVOh7nv3veRSD\n",
       "VkKIsA+XcCYOIWAPyQpj1xczEpECVPQWgiFeuAQnx1QzVeRNnW1oiNZss66aJjKvm8OjAeiyVSIj\n",
       "0Wk3XE9jJZsl0oFl5D3p/utj4R3mffwP4GSuqfW3zsUkghyj6Fft5sJy194irTILbn9gAn0zjde/\n",
       "jEE7IsALfqRF/gE5bYyEHwNWWeKGzPwTmd7d/jg3TYI8Ufpx1onGA9zlmZPfL/6/0ExU4s3w3Ydt\n",
       "Hs6mqSmr6wFep6G2uyTO0wAAAblBm8FJ4Q8mUwIb//6nhAAAth4fKDD36gA/ZKgDrMmfvhjobnqd\n",
       "fQOdkW1rupElmfRD+Q0I6FXWypd7bbquEtB8IRkvXIdOn7oeCqRzHO8EeJo8aoJk+hXCjvF12/bh\n",
       "PmYZw/zqp4VqJfMwrcGSNud4j/psW0GYb5gn44RhWyYHXwblD4w6NrycNkBOk8hOtOOZ6gBDylcy\n",
       "2OEtWQmoNpcqdj4pfWh8Oj7qrbqkkrR7EL46RngvPhBxGeYPzvLLFdIoL3w2syISXF4gmk9y3OJT\n",
       "sU9ugMP/cUo38HblQVaj/njDPkx9C/spVNBWUDVi7nJ5BNtXbLyFFEpdySXNfRPOCCV7w3/9GBu5\n",
       "7scS/jNk2Q135x+aSeccEBiHfG/bVeFaijHUOfta9GxQxxY32YAiJdd3K8A5Qd1k9XWFVzjmlVX1\n",
       "VkYTtP15drCWBdqC7Ky0r/KWjxp4fM2aiYI+UTrq3H9p/wU4pdVVuQfPZLmv3oSOyiso4+PFtuE+\n",
       "ihfsu5MxOI2scbBWUGsz5RFBYmXvoWzlKhegRTm3cmTctLI8/HIr+eUntXrmbUb/qRcB6/WMjlsx\n",
       "vDGRVu4AAAGvQZviSeEPJlMCG//+p4QAAWslRINz0SACjyfBv5zqPMulbDUTSSx+zZzfmOb/6kIK\n",
       "WXi9R4lFDK1/lhf0WYAiC/wj2NszgsRIKM4feVoTlPISSjnmAvWhTwPbTSBu1YomlWFrBOXs8u0+\n",
       "qz6/t56OWOHAqP3J+m0daq4nsjMRBc6au8HXjNypW33oWFAA+Kre+f+d0b8bITFRDXLhZbif3UIy\n",
       "/VO09CcZq41cV1yiMBhVXM5fQn5frwR6b6Fix7Y4eZ83aQZ5GWNH1RY5h7k0Nn7/194zRWriCD3/\n",
       "BywRjhHz4tpncyCmv1WzAEccTmyi45MEj+yaVqM1RnwTROmOkDoICOLTuKnUj834J6XEmHx0XDP2\n",
       "Ult3tU9jBikgzO6wqeuCKOfO63/SZSaH6C9qasr9AssLl60bcotYghAZNFIeBGNTxfAPovTHKTMh\n",
       "ntMpAFQRmNB8hbI/3UjunoBMQfEB3iFV+j88/xPL/NoRVLwfCJgWl09HCILvB+C4p2IT8454dX8B\n",
       "BxV9zd5pqbsKRxoBGYrb0FEb5Bsv/bPiBe0vlFc8+AEUj/ZIJF9WHEkAAAIUQZoDSeEPJlMCG//+\n",
       "p4QAC2b++CLf3ACE61mfmvH/S35s71O2Rr3ptFZ7hMMRf0oqCpRuHKxUFdIN+nnjHx5EDnhACsxf\n",
       "++sMlS+BHjnW78jejqPjphHFgZ3BSed+RFzHG4NqVOzKXEckDumlXsbWWFts0wvY2g1Q7VZB3fjt\n",
       "IJOfUBMKOFRHeZZraxcF2hg69uopuMbEsDDL3D3RRDrzVuElUDsZPqE+NHnEbaQFwFkKHTATIDGC\n",
       "Hn8pCMV/PFtXkyJ9Sa+0m23uCp7J7MCXSSIY04oScwVB14/8/Z87mS7Oe0pipgwCiBmbYHCTIsEA\n",
       "AN8PvT5ML/b/5Tj1XM/65g7J1mefjPkabWbzBJkYKkcmJy6eWjQ3+GeDuz1DjShFFAyxOUKMFYMF\n",
       "mQ900sWtA6s64c5JB2YUdl1fdzWMRDuOV3sQKgy4h1U3ubjoxFvboeXlzryXK6lI3gSAcoFsWEv4\n",
       "wos29cMIbWezJt8MFSYBcVWtbxnpGFSoM0EnVmVZ969iZuCZQt1VvdBDI61EqTdJC2PJJjdeRRgx\n",
       "VpUxb8T/Dh+4ymnDP8Fjk7IbS6urXDqeadjbpZzGUOeP+RcJhzyJVFPIdqXdaOT8ZbsZ3XkRunCp\n",
       "5AXrUlLBMH8RyqvVcNvIXhekLCs+BnECtnCBoCG4z5oGFzu97VRJNPTru0T310vmmeMD7wcH/osr\n",
       "3mP+f5FTQAAAAlNBmiRJ4Q8mUwIb//6nhAnvaSADarSW+FICoH50WF+4oMsAgxkzlsjBzQlNy7ta\n",
       "UIhOgZadNxl+eOMJ+6NH51Xe5VlaSmGUlxXPe1EBxmFaE4Y3LsTClqzyydLDMPWB68gUYVSN6hV3\n",
       "45jfEHt2L81xHTiK+5xJRC0fnsiSh/xeYZhO6hu5nVnk3nxI/xPot8nS4LDXObyhSXdgtIO7fG6v\n",
       "Epr1007KCGdFJZ5UBS60QnH138vpcxA8uWqaISk0mwkYH/o8kTdgTxQbOUSV8Y+WVtWlUFT1EKqQ\n",
       "iLNjiZQFjZd79/jvwHyXV8gil5kjrGnfdGqSG7A2m5EekSauVEHNveQ2v8F6KdagEGn+gE8F4MHL\n",
       "XBUDiHQz1ClLjh9mJmdZz5g6soBpiDiA/cSrJKTwBaKVOMQ3SZmpfVJuNxei6DlSvDWckVCjgm0P\n",
       "11RKDBuSZdx7kwr9HzFMVG9jdpJ+I2V/2x6O5NuGeyW5+BLufxS7ZMzuJJmasBBWmWEFpOyU/u2b\n",
       "d/sgmlwdtVV5+ECzgZW7TwcxkUNEIRfL++/pSaBJ+hMJZ6hM9hpI7G6Tn6CdF9fBtdSOfj26oQty\n",
       "Ifiqtef4p0dJ+DA1rgBopS1p2HAD/8D7iyPENkhhI/zdATMLCSuce4PWBRrMvfVOUbj9N+TtIuiv\n",
       "khVBdsP7xPacJJftEnekCf5Jj1yLg9IyER4WnN7YiBmfiAOcyU9S+cEq+Pxx4eLGAJTjiCYzoaRy\n",
       "jsT9oWrANnC+6z8v2IzfiYPeF7gavGfenMdCgFSU4KMK9VTBAAAB+kGaRknhDyZTBRE8M//+nhAi\n",
       "6GxlAAIfmBRY4cjBx81ToUJeEphtVtSgwQbTkIRsqTf/pZ+cVGFsKo+iMgX4OWPG2joIgP3rUPzc\n",
       "8jiRVJgvdFSHeZ9jUAdBoeMFa7hfh3zyS83QNaE+FlnSmH3cD5E9Fc5CvzWTVNd8dGYBpSC8SQs/\n",
       "4RcaHVFIN+mBHdTzNCFVwFzJdgyqtASAku8iaEEQ09aUo93Qo6jEjcah5etfkrbF80MuVykeklXG\n",
       "pAZxnvbDj1gMpeHhtYB1ql2L5OV/VnKRNcMlw1lvtiTF19nZxxHp+c70Q3aK5yyHfIfJPPmcoVhM\n",
       "04sW79igAFyJArhoeoqj1TgUUynP6f5jm0QFSnPB9XU5LRv3Ocd7ui+2nEc6uTV47VIRzFgAjrgK\n",
       "X2BMNAMn3amPDtwwyawISvc8FU0DrCMDVrR+ts+bxXPb7dgxtjg4dxgSz4ZGzuMqQkQTzAgHaT+K\n",
       "AeFsdhP+uVMCG11UnJ+9aOh3y6u0f80faKi5JgHcGhzA/liFygd/U3vrzA+Gl1iSllfXxZgpj5H2\n",
       "xtXpV5TcRr61ezi/exUQFF471miIihYCNR+KXHzmKZbLxSfB2dD4kOZvW0Tt6MZPb/i7+rC/+RWw\n",
       "ju8fnfJXfB74Sa2iZmXMbg8Q7yn2yA27tu6K6boTIS/nAAABjgGeZWpCvwJyv/btzdvi6mdDmsAA\n",
       "m+8AqGunBp9JjFbDeoxpIf62eAnenw/Flfbzu+g1zmFHp3idlnSuqgpXeWT54DyFXBi3pLGBqklv\n",
       "vC/frdh/ItWrE4V7C90kOe1YGuMAHPMmQXfTCeSHRiKP5Cti7EJO3JrjVPV1KiHdEl4XW4Yn9car\n",
       "tqu2/zrwDhKmLohkSwmzzPB4na5dYhw9lnGmDQj6I/WfNDVg+vZqFIDOtbVCdbw5isOjgtjcBgbY\n",
       "BAPRjLijP6eF+UNq5JGAWhCuGI+mZiVij3etyVcLs+xeGJ4EoRitKOh1vwkrr1XAMfA5Q7LqfxJg\n",
       "qcJphdSUfofzk5Fe7r1U3xyrYVYvA3LQs6YPpfvq4+qGkGfe9Fj523ri0GZAjR+D2jKnqvjdZY2e\n",
       "313gWdT4hmD0RHAl2OB+rRd59hP1G21tUEIYoydtELce1OzUbo0MSqGlGLM0bdBB+Qiz9f5UKOhR\n",
       "OyJMDE65wLhiYZL/QAA8G0VcdgRZSNINNLWsLlZJOKwBMNGBAAABWkGaZ0nhDyZTAhX//jhAe9gU\n",
       "xdB/7k8lkBEc3YATCF4vb7915NA9zUwEP3ezUd8oDMQD6JjJBL4DMOBhBK8g+Z6CHqN5JnqVVWys\n",
       "OacC4HOAlH6WbTJRew85q1ZXIO9LhRXtSp7XRNg3Ke1mGi6TPVXCMDFZ6ipE3yiDaHxJwKB3vNfr\n",
       "ez276DLFl3x+bEuSPbP/eGWZ2633zdCfKtRotrYMyRjYYl3aJjZYjUETxM+WPex+Qmz2Ns9d1boI\n",
       "NKatKmQBkW85C7J0jXEMh4sWOcWq84VFTMf2FLiveEY/0N9rhXmy5W/77JKeO7myLmlVqusk3Lcu\n",
       "kj3CTTj+fJzP8Aj/dhCExdLV5r1rBSKm6tTTPGGCNIPdRtUZTz1aWVk4PepbMeWeMNbuhbvAU5UF\n",
       "i1YXLMlm+xcF1ymF0tcR8q3YOjfph8rSTwT8aVoAarooz1+xF5qzsu3iFW0AAAQ2bW9vdgAAAGxt\n",
       "dmhkAAAAAAAAAAAAAAAAAAAD6AAAB9AAAQAAAQAAAAAAAAAAAAAAAAEAAAAAAAAAAAAAAAAAAAAB\n",
       "AAAAAAAAAAAAAAAAAABAAAAAAAAAAAAAAAAAAAAAAAAAAAAAAAAAAAAAAAAAAgAAA2B0cmFrAAAA\n",
       "XHRraGQAAAADAAAAAAAAAAAAAAABAAAAAAAAB9AAAAAAAAAAAAAAAAAAAAAAAAEAAAAAAAAAAAAA\n",
       "AAAAAAABAAAAAAAAAAAAAAAAAABAAAAAAbAAAAEgAAAAAAAkZWR0cwAAABxlbHN0AAAAAAAAAAEA\n",
       "AAfQAAAEAAABAAAAAALYbWRpYQAAACBtZGhkAAAAAAAAAAAAAAAAAAAoAAAAUABVxAAAAAAALWhk\n",
       "bHIAAAAAAAAAAHZpZGUAAAAAAAAAAAAAAABWaWRlb0hhbmRsZXIAAAACg21pbmYAAAAUdm1oZAAA\n",
       "AAEAAAAAAAAAAAAAACRkaW5mAAAAHGRyZWYAAAAAAAAAAQAAAAx1cmwgAAAAAQAAAkNzdGJsAAAA\n",
       "s3N0c2QAAAAAAAAAAQAAAKNhdmMxAAAAAAAAAAEAAAAAAAAAAAAAAAAAAAAAAbABIABIAAAASAAA\n",
       "AAAAAAABAAAAAAAAAAAAAAAAAAAAAAAAAAAAAAAAAAAAAAAAAAAAGP//AAAAMWF2Y0MBZAAV/+EA\n",
       "GGdkABWs2UGwloQAAAMABAAAAwCgPFi2WAEABmjr48siwAAAABx1dWlka2hA8l8kT8W6OaUbzwMj\n",
       "8wAAAAAAAAAYc3R0cwAAAAAAAAABAAAAKAAAAgAAAAAUc3RzcwAAAAAAAAABAAAAAQAAAHhjdHRz\n",
       "AAAAAAAAAA0AAAADAAAEAAAAAAEAAAYAAAAAAQAAAgAAAAABAAAEAAAAAAEAAAgAAAAAAgAAAgAA\n",
       "AAAKAAAEAAAAAAEAAAYAAAAAAQAAAgAAAAAQAAAEAAAAAAEAAAYAAAAAAQAAAgAAAAABAAAEAAAA\n",
       "ABxzdHNjAAAAAAAAAAEAAAABAAAAKAAAAAEAAAC0c3RzegAAAAAAAAAAAAAAKAAAGC0AAAKOAAAB\n",
       "cAAAAaMAAACwAAABRQAAAcwAAADEAAAAmwAAAS0AAAEhAAABHwAAAPsAAAE/AAABSAAAASIAAAFN\n",
       "AAABIgAAAVIAAAHGAAAAigAAAZ0AAAFHAAABjgAAAWcAAAF4AAABgwAAAa4AAAGuAAABzAAAAa8A\n",
       "AAGYAAABegAAAb0AAAGzAAACGAAAAlcAAAH+AAABkgAAAV4AAAAUc3RjbwAAAAAAAAABAAAALAAA\n",
       "AGJ1ZHRhAAAAWm1ldGEAAAAAAAAAIWhkbHIAAAAAAAAAAG1kaXJhcHBsAAAAAAAAAAAAAAAALWls\n",
       "c3QAAAAlqXRvbwAAAB1kYXRhAAAAAQAAAABMYXZmNTcuNDEuMTAw\n",
       "\">\n",
       "  Your browser does not support the video tag.\n",
       "</video>"
      ],
      "text/plain": [
       "<IPython.core.display.HTML object>"
      ]
     },
     "execution_count": 13,
     "metadata": {},
     "output_type": "execute_result"
    }
   ],
   "source": [
    "rho_light = 4.\n",
    "u_max = 1.1\n",
    "nt = 40\n",
    "rho = rho_green_light(nx, rho_light)\n",
    "rho_n = ftbs(rho, nt, dt, dx, rho_max, u_max)\n",
    "\n",
    "anim = animation.FuncAnimation(fig, animate, frames=rho_n, interval=50)\n",
    "HTML(anim.to_html5_video())"
   ]
  },
  {
   "cell_type": "markdown",
   "metadata": {},
   "source": [
    "That failed miserably! Only by changing $u_{\\rm max}$ to $1.1$, even an algorithm that we know is stable for this problem, fails. Since we kept $\\Delta t/\\Delta x=1$, the CFL number for $\\rho=0$ is $1.1$. See where the instability begins? Beware the CFL!"
   ]
  },
  {
   "cell_type": "markdown",
   "metadata": {},
   "source": [
    "## References"
   ]
  },
  {
   "cell_type": "markdown",
   "metadata": {},
   "source": [
    "* Neville D. Fowkes and John J. Mahony, *\"An Introduction to Mathematical Modelling,\"* Wiley & Sons, 1994. Chapter 14: Traffic Flow.\n",
    "\n",
    "* M. J. Lighthill and G. B. Whitham (1955), On kinematic waves. II. Theory of traffic flow and long crowded roads, _Proc. Roy. Soc. A_, Vol. 229, pp. 317–345. [PDF from amath.colorado.edu](https://amath.colorado.edu/sites/default/files/2013/09/1710796241/PRSA_Lighthill_1955.pdf), checked Oct. 14, 2014. [Original source](http://rspa.royalsocietypublishing.org/content/229/1178/317.short) on the Royal Society site."
   ]
  },
  {
   "cell_type": "markdown",
   "metadata": {},
   "source": [
    "---\n",
    "\n",
    "###### The cell below loads the style of the notebook."
   ]
  },
  {
   "cell_type": "code",
   "execution_count": 1,
   "metadata": {},
   "outputs": [
    {
     "data": {
      "text/html": [
       "<link href='http://fonts.googleapis.com/css?family=Alegreya+Sans:100,300,400,500,700,800,900,100italic,300italic,400italic,500italic,700italic,800italic,900italic' rel='stylesheet' type='text/css'>\n",
       "<link href='http://fonts.googleapis.com/css?family=Arvo:400,700,400italic' rel='stylesheet' type='text/css'>\n",
       "<link href='http://fonts.googleapis.com/css?family=PT+Mono' rel='stylesheet' type='text/css'>\n",
       "<link href='http://fonts.googleapis.com/css?family=Shadows+Into+Light' rel='stylesheet' type='text/css'>\n",
       "<link href='http://fonts.googleapis.com/css?family=Nixie+One' rel='stylesheet' type='text/css'>\n",
       "<link href='https://fonts.googleapis.com/css?family=Source+Code+Pro' rel='stylesheet' type='text/css'>\n",
       "<style>\n",
       "\n",
       "@font-face {\n",
       "    font-family: \"Computer Modern\";\n",
       "    src: url('http://mirrors.ctan.org/fonts/cm-unicode/fonts/otf/cmunss.otf');\n",
       "}\n",
       "\n",
       "#notebook_panel { /* main background */\n",
       "    background: rgb(245,245,245);\n",
       "}\n",
       "\n",
       "div.cell { /* set cell width */\n",
       "    width: 750px;\n",
       "}\n",
       "\n",
       "div #notebook { /* centre the content */\n",
       "    background: #fff; /* white background for content */\n",
       "    width: 1000px;\n",
       "    margin: auto;\n",
       "    padding-left: 0em;\n",
       "}\n",
       "\n",
       "#notebook li { /* More space between bullet points */\n",
       "    margin-top:0.8em;\n",
       "}\n",
       "\n",
       "/* draw border around running cells */\n",
       "div.cell.border-box-sizing.code_cell.running { \n",
       "    border: 1px solid #111;\n",
       "}\n",
       "\n",
       "/* Put a solid color box around each cell and its output, visually linking them*/\n",
       "div.cell.code_cell {\n",
       "    background-color: rgb(256,256,256); \n",
       "    border-radius: 0px; \n",
       "    padding: 0.5em;\n",
       "    margin-left:1em;\n",
       "    margin-top: 1em;\n",
       "}\n",
       "\n",
       "div.text_cell_render{\n",
       "    font-family: 'Alegreya Sans' sans-serif;\n",
       "    line-height: 140%;\n",
       "    font-size: 125%;\n",
       "    font-weight: 400;\n",
       "    width:600px;\n",
       "    margin-left:auto;\n",
       "    margin-right:auto;\n",
       "}\n",
       "\n",
       "\n",
       "/* Formatting for header cells */\n",
       ".text_cell_render h1 {\n",
       "    font-family: 'Nixie One', serif;\n",
       "    font-style:regular;\n",
       "    font-weight: 400;    \n",
       "    font-size: 45pt;\n",
       "    line-height: 100%;\n",
       "    color: rgb(0,51,102);\n",
       "    margin-bottom: 0.5em;\n",
       "    margin-top: 0.5em;\n",
       "    display: block;\n",
       "}\n",
       "\n",
       ".text_cell_render h2 {\n",
       "    font-family: 'Nixie One', serif;\n",
       "    font-weight: 400;\n",
       "    font-size: 30pt;\n",
       "    line-height: 100%;\n",
       "    color: rgb(0,51,102);\n",
       "    margin-bottom: 0.1em;\n",
       "    margin-top: 0.3em;\n",
       "    display: block;\n",
       "}\t\n",
       "\n",
       ".text_cell_render h3 {\n",
       "    font-family: 'Nixie One', serif;\n",
       "    margin-top:16px;\n",
       "    font-size: 22pt;\n",
       "    font-weight: 600;\n",
       "    margin-bottom: 3px;\n",
       "    font-style: regular;\n",
       "    color: rgb(102,102,0);\n",
       "}\n",
       "\n",
       ".text_cell_render h4 {    /*Use this for captions*/\n",
       "    font-family: 'Nixie One', serif;\n",
       "    font-size: 14pt;\n",
       "    text-align: center;\n",
       "    margin-top: 0em;\n",
       "    margin-bottom: 2em;\n",
       "    font-style: regular;\n",
       "}\n",
       "\n",
       ".text_cell_render h5 {  /*Use this for small titles*/\n",
       "    font-family: 'Nixie One', sans-serif;\n",
       "    font-weight: 400;\n",
       "    font-size: 16pt;\n",
       "    color: rgb(163,0,0);\n",
       "    font-style: italic;\n",
       "    margin-bottom: .1em;\n",
       "    margin-top: 0.8em;\n",
       "    display: block;\n",
       "}\n",
       "\n",
       ".text_cell_render h6 { /*use this for copyright note*/\n",
       "    font-family: 'PT Mono', sans-serif;\n",
       "    font-weight: 300;\n",
       "    font-size: 9pt;\n",
       "    line-height: 100%;\n",
       "    color: grey;\n",
       "    margin-bottom: 1px;\n",
       "    margin-top: 1px;\n",
       "}\n",
       "\n",
       ".CodeMirror{\n",
       "    font-family: \"Source Code Pro\";\n",
       "    font-size: 90%;\n",
       "}\n",
       "\n",
       ".alert-box {\n",
       "    padding:10px 10px 10px 36px;\n",
       "    margin:5px;\n",
       "}\n",
       "\n",
       ".success {\n",
       "    color:#666600;\n",
       "    background:rgb(240,242,229);\n",
       "}\n",
       "</style>\n",
       "<script>\n",
       "    MathJax.Hub.Config({\n",
       "                        TeX: {\n",
       "                           extensions: [\"AMSmath.js\"],\n",
       "                           equationNumbers: { autoNumber: \"AMS\", useLabelIds: true}\n",
       "                           },\n",
       "                tex2jax: {\n",
       "                    inlineMath: [ ['$','$'], [\"\\\\(\",\"\\\\)\"] ],\n",
       "                    displayMath: [ ['$$','$$'], [\"\\\\[\",\"\\\\]\"] ]\n",
       "                },\n",
       "                displayAlign: 'center', // Change this to 'center' to center equations.\n",
       "                \"HTML-CSS\": {\n",
       "                    styles: {'.MathJax_Display': {\"margin\": 4}}\n",
       "                }\n",
       "        });\n",
       "</script>\n"
      ],
      "text/plain": [
       "<IPython.core.display.HTML object>"
      ]
     },
     "execution_count": 1,
     "metadata": {},
     "output_type": "execute_result"
    }
   ],
   "source": [
    "from IPython.core.display import HTML\n",
    "css_file = '../../styles/numericalmoocstyle.css'\n",
    "HTML(open(css_file, \"r\").read())"
   ]
  },
  {
   "cell_type": "code",
   "execution_count": null,
   "metadata": {
    "collapsed": true
   },
   "outputs": [],
   "source": []
  }
 ],
 "metadata": {
  "kernelspec": {
   "display_name": "Python 3 (ipykernel)",
   "language": "python",
   "name": "python3"
  },
  "language_info": {
   "codemirror_mode": {
    "name": "ipython",
    "version": 3
   },
   "file_extension": ".py",
   "mimetype": "text/x-python",
   "name": "python",
   "nbconvert_exporter": "python",
   "pygments_lexer": "ipython3",
   "version": "3.10.1"
  },
  "latex_envs": {
   "LaTeX_envs_menu_present": true,
   "autoclose": true,
   "autocomplete": true,
   "bibliofile": "biblio.bib",
   "cite_by": "apalike",
   "current_citInitial": 1,
   "eqLabelWithNumbers": true,
   "eqNumInitial": 1,
   "hotkeys": {
    "equation": "Ctrl-E",
    "itemize": "Ctrl-I"
   },
   "labels_anchors": false,
   "latex_user_defs": false,
   "report_style_numbering": false,
   "user_envs_cfg": false
  },
  "toc": {
   "base_numbering": 1,
   "nav_menu": {},
   "number_sections": true,
   "sideBar": true,
   "skip_h1_title": false,
   "title_cell": "Table of Contents",
   "title_sidebar": "Contents",
   "toc_cell": false,
   "toc_position": {},
   "toc_section_display": true,
   "toc_window_display": false
  }
 },
 "nbformat": 4,
 "nbformat_minor": 1
}
