{
 "cells": [
  {
   "cell_type": "code",
   "execution_count": 1,
   "metadata": {},
   "outputs": [],
   "source": [
    "import numpy as np\n",
    "import matplotlib.pyplot as plt"
   ]
  },
  {
   "cell_type": "markdown",
   "metadata": {},
   "source": [
    "$-\\frac{d^2u}{dx^2} + 100\\frac{du}{dx} = 0,  0 < x < 1, $ <br>\n",
    "$u(0) = 0, u(1) = 1$"
   ]
  },
  {
   "cell_type": "markdown",
   "metadata": {},
   "source": [
    "Будем решать задачу: <br>\n",
    "$-\\frac{\\partial^2 u}{\\partial x^2} + 100\\frac{\\partial u}{\\partial x} = \\frac{\\partial u}{\\partial t}$ <br>\n",
    "Пока $\\frac{\\partial u}{\\partial t}$ не будет меньше $\\delta$ <br>\n",
    "С начальным условием:<br>\n",
    "$U(t = 0, 0 <= x < 1) = 0$<br>\n",
    "$U(t = 0, x = 1) = 1$"
   ]
  },
  {
   "cell_type": "code",
   "execution_count": 43,
   "metadata": {},
   "outputs": [],
   "source": [
    "def second_deriv_2(U, h):\n",
    "    U_ = U.copy()\n",
    "    U_[1:-1] = (U[:-2] - 2. * U[1:-1] + U[2:]) / h ** 2\n",
    "    return U_\n",
    "def second_deriv_4(U, h):\n",
    "    U_ = U.copy()\n",
    "    U_[3:-3] = (U[:-6] / 90. + U[6:] / 90. - 3. * U[1:-5] / 20. - 3. * U[5:-1] / 20 + 3. / 2. * U[2:-4] + 3. / 2. * U[4:-2] - 49. / 18. * U[3:-3]) / h ** 2\n",
    "    return U_"
   ]
  },
  {
   "cell_type": "code",
   "execution_count": 4,
   "metadata": {},
   "outputs": [],
   "source": [
    "from central_diference import generate_cd\n",
    "cd_2 = generate_cd(2).get_cd_as_function()\n",
    "cd_4 = generate_cd(4).get_cd_as_function()\n",
    "cd_6 = generate_cd(6).get_cd_as_function()\n",
    "cd_8 = generate_cd(8).get_cd_as_function()"
   ]
  },
  {
   "cell_type": "code",
   "execution_count": 88,
   "metadata": {},
   "outputs": [],
   "source": [
    "from weno import weno_5, weno_m_5"
   ]
  },
  {
   "cell_type": "code",
   "execution_count": 5,
   "metadata": {},
   "outputs": [],
   "source": [
    "import runge_kutta as rk\n",
    "def rk_4(U, h, r, Deriv):\n",
    "    dt = r * h\n",
    "    return rk.runge_kutta(4, U, dt, Deriv, (h,)), dt\n",
    "def rk_8(U, h, r, Deriv):\n",
    "    dt = r * h\n",
    "    return rk.runge_kutta(8, U, dt, Deriv, (h,)), dt"
   ]
  },
  {
   "cell_type": "code",
   "execution_count": 99,
   "metadata": {},
   "outputs": [],
   "source": [
    "def equation(U, h):\n",
    "    return second_deriv_4(U, h) - 100 * cd_4(U, h)\n",
    "    #return -cd_4(U, h)\n",
    "def deviation(U, U_ex, h):\n",
    "    return np.sqrt(np.sum((U - U_ex) ** 2 * h))"
   ]
  },
  {
   "cell_type": "code",
   "execution_count": 108,
   "metadata": {},
   "outputs": [
    {
     "data": {
      "text/plain": [
       "[<matplotlib.lines.Line2D at 0x24417b2e260>]"
      ]
     },
     "execution_count": 108,
     "metadata": {},
     "output_type": "execute_result"
    },
    {
     "data": {
      "image/png": "[encoded data removed]",
      "text/plain": [
       "<Figure size 432x288 with 1 Axes>"
      ]
     },
     "metadata": {
      "needs_background": "light"
     },
     "output_type": "display_data"
    }
   ],
   "source": [
    "h = 1e-1\n",
    "r = .5\n",
    "N = int(1. / h)\n",
    "U = np.linspace(0, 1, N + 1)\n",
    "#U = np.zeros(N)\n",
    "#U[-3:] = 1\n",
    "x = np.linspace(0, 1, N + 1)\n",
    "U_ex = (np.exp(100 * x) - 1) / (np.exp(100) - 1)\n",
    "delta = 1e-3\n",
    "plt.plot(x, U)"
   ]
  },
  {
   "cell_type": "code",
   "execution_count": 109,
   "metadata": {},
   "outputs": [
    {
     "data": {
      "image/png": "[encoded data removed]",
      "text/plain": [
       "<Figure size 432x288 with 1 Axes>"
      ]
     },
     "metadata": {
      "needs_background": "light"
     },
     "output_type": "display_data"
    }
   ],
   "source": [
    "#U = np.sin(np.pi * x) ** 4\n",
    "T = 0\n",
    "i = 0\n",
    "while i < 3:\n",
    "    plt.plot(x, U)\n",
    "    U, dt = rk_4(U, h, r, equation)\n",
    "    T += dt\n",
    "    i += 1\n",
    "    if deviation(U, U_ex, h) <= delta: break"
   ]
  },
  {
   "cell_type": "code",
   "execution_count": 107,
   "metadata": {},
   "outputs": [
    {
     "data": {
      "text/plain": [
       "[<matplotlib.lines.Line2D at 0x24417cd27d0>]"
      ]
     },
     "execution_count": 107,
     "metadata": {},
     "output_type": "execute_result"
    },
    {
     "data": {
      "image/png": "[encoded data removed]",
      "text/plain": [
       "<Figure size 432x288 with 1 Axes>"
      ]
     },
     "metadata": {
      "needs_background": "light"
     },
     "output_type": "display_data"
    }
   ],
   "source": [
    "plt.plot(x, U)"
   ]
  },
  {
   "cell_type": "code",
   "execution_count": null,
   "metadata": {},
   "outputs": [],
   "source": []
  }
 ],
 "metadata": {
  "kernelspec": {
   "display_name": "Python 3.10.1 64-bit",
   "language": "python",
   "name": "python3"
  },
  "language_info": {
   "codemirror_mode": {
    "name": "ipython",
    "version": 3
   },
   "file_extension": ".py",
   "mimetype": "text/x-python",
   "name": "python",
   "nbconvert_exporter": "python",
   "pygments_lexer": "ipython3",
   "version": "3.10.1"
  },
  "orig_nbformat": 4,
  "vscode": {
   "interpreter": {
    "hash": "d6dea22c7ded492420265be4ebcc3197ea0b6febfe0e3742e811a049b88a6492"
   }
  }
 },
 "nbformat": 4,
 "nbformat_minor": 2
}
