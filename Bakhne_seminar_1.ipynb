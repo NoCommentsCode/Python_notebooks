{
 "cells": [
  {
   "cell_type": "code",
   "execution_count": 103,
   "id": "c363a806",
   "metadata": {},
   "outputs": [],
   "source": [
    "import numpy as np\n",
    "from matplotlib import pyplot as plt"
   ]
  },
  {
   "cell_type": "code",
   "execution_count": 335,
   "id": "394ba11e",
   "metadata": {},
   "outputs": [],
   "source": [
    "c = 1.\n",
    "h = 1.\n",
    "Cu = 0.5\n",
    "L = 3000.\n",
    "Nx = int(L / h)\n",
    "Nt = int(100 / h / Cu)\n",
    "dt = Cu * h / c\n",
    "x = np.linspace(0, 3000, Nx)"
   ]
  },
  {
   "cell_type": "code",
   "execution_count": 345,
   "id": "a62ea7f4",
   "metadata": {},
   "outputs": [],
   "source": [
    "def init(x0, x1):\n",
    "    U = np.zeros([Nt, Nx])\n",
    "    U[0, x0:x1] = np.abs(np.sin((x[x0:x1] - x[x0]) * np.pi / (x[x1] - x[x0])) ** 6)\n",
    "    return U"
   ]
  },
  {
   "cell_type": "code",
   "execution_count": 346,
   "id": "4b00518d",
   "metadata": {},
   "outputs": [],
   "source": [
    "def first_order(U, Nt, Cu):\n",
    "    for n in range(0, Nt - 1):\n",
    "        U[n + 1, 1:] = U[n, 1:] - Cu * (U[n, 1:] - U[n, :-1])\n",
    "        #U[n + 1, 0] = U[n, 0]\n",
    "    return U"
   ]
  },
  {
   "cell_type": "code",
   "execution_count": 347,
   "id": "1bbc2821",
   "metadata": {},
   "outputs": [],
   "source": [
    "x0 = int(Nx / 2) - int(20 / h)\n",
    "x1 = x0 + int(40 / h)\n",
    "U = init(x0, x1)\n",
    "U_n = first_order(U, Nt, Cu)\n",
    "#plt.plot(x, U_n[0, :]);\n",
    "#plt.plot(x, U_n[-1,:]);"
   ]
  },
  {
   "cell_type": "code",
   "execution_count": 348,
   "id": "da52f1fd",
   "metadata": {},
   "outputs": [
    {
     "data": {
      "image/png": "[encoded data removed]",
      "text/plain": [
       "<Figure size 432x288 with 1 Axes>"
      ]
     },
     "metadata": {
      "needs_background": "light"
     },
     "output_type": "display_data"
    }
   ],
   "source": [
    "U_ex = init(x0 + int(Nt * Cu), x1 + int(Nt * Cu))\n",
    "err = np.sqrt(np.sum((U_n[-1, x0 + int(Nt * Cu): x1 + int(Nt * Cu)] - U_ex[0, x0 + int(Nt * Cu): x1 + int(Nt * Cu)]) ** 2 * h))\n",
    "plt.plot(x[x0 + int(Nt * Cu)-100: x1 + int(Nt * Cu) + 100], U_n[-1, x0 + int(Nt * Cu) - 100: x1 + int(Nt * Cu) + 100]);\n",
    "plt.plot(x[x0 + int(Nt * Cu)-100: x1 + int(Nt * Cu) + 100], U_ex[0, x0 + int(Nt * Cu) - 100: x1 + int(Nt * Cu) + 100]);\n",
    "#plt.plot(x, U_n[-1])\n",
    "#plt.plot(x, U_ex[0])"
   ]
  },
  {
   "cell_type": "code",
   "execution_count": 340,
   "id": "13d07322",
   "metadata": {},
   "outputs": [
    {
     "name": "stdout",
     "output_type": "stream",
     "text": [
      "1.2286697714049004\n"
     ]
    }
   ],
   "source": [
    "print(err)"
   ]
  },
  {
   "cell_type": "code",
   "execution_count": 333,
   "id": "0529da24",
   "metadata": {},
   "outputs": [
    {
     "data": {
      "image/png": "[encoded data removed]",
      "text/plain": [
       "<Figure size 432x288 with 1 Axes>"
      ]
     },
     "metadata": {
      "needs_background": "light"
     },
     "output_type": "display_data"
    }
   ],
   "source": [
    "errs = np.array([0.042199, 0.07413, 0.131, 0.2318, 0.4071, 0.6978])\n",
    "plt.plot(np.log([0.03125, 0.0625, 0.125, 0.25, 0.5, 1.]), np.log(errs), '-o');"
   ]
  },
  {
   "cell_type": "code",
   "execution_count": 334,
   "id": "6b2f0642",
   "metadata": {},
   "outputs": [
    {
     "name": "stdout",
     "output_type": "stream",
     "text": [
      "0.8128486999467367\n"
     ]
    }
   ],
   "source": [
    "print(np.log(errs[1] / errs[0]) / np.log(2.))"
   ]
  },
  {
   "cell_type": "code",
   "execution_count": null,
   "id": "3cad5032",
   "metadata": {},
   "outputs": [],
   "source": []
  }
 ],
 "metadata": {
  "kernelspec": {
   "display_name": "Python 3 (ipykernel)",
   "language": "python",
   "name": "python3"
  },
  "language_info": {
   "codemirror_mode": {
    "name": "ipython",
    "version": 3
   },
   "file_extension": ".py",
   "mimetype": "text/x-python",
   "name": "python",
   "nbconvert_exporter": "python",
   "pygments_lexer": "ipython3",
   "version": "3.10.1"
  }
 },
 "nbformat": 4,
 "nbformat_minor": 5
}
