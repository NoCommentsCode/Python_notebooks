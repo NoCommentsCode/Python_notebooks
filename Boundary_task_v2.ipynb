{
 "cells": [
  {
   "cell_type": "code",
   "execution_count": 86,
   "metadata": {},
   "outputs": [],
   "source": [
    "import numpy as np\n",
    "import matplotlib.pyplot as plt\n",
    "from tqdm import trange"
   ]
  },
  {
   "cell_type": "markdown",
   "metadata": {},
   "source": [
    "$-\\frac{d^2u}{dx^2} + 100\\frac{du}{dx} = 0,  0 < x < 1, $ <br>\n",
    "$u(0) = 0, u(1) = 1$"
   ]
  },
  {
   "cell_type": "code",
   "execution_count": 87,
   "metadata": {},
   "outputs": [],
   "source": [
    "import runge_kutta as rk\n",
    "rk_4 = rk.runge_kutta_function(4)\n",
    "rk_8 = rk.runge_kutta_function(8)"
   ]
  },
  {
   "cell_type": "code",
   "execution_count": 88,
   "metadata": {},
   "outputs": [],
   "source": [
    "def equation(U):\n",
    "    return np.array([U[1], 100 * U[1]])"
   ]
  },
  {
   "cell_type": "code",
   "execution_count": 111,
   "metadata": {},
   "outputs": [],
   "source": [
    "h = 1e-3\n",
    "N = int(1. / h)\n",
    "x = np.linspace(0, 1, N)\n",
    "U_ex = (np.exp(100 * x) - 1) / (np.exp(100) - 1)\n",
    "delta = 1e-10"
   ]
  },
  {
   "cell_type": "code",
   "execution_count": 112,
   "metadata": {},
   "outputs": [],
   "source": [
    "def solve(U_0):\n",
    "    U = np.zeros((N, U_0.size))\n",
    "    U[0, :] = U_0.copy()\n",
    "    for i in range(N - 1):\n",
    "        U[i + 1, :] = rk_4(U[i, :], h, equation, ())\n",
    "    return U\n",
    "def test_param(p):\n",
    "    U = solve(np.array([0., p]))\n",
    "    return 1 - U[-1, 0]"
   ]
  },
  {
   "cell_type": "code",
   "execution_count": 113,
   "metadata": {},
   "outputs": [],
   "source": [
    "import central_diference as cd\n",
    "cd_2 = cd.generate_cd(2).get_cd_as_function()\n",
    "cd_4 = cd.generate_cd(4).get_cd_as_function()"
   ]
  },
  {
   "cell_type": "code",
   "execution_count": 114,
   "metadata": {},
   "outputs": [],
   "source": [
    "p0 = 1e-30\n",
    "def dfdp(p_0):\n",
    "    dp = p_0 / 100\n",
    "    P = np.array([test_param(p_0 - 2 * dp),\n",
    "                  test_param(p_0 - dp),\n",
    "                  0,\n",
    "                  test_param(p_0 + dp),\n",
    "                  test_param(p_0 + 2 * dp)])\n",
    "    \"\"\"\n",
    "    P = np.array([test_param(p_0 - dp),\n",
    "                  0,\n",
    "                  test_param(p_0 + dp)])\n",
    "    \"\"\"\n",
    "    #return cd_2(P, dp)[1]\n",
    "    return cd_4(P, dp)[2]"
   ]
  },
  {
   "cell_type": "code",
   "execution_count": 115,
   "metadata": {},
   "outputs": [],
   "source": [
    "def newthon(x0, N_max):\n",
    "    X = np.zeros(N_max)\n",
    "    X[0] = x0\n",
    "    for i in trange(N_max):\n",
    "        if i == 0: continue\n",
    "        X[i] = X[i - 1] - test_param(X[i - 1]) / dfdp(X[i - 1])\n",
    "    return X"
   ]
  },
  {
   "cell_type": "code",
   "execution_count": 116,
   "metadata": {},
   "outputs": [
    {
     "name": "stderr",
     "output_type": "stream",
     "text": [
      "100%|██████████| 20/20 [00:03<00:00,  5.72it/s]\n"
     ]
    }
   ],
   "source": [
    "p0 = 1e-30\n",
    "P = newthon(p0 * 10, 20)"
   ]
  },
  {
   "cell_type": "code",
   "execution_count": 117,
   "metadata": {},
   "outputs": [
    {
     "name": "stdout",
     "output_type": "stream",
     "text": [
      "U_ex =  1.0000000000000022\n",
      "p_ex =  4.1116347264043344e-42\n"
     ]
    },
    {
     "data": {
      "image/png": "[encoded data removed]",
      "text/plain": [
       "<Figure size 432x288 with 1 Axes>"
      ]
     },
     "metadata": {
      "needs_background": "light"
     },
     "output_type": "display_data"
    }
   ],
   "source": [
    "U = solve(np.array([0., P[-1]]))\n",
    "plt.plot(x, U_ex, '--', label = 'U_ex');\n",
    "plt.plot(x, U[:, 0], label = 'U');\n",
    "print(\"U_ex = \", U[-1, 0])\n",
    "print(\"p_ex = \", P[-1])"
   ]
  },
  {
   "cell_type": "code",
   "execution_count": null,
   "metadata": {},
   "outputs": [],
   "source": []
  }
 ],
 "metadata": {
  "kernelspec": {
   "display_name": "Python 3.10.1 64-bit",
   "language": "python",
   "name": "python3"
  },
  "language_info": {
   "codemirror_mode": {
    "name": "ipython",
    "version": 3
   },
   "file_extension": ".py",
   "mimetype": "text/x-python",
   "name": "python",
   "nbconvert_exporter": "python",
   "pygments_lexer": "ipython3",
   "version": "3.10.1"
  },
  "orig_nbformat": 4,
  "vscode": {
   "interpreter": {
    "hash": "d6dea22c7ded492420265be4ebcc3197ea0b6febfe0e3742e811a049b88a6492"
   }
  }
 },
 "nbformat": 4,
 "nbformat_minor": 2
}
