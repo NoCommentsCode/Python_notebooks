{
 "cells": [
  {
   "cell_type": "code",
   "execution_count": 1,
   "metadata": {},
   "outputs": [],
   "source": [
    "import sympy as sp"
   ]
  },
  {
   "cell_type": "code",
   "execution_count": 17,
   "metadata": {},
   "outputs": [],
   "source": [
    "h = sp.Symbol('h')\n",
    "A = sp.Matrix([[4, 3, 2, 1], [64, 27, 8, 1], [1024, 243, 32, 1], [16384, 2187, 128, 1]])\n",
    "#A = sp.Matrix([[3, 2, 1], [27, 8, 1], [243, 32, 1]])\n",
    "b = sp.Matrix([[sp.Rational(1, 2) / h], [0], [0], [0]])\n",
    "x = A.inv() * b"
   ]
  },
  {
   "cell_type": "code",
   "execution_count": 18,
   "metadata": {},
   "outputs": [
    {
     "data": {
      "text/latex": [
       "$\\displaystyle \\left[\\begin{matrix}- \\frac{1}{280 h}\\\\\\frac{4}{105 h}\\\\- \\frac{1}{5 h}\\\\\\frac{4}{5 h}\\end{matrix}\\right]$"
      ],
      "text/plain": [
       "Matrix([\n",
       "[-1/(280*h)],\n",
       "[ 4/(105*h)],\n",
       "[  -1/(5*h)],\n",
       "[   4/(5*h)]])"
      ]
     },
     "execution_count": 18,
     "metadata": {},
     "output_type": "execute_result"
    }
   ],
   "source": [
    "x"
   ]
  },
  {
   "cell_type": "code",
   "execution_count": 19,
   "metadata": {},
   "outputs": [],
   "source": [
    "def CD8(un, h):\n",
    "    return (un[:-8] - un[8:] + 32/3. * (un[7:-1] - un[1:-7]) - 56 * (un[6:-2] - un[2:-6]) \\\n",
    "                        + 224 *(un[5:-3] - un[3:-5])) / 280 / h"
   ]
  },
  {
   "cell_type": "code",
   "execution_count": null,
   "metadata": {},
   "outputs": [],
   "source": []
  }
 ],
 "metadata": {
  "interpreter": {
   "hash": "fbe58ca63fe33f9eeae9e71d10368d2b4a57f2b1b395836210cc60d362c66949"
  },
  "kernelspec": {
   "display_name": "Python 3.10.1 64-bit",
   "language": "python",
   "name": "python3"
  },
  "language_info": {
   "codemirror_mode": {
    "name": "ipython",
    "version": 3
   },
   "file_extension": ".py",
   "mimetype": "text/x-python",
   "name": "python",
   "nbconvert_exporter": "python",
   "pygments_lexer": "ipython3",
   "version": "3.10.1"
  },
  "orig_nbformat": 4
 },
 "nbformat": 4,
 "nbformat_minor": 2
}
